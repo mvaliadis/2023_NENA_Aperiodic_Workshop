{
 "cells": [
  {
   "cell_type": "markdown",
   "metadata": {},
   "source": [
    "# Pre-process Sleep Data \n",
    "\n",
    "This script loads and pre-processes the sleep polysomnography biosignals from the Cleveland Family Study (https://sleepdata.org/datasets/cfs). We then filter the EEG, EMG, EOG, and ECG signals, re-reference the EEG data to the linked mastoids, and then extract our epochs as an MNE object. The epochs of interest are 30 seconds in length and do not overlap. We then downsample everything to 128 Hz and save the epochs as .fif.gz files and the hypnograms as .npy files."
   ]
  },
  {
   "cell_type": "code",
   "execution_count": 1,
   "metadata": {},
   "outputs": [],
   "source": [
    "%matplotlib inline\n",
    "\n",
    "## Import packages \n",
    "import numpy as np\n",
    "import os\n",
    "import mne\n",
    "from tqdm import tqdm\n",
    "import random\n",
    "import neurokit2 as nk\n",
    "mne.set_log_level('WARNING')"
   ]
  },
  {
   "cell_type": "code",
   "execution_count": 2,
   "metadata": {},
   "outputs": [],
   "source": [
    "## NSRR Cleveland family sleep study dataset specific functions\n",
    "\n",
    "def process_raw_EDF_cfs(file):\n",
    "\n",
    "    ## Import raw edf file\n",
    "    raw_train = mne.io.read_raw_edf(file + '.edf', eog = ['LOC','ROC'],\n",
    "                                    preload = True, verbose = False)\n",
    "\n",
    "    ## Create dictionary of channels we are interested in  \n",
    "    mapping = {'C3': 'eeg',\n",
    "               'C4': 'eeg',\n",
    "               'M1': 'eeg',\n",
    "               'M2': 'eeg',\n",
    "               'LOC': 'eog',\n",
    "               'ROC': 'eog',\n",
    "               'EMG2': 'emg',\n",
    "               'EMG3': 'emg',\n",
    "               'ECG1': 'ecg'}\n",
    "\n",
    "    ## Select channels in object and give labels for channel type\n",
    "    raw_train.pick_channels(ch_names=list(mapping))\n",
    "    raw_train.set_channel_types(mapping) \n",
    "\n",
    "    ## Rereference eeg data to average of mastoids\n",
    "    raw_train.set_eeg_reference(ref_channels=['M1','M2']) # type: ignore\n",
    "        \n",
    "    ## Bipolarize eog and emg data \n",
    "    try:\n",
    "        raw_train = mne.set_bipolar_reference(raw_train, 'EMG2', 'EMG3')\n",
    "    except:\n",
    "        if not isinstance(raw_train, mne.io.Raw):\n",
    "            ref_inst = mne.io.RawArray(raw_train.get_data(), raw_train.info)\n",
    "            raw_train = mne.set_bipolar_reference(raw_train, 'EMG2', 'EMG3')\n",
    "\n",
    "    ## Filter data\n",
    "    raw_train.filter(picks=['eeg','eog'], l_freq=0.5, h_freq=40)\n",
    "    raw_train.filter(picks='emg', l_freq=10, h_freq=100)\n",
    "    # Clean the ECG data with neurokit2\n",
    "    raw_train.apply_function(fun=nk.ecg_clean, picks='ecg', n_jobs=-1, \n",
    "                            channel_wise=True, **dict(sampling_rate=raw_train.info['sfreq'], method='neurokit', powerline=60))\n",
    "    # Notch filter\n",
    "    raw_train.notch_filter(freqs=[60, 120], method='spectrum_fit') # type: ignore\n",
    "\n",
    "    ## Create fixed-length 30 second epochs\n",
    "    events = mne.make_fixed_length_events(raw_train, duration=30)\n",
    "    epochs = mne.Epochs(raw_train, events, tmin=0, tmax=29.99,\n",
    "                        baseline=None, detrend=None, preload=True, reject=None)\n",
    "\n",
    "    ## Downsample data\n",
    "    epochs.resample(128)\n",
    "    epochs.get_data().shape\n",
    "\n",
    "    ## import and unravel hypnogram\n",
    "    stages, stagelens = read_xml(file + '-nsrr.xml')\n",
    "    hypnogram = unravel_hypnogram(stages, stagelens)\n",
    "  \n",
    "    return raw_train.resample(128), epochs, hypnogram\n",
    "\n",
    "def read_xml(file):\n",
    "    # import xml annotation file to extract hypnogram\n",
    "    import xml.etree.ElementTree as ET\n",
    "    tree = ET.parse(file)\n",
    "    \n",
    "    # obtain roots from xml annotation tree\n",
    "    root = tree.getroot()\n",
    "    \n",
    "    # extract sleep stageing related information\n",
    "    stages = [] \n",
    "    stagelens = []\n",
    "    for child in root.iter('ScoredEvent'):\n",
    "        var = child[0].text\n",
    "        if var == None:\n",
    "            pass\n",
    "        elif 'Stages' in var:\n",
    "            stage = child[1].text\n",
    "            # append stages (0-5)\n",
    "            stages.append(int(stage[-1]))\n",
    "            stagelen = int(float(child[3].text)) # type: ignore\n",
    "            # append epoch lengths in increments of 30s\n",
    "            stagelens.append(int(stagelen/30))\n",
    "        else:\n",
    "            pass\n",
    "        \n",
    "    # return numpy arrays with stages and corresponding length info\n",
    "    return np.array(stages).astype(int), np.array(stagelens).astype(int)\n",
    "\n",
    "def unravel_hypnogram(stages, stagelens):  \n",
    "    stage_len = []\n",
    "    # parse stageing information to fit total of epochs by stages \n",
    "    for index, length in enumerate(stagelens):\n",
    "        if stages[index] == 0:\n",
    "            stage_len.append(np.zeros(length))\n",
    "        elif stages[index] == 1:\n",
    "            stage_len.append(np.ones(length))\n",
    "        elif stages[index] == 2:\n",
    "            stage_len.append(2*np.ones(length))\n",
    "        elif stages[index] == 3:\n",
    "            stage_len.append(3*np.ones(length))\n",
    "        # collapse stage 3 and 4\n",
    "        elif stages[index] == 4:\n",
    "            stage_len.append(3*np.ones(length))\n",
    "        elif stages[index] == 5:\n",
    "            stage_len.append(4*np.ones(length))\n",
    "    \n",
    "    hypnogram = np.concatenate(stage_len)\n",
    "    \n",
    "    # sanity check - does hypnogram \n",
    "    if len(hypnogram) != stagelens.sum():\n",
    "        raise ValueError('The length of the scaled hypnogram does not match the amount of total epochs')\n",
    "    \n",
    "    return hypnogram\n",
    " "
   ]
  },
  {
   "cell_type": "code",
   "execution_count": 3,
   "metadata": {},
   "outputs": [],
   "source": [
    "## 1. Load data\n",
    "path = '/media/administrator/data/cfs/polysomnography/'\n",
    "save_path = '/mnt/server/data03/2023_NENA_Aperiodic_Workshop/data/processed/'\n",
    "# Iterate over all files if the names end in .edf\n",
    "files = [os.path.splitext(f)[0] for f in os.listdir(path) if f.endswith('.edf')]\n",
    "# Randomly select 20 files \n",
    "files = random.sample(files, 20)"
   ]
  },
  {
   "cell_type": "code",
   "execution_count": 4,
   "metadata": {},
   "outputs": [
    {
     "name": "stderr",
     "output_type": "stream",
     "text": [
      "  0%|          | 0/20 [00:00<?, ?it/s]"
     ]
    },
    {
     "name": "stdout",
     "output_type": "stream",
     "text": [
      "Preprocessing file : cfs-visit5-800551\n"
     ]
    },
    {
     "name": "stderr",
     "output_type": "stream",
     "text": [
      "/tmp/ipykernel_427083/2364200105.py:21: FutureWarning: The default for pick_channels will change from ordered=False to ordered=True in 1.5 and this will result in a change of behavior because the resulting channel order will not match. Either use a channel order that matches your instance or pass ordered=False.\n",
      "  raw_train.pick_channels(ch_names=list(mapping))\n",
      "  5%|▌         | 1/20 [01:16<24:09, 76.31s/it]"
     ]
    },
    {
     "name": "stdout",
     "output_type": "stream",
     "text": [
      "Preprocessing file : cfs-visit5-801058\n"
     ]
    },
    {
     "name": "stderr",
     "output_type": "stream",
     "text": [
      "/tmp/ipykernel_427083/2364200105.py:21: FutureWarning: The default for pick_channels will change from ordered=False to ordered=True in 1.5 and this will result in a change of behavior because the resulting channel order will not match. Either use a channel order that matches your instance or pass ordered=False.\n",
      "  raw_train.pick_channels(ch_names=list(mapping))\n",
      " 10%|█         | 2/20 [02:30<22:34, 75.28s/it]"
     ]
    },
    {
     "name": "stdout",
     "output_type": "stream",
     "text": [
      "Preprocessing file : cfs-visit5-801126\n"
     ]
    },
    {
     "name": "stderr",
     "output_type": "stream",
     "text": [
      "/tmp/ipykernel_427083/2364200105.py:21: FutureWarning: The default for pick_channels will change from ordered=False to ordered=True in 1.5 and this will result in a change of behavior because the resulting channel order will not match. Either use a channel order that matches your instance or pass ordered=False.\n",
      "  raw_train.pick_channels(ch_names=list(mapping))\n",
      " 15%|█▌        | 3/20 [03:39<20:26, 72.16s/it]"
     ]
    },
    {
     "name": "stdout",
     "output_type": "stream",
     "text": [
      "Preprocessing file : cfs-visit5-802522\n"
     ]
    },
    {
     "name": "stderr",
     "output_type": "stream",
     "text": [
      "/tmp/ipykernel_427083/2364200105.py:21: FutureWarning: The default for pick_channels will change from ordered=False to ordered=True in 1.5 and this will result in a change of behavior because the resulting channel order will not match. Either use a channel order that matches your instance or pass ordered=False.\n",
      "  raw_train.pick_channels(ch_names=list(mapping))\n",
      " 20%|██        | 4/20 [04:44<18:27, 69.24s/it]"
     ]
    },
    {
     "name": "stdout",
     "output_type": "stream",
     "text": [
      "Preprocessing file : cfs-visit5-800667\n"
     ]
    },
    {
     "name": "stderr",
     "output_type": "stream",
     "text": [
      "/tmp/ipykernel_427083/2364200105.py:21: FutureWarning: The default for pick_channels will change from ordered=False to ordered=True in 1.5 and this will result in a change of behavior because the resulting channel order will not match. Either use a channel order that matches your instance or pass ordered=False.\n",
      "  raw_train.pick_channels(ch_names=list(mapping))\n",
      " 25%|██▌       | 5/20 [06:23<19:59, 80.00s/it]"
     ]
    },
    {
     "name": "stdout",
     "output_type": "stream",
     "text": [
      "Preprocessing file : cfs-visit5-801602\n"
     ]
    },
    {
     "name": "stderr",
     "output_type": "stream",
     "text": [
      "/tmp/ipykernel_427083/2364200105.py:21: FutureWarning: The default for pick_channels will change from ordered=False to ordered=True in 1.5 and this will result in a change of behavior because the resulting channel order will not match. Either use a channel order that matches your instance or pass ordered=False.\n",
      "  raw_train.pick_channels(ch_names=list(mapping))\n",
      " 30%|███       | 6/20 [08:05<20:25, 87.52s/it]"
     ]
    },
    {
     "name": "stdout",
     "output_type": "stream",
     "text": [
      "Preprocessing file : cfs-visit5-800092\n"
     ]
    },
    {
     "name": "stderr",
     "output_type": "stream",
     "text": [
      "/tmp/ipykernel_427083/2364200105.py:21: FutureWarning: The default for pick_channels will change from ordered=False to ordered=True in 1.5 and this will result in a change of behavior because the resulting channel order will not match. Either use a channel order that matches your instance or pass ordered=False.\n",
      "  raw_train.pick_channels(ch_names=list(mapping))\n",
      " 35%|███▌      | 7/20 [09:47<19:58, 92.17s/it]"
     ]
    },
    {
     "name": "stdout",
     "output_type": "stream",
     "text": [
      "Preprocessing file : cfs-visit5-801907\n"
     ]
    },
    {
     "name": "stderr",
     "output_type": "stream",
     "text": [
      "/tmp/ipykernel_427083/2364200105.py:21: FutureWarning: The default for pick_channels will change from ordered=False to ordered=True in 1.5 and this will result in a change of behavior because the resulting channel order will not match. Either use a channel order that matches your instance or pass ordered=False.\n",
      "  raw_train.pick_channels(ch_names=list(mapping))\n",
      " 40%|████      | 8/20 [10:59<17:10, 85.90s/it]"
     ]
    },
    {
     "name": "stdout",
     "output_type": "stream",
     "text": [
      "Preprocessing file : cfs-visit5-800659\n"
     ]
    },
    {
     "name": "stderr",
     "output_type": "stream",
     "text": [
      "/tmp/ipykernel_427083/2364200105.py:21: FutureWarning: The default for pick_channels will change from ordered=False to ordered=True in 1.5 and this will result in a change of behavior because the resulting channel order will not match. Either use a channel order that matches your instance or pass ordered=False.\n",
      "  raw_train.pick_channels(ch_names=list(mapping))\n",
      " 45%|████▌     | 9/20 [12:23<15:38, 85.35s/it]"
     ]
    },
    {
     "name": "stdout",
     "output_type": "stream",
     "text": [
      "Preprocessing file : cfs-visit5-800630\n"
     ]
    },
    {
     "name": "stderr",
     "output_type": "stream",
     "text": [
      "/tmp/ipykernel_427083/2364200105.py:21: FutureWarning: The default for pick_channels will change from ordered=False to ordered=True in 1.5 and this will result in a change of behavior because the resulting channel order will not match. Either use a channel order that matches your instance or pass ordered=False.\n",
      "  raw_train.pick_channels(ch_names=list(mapping))\n",
      " 50%|█████     | 10/20 [14:08<15:14, 91.46s/it]"
     ]
    },
    {
     "name": "stdout",
     "output_type": "stream",
     "text": [
      "Preprocessing file : cfs-visit5-802298\n"
     ]
    },
    {
     "name": "stderr",
     "output_type": "stream",
     "text": [
      "/tmp/ipykernel_427083/2364200105.py:21: FutureWarning: The default for pick_channels will change from ordered=False to ordered=True in 1.5 and this will result in a change of behavior because the resulting channel order will not match. Either use a channel order that matches your instance or pass ordered=False.\n",
      "  raw_train.pick_channels(ch_names=list(mapping))\n",
      " 55%|█████▌    | 11/20 [15:24<13:00, 86.71s/it]"
     ]
    },
    {
     "name": "stdout",
     "output_type": "stream",
     "text": [
      "Preprocessing file : cfs-visit5-801747\n"
     ]
    },
    {
     "name": "stderr",
     "output_type": "stream",
     "text": [
      "/tmp/ipykernel_427083/2364200105.py:21: FutureWarning: The default for pick_channels will change from ordered=False to ordered=True in 1.5 and this will result in a change of behavior because the resulting channel order will not match. Either use a channel order that matches your instance or pass ordered=False.\n",
      "  raw_train.pick_channels(ch_names=list(mapping))\n",
      " 60%|██████    | 12/20 [16:37<11:00, 82.57s/it]"
     ]
    },
    {
     "name": "stdout",
     "output_type": "stream",
     "text": [
      "Preprocessing file : cfs-visit5-802132\n"
     ]
    },
    {
     "name": "stderr",
     "output_type": "stream",
     "text": [
      "/tmp/ipykernel_427083/2364200105.py:21: FutureWarning: The default for pick_channels will change from ordered=False to ordered=True in 1.5 and this will result in a change of behavior because the resulting channel order will not match. Either use a channel order that matches your instance or pass ordered=False.\n",
      "  raw_train.pick_channels(ch_names=list(mapping))\n",
      " 65%|██████▌   | 13/20 [18:11<10:01, 85.99s/it]"
     ]
    },
    {
     "name": "stdout",
     "output_type": "stream",
     "text": [
      "Preprocessing file : cfs-visit5-800407\n"
     ]
    },
    {
     "name": "stderr",
     "output_type": "stream",
     "text": [
      "/tmp/ipykernel_427083/2364200105.py:21: FutureWarning: The default for pick_channels will change from ordered=False to ordered=True in 1.5 and this will result in a change of behavior because the resulting channel order will not match. Either use a channel order that matches your instance or pass ordered=False.\n",
      "  raw_train.pick_channels(ch_names=list(mapping))\n",
      " 70%|███████   | 14/20 [19:45<08:50, 88.44s/it]"
     ]
    },
    {
     "name": "stdout",
     "output_type": "stream",
     "text": [
      "Preprocessing file : cfs-visit5-800697\n"
     ]
    },
    {
     "name": "stderr",
     "output_type": "stream",
     "text": [
      "/tmp/ipykernel_427083/2364200105.py:21: FutureWarning: The default for pick_channels will change from ordered=False to ordered=True in 1.5 and this will result in a change of behavior because the resulting channel order will not match. Either use a channel order that matches your instance or pass ordered=False.\n",
      "  raw_train.pick_channels(ch_names=list(mapping))\n",
      " 75%|███████▌  | 15/20 [21:00<07:02, 84.44s/it]"
     ]
    },
    {
     "name": "stdout",
     "output_type": "stream",
     "text": [
      "Preprocessing file : cfs-visit5-801152\n"
     ]
    },
    {
     "name": "stderr",
     "output_type": "stream",
     "text": [
      "/tmp/ipykernel_427083/2364200105.py:21: FutureWarning: The default for pick_channels will change from ordered=False to ordered=True in 1.5 and this will result in a change of behavior because the resulting channel order will not match. Either use a channel order that matches your instance or pass ordered=False.\n",
      "  raw_train.pick_channels(ch_names=list(mapping))\n",
      " 80%|████████  | 16/20 [22:12<05:22, 80.51s/it]"
     ]
    },
    {
     "name": "stdout",
     "output_type": "stream",
     "text": [
      "Preprocessing file : cfs-visit5-801044\n"
     ]
    },
    {
     "name": "stderr",
     "output_type": "stream",
     "text": [
      "/tmp/ipykernel_427083/2364200105.py:21: FutureWarning: The default for pick_channels will change from ordered=False to ordered=True in 1.5 and this will result in a change of behavior because the resulting channel order will not match. Either use a channel order that matches your instance or pass ordered=False.\n",
      "  raw_train.pick_channels(ch_names=list(mapping))\n",
      " 85%|████████▌ | 17/20 [23:46<04:13, 84.58s/it]"
     ]
    },
    {
     "name": "stdout",
     "output_type": "stream",
     "text": [
      "Preprocessing file : cfs-visit5-801393\n"
     ]
    },
    {
     "name": "stderr",
     "output_type": "stream",
     "text": [
      "/tmp/ipykernel_427083/2364200105.py:21: FutureWarning: The default for pick_channels will change from ordered=False to ordered=True in 1.5 and this will result in a change of behavior because the resulting channel order will not match. Either use a channel order that matches your instance or pass ordered=False.\n",
      "  raw_train.pick_channels(ch_names=list(mapping))\n",
      " 90%|█████████ | 18/20 [25:20<02:55, 87.54s/it]"
     ]
    },
    {
     "name": "stdout",
     "output_type": "stream",
     "text": [
      "Preprocessing file : cfs-visit5-802643\n"
     ]
    },
    {
     "name": "stderr",
     "output_type": "stream",
     "text": [
      "/tmp/ipykernel_427083/2364200105.py:21: FutureWarning: The default for pick_channels will change from ordered=False to ordered=True in 1.5 and this will result in a change of behavior because the resulting channel order will not match. Either use a channel order that matches your instance or pass ordered=False.\n",
      "  raw_train.pick_channels(ch_names=list(mapping))\n",
      " 95%|█████████▌| 19/20 [26:51<01:28, 88.35s/it]"
     ]
    },
    {
     "name": "stdout",
     "output_type": "stream",
     "text": [
      "Preprocessing file : cfs-visit5-801416\n"
     ]
    },
    {
     "name": "stderr",
     "output_type": "stream",
     "text": [
      "/tmp/ipykernel_427083/2364200105.py:21: FutureWarning: The default for pick_channels will change from ordered=False to ordered=True in 1.5 and this will result in a change of behavior because the resulting channel order will not match. Either use a channel order that matches your instance or pass ordered=False.\n",
      "  raw_train.pick_channels(ch_names=list(mapping))\n",
      "100%|██████████| 20/20 [28:24<00:00, 85.22s/it]\n"
     ]
    }
   ],
   "source": [
    "## 2. Process and save data\n",
    "# Iterate over all files and process them\n",
    "for idx, file in enumerate(tqdm(files)):\n",
    "    print(f'Preprocessing file : {file}')\n",
    "    raw, epochs, hypnogram = process_raw_EDF_cfs(path + file)\n",
    "    # save the data\n",
    "    epochs.save(fname = save_path + file + '-epo.fif.gz', \n",
    "                overwrite=False)\n",
    "    raw.save(fname = save_path + file + '-raw.fif.gz',  # type: ignore\n",
    "             overwrite=False)\n",
    "    np.save(save_path + file + '-hypnogram.npy', hypnogram)\n",
    "    # delete the data from memory\n",
    "    del raw, epochs, hypnogram"
   ]
  }
 ],
 "metadata": {
  "kernelspec": {
   "display_name": "NDS",
   "language": "python",
   "name": "python3"
  },
  "language_info": {
   "codemirror_mode": {
    "name": "ipython",
    "version": 3
   },
   "file_extension": ".py",
   "mimetype": "text/x-python",
   "name": "python",
   "nbconvert_exporter": "python",
   "pygments_lexer": "ipython3",
   "version": "3.10.10"
  },
  "orig_nbformat": 4
 },
 "nbformat": 4,
 "nbformat_minor": 2
}
