{
 "cells": [
  {
   "cell_type": "markdown",
   "metadata": {},
   "source": [
    "# Pre-process Sleep Data\n",
    "\n",
    "This script loads and pre-processes the sleep polysomnography biosignals from the Cleveland Family Study (https://sleepdata.org/datasets/cfs). We then filter the EEG, EMG, EOG, and ECG signals, re-reference the EEG data to the linked mastoids, and then extract our epochs as an MNE object. The epochs of interest are 4 seconds in length and do not overlap. We then optionally downsample everything to 128 Hz and save the epochs as \".fif.gz\" files and the hypnograms as \".npy\" files."
   ]
  },
  {
   "cell_type": "code",
   "execution_count": 1,
   "metadata": {},
   "outputs": [],
   "source": [
    "%matplotlib inline\n",
    "\n",
    "## Import packages \n",
    "import numpy as np\n",
    "import yasa\n",
    "import os\n",
    "import mne\n",
    "from tqdm import tqdm\n",
    "import random\n",
    "import neurokit2 as nk\n",
    "import pandas as pd\n",
    "import xml.etree.ElementTree as ET\n",
    "import matplotlib.pyplot as plt\n",
    "mne.set_log_level('WARNING')"
   ]
  },
  {
   "cell_type": "code",
   "execution_count": 49,
   "metadata": {},
   "outputs": [],
   "source": [
    "## Additonal useful functions\n",
    "\n",
    "def process_raw_EDF_cfs(file):\n",
    "    \"\"\"\n",
    "    Process a raw EDF file, apply various preprocessing steps, and return the processed raw data, epochs, and hypnogram.\n",
    "\n",
    "    This function:\n",
    "    - Imports the raw EDF file.\n",
    "    - Maps and picks channels of interest.\n",
    "    - Rereferences EEG data.\n",
    "    - Bipolarizes EOG and EMG data.\n",
    "    - Applies various filters.\n",
    "    - Epochs the data into fixed-length 4-second segments.\n",
    "    - Downsamples the data.\n",
    "    - Imports and unravels the hypnogram.\n",
    "\n",
    "    Parameters:\n",
    "    - file (str): Path to the EDF file (without the '.edf' extension).\n",
    "\n",
    "    Returns:\n",
    "    - tuple: A tuple containing:\n",
    "        - raw_train (mne.io.Raw): Processed raw data.\n",
    "        - epochs (mne.Epochs): Epochs created from the raw data.\n",
    "        - hypnogram (numpy array): An array representing the hypnogram.\n",
    "\n",
    "    Raises:\n",
    "    - ValueError: If there's a mismatch between the hypnogram length and the total number of epochs.\n",
    "    \"\"\"\n",
    "\n",
    "    ## Import raw edf file\n",
    "    raw_train = mne.io.read_raw_edf(file + '.edf', eog = ['LOC','ROC'],\n",
    "                                    preload = True, verbose = False)\n",
    "\n",
    "    ## Create dictionary of channels we are interested in  \n",
    "    mapping = {'C3': 'eeg',\n",
    "               'C4': 'eeg',\n",
    "               'M1': 'eeg',\n",
    "               'M2': 'eeg',\n",
    "               'LOC': 'eog',\n",
    "               'ROC': 'eog',\n",
    "               'EMG2': 'emg',\n",
    "               'EMG3': 'emg',\n",
    "               'ECG1': 'ecg'}\n",
    "\n",
    "    ## Select channels in object and give labels for channel type\n",
    "    raw_train.pick_channels(ch_names=list(mapping))\n",
    "    raw_train.set_channel_types(mapping) \n",
    "\n",
    "    ## Rereference eeg data to average of mastoids\n",
    "    raw_train.set_eeg_reference(ref_channels=['M1','M2']) # type: ignore\n",
    "        \n",
    "    ## Bipolarize eog and emg data \n",
    "    try:\n",
    "        raw_train = mne.set_bipolar_reference(raw_train, 'EMG2', 'EMG3')\n",
    "    except:\n",
    "        if not isinstance(raw_train, mne.io.Raw):\n",
    "            ref_inst = mne.io.RawArray(raw_train.get_data(), raw_train.info)\n",
    "            raw_train = mne.set_bipolar_reference(raw_train, 'EMG2', 'EMG3')\n",
    "\n",
    "    ## Filter data\n",
    "    raw_train.filter(picks=['eeg','eog'], l_freq=0.5, h_freq=40)\n",
    "    raw_train.filter(picks='emg', l_freq=10, h_freq=100)\n",
    "    # Clean the ECG data with neurokit2\n",
    "    raw_train.apply_function(fun=nk.ecg_clean, picks='ecg', n_jobs=-1, \n",
    "                            channel_wise=True, **dict(sampling_rate=raw_train.info['sfreq'], method='neurokit', powerline=60))\n",
    "    # Notch filter\n",
    "    raw_train.notch_filter(freqs=[60, 120], method='spectrum_fit') # type: ignore\n",
    "\n",
    "    ## Create fixed-length 4 second epochs\n",
    "    events = mne.make_fixed_length_events(raw_train, duration=4)\n",
    "    epochs = mne.Epochs(raw_train, events, tmin=0, tmax=3.99,\n",
    "                        baseline=None, detrend=None, preload=True, reject=None)\n",
    "\n",
    "    ## Downsample data\n",
    "    #epochs.resample(128)\n",
    "    #raw_train.resample(128)\n",
    "\n",
    "    ## import and unravel hypnogram\n",
    "    stages, stagelens = read_xml(file + '-nsrr.xml')\n",
    "    hypnogram = unravel_hypnogram(stages, stagelens)\n",
    "  \n",
    "    return raw_train, epochs, hypnogram\n",
    "\n",
    "def read_xml(file):\n",
    "    \"\"\"\n",
    "    Reads an XML annotation file to extract hypnogram information.\n",
    "\n",
    "    Args:\n",
    "    - file (str): Path to the XML file.\n",
    "\n",
    "    Returns:\n",
    "    - tuple: Two numpy arrays containing stages and their corresponding lengths.\n",
    "    \"\"\"\n",
    "    \n",
    "    tree = ET.parse(file)\n",
    "    root = tree.getroot()\n",
    "\n",
    "    # Use list comprehensions to extract the relevant data\n",
    "    stages = [int(child[1].text[-1]) for child in root.iter('ScoredEvent') \n",
    "              if child[0].text and 'Stages' in child[0].text]\n",
    "    stagelens = [int(float(child[3].text) / 30) for child in root.iter('ScoredEvent') \n",
    "                 if child[0].text and 'Stages' in child[0].text]\n",
    "\n",
    "    # Convert lists to numpy arrays\n",
    "    return np.array(stages, dtype=int), np.array(stagelens, dtype=int)\n",
    "\n",
    "def unravel_hypnogram(stages, stagelens):\n",
    "    \"\"\"\n",
    "    Construct a hypnogram based on provided sleep stages and their durations.\n",
    "\n",
    "    The function maps each sleep stage to a respective value and then creates\n",
    "    a continuous array representing the hypnogram.\n",
    "\n",
    "    Parameters:\n",
    "    - stages (list or array-like): A list of sleep stages, where each stage is an integer.\n",
    "    - stagelens (list or array-like): A list of durations (in 30s increments) corresponding to each sleep stage.\n",
    "\n",
    "    Returns:\n",
    "    - numpy array: A continuous array representing the hypnogram.\n",
    "\n",
    "    Raises:\n",
    "    - ValueError: If the length of the constructed hypnogram does not match the total duration specified by stagelens.\n",
    "    \"\"\"\n",
    "\n",
    "    # Map stages to their respective values\n",
    "    stage_map = {\n",
    "        0: 0,\n",
    "        1: 1,\n",
    "        2: 2,\n",
    "        3: 3,\n",
    "        4: 3,  # collapse stage 3 and 4\n",
    "        5: 4\n",
    "    }\n",
    "\n",
    "    # Construct the hypnogram using list comprehension and the mapping\n",
    "    hypnogram = np.concatenate([stage_map[stage] * np.ones(length) for stage, length in zip(stages, stagelens)])\n",
    "    \n",
    "    # Sanity check\n",
    "    if len(hypnogram) != stagelens.sum():\n",
    "        raise ValueError('The length of the scaled hypnogram does not match the amount of total epochs')\n",
    "    \n",
    "    return hypnogram\n",
    "\n",
    "def downsample_hypnogram(sf, hypno, epochs):\n",
    "    \"\"\"\n",
    "    Adjust the size of a hypnogram to match the number of epochs.\n",
    "\n",
    "    Parameters:\n",
    "    -----------\n",
    "    sf : float or None\n",
    "        Sampling frequency of the data. If None, duration difference will not be computed.\n",
    "    hypno : ndarray\n",
    "        The hypnogram array to be adjusted.\n",
    "    epochs : mne.Epochs\n",
    "        The epochs object whose number of epochs the hypnogram should match.\n",
    "\n",
    "    Returns:\n",
    "    --------\n",
    "    ndarray\n",
    "        Adjusted hypnogram with size matching the number of epochs.\n",
    "    \"\"\"\n",
    "    npts_hyp = hypno.size\n",
    "    npts_data = epochs._data.shape[0]  # using the first dimension to represent the number of epochs\n",
    "\n",
    "    if npts_hyp < npts_data:\n",
    "        # Hypnogram is shorter than data\n",
    "        hypno = np.pad(hypno, (0, npts_data - npts_hyp), mode=\"edge\")\n",
    "\n",
    "    elif npts_hyp > npts_data:\n",
    "        # Hypnogram is longer than data\n",
    "        hypno = hypno[:npts_data]\n",
    "\n",
    "    return hypno\n"
   ]
  },
  {
   "cell_type": "markdown",
   "metadata": {},
   "source": [
    "## 1. Load data"
   ]
  },
  {
   "cell_type": "code",
   "execution_count": 3,
   "metadata": {},
   "outputs": [],
   "source": [
    "path = '/media/administrator/data/cfs/polysomnography/'\n",
    "save_path = '/mnt/server/data03/2023_NENA_Aperiodic_Workshop/data/processed/'\n",
    "fig_path = '/mnt/server/data03/2023_NENA_Aperiodic_Workshop/figures/subject/'\n",
    "# Iterate over all files if the names end in .edf\n",
    "files = [os.path.splitext(f)[0] for f in os.listdir(path) if f.endswith('.edf')]\n",
    "# Randomly select 50 files \n",
    "files = random.sample(files, 50)"
   ]
  },
  {
   "cell_type": "markdown",
   "metadata": {},
   "source": [
    "## 2. Process and save data"
   ]
  },
  {
   "cell_type": "code",
   "execution_count": 4,
   "metadata": {},
   "outputs": [
    {
     "name": "stderr",
     "output_type": "stream",
     "text": [
      "  0%|          | 0/50 [00:00<?, ?it/s]"
     ]
    },
    {
     "name": "stdout",
     "output_type": "stream",
     "text": [
      "Preprocessing file : cfs-visit5-800347\n"
     ]
    },
    {
     "name": "stderr",
     "output_type": "stream",
     "text": [
      "/tmp/ipykernel_507085/142343024.py:46: FutureWarning: The default for pick_channels will change from ordered=False to ordered=True in 1.5 and this will result in a change of behavior because the resulting channel order will not match. Either use a channel order that matches your instance or pass ordered=False.\n",
      "  raw_train.pick_channels(ch_names=list(mapping))\n",
      "  2%|▏         | 1/50 [01:28<1:12:22, 88.62s/it]"
     ]
    },
    {
     "name": "stdout",
     "output_type": "stream",
     "text": [
      "Preprocessing file : cfs-visit5-800212\n"
     ]
    },
    {
     "name": "stderr",
     "output_type": "stream",
     "text": [
      "/tmp/ipykernel_507085/142343024.py:46: FutureWarning: The default for pick_channels will change from ordered=False to ordered=True in 1.5 and this will result in a change of behavior because the resulting channel order will not match. Either use a channel order that matches your instance or pass ordered=False.\n",
      "  raw_train.pick_channels(ch_names=list(mapping))\n",
      "  4%|▍         | 2/50 [03:05<1:14:51, 93.57s/it]"
     ]
    },
    {
     "name": "stdout",
     "output_type": "stream",
     "text": [
      "Preprocessing file : cfs-visit5-800551\n"
     ]
    },
    {
     "name": "stderr",
     "output_type": "stream",
     "text": [
      "/tmp/ipykernel_507085/142343024.py:46: FutureWarning: The default for pick_channels will change from ordered=False to ordered=True in 1.5 and this will result in a change of behavior because the resulting channel order will not match. Either use a channel order that matches your instance or pass ordered=False.\n",
      "  raw_train.pick_channels(ch_names=list(mapping))\n",
      "  6%|▌         | 3/50 [04:45<1:15:26, 96.30s/it]"
     ]
    },
    {
     "name": "stdout",
     "output_type": "stream",
     "text": [
      "Preprocessing file : cfs-visit5-802177\n"
     ]
    },
    {
     "name": "stderr",
     "output_type": "stream",
     "text": [
      "/tmp/ipykernel_507085/142343024.py:46: FutureWarning: The default for pick_channels will change from ordered=False to ordered=True in 1.5 and this will result in a change of behavior because the resulting channel order will not match. Either use a channel order that matches your instance or pass ordered=False.\n",
      "  raw_train.pick_channels(ch_names=list(mapping))\n",
      "  8%|▊         | 4/50 [06:20<1:13:36, 96.01s/it]"
     ]
    },
    {
     "name": "stdout",
     "output_type": "stream",
     "text": [
      "Preprocessing file : cfs-visit5-801662\n"
     ]
    },
    {
     "name": "stderr",
     "output_type": "stream",
     "text": [
      "/tmp/ipykernel_507085/142343024.py:46: FutureWarning: The default for pick_channels will change from ordered=False to ordered=True in 1.5 and this will result in a change of behavior because the resulting channel order will not match. Either use a channel order that matches your instance or pass ordered=False.\n",
      "  raw_train.pick_channels(ch_names=list(mapping))\n",
      " 10%|█         | 5/50 [07:44<1:08:45, 91.69s/it]"
     ]
    },
    {
     "name": "stdout",
     "output_type": "stream",
     "text": [
      "Preprocessing file : cfs-visit5-802125\n"
     ]
    },
    {
     "name": "stderr",
     "output_type": "stream",
     "text": [
      "/tmp/ipykernel_507085/142343024.py:46: FutureWarning: The default for pick_channels will change from ordered=False to ordered=True in 1.5 and this will result in a change of behavior because the resulting channel order will not match. Either use a channel order that matches your instance or pass ordered=False.\n",
      "  raw_train.pick_channels(ch_names=list(mapping))\n",
      " 12%|█▏        | 6/50 [09:24<1:09:09, 94.30s/it]"
     ]
    },
    {
     "name": "stdout",
     "output_type": "stream",
     "text": [
      "Preprocessing file : cfs-visit5-802739\n"
     ]
    },
    {
     "name": "stderr",
     "output_type": "stream",
     "text": [
      "/tmp/ipykernel_507085/142343024.py:46: FutureWarning: The default for pick_channels will change from ordered=False to ordered=True in 1.5 and this will result in a change of behavior because the resulting channel order will not match. Either use a channel order that matches your instance or pass ordered=False.\n",
      "  raw_train.pick_channels(ch_names=list(mapping))\n",
      " 14%|█▍        | 7/50 [10:59<1:07:52, 94.72s/it]"
     ]
    },
    {
     "name": "stdout",
     "output_type": "stream",
     "text": [
      "Preprocessing file : cfs-visit5-800705\n"
     ]
    },
    {
     "name": "stderr",
     "output_type": "stream",
     "text": [
      "/tmp/ipykernel_507085/142343024.py:46: FutureWarning: The default for pick_channels will change from ordered=False to ordered=True in 1.5 and this will result in a change of behavior because the resulting channel order will not match. Either use a channel order that matches your instance or pass ordered=False.\n",
      "  raw_train.pick_channels(ch_names=list(mapping))\n",
      " 16%|█▌        | 8/50 [12:37<1:06:52, 95.53s/it]"
     ]
    },
    {
     "name": "stdout",
     "output_type": "stream",
     "text": [
      "Preprocessing file : cfs-visit5-801873\n"
     ]
    },
    {
     "name": "stderr",
     "output_type": "stream",
     "text": [
      "/tmp/ipykernel_507085/142343024.py:46: FutureWarning: The default for pick_channels will change from ordered=False to ordered=True in 1.5 and this will result in a change of behavior because the resulting channel order will not match. Either use a channel order that matches your instance or pass ordered=False.\n",
      "  raw_train.pick_channels(ch_names=list(mapping))\n",
      " 18%|█▊        | 9/50 [15:40<1:24:03, 123.01s/it]"
     ]
    },
    {
     "name": "stdout",
     "output_type": "stream",
     "text": [
      "Preprocessing file : cfs-visit5-801126\n"
     ]
    },
    {
     "name": "stderr",
     "output_type": "stream",
     "text": [
      "/tmp/ipykernel_507085/142343024.py:46: FutureWarning: The default for pick_channels will change from ordered=False to ordered=True in 1.5 and this will result in a change of behavior because the resulting channel order will not match. Either use a channel order that matches your instance or pass ordered=False.\n",
      "  raw_train.pick_channels(ch_names=list(mapping))\n",
      " 20%|██        | 10/50 [17:07<1:14:34, 111.87s/it]"
     ]
    },
    {
     "name": "stdout",
     "output_type": "stream",
     "text": [
      "Preprocessing file : cfs-visit5-802643\n"
     ]
    },
    {
     "name": "stderr",
     "output_type": "stream",
     "text": [
      "/tmp/ipykernel_507085/142343024.py:46: FutureWarning: The default for pick_channels will change from ordered=False to ordered=True in 1.5 and this will result in a change of behavior because the resulting channel order will not match. Either use a channel order that matches your instance or pass ordered=False.\n",
      "  raw_train.pick_channels(ch_names=list(mapping))\n",
      " 22%|██▏       | 11/50 [19:49<1:22:37, 127.11s/it]"
     ]
    },
    {
     "name": "stdout",
     "output_type": "stream",
     "text": [
      "Preprocessing file : cfs-visit5-801323\n"
     ]
    },
    {
     "name": "stderr",
     "output_type": "stream",
     "text": [
      "/tmp/ipykernel_507085/142343024.py:46: FutureWarning: The default for pick_channels will change from ordered=False to ordered=True in 1.5 and this will result in a change of behavior because the resulting channel order will not match. Either use a channel order that matches your instance or pass ordered=False.\n",
      "  raw_train.pick_channels(ch_names=list(mapping))\n",
      " 24%|██▍       | 12/50 [21:11<1:11:55, 113.57s/it]"
     ]
    },
    {
     "name": "stdout",
     "output_type": "stream",
     "text": [
      "Preprocessing file : cfs-visit5-800243\n"
     ]
    },
    {
     "name": "stderr",
     "output_type": "stream",
     "text": [
      "/tmp/ipykernel_507085/142343024.py:46: FutureWarning: The default for pick_channels will change from ordered=False to ordered=True in 1.5 and this will result in a change of behavior because the resulting channel order will not match. Either use a channel order that matches your instance or pass ordered=False.\n",
      "  raw_train.pick_channels(ch_names=list(mapping))\n",
      " 26%|██▌       | 13/50 [24:07<1:21:45, 132.57s/it]"
     ]
    },
    {
     "name": "stdout",
     "output_type": "stream",
     "text": [
      "Preprocessing file : cfs-visit5-802380\n"
     ]
    },
    {
     "name": "stderr",
     "output_type": "stream",
     "text": [
      "/tmp/ipykernel_507085/142343024.py:46: FutureWarning: The default for pick_channels will change from ordered=False to ordered=True in 1.5 and this will result in a change of behavior because the resulting channel order will not match. Either use a channel order that matches your instance or pass ordered=False.\n",
      "  raw_train.pick_channels(ch_names=list(mapping))\n",
      " 28%|██▊       | 14/50 [27:03<1:27:22, 145.64s/it]"
     ]
    },
    {
     "name": "stdout",
     "output_type": "stream",
     "text": [
      "Preprocessing file : cfs-visit5-802487\n"
     ]
    },
    {
     "name": "stderr",
     "output_type": "stream",
     "text": [
      "/tmp/ipykernel_507085/142343024.py:46: FutureWarning: The default for pick_channels will change from ordered=False to ordered=True in 1.5 and this will result in a change of behavior because the resulting channel order will not match. Either use a channel order that matches your instance or pass ordered=False.\n",
      "  raw_train.pick_channels(ch_names=list(mapping))\n",
      " 30%|███       | 15/50 [29:45<1:27:44, 150.42s/it]"
     ]
    },
    {
     "name": "stdout",
     "output_type": "stream",
     "text": [
      "Preprocessing file : cfs-visit5-801497\n"
     ]
    },
    {
     "name": "stderr",
     "output_type": "stream",
     "text": [
      "/tmp/ipykernel_507085/142343024.py:46: FutureWarning: The default for pick_channels will change from ordered=False to ordered=True in 1.5 and this will result in a change of behavior because the resulting channel order will not match. Either use a channel order that matches your instance or pass ordered=False.\n",
      "  raw_train.pick_channels(ch_names=list(mapping))\n",
      " 32%|███▏      | 16/50 [31:17<1:15:22, 133.01s/it]"
     ]
    },
    {
     "name": "stdout",
     "output_type": "stream",
     "text": [
      "Preprocessing file : cfs-visit5-800625\n"
     ]
    },
    {
     "name": "stderr",
     "output_type": "stream",
     "text": [
      "/tmp/ipykernel_507085/142343024.py:46: FutureWarning: The default for pick_channels will change from ordered=False to ordered=True in 1.5 and this will result in a change of behavior because the resulting channel order will not match. Either use a channel order that matches your instance or pass ordered=False.\n",
      "  raw_train.pick_channels(ch_names=list(mapping))\n",
      " 34%|███▍      | 17/50 [33:51<1:16:35, 139.26s/it]"
     ]
    },
    {
     "name": "stdout",
     "output_type": "stream",
     "text": [
      "Preprocessing file : cfs-visit5-800092\n"
     ]
    },
    {
     "name": "stderr",
     "output_type": "stream",
     "text": [
      "/tmp/ipykernel_507085/142343024.py:46: FutureWarning: The default for pick_channels will change from ordered=False to ordered=True in 1.5 and this will result in a change of behavior because the resulting channel order will not match. Either use a channel order that matches your instance or pass ordered=False.\n",
      "  raw_train.pick_channels(ch_names=list(mapping))\n",
      " 36%|███▌      | 18/50 [36:42<1:19:19, 148.74s/it]"
     ]
    },
    {
     "name": "stdout",
     "output_type": "stream",
     "text": [
      "Preprocessing file : cfs-visit5-800184\n"
     ]
    },
    {
     "name": "stderr",
     "output_type": "stream",
     "text": [
      "/tmp/ipykernel_507085/142343024.py:46: FutureWarning: The default for pick_channels will change from ordered=False to ordered=True in 1.5 and this will result in a change of behavior because the resulting channel order will not match. Either use a channel order that matches your instance or pass ordered=False.\n",
      "  raw_train.pick_channels(ch_names=list(mapping))\n",
      " 38%|███▊      | 19/50 [39:13<1:17:12, 149.43s/it]"
     ]
    },
    {
     "name": "stdout",
     "output_type": "stream",
     "text": [
      "Preprocessing file : cfs-visit5-800010\n"
     ]
    },
    {
     "name": "stderr",
     "output_type": "stream",
     "text": [
      "/tmp/ipykernel_507085/142343024.py:46: FutureWarning: The default for pick_channels will change from ordered=False to ordered=True in 1.5 and this will result in a change of behavior because the resulting channel order will not match. Either use a channel order that matches your instance or pass ordered=False.\n",
      "  raw_train.pick_channels(ch_names=list(mapping))\n",
      " 40%|████      | 20/50 [40:58<1:07:59, 135.99s/it]"
     ]
    },
    {
     "name": "stdout",
     "output_type": "stream",
     "text": [
      "Preprocessing file : cfs-visit5-800535\n"
     ]
    },
    {
     "name": "stderr",
     "output_type": "stream",
     "text": [
      "/tmp/ipykernel_507085/142343024.py:46: FutureWarning: The default for pick_channels will change from ordered=False to ordered=True in 1.5 and this will result in a change of behavior because the resulting channel order will not match. Either use a channel order that matches your instance or pass ordered=False.\n",
      "  raw_train.pick_channels(ch_names=list(mapping))\n",
      " 42%|████▏     | 21/50 [43:52<1:11:19, 147.58s/it]"
     ]
    },
    {
     "name": "stdout",
     "output_type": "stream",
     "text": [
      "Preprocessing file : cfs-visit5-802709\n"
     ]
    },
    {
     "name": "stderr",
     "output_type": "stream",
     "text": [
      "/tmp/ipykernel_507085/142343024.py:46: FutureWarning: The default for pick_channels will change from ordered=False to ordered=True in 1.5 and this will result in a change of behavior because the resulting channel order will not match. Either use a channel order that matches your instance or pass ordered=False.\n",
      "  raw_train.pick_channels(ch_names=list(mapping))\n",
      " 44%|████▍     | 22/50 [45:35<1:02:37, 134.21s/it]"
     ]
    },
    {
     "name": "stdout",
     "output_type": "stream",
     "text": [
      "Preprocessing file : cfs-visit5-800407\n"
     ]
    },
    {
     "name": "stderr",
     "output_type": "stream",
     "text": [
      "/tmp/ipykernel_507085/142343024.py:46: FutureWarning: The default for pick_channels will change from ordered=False to ordered=True in 1.5 and this will result in a change of behavior because the resulting channel order will not match. Either use a channel order that matches your instance or pass ordered=False.\n",
      "  raw_train.pick_channels(ch_names=list(mapping))\n",
      " 46%|████▌     | 23/50 [48:17<1:04:09, 142.58s/it]"
     ]
    },
    {
     "name": "stdout",
     "output_type": "stream",
     "text": [
      "Preprocessing file : cfs-visit5-800494\n"
     ]
    },
    {
     "name": "stderr",
     "output_type": "stream",
     "text": [
      "/tmp/ipykernel_507085/142343024.py:46: FutureWarning: The default for pick_channels will change from ordered=False to ordered=True in 1.5 and this will result in a change of behavior because the resulting channel order will not match. Either use a channel order that matches your instance or pass ordered=False.\n",
      "  raw_train.pick_channels(ch_names=list(mapping))\n",
      " 48%|████▊     | 24/50 [51:16<1:06:26, 153.32s/it]"
     ]
    },
    {
     "name": "stdout",
     "output_type": "stream",
     "text": [
      "Preprocessing file : cfs-visit5-801825\n"
     ]
    },
    {
     "name": "stderr",
     "output_type": "stream",
     "text": [
      "/tmp/ipykernel_507085/142343024.py:46: FutureWarning: The default for pick_channels will change from ordered=False to ordered=True in 1.5 and this will result in a change of behavior because the resulting channel order will not match. Either use a channel order that matches your instance or pass ordered=False.\n",
      "  raw_train.pick_channels(ch_names=list(mapping))\n",
      " 50%|█████     | 25/50 [52:44<55:47, 133.91s/it]  "
     ]
    },
    {
     "name": "stdout",
     "output_type": "stream",
     "text": [
      "Preprocessing file : cfs-visit5-801747\n"
     ]
    },
    {
     "name": "stderr",
     "output_type": "stream",
     "text": [
      "/tmp/ipykernel_507085/142343024.py:46: FutureWarning: The default for pick_channels will change from ordered=False to ordered=True in 1.5 and this will result in a change of behavior because the resulting channel order will not match. Either use a channel order that matches your instance or pass ordered=False.\n",
      "  raw_train.pick_channels(ch_names=list(mapping))\n",
      " 52%|█████▏    | 26/50 [54:18<48:45, 121.88s/it]"
     ]
    },
    {
     "name": "stdout",
     "output_type": "stream",
     "text": [
      "Preprocessing file : cfs-visit5-801064\n"
     ]
    },
    {
     "name": "stderr",
     "output_type": "stream",
     "text": [
      "/tmp/ipykernel_507085/142343024.py:46: FutureWarning: The default for pick_channels will change from ordered=False to ordered=True in 1.5 and this will result in a change of behavior because the resulting channel order will not match. Either use a channel order that matches your instance or pass ordered=False.\n",
      "  raw_train.pick_channels(ch_names=list(mapping))\n",
      " 54%|█████▍    | 27/50 [57:14<52:53, 137.99s/it]"
     ]
    },
    {
     "name": "stdout",
     "output_type": "stream",
     "text": [
      "Preprocessing file : cfs-visit5-801291\n"
     ]
    },
    {
     "name": "stderr",
     "output_type": "stream",
     "text": [
      "/tmp/ipykernel_507085/142343024.py:46: FutureWarning: The default for pick_channels will change from ordered=False to ordered=True in 1.5 and this will result in a change of behavior because the resulting channel order will not match. Either use a channel order that matches your instance or pass ordered=False.\n",
      "  raw_train.pick_channels(ch_names=list(mapping))\n",
      " 56%|█████▌    | 28/50 [1:00:16<55:24, 151.12s/it]"
     ]
    },
    {
     "name": "stdout",
     "output_type": "stream",
     "text": [
      "Preprocessing file : cfs-visit5-800349\n"
     ]
    },
    {
     "name": "stderr",
     "output_type": "stream",
     "text": [
      "/tmp/ipykernel_507085/142343024.py:46: FutureWarning: The default for pick_channels will change from ordered=False to ordered=True in 1.5 and this will result in a change of behavior because the resulting channel order will not match. Either use a channel order that matches your instance or pass ordered=False.\n",
      "  raw_train.pick_channels(ch_names=list(mapping))\n",
      " 58%|█████▊    | 29/50 [1:02:47<52:54, 151.16s/it]"
     ]
    },
    {
     "name": "stdout",
     "output_type": "stream",
     "text": [
      "Preprocessing file : cfs-visit5-800151\n"
     ]
    },
    {
     "name": "stderr",
     "output_type": "stream",
     "text": [
      "/tmp/ipykernel_507085/142343024.py:46: FutureWarning: The default for pick_channels will change from ordered=False to ordered=True in 1.5 and this will result in a change of behavior because the resulting channel order will not match. Either use a channel order that matches your instance or pass ordered=False.\n",
      "  raw_train.pick_channels(ch_names=list(mapping))\n",
      " 60%|██████    | 30/50 [1:04:16<44:13, 132.69s/it]"
     ]
    },
    {
     "name": "stdout",
     "output_type": "stream",
     "text": [
      "Preprocessing file : cfs-visit5-800861\n"
     ]
    },
    {
     "name": "stderr",
     "output_type": "stream",
     "text": [
      "/tmp/ipykernel_507085/142343024.py:46: FutureWarning: The default for pick_channels will change from ordered=False to ordered=True in 1.5 and this will result in a change of behavior because the resulting channel order will not match. Either use a channel order that matches your instance or pass ordered=False.\n",
      "  raw_train.pick_channels(ch_names=list(mapping))\n",
      " 62%|██████▏   | 31/50 [1:05:35<36:53, 116.52s/it]"
     ]
    },
    {
     "name": "stdout",
     "output_type": "stream",
     "text": [
      "Preprocessing file : cfs-visit5-801196\n"
     ]
    },
    {
     "name": "stderr",
     "output_type": "stream",
     "text": [
      "/tmp/ipykernel_507085/142343024.py:46: FutureWarning: The default for pick_channels will change from ordered=False to ordered=True in 1.5 and this will result in a change of behavior because the resulting channel order will not match. Either use a channel order that matches your instance or pass ordered=False.\n",
      "  raw_train.pick_channels(ch_names=list(mapping))\n",
      " 64%|██████▍   | 32/50 [1:08:26<39:49, 132.76s/it]"
     ]
    },
    {
     "name": "stdout",
     "output_type": "stream",
     "text": [
      "Preprocessing file : cfs-visit5-801044\n"
     ]
    },
    {
     "name": "stderr",
     "output_type": "stream",
     "text": [
      "/tmp/ipykernel_507085/142343024.py:46: FutureWarning: The default for pick_channels will change from ordered=False to ordered=True in 1.5 and this will result in a change of behavior because the resulting channel order will not match. Either use a channel order that matches your instance or pass ordered=False.\n",
      "  raw_train.pick_channels(ch_names=list(mapping))\n",
      " 66%|██████▌   | 33/50 [1:11:05<39:52, 140.72s/it]"
     ]
    },
    {
     "name": "stdout",
     "output_type": "stream",
     "text": [
      "Preprocessing file : cfs-visit5-800697\n"
     ]
    },
    {
     "name": "stderr",
     "output_type": "stream",
     "text": [
      "/tmp/ipykernel_507085/142343024.py:46: FutureWarning: The default for pick_channels will change from ordered=False to ordered=True in 1.5 and this will result in a change of behavior because the resulting channel order will not match. Either use a channel order that matches your instance or pass ordered=False.\n",
      "  raw_train.pick_channels(ch_names=list(mapping))\n",
      " 68%|██████▊   | 34/50 [1:12:43<34:07, 127.98s/it]"
     ]
    },
    {
     "name": "stdout",
     "output_type": "stream",
     "text": [
      "Preprocessing file : cfs-visit5-800659\n"
     ]
    },
    {
     "name": "stderr",
     "output_type": "stream",
     "text": [
      "/tmp/ipykernel_507085/142343024.py:46: FutureWarning: The default for pick_channels will change from ordered=False to ordered=True in 1.5 and this will result in a change of behavior because the resulting channel order will not match. Either use a channel order that matches your instance or pass ordered=False.\n",
      "  raw_train.pick_channels(ch_names=list(mapping))\n",
      " 70%|███████   | 35/50 [1:14:29<30:19, 121.31s/it]"
     ]
    },
    {
     "name": "stdout",
     "output_type": "stream",
     "text": [
      "Preprocessing file : cfs-visit5-800249\n"
     ]
    },
    {
     "name": "stderr",
     "output_type": "stream",
     "text": [
      "/tmp/ipykernel_507085/142343024.py:46: FutureWarning: The default for pick_channels will change from ordered=False to ordered=True in 1.5 and this will result in a change of behavior because the resulting channel order will not match. Either use a channel order that matches your instance or pass ordered=False.\n",
      "  raw_train.pick_channels(ch_names=list(mapping))\n",
      " 72%|███████▏  | 36/50 [1:16:02<26:18, 112.75s/it]"
     ]
    },
    {
     "name": "stdout",
     "output_type": "stream",
     "text": [
      "Preprocessing file : cfs-visit5-802073\n"
     ]
    },
    {
     "name": "stderr",
     "output_type": "stream",
     "text": [
      "/tmp/ipykernel_507085/142343024.py:46: FutureWarning: The default for pick_channels will change from ordered=False to ordered=True in 1.5 and this will result in a change of behavior because the resulting channel order will not match. Either use a channel order that matches your instance or pass ordered=False.\n",
      "  raw_train.pick_channels(ch_names=list(mapping))\n",
      " 74%|███████▍  | 37/50 [1:17:37<23:18, 107.54s/it]"
     ]
    },
    {
     "name": "stdout",
     "output_type": "stream",
     "text": [
      "Preprocessing file : cfs-visit5-802635\n"
     ]
    },
    {
     "name": "stderr",
     "output_type": "stream",
     "text": [
      "/tmp/ipykernel_507085/142343024.py:46: FutureWarning: The default for pick_channels will change from ordered=False to ordered=True in 1.5 and this will result in a change of behavior because the resulting channel order will not match. Either use a channel order that matches your instance or pass ordered=False.\n",
      "  raw_train.pick_channels(ch_names=list(mapping))\n",
      " 76%|███████▌  | 38/50 [1:20:23<24:58, 124.87s/it]"
     ]
    },
    {
     "name": "stdout",
     "output_type": "stream",
     "text": [
      "Preprocessing file : cfs-visit5-801019\n"
     ]
    },
    {
     "name": "stderr",
     "output_type": "stream",
     "text": [
      "/tmp/ipykernel_507085/142343024.py:46: FutureWarning: The default for pick_channels will change from ordered=False to ordered=True in 1.5 and this will result in a change of behavior because the resulting channel order will not match. Either use a channel order that matches your instance or pass ordered=False.\n",
      "  raw_train.pick_channels(ch_names=list(mapping))\n",
      " 78%|███████▊  | 39/50 [1:23:09<25:09, 137.26s/it]"
     ]
    },
    {
     "name": "stdout",
     "output_type": "stream",
     "text": [
      "Preprocessing file : cfs-visit5-801001\n"
     ]
    },
    {
     "name": "stderr",
     "output_type": "stream",
     "text": [
      "/tmp/ipykernel_507085/142343024.py:46: FutureWarning: The default for pick_channels will change from ordered=False to ordered=True in 1.5 and this will result in a change of behavior because the resulting channel order will not match. Either use a channel order that matches your instance or pass ordered=False.\n",
      "  raw_train.pick_channels(ch_names=list(mapping))\n",
      " 80%|████████  | 40/50 [1:24:38<20:29, 122.91s/it]"
     ]
    },
    {
     "name": "stdout",
     "output_type": "stream",
     "text": [
      "Preprocessing file : cfs-visit5-802491\n"
     ]
    },
    {
     "name": "stderr",
     "output_type": "stream",
     "text": [
      "/tmp/ipykernel_507085/142343024.py:46: FutureWarning: The default for pick_channels will change from ordered=False to ordered=True in 1.5 and this will result in a change of behavior because the resulting channel order will not match. Either use a channel order that matches your instance or pass ordered=False.\n",
      "  raw_train.pick_channels(ch_names=list(mapping))\n",
      " 82%|████████▏ | 41/50 [1:27:34<20:48, 138.70s/it]"
     ]
    },
    {
     "name": "stdout",
     "output_type": "stream",
     "text": [
      "Preprocessing file : cfs-visit5-801380\n"
     ]
    },
    {
     "name": "stderr",
     "output_type": "stream",
     "text": [
      "/tmp/ipykernel_507085/142343024.py:46: FutureWarning: The default for pick_channels will change from ordered=False to ordered=True in 1.5 and this will result in a change of behavior because the resulting channel order will not match. Either use a channel order that matches your instance or pass ordered=False.\n",
      "  raw_train.pick_channels(ch_names=list(mapping))\n",
      " 84%|████████▍ | 42/50 [1:29:04<16:32, 124.06s/it]"
     ]
    },
    {
     "name": "stdout",
     "output_type": "stream",
     "text": [
      "Preprocessing file : cfs-visit5-801058\n"
     ]
    },
    {
     "name": "stderr",
     "output_type": "stream",
     "text": [
      "/tmp/ipykernel_507085/142343024.py:46: FutureWarning: The default for pick_channels will change from ordered=False to ordered=True in 1.5 and this will result in a change of behavior because the resulting channel order will not match. Either use a channel order that matches your instance or pass ordered=False.\n",
      "  raw_train.pick_channels(ch_names=list(mapping))\n",
      " 86%|████████▌ | 43/50 [1:30:37<13:24, 114.92s/it]"
     ]
    },
    {
     "name": "stdout",
     "output_type": "stream",
     "text": [
      "Preprocessing file : cfs-visit5-802005\n"
     ]
    },
    {
     "name": "stderr",
     "output_type": "stream",
     "text": [
      "/tmp/ipykernel_507085/142343024.py:46: FutureWarning: The default for pick_channels will change from ordered=False to ordered=True in 1.5 and this will result in a change of behavior because the resulting channel order will not match. Either use a channel order that matches your instance or pass ordered=False.\n",
      "  raw_train.pick_channels(ch_names=list(mapping))\n",
      " 88%|████████▊ | 44/50 [1:32:18<11:03, 110.62s/it]"
     ]
    },
    {
     "name": "stdout",
     "output_type": "stream",
     "text": [
      "Preprocessing file : cfs-visit5-801785\n"
     ]
    },
    {
     "name": "stderr",
     "output_type": "stream",
     "text": [
      "/tmp/ipykernel_507085/142343024.py:46: FutureWarning: The default for pick_channels will change from ordered=False to ordered=True in 1.5 and this will result in a change of behavior because the resulting channel order will not match. Either use a channel order that matches your instance or pass ordered=False.\n",
      "  raw_train.pick_channels(ch_names=list(mapping))\n",
      " 90%|█████████ | 45/50 [1:34:04<09:06, 109.20s/it]"
     ]
    },
    {
     "name": "stdout",
     "output_type": "stream",
     "text": [
      "Preprocessing file : cfs-visit5-802522\n"
     ]
    },
    {
     "name": "stderr",
     "output_type": "stream",
     "text": [
      "/tmp/ipykernel_507085/142343024.py:46: FutureWarning: The default for pick_channels will change from ordered=False to ordered=True in 1.5 and this will result in a change of behavior because the resulting channel order will not match. Either use a channel order that matches your instance or pass ordered=False.\n",
      "  raw_train.pick_channels(ch_names=list(mapping))\n",
      " 92%|█████████▏| 46/50 [1:35:27<06:45, 101.28s/it]"
     ]
    },
    {
     "name": "stdout",
     "output_type": "stream",
     "text": [
      "Preprocessing file : cfs-visit5-801393\n"
     ]
    },
    {
     "name": "stderr",
     "output_type": "stream",
     "text": [
      "/tmp/ipykernel_507085/142343024.py:46: FutureWarning: The default for pick_channels will change from ordered=False to ordered=True in 1.5 and this will result in a change of behavior because the resulting channel order will not match. Either use a channel order that matches your instance or pass ordered=False.\n",
      "  raw_train.pick_channels(ch_names=list(mapping))\n",
      " 94%|█████████▍| 47/50 [1:38:10<05:59, 119.81s/it]"
     ]
    },
    {
     "name": "stdout",
     "output_type": "stream",
     "text": [
      "Preprocessing file : cfs-visit5-800667\n"
     ]
    },
    {
     "name": "stderr",
     "output_type": "stream",
     "text": [
      "/tmp/ipykernel_507085/142343024.py:46: FutureWarning: The default for pick_channels will change from ordered=False to ordered=True in 1.5 and this will result in a change of behavior because the resulting channel order will not match. Either use a channel order that matches your instance or pass ordered=False.\n",
      "  raw_train.pick_channels(ch_names=list(mapping))\n",
      " 96%|█████████▌| 48/50 [1:40:49<04:23, 131.70s/it]"
     ]
    },
    {
     "name": "stdout",
     "output_type": "stream",
     "text": [
      "Preprocessing file : cfs-visit5-801638\n"
     ]
    },
    {
     "name": "stderr",
     "output_type": "stream",
     "text": [
      "/tmp/ipykernel_507085/142343024.py:46: FutureWarning: The default for pick_channels will change from ordered=False to ordered=True in 1.5 and this will result in a change of behavior because the resulting channel order will not match. Either use a channel order that matches your instance or pass ordered=False.\n",
      "  raw_train.pick_channels(ch_names=list(mapping))\n",
      " 98%|█████████▊| 49/50 [1:43:43<02:24, 144.38s/it]"
     ]
    },
    {
     "name": "stdout",
     "output_type": "stream",
     "text": [
      "Preprocessing file : cfs-visit5-801225\n"
     ]
    },
    {
     "name": "stderr",
     "output_type": "stream",
     "text": [
      "/tmp/ipykernel_507085/142343024.py:46: FutureWarning: The default for pick_channels will change from ordered=False to ordered=True in 1.5 and this will result in a change of behavior because the resulting channel order will not match. Either use a channel order that matches your instance or pass ordered=False.\n",
      "  raw_train.pick_channels(ch_names=list(mapping))\n",
      "100%|██████████| 50/50 [1:45:26<00:00, 126.52s/it]\n"
     ]
    }
   ],
   "source": [
    "# Iterate over all files and process them\n",
    "for idx, file in enumerate(tqdm(files)):\n",
    "    print(f'Preprocessing file : {file}')\n",
    "    raw, epochs, hypnogram = process_raw_EDF_cfs(path + file)\n",
    "    # save the data\n",
    "    epochs.save(fname = save_path + file + '-epo.fif.gz', \n",
    "                overwrite=False)\n",
    "    raw.save(fname = save_path + file + '-raw.fif.gz',  # type: ignore\n",
    "             overwrite=False)\n",
    "    np.save(save_path + file + '-hypnogram.npy', hypnogram)\n",
    "    # delete the data from memory\n",
    "    del raw, epochs, hypnogram"
   ]
  },
  {
   "cell_type": "markdown",
   "metadata": {},
   "source": [
    "# Artifact detection and labeling of Sleep Data \n",
    "\n",
    "We then use the pre-processed polysomnography data from above and utilize a Riemanian geometry based algorithm to detect and label artifacts contained therein. The algorithm is based on the following papers: https://hal.archives-ouvertes.fr/hal-00781701 & https://hal.science/hal-02015909 and is implemented in the yasa toolbox. This so-called \"Riemannian Potato\" is a clustering method that iteratively estimates the centroid of clean signal by rejecting every trial that is too far from it, thus giving you a label for each given 4 second epoch."
   ]
  },
  {
   "cell_type": "markdown",
   "metadata": {},
   "source": [
    "## 3. Process & save update epochs and hypnograms"
   ]
  },
  {
   "cell_type": "code",
   "execution_count": 50,
   "metadata": {},
   "outputs": [
    {
     "name": "stderr",
     "output_type": "stream",
     "text": [
      "  0%|          | 0/50 [00:00<?, ?it/s]"
     ]
    },
    {
     "name": "stdout",
     "output_type": "stream",
     "text": [
      "Detecting and labeling artifacts in file : cfs-visit5-801662\n"
     ]
    },
    {
     "name": "stderr",
     "output_type": "stream",
     "text": [
      "25-Aug-23 15:49:29 | WARNING | Hypnogram is SHORTER than data by 2.00 seconds. Padding hypnogram with last value to match data.size.\n",
      "  2%|▏         | 1/50 [01:40<1:22:13, 100.68s/it]"
     ]
    },
    {
     "name": "stdout",
     "output_type": "stream",
     "text": [
      "Detecting and labeling artifacts in file : cfs-visit5-801323\n"
     ]
    },
    {
     "name": "stderr",
     "output_type": "stream",
     "text": [
      "25-Aug-23 15:51:09 | WARNING | Hypnogram is SHORTER than data by 2.00 seconds. Padding hypnogram with last value to match data.size.\n",
      "  4%|▍         | 2/50 [03:20<1:20:21, 100.46s/it]"
     ]
    },
    {
     "name": "stdout",
     "output_type": "stream",
     "text": [
      "Detecting and labeling artifacts in file : cfs-visit5-801638\n"
     ]
    },
    {
     "name": "stderr",
     "output_type": "stream",
     "text": [
      "25-Aug-23 15:54:14 | WARNING | Hypnogram is SHORTER than data by 2.00 seconds. Padding hypnogram with last value to match data.size.\n",
      "  6%|▌         | 3/50 [07:12<2:05:37, 160.38s/it]"
     ]
    },
    {
     "name": "stdout",
     "output_type": "stream",
     "text": [
      "Detecting and labeling artifacts in file : cfs-visit5-800861\n"
     ]
    },
    {
     "name": "stderr",
     "output_type": "stream",
     "text": [
      "  8%|▊         | 4/50 [08:49<1:43:47, 135.38s/it]"
     ]
    },
    {
     "name": "stdout",
     "output_type": "stream",
     "text": [
      "Detecting and labeling artifacts in file : cfs-visit5-800092\n"
     ]
    },
    {
     "name": "stderr",
     "output_type": "stream",
     "text": [
      "25-Aug-23 15:59:39 | WARNING | Hypnogram is SHORTER than data by 2.00 seconds. Padding hypnogram with last value to match data.size.\n",
      " 10%|█         | 5/50 [12:35<2:06:04, 168.10s/it]"
     ]
    },
    {
     "name": "stdout",
     "output_type": "stream",
     "text": [
      "Detecting and labeling artifacts in file : cfs-visit5-801747\n"
     ]
    },
    {
     "name": "stderr",
     "output_type": "stream",
     "text": [
      "25-Aug-23 16:02:13 | WARNING | Hypnogram is SHORTER than data by 2.00 seconds. Padding hypnogram with last value to match data.size.\n",
      " 12%|█▏        | 6/50 [14:29<1:49:46, 149.69s/it]"
     ]
    },
    {
     "name": "stdout",
     "output_type": "stream",
     "text": [
      "Detecting and labeling artifacts in file : cfs-visit5-800667\n"
     ]
    },
    {
     "name": "stderr",
     "output_type": "stream",
     "text": [
      " 14%|█▍        | 7/50 [18:02<2:01:56, 170.15s/it]"
     ]
    },
    {
     "name": "stdout",
     "output_type": "stream",
     "text": [
      "Detecting and labeling artifacts in file : cfs-visit5-801380\n"
     ]
    },
    {
     "name": "stderr",
     "output_type": "stream",
     "text": [
      "25-Aug-23 16:07:36 | WARNING | Hypnogram is SHORTER than data by 2.00 seconds. Padding hypnogram with last value to match data.size.\n",
      " 16%|█▌        | 8/50 [19:51<1:45:38, 150.91s/it]"
     ]
    },
    {
     "name": "stdout",
     "output_type": "stream",
     "text": [
      "Detecting and labeling artifacts in file : cfs-visit5-800349\n"
     ]
    },
    {
     "name": "stderr",
     "output_type": "stream",
     "text": [
      " 18%|█▊        | 9/50 [23:11<1:53:30, 166.11s/it]"
     ]
    },
    {
     "name": "stdout",
     "output_type": "stream",
     "text": [
      "Detecting and labeling artifacts in file : cfs-visit5-800494\n"
     ]
    },
    {
     "name": "stderr",
     "output_type": "stream",
     "text": [
      " 20%|██        | 10/50 [27:05<2:04:44, 187.11s/it]"
     ]
    },
    {
     "name": "stdout",
     "output_type": "stream",
     "text": [
      "Detecting and labeling artifacts in file : cfs-visit5-800705\n"
     ]
    },
    {
     "name": "stderr",
     "output_type": "stream",
     "text": [
      "25-Aug-23 16:16:41 | WARNING | Hypnogram is SHORTER than data by 2.00 seconds. Padding hypnogram with last value to match data.size.\n",
      " 22%|██▏       | 11/50 [28:57<1:46:45, 164.24s/it]"
     ]
    },
    {
     "name": "stdout",
     "output_type": "stream",
     "text": [
      "Detecting and labeling artifacts in file : cfs-visit5-801393\n"
     ]
    },
    {
     "name": "stderr",
     "output_type": "stream",
     "text": [
      "25-Aug-23 16:19:39 | WARNING | Hypnogram is SHORTER than data by 2.00 seconds. Padding hypnogram with last value to match data.size.\n",
      " 24%|██▍       | 12/50 [32:32<1:53:43, 179.57s/it]"
     ]
    },
    {
     "name": "stdout",
     "output_type": "stream",
     "text": [
      "Detecting and labeling artifacts in file : cfs-visit5-802709\n"
     ]
    },
    {
     "name": "stderr",
     "output_type": "stream",
     "text": [
      " 26%|██▌       | 13/50 [34:35<1:40:09, 162.43s/it]"
     ]
    },
    {
     "name": "stdout",
     "output_type": "stream",
     "text": [
      "Detecting and labeling artifacts in file : cfs-visit5-801044\n"
     ]
    },
    {
     "name": "stderr",
     "output_type": "stream",
     "text": [
      "25-Aug-23 16:25:16 | WARNING | Hypnogram is SHORTER than data by 2.00 seconds. Padding hypnogram with last value to match data.size.\n",
      " 28%|██▊       | 14/50 [38:08<1:46:34, 177.63s/it]"
     ]
    },
    {
     "name": "stdout",
     "output_type": "stream",
     "text": [
      "Detecting and labeling artifacts in file : cfs-visit5-800659\n"
     ]
    },
    {
     "name": "stderr",
     "output_type": "stream",
     "text": [
      "25-Aug-23 16:27:53 | WARNING | Hypnogram is SHORTER than data by 2.00 seconds. Padding hypnogram with last value to match data.size.\n",
      " 30%|███       | 15/50 [40:15<1:34:41, 162.34s/it]"
     ]
    },
    {
     "name": "stdout",
     "output_type": "stream",
     "text": [
      "Detecting and labeling artifacts in file : cfs-visit5-800212\n"
     ]
    },
    {
     "name": "stderr",
     "output_type": "stream",
     "text": [
      " 32%|███▏      | 16/50 [42:11<1:24:08, 148.48s/it]"
     ]
    },
    {
     "name": "stdout",
     "output_type": "stream",
     "text": [
      "Detecting and labeling artifacts in file : cfs-visit5-800551\n"
     ]
    },
    {
     "name": "stderr",
     "output_type": "stream",
     "text": [
      " 34%|███▍      | 17/50 [44:06<1:16:09, 138.48s/it]"
     ]
    },
    {
     "name": "stdout",
     "output_type": "stream",
     "text": [
      "Detecting and labeling artifacts in file : cfs-visit5-800243\n"
     ]
    },
    {
     "name": "stderr",
     "output_type": "stream",
     "text": [
      " 36%|███▌      | 18/50 [47:59<1:29:02, 166.97s/it]"
     ]
    },
    {
     "name": "stdout",
     "output_type": "stream",
     "text": [
      "Detecting and labeling artifacts in file : cfs-visit5-802522\n"
     ]
    },
    {
     "name": "stderr",
     "output_type": "stream",
     "text": [
      " 38%|███▊      | 19/50 [49:39<1:15:51, 146.81s/it]"
     ]
    },
    {
     "name": "stdout",
     "output_type": "stream",
     "text": [
      "Detecting and labeling artifacts in file : cfs-visit5-802635\n"
     ]
    },
    {
     "name": "stderr",
     "output_type": "stream",
     "text": [
      " 40%|████      | 20/50 [53:15<1:23:43, 167.44s/it]"
     ]
    },
    {
     "name": "stdout",
     "output_type": "stream",
     "text": [
      "Detecting and labeling artifacts in file : cfs-visit5-800535\n"
     ]
    },
    {
     "name": "stderr",
     "output_type": "stream",
     "text": [
      "25-Aug-23 16:44:10 | WARNING | Hypnogram is SHORTER than data by 2.00 seconds. Padding hypnogram with last value to match data.size.\n",
      " 42%|████▏     | 21/50 [57:10<1:30:41, 187.63s/it]"
     ]
    },
    {
     "name": "stdout",
     "output_type": "stream",
     "text": [
      "Detecting and labeling artifacts in file : cfs-visit5-802380\n"
     ]
    },
    {
     "name": "stderr",
     "output_type": "stream",
     "text": [
      "25-Aug-23 16:48:00 | WARNING | Hypnogram is SHORTER than data by 2.00 seconds. Padding hypnogram with last value to match data.size.\n",
      " 44%|████▍     | 22/50 [1:00:57<1:33:12, 199.73s/it]"
     ]
    },
    {
     "name": "stdout",
     "output_type": "stream",
     "text": [
      "Detecting and labeling artifacts in file : cfs-visit5-801058\n"
     ]
    },
    {
     "name": "stderr",
     "output_type": "stream",
     "text": [
      " 46%|████▌     | 23/50 [1:02:52<1:18:23, 174.19s/it]"
     ]
    },
    {
     "name": "stdout",
     "output_type": "stream",
     "text": [
      "Detecting and labeling artifacts in file : cfs-visit5-801126\n"
     ]
    },
    {
     "name": "stderr",
     "output_type": "stream",
     "text": [
      "25-Aug-23 16:52:21 | WARNING | Hypnogram is SHORTER than data by 2.00 seconds. Padding hypnogram with last value to match data.size.\n",
      " 48%|████▊     | 24/50 [1:04:33<1:05:53, 152.06s/it]"
     ]
    },
    {
     "name": "stdout",
     "output_type": "stream",
     "text": [
      "Detecting and labeling artifacts in file : cfs-visit5-800697\n"
     ]
    },
    {
     "name": "stderr",
     "output_type": "stream",
     "text": [
      " 50%|█████     | 25/50 [1:06:31<59:10, 142.01s/it]  "
     ]
    },
    {
     "name": "stdout",
     "output_type": "stream",
     "text": [
      "Detecting and labeling artifacts in file : cfs-visit5-801497\n"
     ]
    },
    {
     "name": "stderr",
     "output_type": "stream",
     "text": [
      "25-Aug-23 16:56:06 | WARNING | Hypnogram is SHORTER than data by 2.00 seconds. Padding hypnogram with last value to match data.size.\n",
      " 52%|█████▏    | 26/50 [1:08:21<52:56, 132.34s/it]"
     ]
    },
    {
     "name": "stdout",
     "output_type": "stream",
     "text": [
      "Detecting and labeling artifacts in file : cfs-visit5-801291\n"
     ]
    },
    {
     "name": "stderr",
     "output_type": "stream",
     "text": [
      " 54%|█████▍    | 27/50 [1:13:28<1:10:53, 184.93s/it]"
     ]
    },
    {
     "name": "stdout",
     "output_type": "stream",
     "text": [
      "Detecting and labeling artifacts in file : cfs-visit5-802177\n"
     ]
    },
    {
     "name": "stderr",
     "output_type": "stream",
     "text": [
      " 56%|█████▌    | 28/50 [1:15:19<59:35, 162.51s/it]  "
     ]
    },
    {
     "name": "stdout",
     "output_type": "stream",
     "text": [
      "Detecting and labeling artifacts in file : cfs-visit5-801785\n"
     ]
    },
    {
     "name": "stderr",
     "output_type": "stream",
     "text": [
      "25-Aug-23 17:05:03 | WARNING | Hypnogram is SHORTER than data by 2.00 seconds. Padding hypnogram with last value to match data.size.\n",
      " 58%|█████▊    | 29/50 [1:17:24<52:56, 151.27s/it]"
     ]
    },
    {
     "name": "stdout",
     "output_type": "stream",
     "text": [
      "Detecting and labeling artifacts in file : cfs-visit5-802739\n"
     ]
    },
    {
     "name": "stderr",
     "output_type": "stream",
     "text": [
      "25-Aug-23 17:07:00 | WARNING | Hypnogram is SHORTER than data by 2.00 seconds. Padding hypnogram with last value to match data.size.\n",
      " 60%|██████    | 30/50 [1:19:17<46:36, 139.82s/it]"
     ]
    },
    {
     "name": "stdout",
     "output_type": "stream",
     "text": [
      "Detecting and labeling artifacts in file : cfs-visit5-801019\n"
     ]
    },
    {
     "name": "stderr",
     "output_type": "stream",
     "text": [
      " 62%|██████▏   | 31/50 [1:22:59<52:04, 164.46s/it]"
     ]
    },
    {
     "name": "stdout",
     "output_type": "stream",
     "text": [
      "Detecting and labeling artifacts in file : cfs-visit5-800010\n"
     ]
    },
    {
     "name": "stderr",
     "output_type": "stream",
     "text": [
      "25-Aug-23 17:12:44 | WARNING | Hypnogram is SHORTER than data by 2.00 seconds. Padding hypnogram with last value to match data.size.\n",
      " 64%|██████▍   | 32/50 [1:25:04<45:47, 152.64s/it]"
     ]
    },
    {
     "name": "stdout",
     "output_type": "stream",
     "text": [
      "Detecting and labeling artifacts in file : cfs-visit5-802125\n"
     ]
    },
    {
     "name": "stderr",
     "output_type": "stream",
     "text": [
      " 66%|██████▌   | 33/50 [1:27:02<40:17, 142.20s/it]"
     ]
    },
    {
     "name": "stdout",
     "output_type": "stream",
     "text": [
      "Detecting and labeling artifacts in file : cfs-visit5-802005\n"
     ]
    },
    {
     "name": "stderr",
     "output_type": "stream",
     "text": [
      "25-Aug-23 17:16:43 | WARNING | Hypnogram is SHORTER than data by 2.00 seconds. Padding hypnogram with last value to match data.size.\n",
      " 68%|██████▊   | 34/50 [1:29:02<36:12, 135.76s/it]"
     ]
    },
    {
     "name": "stdout",
     "output_type": "stream",
     "text": [
      "Detecting and labeling artifacts in file : cfs-visit5-800184\n"
     ]
    },
    {
     "name": "stderr",
     "output_type": "stream",
     "text": [
      "25-Aug-23 17:19:34 | WARNING | Hypnogram is SHORTER than data by 2.00 seconds. Padding hypnogram with last value to match data.size.\n",
      " 70%|███████   | 35/50 [1:32:20<38:34, 154.33s/it]"
     ]
    },
    {
     "name": "stdout",
     "output_type": "stream",
     "text": [
      "Detecting and labeling artifacts in file : cfs-visit5-802491\n"
     ]
    },
    {
     "name": "stderr",
     "output_type": "stream",
     "text": [
      "25-Aug-23 17:23:18 | WARNING | Hypnogram is SHORTER than data by 2.00 seconds. Padding hypnogram with last value to match data.size.\n",
      " 72%|███████▏  | 36/50 [1:36:18<41:52, 179.48s/it]"
     ]
    },
    {
     "name": "stdout",
     "output_type": "stream",
     "text": [
      "Detecting and labeling artifacts in file : cfs-visit5-801064\n"
     ]
    },
    {
     "name": "stderr",
     "output_type": "stream",
     "text": [
      "25-Aug-23 17:27:15 | WARNING | Hypnogram is SHORTER than data by 2.00 seconds. Padding hypnogram with last value to match data.size.\n",
      " 74%|███████▍  | 37/50 [1:40:15<42:37, 196.72s/it]"
     ]
    },
    {
     "name": "stdout",
     "output_type": "stream",
     "text": [
      "Detecting and labeling artifacts in file : cfs-visit5-800407\n"
     ]
    },
    {
     "name": "stderr",
     "output_type": "stream",
     "text": [
      "25-Aug-23 17:30:56 | WARNING | Hypnogram is SHORTER than data by 2.00 seconds. Padding hypnogram with last value to match data.size.\n",
      " 76%|███████▌  | 38/50 [1:43:49<40:23, 201.95s/it]"
     ]
    },
    {
     "name": "stdout",
     "output_type": "stream",
     "text": [
      "Detecting and labeling artifacts in file : cfs-visit5-802487\n"
     ]
    },
    {
     "name": "stderr",
     "output_type": "stream",
     "text": [
      " 78%|███████▊  | 39/50 [1:47:28<37:57, 207.06s/it]"
     ]
    },
    {
     "name": "stdout",
     "output_type": "stream",
     "text": [
      "Detecting and labeling artifacts in file : cfs-visit5-801873\n"
     ]
    },
    {
     "name": "stderr",
     "output_type": "stream",
     "text": [
      " 80%|████████  | 40/50 [1:51:27<36:05, 216.53s/it]"
     ]
    },
    {
     "name": "stdout",
     "output_type": "stream",
     "text": [
      "Detecting and labeling artifacts in file : cfs-visit5-800151\n"
     ]
    },
    {
     "name": "stderr",
     "output_type": "stream",
     "text": [
      " 82%|████████▏ | 41/50 [1:53:15<27:34, 183.86s/it]"
     ]
    },
    {
     "name": "stdout",
     "output_type": "stream",
     "text": [
      "Detecting and labeling artifacts in file : cfs-visit5-800625\n"
     ]
    },
    {
     "name": "stderr",
     "output_type": "stream",
     "text": [
      "25-Aug-23 17:43:50 | WARNING | Hypnogram is SHORTER than data by 2.00 seconds. Padding hypnogram with last value to match data.size.\n",
      " 84%|████████▍ | 42/50 [1:56:38<25:18, 189.86s/it]"
     ]
    },
    {
     "name": "stdout",
     "output_type": "stream",
     "text": [
      "Detecting and labeling artifacts in file : cfs-visit5-800347\n"
     ]
    },
    {
     "name": "stderr",
     "output_type": "stream",
     "text": [
      " 86%|████████▌ | 43/50 [1:58:25<19:13, 164.73s/it]"
     ]
    },
    {
     "name": "stdout",
     "output_type": "stream",
     "text": [
      "Detecting and labeling artifacts in file : cfs-visit5-801196\n"
     ]
    },
    {
     "name": "stderr",
     "output_type": "stream",
     "text": [
      " 88%|████████▊ | 44/50 [2:02:11<18:19, 183.30s/it]"
     ]
    },
    {
     "name": "stdout",
     "output_type": "stream",
     "text": [
      "Detecting and labeling artifacts in file : cfs-visit5-802643\n"
     ]
    },
    {
     "name": "stderr",
     "output_type": "stream",
     "text": [
      "25-Aug-23 17:52:57 | WARNING | Hypnogram is SHORTER than data by 2.00 seconds. Padding hypnogram with last value to match data.size.\n",
      " 90%|█████████ | 45/50 [2:05:51<16:11, 194.22s/it]"
     ]
    },
    {
     "name": "stdout",
     "output_type": "stream",
     "text": [
      "Detecting and labeling artifacts in file : cfs-visit5-801225\n"
     ]
    },
    {
     "name": "stderr",
     "output_type": "stream",
     "text": [
      " 92%|█████████▏| 46/50 [2:07:53<11:29, 172.45s/it]"
     ]
    },
    {
     "name": "stdout",
     "output_type": "stream",
     "text": [
      "Detecting and labeling artifacts in file : cfs-visit5-800249\n"
     ]
    },
    {
     "name": "stderr",
     "output_type": "stream",
     "text": [
      "25-Aug-23 17:57:27 | WARNING | Hypnogram is SHORTER than data by 2.00 seconds. Padding hypnogram with last value to match data.size.\n",
      " 94%|█████████▍| 47/50 [2:09:43<07:41, 153.75s/it]"
     ]
    },
    {
     "name": "stdout",
     "output_type": "stream",
     "text": [
      "Detecting and labeling artifacts in file : cfs-visit5-801825\n"
     ]
    },
    {
     "name": "stderr",
     "output_type": "stream",
     "text": [
      " 96%|█████████▌| 48/50 [2:11:29<04:39, 139.63s/it]"
     ]
    },
    {
     "name": "stdout",
     "output_type": "stream",
     "text": [
      "Detecting and labeling artifacts in file : cfs-visit5-801001\n"
     ]
    },
    {
     "name": "stderr",
     "output_type": "stream",
     "text": [
      "25-Aug-23 18:01:01 | WARNING | At least 30 epochs are required to calculate z-score. Skipping stage 1\n",
      "25-Aug-23 18:01:02 | WARNING | At least 30 epochs are required to calculate z-score. Skipping stage 3\n",
      "25-Aug-23 18:01:02 | WARNING | At least 30 epochs are required to calculate z-score. Skipping stage 4\n",
      "25-Aug-23 18:01:02 | WARNING | Hypnogram is SHORTER than data by 2.00 seconds. Padding hypnogram with last value to match data.size.\n",
      " 98%|█████████▊| 49/50 [2:13:16<02:09, 129.65s/it]"
     ]
    },
    {
     "name": "stdout",
     "output_type": "stream",
     "text": [
      "Detecting and labeling artifacts in file : cfs-visit5-802073\n"
     ]
    },
    {
     "name": "stderr",
     "output_type": "stream",
     "text": [
      "25-Aug-23 18:02:55 | WARNING | Hypnogram is SHORTER than data by 2.00 seconds. Padding hypnogram with last value to match data.size.\n",
      "100%|██████████| 50/50 [2:15:12<00:00, 162.26s/it]\n"
     ]
    }
   ],
   "source": [
    "# Obtain list of unique recordings\n",
    "processed_files = list(set([\"-\".join(f.split('-')[0:3]) for f in os.listdir(save_path)]))\n",
    "\n",
    "# Iterate over all files and process them\n",
    "for idx, file in enumerate(tqdm(processed_files)):\n",
    "    print(f'Detecting and labeling artifacts in file : {file}')\n",
    "    # Load the data and hypnogram files\n",
    "    raw = mne.io.read_raw(save_path + file + '-raw.fif.gz', preload=True) # type: ignore\n",
    "    epochs = mne.read_epochs(save_path + file + '-epo.fif.gz', preload=True) # type: ignore\n",
    "    hypnogram = np.load(save_path + file + '-hypnogram.npy')\n",
    "    # Get sampling frequency\n",
    "    sf = raw.info['sfreq']\n",
    "    # Get data\n",
    "    data = raw.get_data() * 1e6\n",
    "    # Unravel hypnogram to match data length\n",
    "    hypnogram_unravel = yasa.hypno_upsample_to_data(hypno=hypnogram, sf_hypno=1/30, \n",
    "                                                    data=data, sf_data=sf)\n",
    "    # Label artifacts based on Riemannian Potato clustering algorithm\n",
    "    window = 4\n",
    "    art, zscores = yasa.art_detect(data, sf=sf, window=window, hypno=hypnogram_unravel, \n",
    "                                   include=(1, 2, 3, 4), method='covar', threshold=3)\n",
    "    sf_art = 1 / window\n",
    "    \n",
    "    # Upsample art to match data length\n",
    "    art_up = yasa.hypno_upsample_to_data(art, sf_art, data, sf)\n",
    "\n",
    "    # Add -1 to hypnogram where artifacts were detected\n",
    "    hypno_with_art = hypnogram_unravel.copy()\n",
    "    hypno_with_art[art_up] = -1\n",
    "\n",
    "    # Plot and save the spectrogram with the updated hypnogram\n",
    "    fig = yasa.plot_spectrogram(data[1, :], sf, hypno_with_art)\n",
    "    fig.savefig(fig_path + file + '-hypno-artifacts.png', dpi=300)\n",
    "    plt.close(fig)\n",
    "\n",
    "    # Save the updated hypnogram\n",
    "    np.save(save_path + file + '-hypnogram_with_art.npy', hypno_with_art)\n",
    "\n",
    "    # Downsample the hypnogram to match the number of epochs\n",
    "    downsampled_hypnogram = downsample_hypnogram(sf, hypno_with_art, epochs)\n",
    "\n",
    "    # Create a DataFrame from the downsampled hypnogram\n",
    "    metadata = pd.DataFrame({'SleepStage': downsampled_hypnogram})\n",
    "    \n",
    "    # Add the metadata to the epochs\n",
    "    epochs.metadata = metadata\n",
    "\n",
    "    # Save the epochs \n",
    "    epochs.save(save_path + file + '-epo.fif.gz', overwrite=True) # type: ignore\n",
    "\n",
    "    # Delete some objects to free up memory\n",
    "    del raw, epochs, hypnogram, hypnogram_unravel, art, zscores, art_up, hypno_with_art, downsampled_hypnogram, metadata"
   ]
  },
  {
   "cell_type": "code",
   "execution_count": null,
   "metadata": {},
   "outputs": [],
   "source": [
    "## Miscellanous\n",
    "# import pandas as pd\n",
    "# pd.Series(hypno_with_art).value_counts(normalize=True)\n",
    "# yasa.sleep_statistics(hypno_with_art, sf_hyp=sf)"
   ]
  }
 ],
 "metadata": {
  "kernelspec": {
   "display_name": "NDS",
   "language": "python",
   "name": "python3"
  },
  "language_info": {
   "codemirror_mode": {
    "name": "ipython",
    "version": 3
   },
   "file_extension": ".py",
   "mimetype": "text/x-python",
   "name": "python",
   "nbconvert_exporter": "python",
   "pygments_lexer": "ipython3",
   "version": "3.10.10"
  },
  "orig_nbformat": 4
 },
 "nbformat": 4,
 "nbformat_minor": 2
}
