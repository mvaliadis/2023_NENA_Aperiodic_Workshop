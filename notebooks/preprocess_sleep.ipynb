{
 "cells": [
  {
   "cell_type": "markdown",
   "metadata": {},
   "source": [
    "# Pre-process Sleep Data\n",
    "\n",
    "This script loads and pre-processes the sleep polysomnography biosignals from the Cleveland Family Study (https://sleepdata.org/datasets/cfs). We then filter the EEG, EMG, EOG, and ECG signals, re-reference the EEG data to the linked mastoids, and then extract our epochs as an MNE object. The epochs of interest are 4 seconds in length and do not overlap. We then optionally downsample everything to 256 Hz and save the epochs as \".fif.gz\" files and the hypnograms as \".npy\" files."
   ]
  },
  {
   "cell_type": "code",
   "execution_count": 5,
   "metadata": {},
   "outputs": [],
   "source": [
    "%matplotlib inline\n",
    "\n",
    "## Import packages \n",
    "import numpy as np\n",
    "import yasa\n",
    "import os\n",
    "import mne\n",
    "from tqdm import tqdm\n",
    "import random\n",
    "import neurokit2 as nk\n",
    "import pandas as pd\n",
    "import xml.etree.ElementTree as ET\n",
    "import matplotlib.pyplot as plt\n",
    "from scipy.stats import mode\n",
    "mne.set_log_level('WARNING')"
   ]
  },
  {
   "cell_type": "code",
   "execution_count": 6,
   "metadata": {},
   "outputs": [],
   "source": [
    "## Additonal useful functions\n",
    "\n",
    "def process_raw_EDF_cfs(file):\n",
    "    \"\"\"\n",
    "    Process a raw EDF file, apply various preprocessing steps, and return the processed raw data, epochs, and hypnogram.\n",
    "\n",
    "    This function:\n",
    "    - Imports the raw EDF file.\n",
    "    - Maps and picks channels of interest.\n",
    "    - Rereferences EEG data.\n",
    "    - Bipolarizes EOG and EMG data.\n",
    "    - Applies various filters.\n",
    "    - Epochs the data into fixed-length 4-second segments.\n",
    "    - Downsamples the data.\n",
    "    - Imports and unravels the hypnogram.\n",
    "\n",
    "    Parameters:\n",
    "    - file (str): Path to the EDF file (without the '.edf' extension).\n",
    "\n",
    "    Returns:\n",
    "    - tuple: A tuple containing:\n",
    "        - raw_train (mne.io.Raw): Processed raw data.\n",
    "        - epochs (mne.Epochs): Epochs created from the raw data.\n",
    "        - hypnogram (numpy array): An array representing the hypnogram.\n",
    "\n",
    "    Raises:\n",
    "    - ValueError: If there's a mismatch between the hypnogram length and the total number of epochs.\n",
    "    \"\"\"\n",
    "\n",
    "    ## Import raw edf file\n",
    "    raw_train = mne.io.read_raw_edf(file + '.edf', eog = ['LOC','ROC'],\n",
    "                                    preload = True, verbose = False)\n",
    "\n",
    "    ## Create dictionary of channels we are interested in  \n",
    "    mapping = {'C3': 'eeg',\n",
    "               'C4': 'eeg',\n",
    "               'M1': 'eeg',\n",
    "               'M2': 'eeg',\n",
    "               'LOC': 'eog',\n",
    "               'ROC': 'eog',\n",
    "               'EMG2': 'emg',\n",
    "               'EMG3': 'emg',\n",
    "               'ECG1': 'ecg'}\n",
    "\n",
    "    ## Select channels in object and give labels for channel type\n",
    "    raw_train.pick_channels(ch_names=list(mapping))\n",
    "    raw_train.set_channel_types(mapping) \n",
    "\n",
    "    ## Rereference eeg data to average of mastoids\n",
    "    raw_train.set_eeg_reference(ref_channels=['M1','M2']) # type: ignore\n",
    "        \n",
    "    ## Bipolarize eog and emg data \n",
    "    try:\n",
    "        raw_train = mne.set_bipolar_reference(raw_train, 'EMG2', 'EMG3')\n",
    "    except:\n",
    "        if not isinstance(raw_train, mne.io.Raw):\n",
    "            ref_inst = mne.io.RawArray(raw_train.get_data(), raw_train.info)\n",
    "            raw_train = mne.set_bipolar_reference(raw_train, 'EMG2', 'EMG3')\n",
    "\n",
    "    ## Filter data\n",
    "    raw_train.filter(picks=['eeg','eog'], l_freq=0.5, h_freq=50)\n",
    "    raw_train.filter(picks='emg', l_freq=10, h_freq=100)\n",
    "    # Clean the ECG data with neurokit2\n",
    "    raw_train.apply_function(fun=nk.ecg_clean, picks='ecg', n_jobs=-1, \n",
    "                            channel_wise=True, **dict(sampling_rate=raw_train.info['sfreq'], method='neurokit', powerline=60))\n",
    "    # Notch filter\n",
    "    raw_train.notch_filter(freqs=[60, 120], method='spectrum_fit') # type: ignore\n",
    "\n",
    "    ## Create fixed-length 4 second epochs\n",
    "    events = mne.make_fixed_length_events(raw_train, duration=4)\n",
    "    epochs = mne.Epochs(raw_train, events, tmin=0, tmax=3.99,\n",
    "                        baseline=None, detrend=None, preload=True, reject=None)\n",
    "\n",
    "    ## Downsample data\n",
    "    epochs.resample(256)\n",
    "    raw_train.resample(256)\n",
    "\n",
    "    ## import and unravel hypnogram\n",
    "    stages, stagelens = read_xml(file + '-nsrr.xml')\n",
    "    hypnogram = unravel_hypnogram(stages, stagelens)\n",
    "  \n",
    "    return raw_train, epochs, hypnogram\n",
    "\n",
    "def read_xml(file):\n",
    "    \"\"\"\n",
    "    Reads an XML annotation file to extract hypnogram information.\n",
    "\n",
    "    Args:\n",
    "    - file (str): Path to the XML file.\n",
    "\n",
    "    Returns:\n",
    "    - tuple: Two numpy arrays containing stages and their corresponding lengths.\n",
    "    \"\"\"\n",
    "    \n",
    "    tree = ET.parse(file)\n",
    "    root = tree.getroot()\n",
    "\n",
    "    # Use list comprehensions to extract the relevant data\n",
    "    stages = [int(child[1].text[-1]) for child in root.iter('ScoredEvent') \n",
    "              if child[0].text and 'Stages' in child[0].text]\n",
    "    stagelens = [int(float(child[3].text) / 30) for child in root.iter('ScoredEvent') \n",
    "                 if child[0].text and 'Stages' in child[0].text]\n",
    "\n",
    "    # Convert lists to numpy arrays\n",
    "    return np.array(stages, dtype=int), np.array(stagelens, dtype=int)\n",
    "\n",
    "def unravel_hypnogram(stages, stagelens):\n",
    "    \"\"\"\n",
    "    Construct a hypnogram based on provided sleep stages and their durations.\n",
    "\n",
    "    The function maps each sleep stage to a respective value and then creates\n",
    "    a continuous array representing the hypnogram.\n",
    "\n",
    "    Parameters:\n",
    "    - stages (list or array-like): A list of sleep stages, where each stage is an integer.\n",
    "    - stagelens (list or array-like): A list of durations (in 30s increments) corresponding to each sleep stage.\n",
    "\n",
    "    Returns:\n",
    "    - numpy array: A continuous array representing the hypnogram.\n",
    "\n",
    "    Raises:\n",
    "    - ValueError: If the length of the constructed hypnogram does not match the total duration specified by stagelens.\n",
    "    \"\"\"\n",
    "\n",
    "    # Map stages to their respective values\n",
    "    stage_map = {\n",
    "        0: 0,\n",
    "        1: 1,\n",
    "        2: 2,\n",
    "        3: 3,\n",
    "        4: 3,  # collapse stage 3 and 4\n",
    "        5: 4\n",
    "    }\n",
    "\n",
    "    # Construct the hypnogram using list comprehension and the mapping\n",
    "    hypnogram = np.concatenate([stage_map[stage] * np.ones(length) for stage, length in zip(stages, stagelens)])\n",
    "    \n",
    "    # Sanity check\n",
    "    if len(hypnogram) != stagelens.sum():\n",
    "        raise ValueError('The length of the scaled hypnogram does not match the amount of total epochs')\n",
    "    \n",
    "    return hypnogram\n",
    "\n",
    "def downsample_hypnogram(hypno, data, sf=None, epoch_len_sec=4):\n",
    "    \"\"\"Downsample hypnogram to fit epoch length of data.\n",
    "\n",
    "    Parameters\n",
    "    ----------\n",
    "    hypno : array_like\n",
    "        The sleep staging (hypnogram) 1D array.\n",
    "    data : np.array_like or mne.io.Raw\n",
    "        1D or 2D EEG data. Can also be a MNE Raw object, in which case data and sf will be\n",
    "        automatically extracted.\n",
    "    sf : float, optional\n",
    "        The sampling frequency of data AND the hypnogram.\n",
    "    epoch_len_sec : int\n",
    "        Length of each epoch in seconds.\n",
    "\n",
    "    Returns\n",
    "    -------\n",
    "    hypno_ds : array_like\n",
    "        Downsampled hypnogram, with one stage per epoch.\n",
    "    \"\"\"\n",
    "    # Check if data is an MNE raw object\n",
    "    if isinstance(data, mne.io.BaseRaw):\n",
    "        sf = data.info[\"sfreq\"]\n",
    "        data = data.times  # 1D array and does not require to preload data\n",
    "    data = np.asarray(data)\n",
    "    hypno = np.asarray(hypno)\n",
    "    assert hypno.ndim == 1, \"Hypno must be 1D.\"\n",
    "\n",
    "    # Calculate the number of data points per epoch\n",
    "    npts_per_epoch = int(epoch_len_sec * sf) # type: ignore\n",
    "\n",
    "    # Number of epochs in the data\n",
    "    n_epochs = data.shape[-1] // npts_per_epoch\n",
    "\n",
    "    # Downsample hypnogram by taking the mode within each epoch\n",
    "    hypno_ds = []\n",
    "    for i in range(n_epochs):\n",
    "        epoch_mode = mode(hypno[i*npts_per_epoch:(i+1)*npts_per_epoch], keepdims=False)[0]\n",
    "        if np.isscalar(epoch_mode):\n",
    "            hypno_ds.append(epoch_mode)\n",
    "        else:\n",
    "            hypno_ds.append(epoch_mode[0])\n",
    "\n",
    "    return np.array(hypno_ds)\n"
   ]
  },
  {
   "cell_type": "markdown",
   "metadata": {},
   "source": [
    "## 1. Load data"
   ]
  },
  {
   "cell_type": "code",
   "execution_count": 7,
   "metadata": {},
   "outputs": [],
   "source": [
    "path = '/media/administrator/data/cfs/polysomnography/'\n",
    "save_path = '/mnt/server/data03/2023_NENA_Aperiodic_Workshop/data/processed/'\n",
    "fig_path = '/mnt/server/data03/2023_NENA_Aperiodic_Workshop/figures/'\n",
    "# Iterate over all files if the names end in .edf\n",
    "files = [os.path.splitext(f)[0] for f in os.listdir(path) if f.endswith('.edf')]\n",
    "# Randomly select 50 files \n",
    "files = random.sample(files, 50)"
   ]
  },
  {
   "cell_type": "markdown",
   "metadata": {},
   "source": [
    "## 2. Process and save data"
   ]
  },
  {
   "cell_type": "code",
   "execution_count": 8,
   "metadata": {},
   "outputs": [
    {
     "name": "stderr",
     "output_type": "stream",
     "text": [
      "  0%|          | 0/50 [00:00<?, ?it/s]"
     ]
    },
    {
     "name": "stdout",
     "output_type": "stream",
     "text": [
      "Preprocessing file : cfs-visit5-801662\n"
     ]
    },
    {
     "name": "stderr",
     "output_type": "stream",
     "text": [
      "/tmp/ipykernel_688269/3241735267.py:46: FutureWarning: The default for pick_channels will change from ordered=False to ordered=True in 1.5 and this will result in a change of behavior because the resulting channel order will not match. Either use a channel order that matches your instance or pass ordered=False.\n",
      "  raw_train.pick_channels(ch_names=list(mapping))\n",
      "  2%|▏         | 1/50 [01:24<1:08:44, 84.18s/it]"
     ]
    },
    {
     "name": "stdout",
     "output_type": "stream",
     "text": [
      "Preprocessing file : cfs-visit5-800212\n"
     ]
    },
    {
     "name": "stderr",
     "output_type": "stream",
     "text": [
      "/tmp/ipykernel_688269/3241735267.py:46: FutureWarning: The default for pick_channels will change from ordered=False to ordered=True in 1.5 and this will result in a change of behavior because the resulting channel order will not match. Either use a channel order that matches your instance or pass ordered=False.\n",
      "  raw_train.pick_channels(ch_names=list(mapping))\n",
      "  4%|▍         | 2/50 [02:53<1:09:41, 87.12s/it]"
     ]
    },
    {
     "name": "stdout",
     "output_type": "stream",
     "text": [
      "Preprocessing file : cfs-visit5-801126\n"
     ]
    },
    {
     "name": "stderr",
     "output_type": "stream",
     "text": [
      "/tmp/ipykernel_688269/3241735267.py:46: FutureWarning: The default for pick_channels will change from ordered=False to ordered=True in 1.5 and this will result in a change of behavior because the resulting channel order will not match. Either use a channel order that matches your instance or pass ordered=False.\n",
      "  raw_train.pick_channels(ch_names=list(mapping))\n",
      "  6%|▌         | 3/50 [05:15<1:27:57, 112.29s/it]"
     ]
    },
    {
     "name": "stdout",
     "output_type": "stream",
     "text": [
      "Preprocessing file : cfs-visit5-802005\n"
     ]
    },
    {
     "name": "stderr",
     "output_type": "stream",
     "text": [
      "/tmp/ipykernel_688269/3241735267.py:46: FutureWarning: The default for pick_channels will change from ordered=False to ordered=True in 1.5 and this will result in a change of behavior because the resulting channel order will not match. Either use a channel order that matches your instance or pass ordered=False.\n",
      "  raw_train.pick_channels(ch_names=list(mapping))\n",
      "  8%|▊         | 4/50 [08:21<1:48:13, 141.16s/it]"
     ]
    },
    {
     "name": "stdout",
     "output_type": "stream",
     "text": [
      "Preprocessing file : cfs-visit5-800092\n"
     ]
    },
    {
     "name": "stderr",
     "output_type": "stream",
     "text": [
      "/tmp/ipykernel_688269/3241735267.py:46: FutureWarning: The default for pick_channels will change from ordered=False to ordered=True in 1.5 and this will result in a change of behavior because the resulting channel order will not match. Either use a channel order that matches your instance or pass ordered=False.\n",
      "  raw_train.pick_channels(ch_names=list(mapping))\n",
      " 10%|█         | 5/50 [11:47<2:03:38, 164.86s/it]"
     ]
    },
    {
     "name": "stdout",
     "output_type": "stream",
     "text": [
      "Preprocessing file : cfs-visit5-801291\n"
     ]
    },
    {
     "name": "stderr",
     "output_type": "stream",
     "text": [
      "/tmp/ipykernel_688269/3241735267.py:46: FutureWarning: The default for pick_channels will change from ordered=False to ordered=True in 1.5 and this will result in a change of behavior because the resulting channel order will not match. Either use a channel order that matches your instance or pass ordered=False.\n",
      "  raw_train.pick_channels(ch_names=list(mapping))\n",
      " 12%|█▏        | 6/50 [16:30<2:30:19, 205.00s/it]"
     ]
    },
    {
     "name": "stdout",
     "output_type": "stream",
     "text": [
      "Preprocessing file : cfs-visit5-802125\n"
     ]
    },
    {
     "name": "stderr",
     "output_type": "stream",
     "text": [
      "/tmp/ipykernel_688269/3241735267.py:46: FutureWarning: The default for pick_channels will change from ordered=False to ordered=True in 1.5 and this will result in a change of behavior because the resulting channel order will not match. Either use a channel order that matches your instance or pass ordered=False.\n",
      "  raw_train.pick_channels(ch_names=list(mapping))\n",
      " 14%|█▍        | 7/50 [18:01<2:00:12, 167.72s/it]"
     ]
    },
    {
     "name": "stdout",
     "output_type": "stream",
     "text": [
      "Preprocessing file : cfs-visit5-800349\n"
     ]
    },
    {
     "name": "stderr",
     "output_type": "stream",
     "text": [
      "/tmp/ipykernel_688269/3241735267.py:46: FutureWarning: The default for pick_channels will change from ordered=False to ordered=True in 1.5 and this will result in a change of behavior because the resulting channel order will not match. Either use a channel order that matches your instance or pass ordered=False.\n",
      "  raw_train.pick_channels(ch_names=list(mapping))\n",
      " 16%|█▌        | 8/50 [21:31<2:06:47, 181.14s/it]"
     ]
    },
    {
     "name": "stdout",
     "output_type": "stream",
     "text": [
      "Preprocessing file : cfs-visit5-800010\n"
     ]
    },
    {
     "name": "stderr",
     "output_type": "stream",
     "text": [
      "/tmp/ipykernel_688269/3241735267.py:46: FutureWarning: The default for pick_channels will change from ordered=False to ordered=True in 1.5 and this will result in a change of behavior because the resulting channel order will not match. Either use a channel order that matches your instance or pass ordered=False.\n",
      "  raw_train.pick_channels(ch_names=list(mapping))\n",
      " 18%|█▊        | 9/50 [23:14<1:47:03, 156.67s/it]"
     ]
    },
    {
     "name": "stdout",
     "output_type": "stream",
     "text": [
      "Preprocessing file : cfs-visit5-801689\n"
     ]
    },
    {
     "name": "stderr",
     "output_type": "stream",
     "text": [
      "/tmp/ipykernel_688269/3241735267.py:46: FutureWarning: The default for pick_channels will change from ordered=False to ordered=True in 1.5 and this will result in a change of behavior because the resulting channel order will not match. Either use a channel order that matches your instance or pass ordered=False.\n",
      "  raw_train.pick_channels(ch_names=list(mapping))\n",
      " 20%|██        | 10/50 [24:38<1:29:24, 134.10s/it]"
     ]
    },
    {
     "name": "stdout",
     "output_type": "stream",
     "text": [
      "Preprocessing file : cfs-visit5-800630\n"
     ]
    },
    {
     "name": "stderr",
     "output_type": "stream",
     "text": [
      "/tmp/ipykernel_688269/3241735267.py:46: FutureWarning: The default for pick_channels will change from ordered=False to ordered=True in 1.5 and this will result in a change of behavior because the resulting channel order will not match. Either use a channel order that matches your instance or pass ordered=False.\n",
      "  raw_train.pick_channels(ch_names=list(mapping))\n",
      " 22%|██▏       | 11/50 [26:56<1:28:03, 135.47s/it]"
     ]
    },
    {
     "name": "stdout",
     "output_type": "stream",
     "text": [
      "Preprocessing file : cfs-visit5-802487\n"
     ]
    },
    {
     "name": "stderr",
     "output_type": "stream",
     "text": [
      "/tmp/ipykernel_688269/3241735267.py:46: FutureWarning: The default for pick_channels will change from ordered=False to ordered=True in 1.5 and this will result in a change of behavior because the resulting channel order will not match. Either use a channel order that matches your instance or pass ordered=False.\n",
      "  raw_train.pick_channels(ch_names=list(mapping))\n",
      " 24%|██▍       | 12/50 [29:26<1:28:34, 139.84s/it]"
     ]
    },
    {
     "name": "stdout",
     "output_type": "stream",
     "text": [
      "Preprocessing file : cfs-visit5-802643\n"
     ]
    },
    {
     "name": "stderr",
     "output_type": "stream",
     "text": [
      "/tmp/ipykernel_688269/3241735267.py:46: FutureWarning: The default for pick_channels will change from ordered=False to ordered=True in 1.5 and this will result in a change of behavior because the resulting channel order will not match. Either use a channel order that matches your instance or pass ordered=False.\n",
      "  raw_train.pick_channels(ch_names=list(mapping))\n",
      " 26%|██▌       | 13/50 [31:28<1:22:55, 134.47s/it]"
     ]
    },
    {
     "name": "stdout",
     "output_type": "stream",
     "text": [
      "Preprocessing file : cfs-visit5-801225\n"
     ]
    },
    {
     "name": "stderr",
     "output_type": "stream",
     "text": [
      "/tmp/ipykernel_688269/3241735267.py:46: FutureWarning: The default for pick_channels will change from ordered=False to ordered=True in 1.5 and this will result in a change of behavior because the resulting channel order will not match. Either use a channel order that matches your instance or pass ordered=False.\n",
      "  raw_train.pick_channels(ch_names=list(mapping))\n",
      " 28%|██▊       | 14/50 [33:08<1:14:28, 124.12s/it]"
     ]
    },
    {
     "name": "stdout",
     "output_type": "stream",
     "text": [
      "Preprocessing file : cfs-visit5-800705\n"
     ]
    },
    {
     "name": "stderr",
     "output_type": "stream",
     "text": [
      "/tmp/ipykernel_688269/3241735267.py:46: FutureWarning: The default for pick_channels will change from ordered=False to ordered=True in 1.5 and this will result in a change of behavior because the resulting channel order will not match. Either use a channel order that matches your instance or pass ordered=False.\n",
      "  raw_train.pick_channels(ch_names=list(mapping))\n",
      " 30%|███       | 15/50 [35:56<1:20:06, 137.33s/it]"
     ]
    },
    {
     "name": "stdout",
     "output_type": "stream",
     "text": [
      "Preprocessing file : cfs-visit5-801196\n"
     ]
    },
    {
     "name": "stderr",
     "output_type": "stream",
     "text": [
      "/tmp/ipykernel_688269/3241735267.py:46: FutureWarning: The default for pick_channels will change from ordered=False to ordered=True in 1.5 and this will result in a change of behavior because the resulting channel order will not match. Either use a channel order that matches your instance or pass ordered=False.\n",
      "  raw_train.pick_channels(ch_names=list(mapping))\n",
      " 32%|███▏      | 16/50 [38:04<1:16:09, 134.40s/it]"
     ]
    },
    {
     "name": "stdout",
     "output_type": "stream",
     "text": [
      "Preprocessing file : cfs-visit5-800667\n"
     ]
    },
    {
     "name": "stderr",
     "output_type": "stream",
     "text": [
      "/tmp/ipykernel_688269/3241735267.py:46: FutureWarning: The default for pick_channels will change from ordered=False to ordered=True in 1.5 and this will result in a change of behavior because the resulting channel order will not match. Either use a channel order that matches your instance or pass ordered=False.\n",
      "  raw_train.pick_channels(ch_names=list(mapping))\n",
      " 34%|███▍      | 17/50 [40:01<1:11:08, 129.34s/it]"
     ]
    },
    {
     "name": "stdout",
     "output_type": "stream",
     "text": [
      "Preprocessing file : cfs-visit5-801044\n"
     ]
    },
    {
     "name": "stderr",
     "output_type": "stream",
     "text": [
      "/tmp/ipykernel_688269/3241735267.py:46: FutureWarning: The default for pick_channels will change from ordered=False to ordered=True in 1.5 and this will result in a change of behavior because the resulting channel order will not match. Either use a channel order that matches your instance or pass ordered=False.\n",
      "  raw_train.pick_channels(ch_names=list(mapping))\n",
      " 36%|███▌      | 18/50 [42:07<1:08:19, 128.10s/it]"
     ]
    },
    {
     "name": "stdout",
     "output_type": "stream",
     "text": [
      "Preprocessing file : cfs-visit5-800331\n"
     ]
    },
    {
     "name": "stderr",
     "output_type": "stream",
     "text": [
      "/tmp/ipykernel_688269/3241735267.py:46: FutureWarning: The default for pick_channels will change from ordered=False to ordered=True in 1.5 and this will result in a change of behavior because the resulting channel order will not match. Either use a channel order that matches your instance or pass ordered=False.\n",
      "  raw_train.pick_channels(ch_names=list(mapping))\n",
      " 38%|███▊      | 19/50 [44:02<1:04:15, 124.36s/it]"
     ]
    },
    {
     "name": "stdout",
     "output_type": "stream",
     "text": [
      "Preprocessing file : cfs-visit5-802522\n"
     ]
    },
    {
     "name": "stderr",
     "output_type": "stream",
     "text": [
      "/tmp/ipykernel_688269/3241735267.py:46: FutureWarning: The default for pick_channels will change from ordered=False to ordered=True in 1.5 and this will result in a change of behavior because the resulting channel order will not match. Either use a channel order that matches your instance or pass ordered=False.\n",
      "  raw_train.pick_channels(ch_names=list(mapping))\n",
      " 40%|████      | 20/50 [45:20<55:12, 110.42s/it]  "
     ]
    },
    {
     "name": "stdout",
     "output_type": "stream",
     "text": [
      "Preprocessing file : cfs-visit5-802177\n"
     ]
    },
    {
     "name": "stderr",
     "output_type": "stream",
     "text": [
      "/tmp/ipykernel_688269/3241735267.py:46: FutureWarning: The default for pick_channels will change from ordered=False to ordered=True in 1.5 and this will result in a change of behavior because the resulting channel order will not match. Either use a channel order that matches your instance or pass ordered=False.\n",
      "  raw_train.pick_channels(ch_names=list(mapping))\n",
      " 42%|████▏     | 21/50 [46:54<50:58, 105.46s/it]"
     ]
    },
    {
     "name": "stdout",
     "output_type": "stream",
     "text": [
      "Preprocessing file : cfs-visit5-801019\n"
     ]
    },
    {
     "name": "stderr",
     "output_type": "stream",
     "text": [
      "/tmp/ipykernel_688269/3241735267.py:46: FutureWarning: The default for pick_channels will change from ordered=False to ordered=True in 1.5 and this will result in a change of behavior because the resulting channel order will not match. Either use a channel order that matches your instance or pass ordered=False.\n",
      "  raw_train.pick_channels(ch_names=list(mapping))\n",
      " 44%|████▍     | 22/50 [49:03<52:26, 112.39s/it]"
     ]
    },
    {
     "name": "stdout",
     "output_type": "stream",
     "text": [
      "Preprocessing file : cfs-visit5-801602\n"
     ]
    },
    {
     "name": "stderr",
     "output_type": "stream",
     "text": [
      "/tmp/ipykernel_688269/3241735267.py:46: FutureWarning: The default for pick_channels will change from ordered=False to ordered=True in 1.5 and this will result in a change of behavior because the resulting channel order will not match. Either use a channel order that matches your instance or pass ordered=False.\n",
      "  raw_train.pick_channels(ch_names=list(mapping))\n",
      " 46%|████▌     | 23/50 [51:15<53:16, 118.37s/it]"
     ]
    },
    {
     "name": "stdout",
     "output_type": "stream",
     "text": [
      "Preprocessing file : cfs-visit5-801825\n"
     ]
    },
    {
     "name": "stderr",
     "output_type": "stream",
     "text": [
      "/tmp/ipykernel_688269/3241735267.py:46: FutureWarning: The default for pick_channels will change from ordered=False to ordered=True in 1.5 and this will result in a change of behavior because the resulting channel order will not match. Either use a channel order that matches your instance or pass ordered=False.\n",
      "  raw_train.pick_channels(ch_names=list(mapping))\n",
      " 48%|████▊     | 24/50 [53:17<51:49, 119.59s/it]"
     ]
    },
    {
     "name": "stdout",
     "output_type": "stream",
     "text": [
      "Preprocessing file : cfs-visit5-800249\n"
     ]
    },
    {
     "name": "stderr",
     "output_type": "stream",
     "text": [
      "/tmp/ipykernel_688269/3241735267.py:46: FutureWarning: The default for pick_channels will change from ordered=False to ordered=True in 1.5 and this will result in a change of behavior because the resulting channel order will not match. Either use a channel order that matches your instance or pass ordered=False.\n",
      "  raw_train.pick_channels(ch_names=list(mapping))\n",
      " 50%|█████     | 25/50 [54:44<45:41, 109.68s/it]"
     ]
    },
    {
     "name": "stdout",
     "output_type": "stream",
     "text": [
      "Preprocessing file : cfs-visit5-800407\n"
     ]
    },
    {
     "name": "stderr",
     "output_type": "stream",
     "text": [
      "/tmp/ipykernel_688269/3241735267.py:46: FutureWarning: The default for pick_channels will change from ordered=False to ordered=True in 1.5 and this will result in a change of behavior because the resulting channel order will not match. Either use a channel order that matches your instance or pass ordered=False.\n",
      "  raw_train.pick_channels(ch_names=list(mapping))\n",
      " 52%|█████▏    | 26/50 [56:51<45:56, 114.87s/it]"
     ]
    },
    {
     "name": "stdout",
     "output_type": "stream",
     "text": [
      "Preprocessing file : cfs-visit5-800494\n"
     ]
    },
    {
     "name": "stderr",
     "output_type": "stream",
     "text": [
      "/tmp/ipykernel_688269/3241735267.py:46: FutureWarning: The default for pick_channels will change from ordered=False to ordered=True in 1.5 and this will result in a change of behavior because the resulting channel order will not match. Either use a channel order that matches your instance or pass ordered=False.\n",
      "  raw_train.pick_channels(ch_names=list(mapping))\n",
      " 54%|█████▍    | 27/50 [59:22<48:08, 125.60s/it]"
     ]
    },
    {
     "name": "stdout",
     "output_type": "stream",
     "text": [
      "Preprocessing file : cfs-visit5-800697\n"
     ]
    },
    {
     "name": "stderr",
     "output_type": "stream",
     "text": [
      "/tmp/ipykernel_688269/3241735267.py:46: FutureWarning: The default for pick_channels will change from ordered=False to ordered=True in 1.5 and this will result in a change of behavior because the resulting channel order will not match. Either use a channel order that matches your instance or pass ordered=False.\n",
      "  raw_train.pick_channels(ch_names=list(mapping))\n",
      " 56%|█████▌    | 28/50 [1:01:00<43:04, 117.48s/it]"
     ]
    },
    {
     "name": "stdout",
     "output_type": "stream",
     "text": [
      "Preprocessing file : cfs-visit5-801323\n"
     ]
    },
    {
     "name": "stderr",
     "output_type": "stream",
     "text": [
      "/tmp/ipykernel_688269/3241735267.py:46: FutureWarning: The default for pick_channels will change from ordered=False to ordered=True in 1.5 and this will result in a change of behavior because the resulting channel order will not match. Either use a channel order that matches your instance or pass ordered=False.\n",
      "  raw_train.pick_channels(ch_names=list(mapping))\n",
      " 58%|█████▊    | 29/50 [1:02:21<37:15, 106.47s/it]"
     ]
    },
    {
     "name": "stdout",
     "output_type": "stream",
     "text": [
      "Preprocessing file : cfs-visit5-802380\n"
     ]
    },
    {
     "name": "stderr",
     "output_type": "stream",
     "text": [
      "/tmp/ipykernel_688269/3241735267.py:46: FutureWarning: The default for pick_channels will change from ordered=False to ordered=True in 1.5 and this will result in a change of behavior because the resulting channel order will not match. Either use a channel order that matches your instance or pass ordered=False.\n",
      "  raw_train.pick_channels(ch_names=list(mapping))\n",
      " 60%|██████    | 30/50 [1:04:41<38:50, 116.53s/it]"
     ]
    },
    {
     "name": "stdout",
     "output_type": "stream",
     "text": [
      "Preprocessing file : cfs-visit5-801058\n"
     ]
    },
    {
     "name": "stderr",
     "output_type": "stream",
     "text": [
      "/tmp/ipykernel_688269/3241735267.py:46: FutureWarning: The default for pick_channels will change from ordered=False to ordered=True in 1.5 and this will result in a change of behavior because the resulting channel order will not match. Either use a channel order that matches your instance or pass ordered=False.\n",
      "  raw_train.pick_channels(ch_names=list(mapping))\n",
      " 62%|██████▏   | 31/50 [1:06:12<34:27, 108.80s/it]"
     ]
    },
    {
     "name": "stdout",
     "output_type": "stream",
     "text": [
      "Preprocessing file : cfs-visit5-802635\n"
     ]
    },
    {
     "name": "stderr",
     "output_type": "stream",
     "text": [
      "/tmp/ipykernel_688269/3241735267.py:46: FutureWarning: The default for pick_channels will change from ordered=False to ordered=True in 1.5 and this will result in a change of behavior because the resulting channel order will not match. Either use a channel order that matches your instance or pass ordered=False.\n",
      "  raw_train.pick_channels(ch_names=list(mapping))\n",
      " 64%|██████▍   | 32/50 [1:08:20<34:21, 114.52s/it]"
     ]
    },
    {
     "name": "stdout",
     "output_type": "stream",
     "text": [
      "Preprocessing file : cfs-visit5-802739\n"
     ]
    },
    {
     "name": "stderr",
     "output_type": "stream",
     "text": [
      "/tmp/ipykernel_688269/3241735267.py:46: FutureWarning: The default for pick_channels will change from ordered=False to ordered=True in 1.5 and this will result in a change of behavior because the resulting channel order will not match. Either use a channel order that matches your instance or pass ordered=False.\n",
      "  raw_train.pick_channels(ch_names=list(mapping))\n",
      " 66%|██████▌   | 33/50 [1:09:55<30:50, 108.87s/it]"
     ]
    },
    {
     "name": "stdout",
     "output_type": "stream",
     "text": [
      "Preprocessing file : cfs-visit5-802691\n"
     ]
    },
    {
     "name": "stderr",
     "output_type": "stream",
     "text": [
      "/tmp/ipykernel_688269/3241735267.py:46: FutureWarning: The default for pick_channels will change from ordered=False to ordered=True in 1.5 and this will result in a change of behavior because the resulting channel order will not match. Either use a channel order that matches your instance or pass ordered=False.\n",
      "  raw_train.pick_channels(ch_names=list(mapping))\n",
      " 68%|██████▊   | 34/50 [1:12:11<31:10, 116.88s/it]"
     ]
    },
    {
     "name": "stdout",
     "output_type": "stream",
     "text": [
      "Preprocessing file : cfs-visit5-800113\n"
     ]
    },
    {
     "name": "stderr",
     "output_type": "stream",
     "text": [
      "/tmp/ipykernel_688269/3241735267.py:46: FutureWarning: The default for pick_channels will change from ordered=False to ordered=True in 1.5 and this will result in a change of behavior because the resulting channel order will not match. Either use a channel order that matches your instance or pass ordered=False.\n",
      "  raw_train.pick_channels(ch_names=list(mapping))\n",
      " 70%|███████   | 35/50 [1:13:41<27:10, 108.73s/it]"
     ]
    },
    {
     "name": "stdout",
     "output_type": "stream",
     "text": [
      "Preprocessing file : cfs-visit5-801416\n"
     ]
    },
    {
     "name": "stderr",
     "output_type": "stream",
     "text": [
      "/tmp/ipykernel_688269/3241735267.py:46: FutureWarning: The default for pick_channels will change from ordered=False to ordered=True in 1.5 and this will result in a change of behavior because the resulting channel order will not match. Either use a channel order that matches your instance or pass ordered=False.\n",
      "  raw_train.pick_channels(ch_names=list(mapping))\n",
      " 72%|███████▏  | 36/50 [1:15:45<26:29, 113.55s/it]"
     ]
    },
    {
     "name": "stdout",
     "output_type": "stream",
     "text": [
      "Preprocessing file : cfs-visit5-802298\n"
     ]
    },
    {
     "name": "stderr",
     "output_type": "stream",
     "text": [
      "/tmp/ipykernel_688269/3241735267.py:46: FutureWarning: The default for pick_channels will change from ordered=False to ordered=True in 1.5 and this will result in a change of behavior because the resulting channel order will not match. Either use a channel order that matches your instance or pass ordered=False.\n",
      "  raw_train.pick_channels(ch_names=list(mapping))\n",
      " 74%|███████▍  | 37/50 [1:17:38<24:33, 113.31s/it]"
     ]
    },
    {
     "name": "stdout",
     "output_type": "stream",
     "text": [
      "Preprocessing file : cfs-visit5-800625\n"
     ]
    },
    {
     "name": "stderr",
     "output_type": "stream",
     "text": [
      "/tmp/ipykernel_688269/3241735267.py:46: FutureWarning: The default for pick_channels will change from ordered=False to ordered=True in 1.5 and this will result in a change of behavior because the resulting channel order will not match. Either use a channel order that matches your instance or pass ordered=False.\n",
      "  raw_train.pick_channels(ch_names=list(mapping))\n",
      " 76%|███████▌  | 38/50 [1:19:36<22:56, 114.73s/it]"
     ]
    },
    {
     "name": "stdout",
     "output_type": "stream",
     "text": [
      "Preprocessing file : cfs-visit5-801152\n"
     ]
    },
    {
     "name": "stderr",
     "output_type": "stream",
     "text": [
      "/tmp/ipykernel_688269/3241735267.py:46: FutureWarning: The default for pick_channels will change from ordered=False to ordered=True in 1.5 and this will result in a change of behavior because the resulting channel order will not match. Either use a channel order that matches your instance or pass ordered=False.\n",
      "  raw_train.pick_channels(ch_names=list(mapping))\n",
      " 78%|███████▊  | 39/50 [1:22:17<23:34, 128.63s/it]"
     ]
    },
    {
     "name": "stdout",
     "output_type": "stream",
     "text": [
      "Preprocessing file : cfs-visit5-800861\n"
     ]
    },
    {
     "name": "stderr",
     "output_type": "stream",
     "text": [
      "/tmp/ipykernel_688269/3241735267.py:46: FutureWarning: The default for pick_channels will change from ordered=False to ordered=True in 1.5 and this will result in a change of behavior because the resulting channel order will not match. Either use a channel order that matches your instance or pass ordered=False.\n",
      "  raw_train.pick_channels(ch_names=list(mapping))\n",
      " 80%|████████  | 40/50 [1:23:31<18:40, 112.06s/it]"
     ]
    },
    {
     "name": "stdout",
     "output_type": "stream",
     "text": [
      "Preprocessing file : cfs-visit5-802132\n"
     ]
    },
    {
     "name": "stderr",
     "output_type": "stream",
     "text": [
      "/tmp/ipykernel_688269/3241735267.py:46: FutureWarning: The default for pick_channels will change from ordered=False to ordered=True in 1.5 and this will result in a change of behavior because the resulting channel order will not match. Either use a channel order that matches your instance or pass ordered=False.\n",
      "  raw_train.pick_channels(ch_names=list(mapping))\n",
      " 82%|████████▏ | 41/50 [1:25:31<17:10, 114.53s/it]"
     ]
    },
    {
     "name": "stdout",
     "output_type": "stream",
     "text": [
      "Preprocessing file : cfs-visit5-802073\n"
     ]
    },
    {
     "name": "stderr",
     "output_type": "stream",
     "text": [
      "/tmp/ipykernel_688269/3241735267.py:46: FutureWarning: The default for pick_channels will change from ordered=False to ordered=True in 1.5 and this will result in a change of behavior because the resulting channel order will not match. Either use a channel order that matches your instance or pass ordered=False.\n",
      "  raw_train.pick_channels(ch_names=list(mapping))\n",
      " 84%|████████▍ | 42/50 [1:27:02<14:19, 107.40s/it]"
     ]
    },
    {
     "name": "stdout",
     "output_type": "stream",
     "text": [
      "Preprocessing file : cfs-visit5-801873\n"
     ]
    },
    {
     "name": "stderr",
     "output_type": "stream",
     "text": [
      "/tmp/ipykernel_688269/3241735267.py:46: FutureWarning: The default for pick_channels will change from ordered=False to ordered=True in 1.5 and this will result in a change of behavior because the resulting channel order will not match. Either use a channel order that matches your instance or pass ordered=False.\n",
      "  raw_train.pick_channels(ch_names=list(mapping))\n",
      " 86%|████████▌ | 43/50 [1:29:10<13:16, 113.83s/it]"
     ]
    },
    {
     "name": "stdout",
     "output_type": "stream",
     "text": [
      "Preprocessing file : cfs-visit5-802491\n"
     ]
    },
    {
     "name": "stderr",
     "output_type": "stream",
     "text": [
      "/tmp/ipykernel_688269/3241735267.py:46: FutureWarning: The default for pick_channels will change from ordered=False to ordered=True in 1.5 and this will result in a change of behavior because the resulting channel order will not match. Either use a channel order that matches your instance or pass ordered=False.\n",
      "  raw_train.pick_channels(ch_names=list(mapping))\n",
      " 88%|████████▊ | 44/50 [1:32:28<13:52, 138.82s/it]"
     ]
    },
    {
     "name": "stdout",
     "output_type": "stream",
     "text": [
      "Preprocessing file : cfs-visit5-801001\n"
     ]
    },
    {
     "name": "stderr",
     "output_type": "stream",
     "text": [
      "/tmp/ipykernel_688269/3241735267.py:46: FutureWarning: The default for pick_channels will change from ordered=False to ordered=True in 1.5 and this will result in a change of behavior because the resulting channel order will not match. Either use a channel order that matches your instance or pass ordered=False.\n",
      "  raw_train.pick_channels(ch_names=list(mapping))\n",
      " 90%|█████████ | 45/50 [1:34:03<10:29, 125.80s/it]"
     ]
    },
    {
     "name": "stdout",
     "output_type": "stream",
     "text": [
      "Preprocessing file : cfs-visit5-801497\n"
     ]
    },
    {
     "name": "stderr",
     "output_type": "stream",
     "text": [
      "/tmp/ipykernel_688269/3241735267.py:46: FutureWarning: The default for pick_channels will change from ordered=False to ordered=True in 1.5 and this will result in a change of behavior because the resulting channel order will not match. Either use a channel order that matches your instance or pass ordered=False.\n",
      "  raw_train.pick_channels(ch_names=list(mapping))\n",
      " 92%|█████████▏| 46/50 [1:35:28<07:33, 113.49s/it]"
     ]
    },
    {
     "name": "stdout",
     "output_type": "stream",
     "text": [
      "Preprocessing file : cfs-visit5-801380\n"
     ]
    },
    {
     "name": "stderr",
     "output_type": "stream",
     "text": [
      "/tmp/ipykernel_688269/3241735267.py:46: FutureWarning: The default for pick_channels will change from ordered=False to ordered=True in 1.5 and this will result in a change of behavior because the resulting channel order will not match. Either use a channel order that matches your instance or pass ordered=False.\n",
      "  raw_train.pick_channels(ch_names=list(mapping))\n",
      " 94%|█████████▍| 47/50 [1:36:53<05:15, 105.12s/it]"
     ]
    },
    {
     "name": "stdout",
     "output_type": "stream",
     "text": [
      "Preprocessing file : cfs-visit5-800184\n"
     ]
    },
    {
     "name": "stderr",
     "output_type": "stream",
     "text": [
      "/tmp/ipykernel_688269/3241735267.py:46: FutureWarning: The default for pick_channels will change from ordered=False to ordered=True in 1.5 and this will result in a change of behavior because the resulting channel order will not match. Either use a channel order that matches your instance or pass ordered=False.\n",
      "  raw_train.pick_channels(ch_names=list(mapping))\n",
      " 96%|█████████▌| 48/50 [1:39:42<04:08, 124.25s/it]"
     ]
    },
    {
     "name": "stdout",
     "output_type": "stream",
     "text": [
      "Preprocessing file : cfs-visit5-800347\n"
     ]
    },
    {
     "name": "stderr",
     "output_type": "stream",
     "text": [
      "/tmp/ipykernel_688269/3241735267.py:46: FutureWarning: The default for pick_channels will change from ordered=False to ordered=True in 1.5 and this will result in a change of behavior because the resulting channel order will not match. Either use a channel order that matches your instance or pass ordered=False.\n",
      "  raw_train.pick_channels(ch_names=list(mapping))\n",
      " 98%|█████████▊| 49/50 [1:41:02<01:50, 110.89s/it]"
     ]
    },
    {
     "name": "stdout",
     "output_type": "stream",
     "text": [
      "Preprocessing file : cfs-visit5-801540\n"
     ]
    },
    {
     "name": "stderr",
     "output_type": "stream",
     "text": [
      "/tmp/ipykernel_688269/3241735267.py:46: FutureWarning: The default for pick_channels will change from ordered=False to ordered=True in 1.5 and this will result in a change of behavior because the resulting channel order will not match. Either use a channel order that matches your instance or pass ordered=False.\n",
      "  raw_train.pick_channels(ch_names=list(mapping))\n",
      "100%|██████████| 50/50 [1:43:33<00:00, 124.27s/it]\n"
     ]
    }
   ],
   "source": [
    "# Iterate over all files and process them\n",
    "for idx, file in enumerate(tqdm(files)):\n",
    "    print(f'Preprocessing file : {file}')\n",
    "    raw, epochs, hypnogram = process_raw_EDF_cfs(path + file)\n",
    "    # save the data\n",
    "    epochs.save(fname = save_path + file + '-epo.fif.gz', \n",
    "                overwrite=True)\n",
    "    raw.save(fname = save_path + file + '-raw.fif.gz',  # type: ignore\n",
    "             overwrite=True)\n",
    "    np.save(save_path + file + '-hypnogram.npy', hypnogram)\n",
    "    # delete the data from memory\n",
    "    del raw, epochs, hypnogram"
   ]
  },
  {
   "cell_type": "markdown",
   "metadata": {},
   "source": [
    "# Artifact detection and labeling of Sleep Data \n",
    "\n",
    "We then use the pre-processed polysomnography data from above and utilize a Riemanian geometry based algorithm to detect and label artifacts contained therein. The algorithm is based on the following papers: https://hal.archives-ouvertes.fr/hal-00781701 & https://hal.science/hal-02015909 and is implemented in the yasa toolbox. This so-called \"Riemannian Potato\" is a clustering method that iteratively estimates the centroid of clean signal by rejecting every trial that is too far from it, thus giving you a label for each given 4 second epoch."
   ]
  },
  {
   "cell_type": "markdown",
   "metadata": {},
   "source": [
    "## 3. Process & save update epochs and hypnograms"
   ]
  },
  {
   "cell_type": "code",
   "execution_count": 11,
   "metadata": {},
   "outputs": [
    {
     "name": "stderr",
     "output_type": "stream",
     "text": [
      "  0%|          | 0/59 [00:00<?, ?it/s]"
     ]
    },
    {
     "name": "stdout",
     "output_type": "stream",
     "text": [
      "Detecting and labeling artifacts in file : cfs-visit5-801196\n"
     ]
    },
    {
     "name": "stderr",
     "output_type": "stream",
     "text": [
      "  2%|▏         | 1/59 [01:55<1:51:57, 115.82s/it]"
     ]
    },
    {
     "name": "stdout",
     "output_type": "stream",
     "text": [
      "Detecting and labeling artifacts in file : cfs-visit5-801126\n"
     ]
    },
    {
     "name": "stderr",
     "output_type": "stream",
     "text": [
      "12-Sep-23 09:16:06 | WARNING | Hypnogram is SHORTER than data by 2.00 seconds. Padding hypnogram with last value to match data.size.\n",
      "  3%|▎         | 2/59 [03:38<1:42:30, 107.91s/it]"
     ]
    },
    {
     "name": "stdout",
     "output_type": "stream",
     "text": [
      "Detecting and labeling artifacts in file : cfs-visit5-800630\n"
     ]
    },
    {
     "name": "stderr",
     "output_type": "stream",
     "text": [
      "12-Sep-23 09:18:04 | WARNING | Hypnogram is SHORTER than data by 2.00 seconds. Padding hypnogram with last value to match data.size.\n",
      "  5%|▌         | 3/59 [05:43<1:48:08, 115.86s/it]"
     ]
    },
    {
     "name": "stdout",
     "output_type": "stream",
     "text": [
      "Detecting and labeling artifacts in file : cfs-visit5-801662\n"
     ]
    },
    {
     "name": "stderr",
     "output_type": "stream",
     "text": [
      "12-Sep-23 09:19:53 | WARNING | Hypnogram is SHORTER than data by 2.00 seconds. Padding hypnogram with last value to match data.size.\n",
      "  7%|▋         | 4/59 [07:23<1:40:32, 109.69s/it]"
     ]
    },
    {
     "name": "stdout",
     "output_type": "stream",
     "text": [
      "Detecting and labeling artifacts in file : cfs-visit5-801323\n"
     ]
    },
    {
     "name": "stderr",
     "output_type": "stream",
     "text": [
      "12-Sep-23 09:21:33 | WARNING | Hypnogram is SHORTER than data by 2.00 seconds. Padding hypnogram with last value to match data.size.\n",
      "  8%|▊         | 5/59 [09:04<1:35:44, 106.38s/it]"
     ]
    },
    {
     "name": "stdout",
     "output_type": "stream",
     "text": [
      "Detecting and labeling artifacts in file : cfs-visit5-801907\n"
     ]
    },
    {
     "name": "stderr",
     "output_type": "stream",
     "text": [
      "12-Sep-23 09:23:22 | WARNING | Hypnogram is SHORTER than data by 2.00 seconds. Padding hypnogram with last value to match data.size.\n",
      " 10%|█         | 6/59 [10:56<1:35:48, 108.46s/it]"
     ]
    },
    {
     "name": "stdout",
     "output_type": "stream",
     "text": [
      "Detecting and labeling artifacts in file : cfs-visit5-801638\n"
     ]
    },
    {
     "name": "stderr",
     "output_type": "stream",
     "text": [
      "12-Sep-23 09:25:17 | WARNING | Hypnogram is SHORTER than data by 2.00 seconds. Padding hypnogram with last value to match data.size.\n",
      " 12%|█▏        | 7/59 [12:53<1:36:24, 111.25s/it]"
     ]
    },
    {
     "name": "stdout",
     "output_type": "stream",
     "text": [
      "Detecting and labeling artifacts in file : cfs-visit5-802522\n"
     ]
    },
    {
     "name": "stderr",
     "output_type": "stream",
     "text": [
      " 14%|█▎        | 8/59 [14:35<1:31:52, 108.10s/it]"
     ]
    },
    {
     "name": "stdout",
     "output_type": "stream",
     "text": [
      "Detecting and labeling artifacts in file : cfs-visit5-801225\n"
     ]
    },
    {
     "name": "stderr",
     "output_type": "stream",
     "text": [
      " 15%|█▌        | 9/59 [16:38<1:34:04, 112.88s/it]"
     ]
    },
    {
     "name": "stdout",
     "output_type": "stream",
     "text": [
      "Detecting and labeling artifacts in file : cfs-visit5-801747\n"
     ]
    },
    {
     "name": "stderr",
     "output_type": "stream",
     "text": [
      "12-Sep-23 09:30:58 | WARNING | Hypnogram is SHORTER than data by 2.00 seconds. Padding hypnogram with last value to match data.size.\n",
      " 17%|█▋        | 10/59 [18:34<1:32:53, 113.75s/it]"
     ]
    },
    {
     "name": "stdout",
     "output_type": "stream",
     "text": [
      "Detecting and labeling artifacts in file : cfs-visit5-800551\n"
     ]
    },
    {
     "name": "stderr",
     "output_type": "stream",
     "text": [
      " 19%|█▊        | 11/59 [20:30<1:31:32, 114.43s/it]"
     ]
    },
    {
     "name": "stdout",
     "output_type": "stream",
     "text": [
      "Detecting and labeling artifacts in file : cfs-visit5-801044\n"
     ]
    },
    {
     "name": "stderr",
     "output_type": "stream",
     "text": [
      "12-Sep-23 09:34:46 | WARNING | Hypnogram is SHORTER than data by 2.00 seconds. Padding hypnogram with last value to match data.size.\n",
      " 20%|██        | 12/59 [22:19<1:28:26, 112.91s/it]"
     ]
    },
    {
     "name": "stdout",
     "output_type": "stream",
     "text": [
      "Detecting and labeling artifacts in file : cfs-visit5-800705\n"
     ]
    },
    {
     "name": "stderr",
     "output_type": "stream",
     "text": [
      "12-Sep-23 09:36:40 | WARNING | Hypnogram is SHORTER than data by 2.00 seconds. Padding hypnogram with last value to match data.size.\n",
      " 22%|██▏       | 13/59 [24:16<1:27:27, 114.08s/it]"
     ]
    },
    {
     "name": "stdout",
     "output_type": "stream",
     "text": [
      "Detecting and labeling artifacts in file : cfs-visit5-802132\n"
     ]
    },
    {
     "name": "stderr",
     "output_type": "stream",
     "text": [
      " 24%|██▎       | 14/59 [26:05<1:24:20, 112.46s/it]"
     ]
    },
    {
     "name": "stdout",
     "output_type": "stream",
     "text": [
      "Detecting and labeling artifacts in file : cfs-visit5-801152\n"
     ]
    },
    {
     "name": "stderr",
     "output_type": "stream",
     "text": [
      "12-Sep-23 09:40:23 | WARNING | Hypnogram is SHORTER than data by 2.00 seconds. Padding hypnogram with last value to match data.size.\n",
      " 25%|██▌       | 15/59 [27:57<1:22:33, 112.57s/it]"
     ]
    },
    {
     "name": "stdout",
     "output_type": "stream",
     "text": [
      "Detecting and labeling artifacts in file : cfs-visit5-801019\n"
     ]
    },
    {
     "name": "stderr",
     "output_type": "stream",
     "text": [
      " 27%|██▋       | 16/59 [29:51<1:20:58, 112.98s/it]"
     ]
    },
    {
     "name": "stdout",
     "output_type": "stream",
     "text": [
      "Detecting and labeling artifacts in file : cfs-visit5-800494\n"
     ]
    },
    {
     "name": "stderr",
     "output_type": "stream",
     "text": [
      " 29%|██▉       | 17/59 [31:51<1:20:27, 114.94s/it]"
     ]
    },
    {
     "name": "stdout",
     "output_type": "stream",
     "text": [
      "Detecting and labeling artifacts in file : cfs-visit5-801380\n"
     ]
    },
    {
     "name": "stderr",
     "output_type": "stream",
     "text": [
      "12-Sep-23 09:46:08 | WARNING | Hypnogram is SHORTER than data by 2.00 seconds. Padding hypnogram with last value to match data.size.\n",
      " 31%|███       | 18/59 [33:42<1:17:40, 113.66s/it]"
     ]
    },
    {
     "name": "stdout",
     "output_type": "stream",
     "text": [
      "Detecting and labeling artifacts in file : cfs-visit5-801058\n"
     ]
    },
    {
     "name": "stderr",
     "output_type": "stream",
     "text": [
      " 32%|███▏      | 19/59 [35:37<1:16:10, 114.27s/it]"
     ]
    },
    {
     "name": "stdout",
     "output_type": "stream",
     "text": [
      "Detecting and labeling artifacts in file : cfs-visit5-801873\n"
     ]
    },
    {
     "name": "stderr",
     "output_type": "stream",
     "text": [
      " 34%|███▍      | 20/59 [37:39<1:15:42, 116.47s/it]"
     ]
    },
    {
     "name": "stdout",
     "output_type": "stream",
     "text": [
      "Detecting and labeling artifacts in file : cfs-visit5-800347\n"
     ]
    },
    {
     "name": "stderr",
     "output_type": "stream",
     "text": [
      " 36%|███▌      | 21/59 [39:26<1:11:54, 113.54s/it]"
     ]
    },
    {
     "name": "stdout",
     "output_type": "stream",
     "text": [
      "Detecting and labeling artifacts in file : cfs-visit5-800151\n"
     ]
    },
    {
     "name": "stderr",
     "output_type": "stream",
     "text": [
      " 37%|███▋      | 22/59 [41:15<1:09:13, 112.25s/it]"
     ]
    },
    {
     "name": "stdout",
     "output_type": "stream",
     "text": [
      "Detecting and labeling artifacts in file : cfs-visit5-800861\n"
     ]
    },
    {
     "name": "stderr",
     "output_type": "stream",
     "text": [
      " 39%|███▉      | 23/59 [42:52<1:04:33, 107.61s/it]"
     ]
    },
    {
     "name": "stdout",
     "output_type": "stream",
     "text": [
      "Detecting and labeling artifacts in file : cfs-visit5-801540\n"
     ]
    },
    {
     "name": "stderr",
     "output_type": "stream",
     "text": [
      "12-Sep-23 09:57:11 | WARNING | Hypnogram is SHORTER than data by 2.00 seconds. Padding hypnogram with last value to match data.size.\n",
      " 41%|████      | 24/59 [44:47<1:04:04, 109.85s/it]"
     ]
    },
    {
     "name": "stdout",
     "output_type": "stream",
     "text": [
      "Detecting and labeling artifacts in file : cfs-visit5-802643\n"
     ]
    },
    {
     "name": "stderr",
     "output_type": "stream",
     "text": [
      "12-Sep-23 09:59:05 | WARNING | Hypnogram is SHORTER than data by 2.00 seconds. Padding hypnogram with last value to match data.size.\n",
      " 42%|████▏     | 25/59 [46:39<1:02:43, 110.69s/it]"
     ]
    },
    {
     "name": "stdout",
     "output_type": "stream",
     "text": [
      "Detecting and labeling artifacts in file : cfs-visit5-800407\n"
     ]
    },
    {
     "name": "stderr",
     "output_type": "stream",
     "text": [
      "12-Sep-23 10:00:55 | WARNING | Hypnogram is SHORTER than data by 2.00 seconds. Padding hypnogram with last value to match data.size.\n",
      " 44%|████▍     | 26/59 [48:29<1:00:45, 110.46s/it]"
     ]
    },
    {
     "name": "stdout",
     "output_type": "stream",
     "text": [
      "Detecting and labeling artifacts in file : cfs-visit5-800092\n"
     ]
    },
    {
     "name": "stderr",
     "output_type": "stream",
     "text": [
      "12-Sep-23 10:02:50 | WARNING | Hypnogram is SHORTER than data by 2.00 seconds. Padding hypnogram with last value to match data.size.\n",
      " 46%|████▌     | 27/59 [50:26<59:53, 112.31s/it]  "
     ]
    },
    {
     "name": "stdout",
     "output_type": "stream",
     "text": [
      "Detecting and labeling artifacts in file : cfs-visit5-800535\n"
     ]
    },
    {
     "name": "stderr",
     "output_type": "stream",
     "text": [
      "12-Sep-23 10:04:48 | WARNING | Hypnogram is SHORTER than data by 2.00 seconds. Padding hypnogram with last value to match data.size.\n",
      " 47%|████▋     | 28/59 [52:26<59:13, 114.63s/it]"
     ]
    },
    {
     "name": "stdout",
     "output_type": "stream",
     "text": [
      "Detecting and labeling artifacts in file : cfs-visit5-801001\n"
     ]
    },
    {
     "name": "stderr",
     "output_type": "stream",
     "text": [
      "12-Sep-23 10:06:39 | WARNING | At least 30 epochs are required to calculate z-score. Skipping stage 1\n",
      "12-Sep-23 10:06:40 | WARNING | At least 30 epochs are required to calculate z-score. Skipping stage 3\n",
      "12-Sep-23 10:06:40 | WARNING | At least 30 epochs are required to calculate z-score. Skipping stage 4\n",
      "12-Sep-23 10:06:40 | WARNING | Hypnogram is SHORTER than data by 2.00 seconds. Padding hypnogram with last value to match data.size.\n",
      " 49%|████▉     | 29/59 [54:12<56:06, 112.21s/it]"
     ]
    },
    {
     "name": "stdout",
     "output_type": "stream",
     "text": [
      "Detecting and labeling artifacts in file : cfs-visit5-800697\n"
     ]
    },
    {
     "name": "stderr",
     "output_type": "stream",
     "text": [
      " 51%|█████     | 30/59 [56:11<55:13, 114.25s/it]"
     ]
    },
    {
     "name": "stdout",
     "output_type": "stream",
     "text": [
      "Detecting and labeling artifacts in file : cfs-visit5-801393\n"
     ]
    },
    {
     "name": "stderr",
     "output_type": "stream",
     "text": [
      "12-Sep-23 10:10:28 | WARNING | Hypnogram is SHORTER than data by 2.00 seconds. Padding hypnogram with last value to match data.size.\n",
      " 53%|█████▎    | 31/59 [58:01<52:41, 112.92s/it]"
     ]
    },
    {
     "name": "stdout",
     "output_type": "stream",
     "text": [
      "Detecting and labeling artifacts in file : cfs-visit5-801497\n"
     ]
    },
    {
     "name": "stderr",
     "output_type": "stream",
     "text": [
      "12-Sep-23 10:12:18 | WARNING | Hypnogram is SHORTER than data by 2.00 seconds. Padding hypnogram with last value to match data.size.\n",
      " 54%|█████▍    | 32/59 [59:52<50:31, 112.28s/it]"
     ]
    },
    {
     "name": "stdout",
     "output_type": "stream",
     "text": [
      "Detecting and labeling artifacts in file : cfs-visit5-802739\n"
     ]
    },
    {
     "name": "stderr",
     "output_type": "stream",
     "text": [
      "12-Sep-23 10:14:11 | WARNING | Hypnogram is SHORTER than data by 2.00 seconds. Padding hypnogram with last value to match data.size.\n",
      " 56%|█████▌    | 33/59 [1:01:46<48:54, 112.85s/it]"
     ]
    },
    {
     "name": "stdout",
     "output_type": "stream",
     "text": [
      "Detecting and labeling artifacts in file : cfs-visit5-800243\n"
     ]
    },
    {
     "name": "stderr",
     "output_type": "stream",
     "text": [
      " 58%|█████▊    | 34/59 [1:03:47<47:58, 115.14s/it]"
     ]
    },
    {
     "name": "stdout",
     "output_type": "stream",
     "text": [
      "Detecting and labeling artifacts in file : cfs-visit5-802491\n"
     ]
    },
    {
     "name": "stderr",
     "output_type": "stream",
     "text": [
      "12-Sep-23 10:18:11 | WARNING | Hypnogram is SHORTER than data by 2.00 seconds. Padding hypnogram with last value to match data.size.\n",
      " 59%|█████▉    | 35/59 [1:05:49<46:53, 117.25s/it]"
     ]
    },
    {
     "name": "stdout",
     "output_type": "stream",
     "text": [
      "Detecting and labeling artifacts in file : cfs-visit5-802709\n"
     ]
    },
    {
     "name": "stderr",
     "output_type": "stream",
     "text": [
      " 61%|██████    | 36/59 [1:07:54<45:50, 119.58s/it]"
     ]
    },
    {
     "name": "stdout",
     "output_type": "stream",
     "text": [
      "Detecting and labeling artifacts in file : cfs-visit5-801416\n"
     ]
    },
    {
     "name": "stderr",
     "output_type": "stream",
     "text": [
      "12-Sep-23 10:22:12 | WARNING | Hypnogram is SHORTER than data by 2.00 seconds. Padding hypnogram with last value to match data.size.\n",
      " 63%|██████▎   | 37/59 [1:09:45<42:55, 117.09s/it]"
     ]
    },
    {
     "name": "stdout",
     "output_type": "stream",
     "text": [
      "Detecting and labeling artifacts in file : cfs-visit5-801825\n"
     ]
    },
    {
     "name": "stderr",
     "output_type": "stream",
     "text": [
      " 64%|██████▍   | 38/59 [1:11:33<39:59, 114.24s/it]"
     ]
    },
    {
     "name": "stdout",
     "output_type": "stream",
     "text": [
      "Detecting and labeling artifacts in file : cfs-visit5-800625\n"
     ]
    },
    {
     "name": "stderr",
     "output_type": "stream",
     "text": [
      "12-Sep-23 10:25:47 | WARNING | Hypnogram is SHORTER than data by 2.00 seconds. Padding hypnogram with last value to match data.size.\n",
      " 66%|██████▌   | 39/59 [1:13:19<37:14, 111.71s/it]"
     ]
    },
    {
     "name": "stdout",
     "output_type": "stream",
     "text": [
      "Detecting and labeling artifacts in file : cfs-visit5-802487\n"
     ]
    },
    {
     "name": "stderr",
     "output_type": "stream",
     "text": [
      " 68%|██████▊   | 40/59 [1:15:10<35:21, 111.67s/it]"
     ]
    },
    {
     "name": "stdout",
     "output_type": "stream",
     "text": [
      "Detecting and labeling artifacts in file : cfs-visit5-802177\n"
     ]
    },
    {
     "name": "stderr",
     "output_type": "stream",
     "text": [
      " 69%|██████▉   | 41/59 [1:17:02<33:32, 111.78s/it]"
     ]
    },
    {
     "name": "stdout",
     "output_type": "stream",
     "text": [
      "Detecting and labeling artifacts in file : cfs-visit5-801291\n"
     ]
    },
    {
     "name": "stderr",
     "output_type": "stream",
     "text": [
      " 71%|███████   | 42/59 [1:19:06<32:41, 115.36s/it]"
     ]
    },
    {
     "name": "stdout",
     "output_type": "stream",
     "text": [
      "Detecting and labeling artifacts in file : cfs-visit5-802005\n"
     ]
    },
    {
     "name": "stderr",
     "output_type": "stream",
     "text": [
      "12-Sep-23 10:33:30 | WARNING | Hypnogram is SHORTER than data by 2.00 seconds. Padding hypnogram with last value to match data.size.\n",
      " 73%|███████▎  | 43/59 [1:21:08<31:16, 117.31s/it]"
     ]
    },
    {
     "name": "stdout",
     "output_type": "stream",
     "text": [
      "Detecting and labeling artifacts in file : cfs-visit5-801689\n"
     ]
    },
    {
     "name": "stderr",
     "output_type": "stream",
     "text": [
      " 75%|███████▍  | 44/59 [1:22:51<28:14, 112.97s/it]"
     ]
    },
    {
     "name": "stdout",
     "output_type": "stream",
     "text": [
      "Detecting and labeling artifacts in file : cfs-visit5-800331\n"
     ]
    },
    {
     "name": "stderr",
     "output_type": "stream",
     "text": [
      " 76%|███████▋  | 45/59 [1:24:29<25:19, 108.53s/it]"
     ]
    },
    {
     "name": "stdout",
     "output_type": "stream",
     "text": [
      "Detecting and labeling artifacts in file : cfs-visit5-800113\n"
     ]
    },
    {
     "name": "stderr",
     "output_type": "stream",
     "text": [
      " 78%|███████▊  | 46/59 [1:26:32<24:27, 112.91s/it]"
     ]
    },
    {
     "name": "stdout",
     "output_type": "stream",
     "text": [
      "Detecting and labeling artifacts in file : cfs-visit5-802298\n"
     ]
    },
    {
     "name": "stderr",
     "output_type": "stream",
     "text": [
      " 80%|███████▉  | 47/59 [1:28:30<22:51, 114.33s/it]"
     ]
    },
    {
     "name": "stdout",
     "output_type": "stream",
     "text": [
      "Detecting and labeling artifacts in file : cfs-visit5-800010\n"
     ]
    },
    {
     "name": "stderr",
     "output_type": "stream",
     "text": [
      "12-Sep-23 10:42:57 | WARNING | Hypnogram is SHORTER than data by 2.00 seconds. Padding hypnogram with last value to match data.size.\n",
      " 81%|████████▏ | 48/59 [1:30:37<21:39, 118.12s/it]"
     ]
    },
    {
     "name": "stdout",
     "output_type": "stream",
     "text": [
      "Detecting and labeling artifacts in file : cfs-visit5-800349\n"
     ]
    },
    {
     "name": "stderr",
     "output_type": "stream",
     "text": [
      " 83%|████████▎ | 49/59 [1:32:18<18:52, 113.27s/it]"
     ]
    },
    {
     "name": "stdout",
     "output_type": "stream",
     "text": [
      "Detecting and labeling artifacts in file : cfs-visit5-802380\n"
     ]
    },
    {
     "name": "stderr",
     "output_type": "stream",
     "text": [
      "12-Sep-23 10:46:41 | WARNING | Hypnogram is SHORTER than data by 2.00 seconds. Padding hypnogram with last value to match data.size.\n",
      " 85%|████████▍ | 50/59 [1:34:17<17:13, 114.85s/it]"
     ]
    },
    {
     "name": "stdout",
     "output_type": "stream",
     "text": [
      "Detecting and labeling artifacts in file : cfs-visit5-802073\n"
     ]
    },
    {
     "name": "stderr",
     "output_type": "stream",
     "text": [
      "12-Sep-23 10:48:39 | WARNING | Hypnogram is SHORTER than data by 2.00 seconds. Padding hypnogram with last value to match data.size.\n",
      " 86%|████████▋ | 51/59 [1:36:15<15:26, 115.81s/it]"
     ]
    },
    {
     "name": "stdout",
     "output_type": "stream",
     "text": [
      "Detecting and labeling artifacts in file : cfs-visit5-801602\n"
     ]
    },
    {
     "name": "stderr",
     "output_type": "stream",
     "text": [
      "12-Sep-23 10:50:34 | WARNING | Hypnogram is SHORTER than data by 2.00 seconds. Padding hypnogram with last value to match data.size.\n",
      " 88%|████████▊ | 52/59 [1:38:09<13:26, 115.27s/it]"
     ]
    },
    {
     "name": "stdout",
     "output_type": "stream",
     "text": [
      "Detecting and labeling artifacts in file : cfs-visit5-800184\n"
     ]
    },
    {
     "name": "stderr",
     "output_type": "stream",
     "text": [
      "12-Sep-23 10:52:19 | WARNING | Hypnogram is SHORTER than data by 2.00 seconds. Padding hypnogram with last value to match data.size.\n",
      " 90%|████████▉ | 53/59 [1:39:50<11:05, 110.92s/it]"
     ]
    },
    {
     "name": "stdout",
     "output_type": "stream",
     "text": [
      "Detecting and labeling artifacts in file : cfs-visit5-802125\n"
     ]
    },
    {
     "name": "stderr",
     "output_type": "stream",
     "text": [
      " 92%|█████████▏| 54/59 [1:41:49<09:27, 113.43s/it]"
     ]
    },
    {
     "name": "stdout",
     "output_type": "stream",
     "text": [
      "Detecting and labeling artifacts in file : cfs-visit5-800249\n"
     ]
    },
    {
     "name": "stderr",
     "output_type": "stream",
     "text": [
      "12-Sep-23 10:56:06 | WARNING | Hypnogram is SHORTER than data by 2.00 seconds. Padding hypnogram with last value to match data.size.\n",
      " 93%|█████████▎| 55/59 [1:43:41<07:31, 112.84s/it]"
     ]
    },
    {
     "name": "stdout",
     "output_type": "stream",
     "text": [
      "Detecting and labeling artifacts in file : cfs-visit5-800212\n"
     ]
    },
    {
     "name": "stderr",
     "output_type": "stream",
     "text": [
      " 95%|█████████▍| 56/59 [1:45:37<05:41, 113.89s/it]"
     ]
    },
    {
     "name": "stdout",
     "output_type": "stream",
     "text": [
      "Detecting and labeling artifacts in file : cfs-visit5-800667\n"
     ]
    },
    {
     "name": "stderr",
     "output_type": "stream",
     "text": [
      " 97%|█████████▋| 57/59 [1:47:27<03:45, 112.66s/it]"
     ]
    },
    {
     "name": "stdout",
     "output_type": "stream",
     "text": [
      "Detecting and labeling artifacts in file : cfs-visit5-802635\n"
     ]
    },
    {
     "name": "stderr",
     "output_type": "stream",
     "text": [
      " 98%|█████████▊| 58/59 [1:49:18<01:52, 112.29s/it]"
     ]
    },
    {
     "name": "stdout",
     "output_type": "stream",
     "text": [
      "Detecting and labeling artifacts in file : cfs-visit5-802691\n"
     ]
    },
    {
     "name": "stderr",
     "output_type": "stream",
     "text": [
      "100%|██████████| 59/59 [1:51:12<00:00, 113.10s/it]\n"
     ]
    }
   ],
   "source": [
    "# Obtain list of unique recordings\n",
    "processed_files = list(set([\"-\".join(f.split('-')[0:3]) for f in os.listdir(save_path)]))\n",
    "\n",
    "# Iterate over all files and process them\n",
    "for idx, file in enumerate(tqdm(processed_files)):\n",
    "    print(f'Detecting and labeling artifacts in file : {file}')\n",
    "    # Load the data and hypnogram files\n",
    "    raw = mne.io.read_raw(save_path + file + '-raw.fif.gz', preload=True) # type: ignore\n",
    "    epochs = mne.read_epochs(save_path + file + '-epo.fif.gz', preload=True) # type: ignore\n",
    "    hypnogram = np.load(save_path + file + '-hypnogram.npy')\n",
    "    # Get sampling frequency\n",
    "    sf = raw.info['sfreq']\n",
    "    # Get data\n",
    "    data = raw.get_data() * 1e6\n",
    "    # Unravel hypnogram to match data length\n",
    "    hypnogram_unravel = yasa.hypno_upsample_to_data(hypno=hypnogram, sf_hypno=1/30, \n",
    "                                                    data=data, sf_data=sf)\n",
    "    # Label artifacts based on Riemannian Potato clustering algorithm\n",
    "    window = 4\n",
    "    art, zscores = yasa.art_detect(data, sf=sf, window=window, hypno=hypnogram_unravel, \n",
    "                                   include=(1, 2, 3, 4), method='covar', threshold=3)\n",
    "    sf_art = 1 / window\n",
    "    \n",
    "    # Upsample art to match data length\n",
    "    art_up = yasa.hypno_upsample_to_data(art, sf_art, data, sf)\n",
    "\n",
    "    # Add -1 to hypnogram where artifacts were detected\n",
    "    hypno_with_art = hypnogram_unravel.copy()\n",
    "    hypno_with_art[art_up] = -1\n",
    "\n",
    "    # Plot and save the spectrogram with the updated hypnogram\n",
    "    fig = yasa.plot_spectrogram(data[1, :], sf, hypno_with_art)\n",
    "    fig.savefig(fig_path + file + '-hypno-artifacts.png', dpi=300)\n",
    "    plt.close(fig)\n",
    "\n",
    "    # Downsample the hypnogram to match the number of epochs\n",
    "    downsampled_hypnogram = downsample_hypnogram(hypno_with_art, raw, sf=sf, epoch_len_sec=4)\n",
    "\n",
    "    # Create a DataFrame from the downsampled hypnogram\n",
    "    metadata = pd.DataFrame({'SleepStage': downsampled_hypnogram})\n",
    "    \n",
    "    # Add the metadata to the epochs\n",
    "    epochs.metadata = metadata\n",
    "\n",
    "    # Save the updated hypnogram sampled at sf (256 Hz)\n",
    "    np.save(save_path + file + '-hypnogram_with_art.npy', hypno_with_art)\n",
    "\n",
    "    # Save the epochs \n",
    "    epochs.save(save_path + file + '-epo.fif.gz', overwrite=True) # type: ignore\n",
    "\n",
    "    # Delete some objects to free up memory\n",
    "    del raw, epochs, hypnogram, hypnogram_unravel, art, zscores, art_up, hypno_with_art, downsampled_hypnogram, metadata"
   ]
  },
  {
   "cell_type": "code",
   "execution_count": null,
   "metadata": {},
   "outputs": [],
   "source": [
    "## Miscellanous\n",
    "# import pandas as pd\n",
    "# pd.Series(hypno_with_art).value_counts(normalize=True)\n",
    "# yasa.sleep_statistics(hypno_with_art, sf_hyp=sf)"
   ]
  }
 ],
 "metadata": {
  "kernelspec": {
   "display_name": "NDS",
   "language": "python",
   "name": "python3"
  },
  "language_info": {
   "codemirror_mode": {
    "name": "ipython",
    "version": 3
   },
   "file_extension": ".py",
   "mimetype": "text/x-python",
   "name": "python",
   "nbconvert_exporter": "python",
   "pygments_lexer": "ipython3",
   "version": "3.10.10"
  },
  "orig_nbformat": 4
 },
 "nbformat": 4,
 "nbformat_minor": 2
}
