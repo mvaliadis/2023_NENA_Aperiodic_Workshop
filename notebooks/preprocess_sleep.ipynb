{
 "cells": [
  {
   "cell_type": "markdown",
   "metadata": {},
   "source": [
    "# Pre-process Sleep Data\n",
    "\n",
    "This script loads and pre-processes the sleep polysomnography biosignals from the Cleveland Family Study (https://sleepdata.org/datasets/cfs). We then filter the EEG, EMG, EOG, and ECG signals, re-reference the EEG data to the linked mastoids, and then extract our epochs as an MNE object. The epochs of interest are 4 seconds in length and do not overlap. We then optionally downsample everything to 256 Hz and save the epochs as \".fif.gz\" files and the hypnograms as \".npy\" files."
   ]
  },
  {
   "cell_type": "code",
   "execution_count": 1,
   "metadata": {},
   "outputs": [],
   "source": [
    "%matplotlib inline\n",
    "\n",
    "## Import packages \n",
    "import numpy as np\n",
    "import yasa\n",
    "import os\n",
    "import mne\n",
    "from tqdm import tqdm\n",
    "import random\n",
    "import neurokit2 as nk\n",
    "import pandas as pd\n",
    "import xml.etree.ElementTree as ET\n",
    "import matplotlib.pyplot as plt\n",
    "from scipy.stats import mode\n",
    "mne.set_log_level('WARNING')"
   ]
  },
  {
   "cell_type": "code",
   "execution_count": 2,
   "metadata": {},
   "outputs": [],
   "source": [
    "## Additonal useful functions\n",
    "\n",
    "def process_raw_EDF_cfs(file):\n",
    "    \"\"\"\n",
    "    Process a raw EDF file, apply various preprocessing steps, and return the processed raw data, epochs, and hypnogram.\n",
    "\n",
    "    This function:\n",
    "    - Imports the raw EDF file.\n",
    "    - Maps and picks channels of interest.\n",
    "    - Rereferences EEG data.\n",
    "    - Bipolarizes EOG and EMG data.\n",
    "    - Applies various filters.\n",
    "    - Epochs the data into fixed-length 4-second segments.\n",
    "    - Downsamples the data.\n",
    "    - Imports and unravels the hypnogram.\n",
    "\n",
    "    Parameters:\n",
    "    - file (str): Path to the EDF file (without the '.edf' extension).\n",
    "\n",
    "    Returns:\n",
    "    - tuple: A tuple containing:\n",
    "        - raw_train (mne.io.Raw): Processed raw data.\n",
    "        - epochs (mne.Epochs): Epochs created from the raw data.\n",
    "        - hypnogram (numpy array): An array representing the hypnogram.\n",
    "\n",
    "    Raises:\n",
    "    - ValueError: If there's a mismatch between the hypnogram length and the total number of epochs.\n",
    "    \"\"\"\n",
    "\n",
    "    ## Import raw edf file\n",
    "    raw_train = mne.io.read_raw_edf(file + '.edf', eog = ['LOC','ROC'],\n",
    "                                    preload = True, verbose = False)\n",
    "\n",
    "    ## Create dictionary of channels we are interested in  \n",
    "    mapping = {'C3': 'eeg',\n",
    "               'C4': 'eeg',\n",
    "               'M1': 'eeg',\n",
    "               'M2': 'eeg',\n",
    "               'LOC': 'eog',\n",
    "               'ROC': 'eog',\n",
    "               'EMG2': 'emg',\n",
    "               'EMG3': 'emg',\n",
    "               'ECG1': 'ecg'}\n",
    "\n",
    "    ## Select channels in object and give labels for channel type\n",
    "    raw_train.pick_channels(ch_names=list(mapping))\n",
    "    raw_train.set_channel_types(mapping) \n",
    "\n",
    "    ## Rereference eeg data to average of mastoids\n",
    "    raw_train.set_eeg_reference(ref_channels=['M1','M2']) # type: ignore\n",
    "        \n",
    "    ## Bipolarize eog and emg data \n",
    "    try:\n",
    "        raw_train = mne.set_bipolar_reference(raw_train, 'EMG2', 'EMG3')\n",
    "    except:\n",
    "        if not isinstance(raw_train, mne.io.Raw):\n",
    "            ref_inst = mne.io.RawArray(raw_train.get_data(), raw_train.info)\n",
    "            raw_train = mne.set_bipolar_reference(raw_train, 'EMG2', 'EMG3')\n",
    "\n",
    "    ## Filter data\n",
    "    raw_train.filter(picks=['eeg','eog'], l_freq=0.5, h_freq=45)\n",
    "    raw_train.filter(picks='emg', l_freq=10, h_freq=100)\n",
    "    # Clean the ECG data with neurokit2\n",
    "    raw_train.apply_function(fun=nk.ecg_clean, picks='ecg', n_jobs=-1, \n",
    "                            channel_wise=True, **dict(sampling_rate=raw_train.info['sfreq'], method='neurokit', powerline=60))\n",
    "    # Notch filter\n",
    "    raw_train.notch_filter(freqs=[60, 120], method='spectrum_fit') # type: ignore\n",
    "\n",
    "    ## Create fixed-length 4 second epochs\n",
    "    events = mne.make_fixed_length_events(raw_train, duration=4)\n",
    "    epochs = mne.Epochs(raw_train, events, tmin=0, tmax=3.99,\n",
    "                        baseline=None, detrend=None, preload=True, reject=None)\n",
    "\n",
    "    ## Downsample data\n",
    "    epochs.resample(256)\n",
    "    raw_train.resample(256)\n",
    "\n",
    "    ## import and unravel hypnogram\n",
    "    stages, stagelens = read_xml(file + '-nsrr.xml')\n",
    "    hypnogram = unravel_hypnogram(stages, stagelens)\n",
    "  \n",
    "    return raw_train, epochs, hypnogram\n",
    "\n",
    "def read_xml(file):\n",
    "    \"\"\"\n",
    "    Reads an XML annotation file to extract hypnogram information.\n",
    "\n",
    "    Args:\n",
    "    - file (str): Path to the XML file.\n",
    "\n",
    "    Returns:\n",
    "    - tuple: Two numpy arrays containing stages and their corresponding lengths.\n",
    "    \"\"\"\n",
    "    \n",
    "    tree = ET.parse(file)\n",
    "    root = tree.getroot()\n",
    "\n",
    "    # Use list comprehensions to extract the relevant data\n",
    "    stages = [int(child[1].text[-1]) for child in root.iter('ScoredEvent') \n",
    "              if child[0].text and 'Stages' in child[0].text]\n",
    "    stagelens = [int(float(child[3].text) / 30) for child in root.iter('ScoredEvent') \n",
    "                 if child[0].text and 'Stages' in child[0].text]\n",
    "\n",
    "    # Convert lists to numpy arrays\n",
    "    return np.array(stages, dtype=int), np.array(stagelens, dtype=int)\n",
    "\n",
    "def unravel_hypnogram(stages, stagelens):\n",
    "    \"\"\"\n",
    "    Construct a hypnogram based on provided sleep stages and their durations.\n",
    "\n",
    "    The function maps each sleep stage to a respective value and then creates\n",
    "    a continuous array representing the hypnogram.\n",
    "\n",
    "    Parameters:\n",
    "    - stages (list or array-like): A list of sleep stages, where each stage is an integer.\n",
    "    - stagelens (list or array-like): A list of durations (in 30s increments) corresponding to each sleep stage.\n",
    "\n",
    "    Returns:\n",
    "    - numpy array: A continuous array representing the hypnogram.\n",
    "\n",
    "    Raises:\n",
    "    - ValueError: If the length of the constructed hypnogram does not match the total duration specified by stagelens.\n",
    "    \"\"\"\n",
    "\n",
    "    # Map stages to their respective values\n",
    "    stage_map = {\n",
    "        0: 0,\n",
    "        1: 1,\n",
    "        2: 2,\n",
    "        3: 3,\n",
    "        4: 3,  # collapse stage 3 and 4\n",
    "        5: 4\n",
    "    }\n",
    "\n",
    "    # Construct the hypnogram using list comprehension and the mapping\n",
    "    hypnogram = np.concatenate([stage_map[stage] * np.ones(length) for stage, length in zip(stages, stagelens)])\n",
    "    \n",
    "    # Sanity check\n",
    "    if len(hypnogram) != stagelens.sum():\n",
    "        raise ValueError('The length of the scaled hypnogram does not match the amount of total epochs')\n",
    "    \n",
    "    return hypnogram\n",
    "\n",
    "def downsample_hypnogram(hypno, data, sf=None, epoch_len_sec=4):\n",
    "    \"\"\"Downsample hypnogram to fit epoch length of data.\n",
    "\n",
    "    Parameters\n",
    "    ----------\n",
    "    hypno : array_like\n",
    "        The sleep staging (hypnogram) 1D array.\n",
    "    data : np.array_like or mne.io.Raw\n",
    "        1D or 2D EEG data. Can also be a MNE Raw object, in which case data and sf will be\n",
    "        automatically extracted.\n",
    "    sf : float, optional\n",
    "        The sampling frequency of data AND the hypnogram.\n",
    "    epoch_len_sec : int\n",
    "        Length of each epoch in seconds.\n",
    "\n",
    "    Returns\n",
    "    -------\n",
    "    hypno_ds : array_like\n",
    "        Downsampled hypnogram, with one stage per epoch.\n",
    "    \"\"\"\n",
    "    # Check if data is an MNE raw object\n",
    "    if isinstance(data, mne.io.BaseRaw):\n",
    "        sf = data.info[\"sfreq\"]\n",
    "        data = data.times  # 1D array and does not require to preload data\n",
    "    data = np.asarray(data)\n",
    "    hypno = np.asarray(hypno)\n",
    "    assert hypno.ndim == 1, \"Hypno must be 1D.\"\n",
    "\n",
    "    # Calculate the number of data points per epoch\n",
    "    npts_per_epoch = int(epoch_len_sec * sf) # type: ignore\n",
    "\n",
    "    # Number of epochs in the data\n",
    "    n_epochs = data.shape[-1] // npts_per_epoch\n",
    "\n",
    "    # Downsample hypnogram by taking the mode within each epoch\n",
    "    hypno_ds = []\n",
    "    for i in range(n_epochs):\n",
    "        epoch_mode = mode(hypno[i*npts_per_epoch:(i+1)*npts_per_epoch], keepdims=False)[0]\n",
    "        if np.isscalar(epoch_mode):\n",
    "            hypno_ds.append(epoch_mode)\n",
    "        else:\n",
    "            hypno_ds.append(epoch_mode[0])\n",
    "\n",
    "    return np.array(hypno_ds)\n"
   ]
  },
  {
   "cell_type": "markdown",
   "metadata": {},
   "source": [
    "## 1. Load data"
   ]
  },
  {
   "cell_type": "code",
   "execution_count": 3,
   "metadata": {},
   "outputs": [],
   "source": [
    "path = '/media/administrator/data/cfs/polysomnography/'\n",
    "save_path = '/mnt/server/data03/2023_NENA_Aperiodic_Workshop/data/processed/'\n",
    "fig_path = '/mnt/server/data03/2023_NENA_Aperiodic_Workshop/figures/subject/'\n",
    "# Iterate over all files if the names end in .edf\n",
    "files = [os.path.splitext(f)[0] for f in os.listdir(path) if f.endswith('.edf')]\n",
    "# Randomly select 50 files \n",
    "files = random.sample(files, 50)"
   ]
  },
  {
   "cell_type": "markdown",
   "metadata": {},
   "source": [
    "## 2. Process and save data"
   ]
  },
  {
   "cell_type": "code",
   "execution_count": 4,
   "metadata": {},
   "outputs": [
    {
     "name": "stderr",
     "output_type": "stream",
     "text": [
      "  0%|          | 0/50 [00:00<?, ?it/s]"
     ]
    },
    {
     "name": "stdout",
     "output_type": "stream",
     "text": [
      "Preprocessing file : cfs-visit5-801662\n"
     ]
    },
    {
     "name": "stderr",
     "output_type": "stream",
     "text": [
      "/tmp/ipykernel_34950/180965475.py:46: FutureWarning: The default for pick_channels will change from ordered=False to ordered=True in 1.5 and this will result in a change of behavior because the resulting channel order will not match. Either use a channel order that matches your instance or pass ordered=False.\n",
      "  raw_train.pick_channels(ch_names=list(mapping))\n",
      "  2%|▏         | 1/50 [01:21<1:06:28, 81.39s/it]"
     ]
    },
    {
     "name": "stdout",
     "output_type": "stream",
     "text": [
      "Preprocessing file : cfs-visit5-802709\n"
     ]
    },
    {
     "name": "stderr",
     "output_type": "stream",
     "text": [
      "/tmp/ipykernel_34950/180965475.py:46: FutureWarning: The default for pick_channels will change from ordered=False to ordered=True in 1.5 and this will result in a change of behavior because the resulting channel order will not match. Either use a channel order that matches your instance or pass ordered=False.\n",
      "  raw_train.pick_channels(ch_names=list(mapping))\n",
      "  4%|▍         | 2/50 [02:54<1:10:50, 88.54s/it]"
     ]
    },
    {
     "name": "stdout",
     "output_type": "stream",
     "text": [
      "Preprocessing file : cfs-visit5-800705\n"
     ]
    },
    {
     "name": "stderr",
     "output_type": "stream",
     "text": [
      "/tmp/ipykernel_34950/180965475.py:46: FutureWarning: The default for pick_channels will change from ordered=False to ordered=True in 1.5 and this will result in a change of behavior because the resulting channel order will not match. Either use a channel order that matches your instance or pass ordered=False.\n",
      "  raw_train.pick_channels(ch_names=list(mapping))\n",
      "  6%|▌         | 3/50 [05:38<1:36:01, 122.59s/it]"
     ]
    },
    {
     "name": "stdout",
     "output_type": "stream",
     "text": [
      "Preprocessing file : cfs-visit5-802691\n"
     ]
    },
    {
     "name": "stderr",
     "output_type": "stream",
     "text": [
      "/tmp/ipykernel_34950/180965475.py:46: FutureWarning: The default for pick_channels will change from ordered=False to ordered=True in 1.5 and this will result in a change of behavior because the resulting channel order will not match. Either use a channel order that matches your instance or pass ordered=False.\n",
      "  raw_train.pick_channels(ch_names=list(mapping))\n",
      "  8%|▊         | 4/50 [07:49<1:36:34, 125.96s/it]"
     ]
    },
    {
     "name": "stdout",
     "output_type": "stream",
     "text": [
      "Preprocessing file : cfs-visit5-802177\n"
     ]
    },
    {
     "name": "stderr",
     "output_type": "stream",
     "text": [
      "/tmp/ipykernel_34950/180965475.py:46: FutureWarning: The default for pick_channels will change from ordered=False to ordered=True in 1.5 and this will result in a change of behavior because the resulting channel order will not match. Either use a channel order that matches your instance or pass ordered=False.\n",
      "  raw_train.pick_channels(ch_names=list(mapping))\n",
      " 10%|█         | 5/50 [09:20<1:24:59, 113.32s/it]"
     ]
    },
    {
     "name": "stdout",
     "output_type": "stream",
     "text": [
      "Preprocessing file : cfs-visit5-802380\n"
     ]
    },
    {
     "name": "stderr",
     "output_type": "stream",
     "text": [
      "/tmp/ipykernel_34950/180965475.py:46: FutureWarning: The default for pick_channels will change from ordered=False to ordered=True in 1.5 and this will result in a change of behavior because the resulting channel order will not match. Either use a channel order that matches your instance or pass ordered=False.\n",
      "  raw_train.pick_channels(ch_names=list(mapping))\n",
      " 12%|█▏        | 6/50 [11:35<1:28:42, 120.97s/it]"
     ]
    },
    {
     "name": "stdout",
     "output_type": "stream",
     "text": [
      "Preprocessing file : cfs-visit5-800212\n"
     ]
    },
    {
     "name": "stderr",
     "output_type": "stream",
     "text": [
      "/tmp/ipykernel_34950/180965475.py:46: FutureWarning: The default for pick_channels will change from ordered=False to ordered=True in 1.5 and this will result in a change of behavior because the resulting channel order will not match. Either use a channel order that matches your instance or pass ordered=False.\n",
      "  raw_train.pick_channels(ch_names=list(mapping))\n",
      " 14%|█▍        | 7/50 [13:00<1:18:10, 109.08s/it]"
     ]
    },
    {
     "name": "stdout",
     "output_type": "stream",
     "text": [
      "Preprocessing file : cfs-visit5-800331\n"
     ]
    },
    {
     "name": "stderr",
     "output_type": "stream",
     "text": [
      "/tmp/ipykernel_34950/180965475.py:46: FutureWarning: The default for pick_channels will change from ordered=False to ordered=True in 1.5 and this will result in a change of behavior because the resulting channel order will not match. Either use a channel order that matches your instance or pass ordered=False.\n",
      "  raw_train.pick_channels(ch_names=list(mapping))\n",
      " 16%|█▌        | 8/50 [14:51<1:16:46, 109.69s/it]"
     ]
    },
    {
     "name": "stdout",
     "output_type": "stream",
     "text": [
      "Preprocessing file : cfs-visit5-801638\n"
     ]
    },
    {
     "name": "stderr",
     "output_type": "stream",
     "text": [
      "/tmp/ipykernel_34950/180965475.py:46: FutureWarning: The default for pick_channels will change from ordered=False to ordered=True in 1.5 and this will result in a change of behavior because the resulting channel order will not match. Either use a channel order that matches your instance or pass ordered=False.\n",
      "  raw_train.pick_channels(ch_names=list(mapping))\n",
      " 18%|█▊        | 9/50 [17:11<1:21:21, 119.06s/it]"
     ]
    },
    {
     "name": "stdout",
     "output_type": "stream",
     "text": [
      "Preprocessing file : cfs-visit5-801497\n"
     ]
    },
    {
     "name": "stderr",
     "output_type": "stream",
     "text": [
      "/tmp/ipykernel_34950/180965475.py:46: FutureWarning: The default for pick_channels will change from ordered=False to ordered=True in 1.5 and this will result in a change of behavior because the resulting channel order will not match. Either use a channel order that matches your instance or pass ordered=False.\n",
      "  raw_train.pick_channels(ch_names=list(mapping))\n",
      " 20%|██        | 10/50 [18:32<1:11:39, 107.48s/it]"
     ]
    },
    {
     "name": "stdout",
     "output_type": "stream",
     "text": [
      "Preprocessing file : cfs-visit5-801602\n"
     ]
    },
    {
     "name": "stderr",
     "output_type": "stream",
     "text": [
      "/tmp/ipykernel_34950/180965475.py:46: FutureWarning: The default for pick_channels will change from ordered=False to ordered=True in 1.5 and this will result in a change of behavior because the resulting channel order will not match. Either use a channel order that matches your instance or pass ordered=False.\n",
      "  raw_train.pick_channels(ch_names=list(mapping))\n",
      " 22%|██▏       | 11/50 [20:39<1:13:42, 113.39s/it]"
     ]
    },
    {
     "name": "stdout",
     "output_type": "stream",
     "text": [
      "Preprocessing file : cfs-visit5-802125\n"
     ]
    },
    {
     "name": "stderr",
     "output_type": "stream",
     "text": [
      "/tmp/ipykernel_34950/180965475.py:46: FutureWarning: The default for pick_channels will change from ordered=False to ordered=True in 1.5 and this will result in a change of behavior because the resulting channel order will not match. Either use a channel order that matches your instance or pass ordered=False.\n",
      "  raw_train.pick_channels(ch_names=list(mapping))\n",
      " 24%|██▍       | 12/50 [22:06<1:06:38, 105.23s/it]"
     ]
    },
    {
     "name": "stdout",
     "output_type": "stream",
     "text": [
      "Preprocessing file : cfs-visit5-801152\n"
     ]
    },
    {
     "name": "stderr",
     "output_type": "stream",
     "text": [
      "/tmp/ipykernel_34950/180965475.py:46: FutureWarning: The default for pick_channels will change from ordered=False to ordered=True in 1.5 and this will result in a change of behavior because the resulting channel order will not match. Either use a channel order that matches your instance or pass ordered=False.\n",
      "  raw_train.pick_channels(ch_names=list(mapping))\n",
      " 26%|██▌       | 13/50 [24:41<1:14:16, 120.44s/it]"
     ]
    },
    {
     "name": "stdout",
     "output_type": "stream",
     "text": [
      "Preprocessing file : cfs-visit5-800092\n"
     ]
    },
    {
     "name": "stderr",
     "output_type": "stream",
     "text": [
      "/tmp/ipykernel_34950/180965475.py:46: FutureWarning: The default for pick_channels will change from ordered=False to ordered=True in 1.5 and this will result in a change of behavior because the resulting channel order will not match. Either use a channel order that matches your instance or pass ordered=False.\n",
      "  raw_train.pick_channels(ch_names=list(mapping))\n",
      " 28%|██▊       | 14/50 [27:57<1:26:01, 143.37s/it]"
     ]
    },
    {
     "name": "stdout",
     "output_type": "stream",
     "text": [
      "Preprocessing file : cfs-visit5-801225\n"
     ]
    },
    {
     "name": "stderr",
     "output_type": "stream",
     "text": [
      "/tmp/ipykernel_34950/180965475.py:46: FutureWarning: The default for pick_channels will change from ordered=False to ordered=True in 1.5 and this will result in a change of behavior because the resulting channel order will not match. Either use a channel order that matches your instance or pass ordered=False.\n",
      "  raw_train.pick_channels(ch_names=list(mapping))\n",
      " 30%|███       | 15/50 [29:35<1:15:35, 129.60s/it]"
     ]
    },
    {
     "name": "stdout",
     "output_type": "stream",
     "text": [
      "Preprocessing file : cfs-visit5-801393\n"
     ]
    },
    {
     "name": "stderr",
     "output_type": "stream",
     "text": [
      "/tmp/ipykernel_34950/180965475.py:46: FutureWarning: The default for pick_channels will change from ordered=False to ordered=True in 1.5 and this will result in a change of behavior because the resulting channel order will not match. Either use a channel order that matches your instance or pass ordered=False.\n",
      "  raw_train.pick_channels(ch_names=list(mapping))\n",
      " 32%|███▏      | 16/50 [31:37<1:12:10, 127.36s/it]"
     ]
    },
    {
     "name": "stdout",
     "output_type": "stream",
     "text": [
      "Preprocessing file : cfs-visit5-802298\n"
     ]
    },
    {
     "name": "stderr",
     "output_type": "stream",
     "text": [
      "/tmp/ipykernel_34950/180965475.py:46: FutureWarning: The default for pick_channels will change from ordered=False to ordered=True in 1.5 and this will result in a change of behavior because the resulting channel order will not match. Either use a channel order that matches your instance or pass ordered=False.\n",
      "  raw_train.pick_channels(ch_names=list(mapping))\n",
      " 34%|███▍      | 17/50 [33:26<1:06:56, 121.70s/it]"
     ]
    },
    {
     "name": "stdout",
     "output_type": "stream",
     "text": [
      "Preprocessing file : cfs-visit5-801907\n"
     ]
    },
    {
     "name": "stderr",
     "output_type": "stream",
     "text": [
      "/tmp/ipykernel_34950/180965475.py:46: FutureWarning: The default for pick_channels will change from ordered=False to ordered=True in 1.5 and this will result in a change of behavior because the resulting channel order will not match. Either use a channel order that matches your instance or pass ordered=False.\n",
      "  raw_train.pick_channels(ch_names=list(mapping))\n",
      " 36%|███▌      | 18/50 [35:12<1:02:28, 117.13s/it]"
     ]
    },
    {
     "name": "stdout",
     "output_type": "stream",
     "text": [
      "Preprocessing file : cfs-visit5-802739\n"
     ]
    },
    {
     "name": "stderr",
     "output_type": "stream",
     "text": [
      "/tmp/ipykernel_34950/180965475.py:46: FutureWarning: The default for pick_channels will change from ordered=False to ordered=True in 1.5 and this will result in a change of behavior because the resulting channel order will not match. Either use a channel order that matches your instance or pass ordered=False.\n",
      "  raw_train.pick_channels(ch_names=list(mapping))\n",
      " 38%|███▊      | 19/50 [36:46<56:54, 110.14s/it]  "
     ]
    },
    {
     "name": "stdout",
     "output_type": "stream",
     "text": [
      "Preprocessing file : cfs-visit5-800494\n"
     ]
    },
    {
     "name": "stderr",
     "output_type": "stream",
     "text": [
      "/tmp/ipykernel_34950/180965475.py:46: FutureWarning: The default for pick_channels will change from ordered=False to ordered=True in 1.5 and this will result in a change of behavior because the resulting channel order will not match. Either use a channel order that matches your instance or pass ordered=False.\n",
      "  raw_train.pick_channels(ch_names=list(mapping))\n",
      " 40%|████      | 20/50 [39:12<1:00:29, 121.00s/it]"
     ]
    },
    {
     "name": "stdout",
     "output_type": "stream",
     "text": [
      "Preprocessing file : cfs-visit5-801019\n"
     ]
    },
    {
     "name": "stderr",
     "output_type": "stream",
     "text": [
      "/tmp/ipykernel_34950/180965475.py:46: FutureWarning: The default for pick_channels will change from ordered=False to ordered=True in 1.5 and this will result in a change of behavior because the resulting channel order will not match. Either use a channel order that matches your instance or pass ordered=False.\n",
      "  raw_train.pick_channels(ch_names=list(mapping))\n",
      " 42%|████▏     | 21/50 [41:19<59:16, 122.65s/it]  "
     ]
    },
    {
     "name": "stdout",
     "output_type": "stream",
     "text": [
      "Preprocessing file : cfs-visit5-800184\n"
     ]
    },
    {
     "name": "stderr",
     "output_type": "stream",
     "text": [
      "/tmp/ipykernel_34950/180965475.py:46: FutureWarning: The default for pick_channels will change from ordered=False to ordered=True in 1.5 and this will result in a change of behavior because the resulting channel order will not match. Either use a channel order that matches your instance or pass ordered=False.\n",
      "  raw_train.pick_channels(ch_names=list(mapping))\n",
      " 44%|████▍     | 22/50 [44:03<1:03:01, 135.06s/it]"
     ]
    },
    {
     "name": "stdout",
     "output_type": "stream",
     "text": [
      "Preprocessing file : cfs-visit5-801291\n"
     ]
    },
    {
     "name": "stderr",
     "output_type": "stream",
     "text": [
      "/tmp/ipykernel_34950/180965475.py:46: FutureWarning: The default for pick_channels will change from ordered=False to ordered=True in 1.5 and this will result in a change of behavior because the resulting channel order will not match. Either use a channel order that matches your instance or pass ordered=False.\n",
      "  raw_train.pick_channels(ch_names=list(mapping))\n",
      " 46%|████▌     | 23/50 [48:29<1:18:25, 174.28s/it]"
     ]
    },
    {
     "name": "stdout",
     "output_type": "stream",
     "text": [
      "Preprocessing file : cfs-visit5-802132\n"
     ]
    },
    {
     "name": "stderr",
     "output_type": "stream",
     "text": [
      "/tmp/ipykernel_34950/180965475.py:46: FutureWarning: The default for pick_channels will change from ordered=False to ordered=True in 1.5 and this will result in a change of behavior because the resulting channel order will not match. Either use a channel order that matches your instance or pass ordered=False.\n",
      "  raw_train.pick_channels(ch_names=list(mapping))\n",
      " 48%|████▊     | 24/50 [50:24<1:07:51, 156.61s/it]"
     ]
    },
    {
     "name": "stdout",
     "output_type": "stream",
     "text": [
      "Preprocessing file : cfs-visit5-800625\n"
     ]
    },
    {
     "name": "stderr",
     "output_type": "stream",
     "text": [
      "/tmp/ipykernel_34950/180965475.py:46: FutureWarning: The default for pick_channels will change from ordered=False to ordered=True in 1.5 and this will result in a change of behavior because the resulting channel order will not match. Either use a channel order that matches your instance or pass ordered=False.\n",
      "  raw_train.pick_channels(ch_names=list(mapping))\n",
      " 50%|█████     | 25/50 [52:18<59:54, 143.77s/it]  "
     ]
    },
    {
     "name": "stdout",
     "output_type": "stream",
     "text": [
      "Preprocessing file : cfs-visit5-800551\n"
     ]
    },
    {
     "name": "stderr",
     "output_type": "stream",
     "text": [
      "/tmp/ipykernel_34950/180965475.py:46: FutureWarning: The default for pick_channels will change from ordered=False to ordered=True in 1.5 and this will result in a change of behavior because the resulting channel order will not match. Either use a channel order that matches your instance or pass ordered=False.\n",
      "  raw_train.pick_channels(ch_names=list(mapping))\n",
      " 52%|█████▏    | 26/50 [53:49<51:10, 127.92s/it]"
     ]
    },
    {
     "name": "stdout",
     "output_type": "stream",
     "text": [
      "Preprocessing file : cfs-visit5-801747\n"
     ]
    },
    {
     "name": "stderr",
     "output_type": "stream",
     "text": [
      "/tmp/ipykernel_34950/180965475.py:46: FutureWarning: The default for pick_channels will change from ordered=False to ordered=True in 1.5 and this will result in a change of behavior because the resulting channel order will not match. Either use a channel order that matches your instance or pass ordered=False.\n",
      "  raw_train.pick_channels(ch_names=list(mapping))\n",
      " 54%|█████▍    | 27/50 [55:25<45:23, 118.40s/it]"
     ]
    },
    {
     "name": "stdout",
     "output_type": "stream",
     "text": [
      "Preprocessing file : cfs-visit5-801044\n"
     ]
    },
    {
     "name": "stderr",
     "output_type": "stream",
     "text": [
      "/tmp/ipykernel_34950/180965475.py:46: FutureWarning: The default for pick_channels will change from ordered=False to ordered=True in 1.5 and this will result in a change of behavior because the resulting channel order will not match. Either use a channel order that matches your instance or pass ordered=False.\n",
      "  raw_train.pick_channels(ch_names=list(mapping))\n",
      " 56%|█████▌    | 28/50 [57:27<43:46, 119.39s/it]"
     ]
    },
    {
     "name": "stdout",
     "output_type": "stream",
     "text": [
      "Preprocessing file : cfs-visit5-800630\n"
     ]
    },
    {
     "name": "stderr",
     "output_type": "stream",
     "text": [
      "/tmp/ipykernel_34950/180965475.py:46: FutureWarning: The default for pick_channels will change from ordered=False to ordered=True in 1.5 and this will result in a change of behavior because the resulting channel order will not match. Either use a channel order that matches your instance or pass ordered=False.\n",
      "  raw_train.pick_channels(ch_names=list(mapping))\n",
      " 58%|█████▊    | 29/50 [59:42<43:28, 124.21s/it]"
     ]
    },
    {
     "name": "stdout",
     "output_type": "stream",
     "text": [
      "Preprocessing file : cfs-visit5-802635\n"
     ]
    },
    {
     "name": "stderr",
     "output_type": "stream",
     "text": [
      "/tmp/ipykernel_34950/180965475.py:46: FutureWarning: The default for pick_channels will change from ordered=False to ordered=True in 1.5 and this will result in a change of behavior because the resulting channel order will not match. Either use a channel order that matches your instance or pass ordered=False.\n",
      "  raw_train.pick_channels(ch_names=list(mapping))\n",
      " 60%|██████    | 30/50 [1:01:45<41:16, 123.82s/it]"
     ]
    },
    {
     "name": "stdout",
     "output_type": "stream",
     "text": [
      "Preprocessing file : cfs-visit5-801825\n"
     ]
    },
    {
     "name": "stderr",
     "output_type": "stream",
     "text": [
      "/tmp/ipykernel_34950/180965475.py:46: FutureWarning: The default for pick_channels will change from ordered=False to ordered=True in 1.5 and this will result in a change of behavior because the resulting channel order will not match. Either use a channel order that matches your instance or pass ordered=False.\n",
      "  raw_train.pick_channels(ch_names=list(mapping))\n",
      " 62%|██████▏   | 31/50 [1:03:46<38:53, 122.82s/it]"
     ]
    },
    {
     "name": "stdout",
     "output_type": "stream",
     "text": [
      "Preprocessing file : cfs-visit5-800347\n"
     ]
    },
    {
     "name": "stderr",
     "output_type": "stream",
     "text": [
      "/tmp/ipykernel_34950/180965475.py:46: FutureWarning: The default for pick_channels will change from ordered=False to ordered=True in 1.5 and this will result in a change of behavior because the resulting channel order will not match. Either use a channel order that matches your instance or pass ordered=False.\n",
      "  raw_train.pick_channels(ch_names=list(mapping))\n",
      " 64%|██████▍   | 32/50 [1:05:03<32:48, 109.34s/it]"
     ]
    },
    {
     "name": "stdout",
     "output_type": "stream",
     "text": [
      "Preprocessing file : cfs-visit5-800249\n"
     ]
    },
    {
     "name": "stderr",
     "output_type": "stream",
     "text": [
      "/tmp/ipykernel_34950/180965475.py:46: FutureWarning: The default for pick_channels will change from ordered=False to ordered=True in 1.5 and this will result in a change of behavior because the resulting channel order will not match. Either use a channel order that matches your instance or pass ordered=False.\n",
      "  raw_train.pick_channels(ch_names=list(mapping))\n",
      " 66%|██████▌   | 33/50 [1:06:28<28:52, 101.93s/it]"
     ]
    },
    {
     "name": "stdout",
     "output_type": "stream",
     "text": [
      "Preprocessing file : cfs-visit5-800151\n"
     ]
    },
    {
     "name": "stderr",
     "output_type": "stream",
     "text": [
      "/tmp/ipykernel_34950/180965475.py:46: FutureWarning: The default for pick_channels will change from ordered=False to ordered=True in 1.5 and this will result in a change of behavior because the resulting channel order will not match. Either use a channel order that matches your instance or pass ordered=False.\n",
      "  raw_train.pick_channels(ch_names=list(mapping))\n",
      " 68%|██████▊   | 34/50 [1:07:46<25:16, 94.77s/it] "
     ]
    },
    {
     "name": "stdout",
     "output_type": "stream",
     "text": [
      "Preprocessing file : cfs-visit5-800010\n"
     ]
    },
    {
     "name": "stderr",
     "output_type": "stream",
     "text": [
      "/tmp/ipykernel_34950/180965475.py:46: FutureWarning: The default for pick_channels will change from ordered=False to ordered=True in 1.5 and this will result in a change of behavior because the resulting channel order will not match. Either use a channel order that matches your instance or pass ordered=False.\n",
      "  raw_train.pick_channels(ch_names=list(mapping))\n",
      " 70%|███████   | 35/50 [1:09:25<23:59, 95.98s/it]"
     ]
    },
    {
     "name": "stdout",
     "output_type": "stream",
     "text": [
      "Preprocessing file : cfs-visit5-802491\n"
     ]
    },
    {
     "name": "stderr",
     "output_type": "stream",
     "text": [
      "/tmp/ipykernel_34950/180965475.py:46: FutureWarning: The default for pick_channels will change from ordered=False to ordered=True in 1.5 and this will result in a change of behavior because the resulting channel order will not match. Either use a channel order that matches your instance or pass ordered=False.\n",
      "  raw_train.pick_channels(ch_names=list(mapping))\n",
      " 72%|███████▏  | 36/50 [1:12:36<29:03, 124.55s/it]"
     ]
    },
    {
     "name": "stdout",
     "output_type": "stream",
     "text": [
      "Preprocessing file : cfs-visit5-801058\n"
     ]
    },
    {
     "name": "stderr",
     "output_type": "stream",
     "text": [
      "/tmp/ipykernel_34950/180965475.py:46: FutureWarning: The default for pick_channels will change from ordered=False to ordered=True in 1.5 and this will result in a change of behavior because the resulting channel order will not match. Either use a channel order that matches your instance or pass ordered=False.\n",
      "  raw_train.pick_channels(ch_names=list(mapping))\n",
      " 74%|███████▍  | 37/50 [1:14:05<24:38, 113.74s/it]"
     ]
    },
    {
     "name": "stdout",
     "output_type": "stream",
     "text": [
      "Preprocessing file : cfs-visit5-801001\n"
     ]
    },
    {
     "name": "stderr",
     "output_type": "stream",
     "text": [
      "/tmp/ipykernel_34950/180965475.py:46: FutureWarning: The default for pick_channels will change from ordered=False to ordered=True in 1.5 and this will result in a change of behavior because the resulting channel order will not match. Either use a channel order that matches your instance or pass ordered=False.\n",
      "  raw_train.pick_channels(ch_names=list(mapping))\n",
      " 76%|███████▌  | 38/50 [1:15:36<21:22, 106.90s/it]"
     ]
    },
    {
     "name": "stdout",
     "output_type": "stream",
     "text": [
      "Preprocessing file : cfs-visit5-800535\n"
     ]
    },
    {
     "name": "stderr",
     "output_type": "stream",
     "text": [
      "/tmp/ipykernel_34950/180965475.py:46: FutureWarning: The default for pick_channels will change from ordered=False to ordered=True in 1.5 and this will result in a change of behavior because the resulting channel order will not match. Either use a channel order that matches your instance or pass ordered=False.\n",
      "  raw_train.pick_channels(ch_names=list(mapping))\n",
      " 78%|███████▊  | 39/50 [1:21:17<32:31, 177.38s/it]"
     ]
    },
    {
     "name": "stdout",
     "output_type": "stream",
     "text": [
      "Preprocessing file : cfs-visit5-800243\n"
     ]
    },
    {
     "name": "stderr",
     "output_type": "stream",
     "text": [
      "/tmp/ipykernel_34950/180965475.py:46: FutureWarning: The default for pick_channels will change from ordered=False to ordered=True in 1.5 and this will result in a change of behavior because the resulting channel order will not match. Either use a channel order that matches your instance or pass ordered=False.\n",
      "  raw_train.pick_channels(ch_names=list(mapping))\n",
      " 80%|████████  | 40/50 [1:23:20<26:48, 160.88s/it]"
     ]
    },
    {
     "name": "stdout",
     "output_type": "stream",
     "text": [
      "Preprocessing file : cfs-visit5-800667\n"
     ]
    },
    {
     "name": "stderr",
     "output_type": "stream",
     "text": [
      "/tmp/ipykernel_34950/180965475.py:46: FutureWarning: The default for pick_channels will change from ordered=False to ordered=True in 1.5 and this will result in a change of behavior because the resulting channel order will not match. Either use a channel order that matches your instance or pass ordered=False.\n",
      "  raw_train.pick_channels(ch_names=list(mapping))\n",
      " 82%|████████▏ | 41/50 [1:25:14<22:01, 146.82s/it]"
     ]
    },
    {
     "name": "stdout",
     "output_type": "stream",
     "text": [
      "Preprocessing file : cfs-visit5-800861\n"
     ]
    },
    {
     "name": "stderr",
     "output_type": "stream",
     "text": [
      "/tmp/ipykernel_34950/180965475.py:46: FutureWarning: The default for pick_channels will change from ordered=False to ordered=True in 1.5 and this will result in a change of behavior because the resulting channel order will not match. Either use a channel order that matches your instance or pass ordered=False.\n",
      "  raw_train.pick_channels(ch_names=list(mapping))\n",
      " 84%|████████▍ | 42/50 [1:26:26<16:35, 124.41s/it]"
     ]
    },
    {
     "name": "stdout",
     "output_type": "stream",
     "text": [
      "Preprocessing file : cfs-visit5-802487\n"
     ]
    },
    {
     "name": "stderr",
     "output_type": "stream",
     "text": [
      "/tmp/ipykernel_34950/180965475.py:46: FutureWarning: The default for pick_channels will change from ordered=False to ordered=True in 1.5 and this will result in a change of behavior because the resulting channel order will not match. Either use a channel order that matches your instance or pass ordered=False.\n",
      "  raw_train.pick_channels(ch_names=list(mapping))\n",
      " 86%|████████▌ | 43/50 [1:28:52<15:16, 130.88s/it]"
     ]
    },
    {
     "name": "stdout",
     "output_type": "stream",
     "text": [
      "Preprocessing file : cfs-visit5-801380\n"
     ]
    },
    {
     "name": "stderr",
     "output_type": "stream",
     "text": [
      "/tmp/ipykernel_34950/180965475.py:46: FutureWarning: The default for pick_channels will change from ordered=False to ordered=True in 1.5 and this will result in a change of behavior because the resulting channel order will not match. Either use a channel order that matches your instance or pass ordered=False.\n",
      "  raw_train.pick_channels(ch_names=list(mapping))\n",
      " 88%|████████▊ | 44/50 [1:30:14<11:37, 116.17s/it]"
     ]
    },
    {
     "name": "stdout",
     "output_type": "stream",
     "text": [
      "Preprocessing file : cfs-visit5-800407\n"
     ]
    },
    {
     "name": "stderr",
     "output_type": "stream",
     "text": [
      "/tmp/ipykernel_34950/180965475.py:46: FutureWarning: The default for pick_channels will change from ordered=False to ordered=True in 1.5 and this will result in a change of behavior because the resulting channel order will not match. Either use a channel order that matches your instance or pass ordered=False.\n",
      "  raw_train.pick_channels(ch_names=list(mapping))\n",
      " 90%|█████████ | 45/50 [1:32:17<09:51, 118.36s/it]"
     ]
    },
    {
     "name": "stdout",
     "output_type": "stream",
     "text": [
      "Preprocessing file : cfs-visit5-802643\n"
     ]
    },
    {
     "name": "stderr",
     "output_type": "stream",
     "text": [
      "/tmp/ipykernel_34950/180965475.py:46: FutureWarning: The default for pick_channels will change from ordered=False to ordered=True in 1.5 and this will result in a change of behavior because the resulting channel order will not match. Either use a channel order that matches your instance or pass ordered=False.\n",
      "  raw_train.pick_channels(ch_names=list(mapping))\n",
      " 92%|█████████▏| 46/50 [1:34:16<07:54, 118.51s/it]"
     ]
    },
    {
     "name": "stdout",
     "output_type": "stream",
     "text": [
      "Preprocessing file : cfs-visit5-801540\n"
     ]
    },
    {
     "name": "stderr",
     "output_type": "stream",
     "text": [
      "/tmp/ipykernel_34950/180965475.py:46: FutureWarning: The default for pick_channels will change from ordered=False to ordered=True in 1.5 and this will result in a change of behavior because the resulting channel order will not match. Either use a channel order that matches your instance or pass ordered=False.\n",
      "  raw_train.pick_channels(ch_names=list(mapping))\n",
      " 94%|█████████▍| 47/50 [1:36:44<06:21, 127.30s/it]"
     ]
    },
    {
     "name": "stdout",
     "output_type": "stream",
     "text": [
      "Preprocessing file : cfs-visit5-801323\n"
     ]
    },
    {
     "name": "stderr",
     "output_type": "stream",
     "text": [
      "/tmp/ipykernel_34950/180965475.py:46: FutureWarning: The default for pick_channels will change from ordered=False to ordered=True in 1.5 and this will result in a change of behavior because the resulting channel order will not match. Either use a channel order that matches your instance or pass ordered=False.\n",
      "  raw_train.pick_channels(ch_names=list(mapping))\n",
      " 96%|█████████▌| 48/50 [1:38:02<03:44, 112.40s/it]"
     ]
    },
    {
     "name": "stdout",
     "output_type": "stream",
     "text": [
      "Preprocessing file : cfs-visit5-801196\n"
     ]
    },
    {
     "name": "stderr",
     "output_type": "stream",
     "text": [
      "/tmp/ipykernel_34950/180965475.py:46: FutureWarning: The default for pick_channels will change from ordered=False to ordered=True in 1.5 and this will result in a change of behavior because the resulting channel order will not match. Either use a channel order that matches your instance or pass ordered=False.\n",
      "  raw_train.pick_channels(ch_names=list(mapping))\n",
      " 98%|█████████▊| 49/50 [1:40:06<01:55, 115.97s/it]"
     ]
    },
    {
     "name": "stdout",
     "output_type": "stream",
     "text": [
      "Preprocessing file : cfs-visit5-802073\n"
     ]
    },
    {
     "name": "stderr",
     "output_type": "stream",
     "text": [
      "/tmp/ipykernel_34950/180965475.py:46: FutureWarning: The default for pick_channels will change from ordered=False to ordered=True in 1.5 and this will result in a change of behavior because the resulting channel order will not match. Either use a channel order that matches your instance or pass ordered=False.\n",
      "  raw_train.pick_channels(ch_names=list(mapping))\n",
      "100%|██████████| 50/50 [1:41:34<00:00, 121.90s/it]\n"
     ]
    }
   ],
   "source": [
    "# Iterate over all files and process them\n",
    "for idx, file in enumerate(tqdm(files)):\n",
    "    print(f'Preprocessing file : {file}')\n",
    "    raw, epochs, hypnogram = process_raw_EDF_cfs(path + file)\n",
    "    # save the data\n",
    "    epochs.save(fname = save_path + file + '-epo.fif.gz', \n",
    "                overwrite=False)\n",
    "    raw.save(fname = save_path + file + '-raw.fif.gz',  # type: ignore\n",
    "             overwrite=False)\n",
    "    np.save(save_path + file + '-hypnogram.npy', hypnogram)\n",
    "    # delete the data from memory\n",
    "    del raw, epochs, hypnogram"
   ]
  },
  {
   "cell_type": "markdown",
   "metadata": {},
   "source": [
    "# Artifact detection and labeling of Sleep Data \n",
    "\n",
    "We then use the pre-processed polysomnography data from above and utilize a Riemanian geometry based algorithm to detect and label artifacts contained therein. The algorithm is based on the following papers: https://hal.archives-ouvertes.fr/hal-00781701 & https://hal.science/hal-02015909 and is implemented in the yasa toolbox. This so-called \"Riemannian Potato\" is a clustering method that iteratively estimates the centroid of clean signal by rejecting every trial that is too far from it, thus giving you a label for each given 4 second epoch."
   ]
  },
  {
   "cell_type": "markdown",
   "metadata": {},
   "source": [
    "## 3. Process & save update epochs and hypnograms"
   ]
  },
  {
   "cell_type": "code",
   "execution_count": 5,
   "metadata": {},
   "outputs": [
    {
     "name": "stderr",
     "output_type": "stream",
     "text": [
      "  0%|          | 0/50 [00:00<?, ?it/s]"
     ]
    },
    {
     "name": "stdout",
     "output_type": "stream",
     "text": [
      "Detecting and labeling artifacts in file : cfs-visit5-801323\n"
     ]
    },
    {
     "name": "stderr",
     "output_type": "stream",
     "text": [
      "30-Aug-23 19:13:16 | WARNING | Hypnogram is SHORTER than data by 2.00 seconds. Padding hypnogram with last value to match data.size.\n",
      "  2%|▏         | 1/50 [01:39<1:21:21, 99.61s/it]"
     ]
    },
    {
     "name": "stdout",
     "output_type": "stream",
     "text": [
      "Detecting and labeling artifacts in file : cfs-visit5-802739\n"
     ]
    },
    {
     "name": "stderr",
     "output_type": "stream",
     "text": [
      "30-Aug-23 19:15:05 | WARNING | Hypnogram is SHORTER than data by 2.00 seconds. Padding hypnogram with last value to match data.size.\n",
      "  4%|▍         | 2/50 [03:33<1:26:13, 107.78s/it]"
     ]
    },
    {
     "name": "stdout",
     "output_type": "stream",
     "text": [
      "Detecting and labeling artifacts in file : cfs-visit5-801291\n"
     ]
    },
    {
     "name": "stderr",
     "output_type": "stream",
     "text": [
      "  6%|▌         | 3/50 [05:36<1:29:58, 114.87s/it]"
     ]
    },
    {
     "name": "stdout",
     "output_type": "stream",
     "text": [
      "Detecting and labeling artifacts in file : cfs-visit5-801001\n"
     ]
    },
    {
     "name": "stderr",
     "output_type": "stream",
     "text": [
      "30-Aug-23 19:18:55 | WARNING | At least 30 epochs are required to calculate z-score. Skipping stage 1\n",
      "30-Aug-23 19:18:57 | WARNING | At least 30 epochs are required to calculate z-score. Skipping stage 3\n",
      "30-Aug-23 19:18:57 | WARNING | At least 30 epochs are required to calculate z-score. Skipping stage 4\n",
      "30-Aug-23 19:18:57 | WARNING | Hypnogram is SHORTER than data by 2.00 seconds. Padding hypnogram with last value to match data.size.\n",
      "  8%|▊         | 4/50 [07:22<1:25:22, 111.36s/it]"
     ]
    },
    {
     "name": "stdout",
     "output_type": "stream",
     "text": [
      "Detecting and labeling artifacts in file : cfs-visit5-802643\n"
     ]
    },
    {
     "name": "stderr",
     "output_type": "stream",
     "text": [
      "30-Aug-23 19:20:48 | WARNING | Hypnogram is SHORTER than data by 2.00 seconds. Padding hypnogram with last value to match data.size.\n",
      " 10%|█         | 5/50 [09:15<1:24:00, 112.00s/it]"
     ]
    },
    {
     "name": "stdout",
     "output_type": "stream",
     "text": [
      "Detecting and labeling artifacts in file : cfs-visit5-802298\n"
     ]
    },
    {
     "name": "stderr",
     "output_type": "stream",
     "text": [
      " 12%|█▏        | 6/50 [11:12<1:23:27, 113.80s/it]"
     ]
    },
    {
     "name": "stdout",
     "output_type": "stream",
     "text": [
      "Detecting and labeling artifacts in file : cfs-visit5-802491\n"
     ]
    },
    {
     "name": "stderr",
     "output_type": "stream",
     "text": [
      "30-Aug-23 19:24:43 | WARNING | Hypnogram is SHORTER than data by 2.00 seconds. Padding hypnogram with last value to match data.size.\n",
      " 14%|█▍        | 7/50 [13:13<1:23:10, 116.07s/it]"
     ]
    },
    {
     "name": "stdout",
     "output_type": "stream",
     "text": [
      "Detecting and labeling artifacts in file : cfs-visit5-801602\n"
     ]
    },
    {
     "name": "stderr",
     "output_type": "stream",
     "text": [
      "30-Aug-23 19:26:40 | WARNING | Hypnogram is SHORTER than data by 2.00 seconds. Padding hypnogram with last value to match data.size.\n",
      " 16%|█▌        | 8/50 [15:08<1:20:54, 115.58s/it]"
     ]
    },
    {
     "name": "stdout",
     "output_type": "stream",
     "text": [
      "Detecting and labeling artifacts in file : cfs-visit5-800151\n"
     ]
    },
    {
     "name": "stderr",
     "output_type": "stream",
     "text": [
      " 18%|█▊        | 9/50 [16:55<1:17:20, 113.17s/it]"
     ]
    },
    {
     "name": "stdout",
     "output_type": "stream",
     "text": [
      "Detecting and labeling artifacts in file : cfs-visit5-800667\n"
     ]
    },
    {
     "name": "stderr",
     "output_type": "stream",
     "text": [
      " 20%|██        | 10/50 [18:45<1:14:39, 111.98s/it]"
     ]
    },
    {
     "name": "stdout",
     "output_type": "stream",
     "text": [
      "Detecting and labeling artifacts in file : cfs-visit5-800347\n"
     ]
    },
    {
     "name": "stderr",
     "output_type": "stream",
     "text": [
      " 22%|██▏       | 11/50 [20:31<1:11:33, 110.08s/it]"
     ]
    },
    {
     "name": "stdout",
     "output_type": "stream",
     "text": [
      "Detecting and labeling artifacts in file : cfs-visit5-802177\n"
     ]
    },
    {
     "name": "stderr",
     "output_type": "stream",
     "text": [
      " 24%|██▍       | 12/50 [22:21<1:09:49, 110.25s/it]"
     ]
    },
    {
     "name": "stdout",
     "output_type": "stream",
     "text": [
      "Detecting and labeling artifacts in file : cfs-visit5-800184\n"
     ]
    },
    {
     "name": "stderr",
     "output_type": "stream",
     "text": [
      "30-Aug-23 19:35:39 | WARNING | Hypnogram is SHORTER than data by 2.00 seconds. Padding hypnogram with last value to match data.size.\n",
      " 26%|██▌       | 13/50 [24:02<1:06:14, 107.42s/it]"
     ]
    },
    {
     "name": "stdout",
     "output_type": "stream",
     "text": [
      "Detecting and labeling artifacts in file : cfs-visit5-800407\n"
     ]
    },
    {
     "name": "stderr",
     "output_type": "stream",
     "text": [
      "30-Aug-23 19:37:25 | WARNING | Hypnogram is SHORTER than data by 2.00 seconds. Padding hypnogram with last value to match data.size.\n",
      " 28%|██▊       | 14/50 [25:51<1:04:47, 107.99s/it]"
     ]
    },
    {
     "name": "stdout",
     "output_type": "stream",
     "text": [
      "Detecting and labeling artifacts in file : cfs-visit5-801638\n"
     ]
    },
    {
     "name": "stderr",
     "output_type": "stream",
     "text": [
      "30-Aug-23 19:39:19 | WARNING | Hypnogram is SHORTER than data by 2.00 seconds. Padding hypnogram with last value to match data.size.\n",
      " 30%|███       | 15/50 [27:47<1:04:23, 110.39s/it]"
     ]
    },
    {
     "name": "stdout",
     "output_type": "stream",
     "text": [
      "Detecting and labeling artifacts in file : cfs-visit5-801662\n"
     ]
    },
    {
     "name": "stderr",
     "output_type": "stream",
     "text": [
      "30-Aug-23 19:41:05 | WARNING | Hypnogram is SHORTER than data by 2.00 seconds. Padding hypnogram with last value to match data.size.\n",
      " 32%|███▏      | 16/50 [29:28<1:00:49, 107.35s/it]"
     ]
    },
    {
     "name": "stdout",
     "output_type": "stream",
     "text": [
      "Detecting and labeling artifacts in file : cfs-visit5-802132\n"
     ]
    },
    {
     "name": "stderr",
     "output_type": "stream",
     "text": [
      " 34%|███▍      | 17/50 [31:17<59:18, 107.85s/it]  "
     ]
    },
    {
     "name": "stdout",
     "output_type": "stream",
     "text": [
      "Detecting and labeling artifacts in file : cfs-visit5-800551\n"
     ]
    },
    {
     "name": "stderr",
     "output_type": "stream",
     "text": [
      " 36%|███▌      | 18/50 [33:13<58:53, 110.42s/it]"
     ]
    },
    {
     "name": "stdout",
     "output_type": "stream",
     "text": [
      "Detecting and labeling artifacts in file : cfs-visit5-800625\n"
     ]
    },
    {
     "name": "stderr",
     "output_type": "stream",
     "text": [
      "30-Aug-23 19:46:35 | WARNING | Hypnogram is SHORTER than data by 2.00 seconds. Padding hypnogram with last value to match data.size.\n",
      " 38%|███▊      | 19/50 [34:59<56:20, 109.06s/it]"
     ]
    },
    {
     "name": "stdout",
     "output_type": "stream",
     "text": [
      "Detecting and labeling artifacts in file : cfs-visit5-800535\n"
     ]
    },
    {
     "name": "stderr",
     "output_type": "stream",
     "text": [
      "30-Aug-23 19:48:29 | WARNING | Hypnogram is SHORTER than data by 2.00 seconds. Padding hypnogram with last value to match data.size.\n",
      " 40%|████      | 20/50 [36:59<56:07, 112.26s/it]"
     ]
    },
    {
     "name": "stdout",
     "output_type": "stream",
     "text": [
      "Detecting and labeling artifacts in file : cfs-visit5-800092\n"
     ]
    },
    {
     "name": "stderr",
     "output_type": "stream",
     "text": [
      "30-Aug-23 19:50:28 | WARNING | Hypnogram is SHORTER than data by 2.00 seconds. Padding hypnogram with last value to match data.size.\n",
      " 42%|████▏     | 21/50 [38:56<54:56, 113.68s/it]"
     ]
    },
    {
     "name": "stdout",
     "output_type": "stream",
     "text": [
      "Detecting and labeling artifacts in file : cfs-visit5-800212\n"
     ]
    },
    {
     "name": "stderr",
     "output_type": "stream",
     "text": [
      " 44%|████▍     | 22/50 [40:52<53:24, 114.46s/it]"
     ]
    },
    {
     "name": "stdout",
     "output_type": "stream",
     "text": [
      "Detecting and labeling artifacts in file : cfs-visit5-800494\n"
     ]
    },
    {
     "name": "stderr",
     "output_type": "stream",
     "text": [
      " 46%|████▌     | 23/50 [42:51<52:10, 115.95s/it]"
     ]
    },
    {
     "name": "stdout",
     "output_type": "stream",
     "text": [
      "Detecting and labeling artifacts in file : cfs-visit5-801019\n"
     ]
    },
    {
     "name": "stderr",
     "output_type": "stream",
     "text": [
      " 48%|████▊     | 24/50 [44:44<49:48, 114.96s/it]"
     ]
    },
    {
     "name": "stdout",
     "output_type": "stream",
     "text": [
      "Detecting and labeling artifacts in file : cfs-visit5-801152\n"
     ]
    },
    {
     "name": "stderr",
     "output_type": "stream",
     "text": [
      "30-Aug-23 19:58:09 | WARNING | Hypnogram is SHORTER than data by 2.00 seconds. Padding hypnogram with last value to match data.size.\n",
      " 50%|█████     | 25/50 [46:35<47:25, 113.83s/it]"
     ]
    },
    {
     "name": "stdout",
     "output_type": "stream",
     "text": [
      "Detecting and labeling artifacts in file : cfs-visit5-800249\n"
     ]
    },
    {
     "name": "stderr",
     "output_type": "stream",
     "text": [
      "30-Aug-23 19:59:59 | WARNING | Hypnogram is SHORTER than data by 2.00 seconds. Padding hypnogram with last value to match data.size.\n",
      " 52%|█████▏    | 26/50 [48:26<45:07, 112.82s/it]"
     ]
    },
    {
     "name": "stdout",
     "output_type": "stream",
     "text": [
      "Detecting and labeling artifacts in file : cfs-visit5-801540\n"
     ]
    },
    {
     "name": "stderr",
     "output_type": "stream",
     "text": [
      "30-Aug-23 20:01:52 | WARNING | Hypnogram is SHORTER than data by 2.00 seconds. Padding hypnogram with last value to match data.size.\n",
      " 54%|█████▍    | 27/50 [50:20<43:24, 113.25s/it]"
     ]
    },
    {
     "name": "stdout",
     "output_type": "stream",
     "text": [
      "Detecting and labeling artifacts in file : cfs-visit5-801907\n"
     ]
    },
    {
     "name": "stderr",
     "output_type": "stream",
     "text": [
      "30-Aug-23 20:03:45 | WARNING | Hypnogram is SHORTER than data by 2.00 seconds. Padding hypnogram with last value to match data.size.\n",
      " 56%|█████▌    | 28/50 [52:11<41:19, 112.70s/it]"
     ]
    },
    {
     "name": "stdout",
     "output_type": "stream",
     "text": [
      "Detecting and labeling artifacts in file : cfs-visit5-801825\n"
     ]
    },
    {
     "name": "stderr",
     "output_type": "stream",
     "text": [
      " 58%|█████▊    | 29/50 [53:58<38:51, 111.02s/it]"
     ]
    },
    {
     "name": "stdout",
     "output_type": "stream",
     "text": [
      "Detecting and labeling artifacts in file : cfs-visit5-800861\n"
     ]
    },
    {
     "name": "stderr",
     "output_type": "stream",
     "text": [
      " 60%|██████    | 30/50 [55:35<35:34, 106.75s/it]"
     ]
    },
    {
     "name": "stdout",
     "output_type": "stream",
     "text": [
      "Detecting and labeling artifacts in file : cfs-visit5-800331\n"
     ]
    },
    {
     "name": "stderr",
     "output_type": "stream",
     "text": [
      " 62%|██████▏   | 31/50 [57:13<32:58, 104.11s/it]"
     ]
    },
    {
     "name": "stdout",
     "output_type": "stream",
     "text": [
      "Detecting and labeling artifacts in file : cfs-visit5-802380\n"
     ]
    },
    {
     "name": "stderr",
     "output_type": "stream",
     "text": [
      "30-Aug-23 20:10:41 | WARNING | Hypnogram is SHORTER than data by 2.00 seconds. Padding hypnogram with last value to match data.size.\n",
      " 64%|██████▍   | 32/50 [59:10<32:23, 107.99s/it]"
     ]
    },
    {
     "name": "stdout",
     "output_type": "stream",
     "text": [
      "Detecting and labeling artifacts in file : cfs-visit5-800010\n"
     ]
    },
    {
     "name": "stderr",
     "output_type": "stream",
     "text": [
      "30-Aug-23 20:12:44 | WARNING | Hypnogram is SHORTER than data by 2.00 seconds. Padding hypnogram with last value to match data.size.\n",
      " 66%|██████▌   | 33/50 [1:01:15<32:02, 113.11s/it]"
     ]
    },
    {
     "name": "stdout",
     "output_type": "stream",
     "text": [
      "Detecting and labeling artifacts in file : cfs-visit5-801393\n"
     ]
    },
    {
     "name": "stderr",
     "output_type": "stream",
     "text": [
      "30-Aug-23 20:14:38 | WARNING | Hypnogram is SHORTER than data by 2.00 seconds. Padding hypnogram with last value to match data.size.\n",
      " 68%|██████▊   | 34/50 [1:03:05<29:51, 111.97s/it]"
     ]
    },
    {
     "name": "stdout",
     "output_type": "stream",
     "text": [
      "Detecting and labeling artifacts in file : cfs-visit5-800705\n"
     ]
    },
    {
     "name": "stderr",
     "output_type": "stream",
     "text": [
      "30-Aug-23 20:16:30 | WARNING | Hypnogram is SHORTER than data by 2.00 seconds. Padding hypnogram with last value to match data.size.\n",
      " 70%|███████   | 35/50 [1:04:57<28:03, 112.25s/it]"
     ]
    },
    {
     "name": "stdout",
     "output_type": "stream",
     "text": [
      "Detecting and labeling artifacts in file : cfs-visit5-801196\n"
     ]
    },
    {
     "name": "stderr",
     "output_type": "stream",
     "text": [
      " 72%|███████▏  | 36/50 [1:06:52<26:21, 112.95s/it]"
     ]
    },
    {
     "name": "stdout",
     "output_type": "stream",
     "text": [
      "Detecting and labeling artifacts in file : cfs-visit5-801747\n"
     ]
    },
    {
     "name": "stderr",
     "output_type": "stream",
     "text": [
      "30-Aug-23 20:20:20 | WARNING | Hypnogram is SHORTER than data by 2.00 seconds. Padding hypnogram with last value to match data.size.\n",
      " 74%|███████▍  | 37/50 [1:08:47<24:37, 113.63s/it]"
     ]
    },
    {
     "name": "stdout",
     "output_type": "stream",
     "text": [
      "Detecting and labeling artifacts in file : cfs-visit5-801225\n"
     ]
    },
    {
     "name": "stderr",
     "output_type": "stream",
     "text": [
      " 76%|███████▌  | 38/50 [1:10:50<23:15, 116.27s/it]"
     ]
    },
    {
     "name": "stdout",
     "output_type": "stream",
     "text": [
      "Detecting and labeling artifacts in file : cfs-visit5-801497\n"
     ]
    },
    {
     "name": "stderr",
     "output_type": "stream",
     "text": [
      "30-Aug-23 20:24:14 | WARNING | Hypnogram is SHORTER than data by 2.00 seconds. Padding hypnogram with last value to match data.size.\n",
      " 78%|███████▊  | 39/50 [1:12:41<21:01, 114.65s/it]"
     ]
    },
    {
     "name": "stdout",
     "output_type": "stream",
     "text": [
      "Detecting and labeling artifacts in file : cfs-visit5-801058\n"
     ]
    },
    {
     "name": "stderr",
     "output_type": "stream",
     "text": [
      " 80%|████████  | 40/50 [1:14:35<19:05, 114.52s/it]"
     ]
    },
    {
     "name": "stdout",
     "output_type": "stream",
     "text": [
      "Detecting and labeling artifacts in file : cfs-visit5-802487\n"
     ]
    },
    {
     "name": "stderr",
     "output_type": "stream",
     "text": [
      " 82%|████████▏ | 41/50 [1:16:26<17:02, 113.61s/it]"
     ]
    },
    {
     "name": "stdout",
     "output_type": "stream",
     "text": [
      "Detecting and labeling artifacts in file : cfs-visit5-802691\n"
     ]
    },
    {
     "name": "stderr",
     "output_type": "stream",
     "text": [
      " 84%|████████▍ | 42/50 [1:18:20<15:09, 113.64s/it]"
     ]
    },
    {
     "name": "stdout",
     "output_type": "stream",
     "text": [
      "Detecting and labeling artifacts in file : cfs-visit5-802709\n"
     ]
    },
    {
     "name": "stderr",
     "output_type": "stream",
     "text": [
      " 86%|████████▌ | 43/50 [1:20:25<13:38, 116.93s/it]"
     ]
    },
    {
     "name": "stdout",
     "output_type": "stream",
     "text": [
      "Detecting and labeling artifacts in file : cfs-visit5-801044\n"
     ]
    },
    {
     "name": "stderr",
     "output_type": "stream",
     "text": [
      "30-Aug-23 20:33:48 | WARNING | Hypnogram is SHORTER than data by 2.00 seconds. Padding hypnogram with last value to match data.size.\n",
      " 88%|████████▊ | 44/50 [1:22:13<11:26, 114.49s/it]"
     ]
    },
    {
     "name": "stdout",
     "output_type": "stream",
     "text": [
      "Detecting and labeling artifacts in file : cfs-visit5-800243\n"
     ]
    },
    {
     "name": "stderr",
     "output_type": "stream",
     "text": [
      " 90%|█████████ | 45/50 [1:24:14<09:41, 116.37s/it]"
     ]
    },
    {
     "name": "stdout",
     "output_type": "stream",
     "text": [
      "Detecting and labeling artifacts in file : cfs-visit5-802125\n"
     ]
    },
    {
     "name": "stderr",
     "output_type": "stream",
     "text": [
      " 92%|█████████▏| 46/50 [1:26:13<07:47, 116.98s/it]"
     ]
    },
    {
     "name": "stdout",
     "output_type": "stream",
     "text": [
      "Detecting and labeling artifacts in file : cfs-visit5-802073\n"
     ]
    },
    {
     "name": "stderr",
     "output_type": "stream",
     "text": [
      "30-Aug-23 20:39:42 | WARNING | Hypnogram is SHORTER than data by 2.00 seconds. Padding hypnogram with last value to match data.size.\n",
      " 94%|█████████▍| 47/50 [1:28:11<05:51, 117.30s/it]"
     ]
    },
    {
     "name": "stdout",
     "output_type": "stream",
     "text": [
      "Detecting and labeling artifacts in file : cfs-visit5-800630\n"
     ]
    },
    {
     "name": "stderr",
     "output_type": "stream",
     "text": [
      "30-Aug-23 20:41:44 | WARNING | Hypnogram is SHORTER than data by 2.00 seconds. Padding hypnogram with last value to match data.size.\n",
      " 96%|█████████▌| 48/50 [1:30:15<03:58, 119.45s/it]"
     ]
    },
    {
     "name": "stdout",
     "output_type": "stream",
     "text": [
      "Detecting and labeling artifacts in file : cfs-visit5-802635\n"
     ]
    },
    {
     "name": "stderr",
     "output_type": "stream",
     "text": [
      " 98%|█████████▊| 49/50 [1:32:05<01:56, 116.74s/it]"
     ]
    },
    {
     "name": "stdout",
     "output_type": "stream",
     "text": [
      "Detecting and labeling artifacts in file : cfs-visit5-801380\n"
     ]
    },
    {
     "name": "stderr",
     "output_type": "stream",
     "text": [
      "30-Aug-23 20:45:30 | WARNING | Hypnogram is SHORTER than data by 2.00 seconds. Padding hypnogram with last value to match data.size.\n",
      "100%|██████████| 50/50 [1:33:57<00:00, 112.74s/it]\n"
     ]
    }
   ],
   "source": [
    "# Obtain list of unique recordings\n",
    "processed_files = list(set([\"-\".join(f.split('-')[0:3]) for f in os.listdir(save_path)]))\n",
    "\n",
    "# Iterate over all files and process them\n",
    "for idx, file in enumerate(tqdm(processed_files)):\n",
    "    print(f'Detecting and labeling artifacts in file : {file}')\n",
    "    # Load the data and hypnogram files\n",
    "    raw = mne.io.read_raw(save_path + file + '-raw.fif.gz', preload=True) # type: ignore\n",
    "    epochs = mne.read_epochs(save_path + file + '-epo.fif.gz', preload=True) # type: ignore\n",
    "    hypnogram = np.load(save_path + file + '-hypnogram.npy')\n",
    "    # Get sampling frequency\n",
    "    sf = raw.info['sfreq']\n",
    "    # Get data\n",
    "    data = raw.get_data() * 1e6\n",
    "    # Unravel hypnogram to match data length\n",
    "    hypnogram_unravel = yasa.hypno_upsample_to_data(hypno=hypnogram, sf_hypno=1/30, \n",
    "                                                    data=data, sf_data=sf)\n",
    "    # Label artifacts based on Riemannian Potato clustering algorithm\n",
    "    window = 4\n",
    "    art, zscores = yasa.art_detect(data, sf=sf, window=window, hypno=hypnogram_unravel, \n",
    "                                   include=(1, 2, 3, 4), method='covar', threshold=3)\n",
    "    sf_art = 1 / window\n",
    "    \n",
    "    # Upsample art to match data length\n",
    "    art_up = yasa.hypno_upsample_to_data(art, sf_art, data, sf)\n",
    "\n",
    "    # Add -1 to hypnogram where artifacts were detected\n",
    "    hypno_with_art = hypnogram_unravel.copy()\n",
    "    hypno_with_art[art_up] = -1\n",
    "\n",
    "    # Plot and save the spectrogram with the updated hypnogram\n",
    "    fig = yasa.plot_spectrogram(data[1, :], sf, hypno_with_art)\n",
    "    fig.savefig(fig_path + file + '-hypno-artifacts.png', dpi=300)\n",
    "    plt.close(fig)\n",
    "\n",
    "    # Downsample the hypnogram to match the number of epochs\n",
    "    downsampled_hypnogram = downsample_hypnogram(hypno_with_art, raw, sf=sf, epoch_len_sec=4)\n",
    "\n",
    "    # Create a DataFrame from the downsampled hypnogram\n",
    "    metadata = pd.DataFrame({'SleepStage': downsampled_hypnogram})\n",
    "    \n",
    "    # Add the metadata to the epochs\n",
    "    epochs.metadata = metadata\n",
    "\n",
    "    # Save the updated hypnogram sampled at sf (256 Hz)\n",
    "    np.save(save_path + file + '-hypnogram_with_art.npy', hypno_with_art)\n",
    "\n",
    "    # Save the epochs \n",
    "    epochs.save(save_path + file + '-epo.fif.gz', overwrite=True) # type: ignore\n",
    "\n",
    "    # Delete some objects to free up memory\n",
    "    del raw, epochs, hypnogram, hypnogram_unravel, art, zscores, art_up, hypno_with_art, downsampled_hypnogram, metadata"
   ]
  },
  {
   "cell_type": "code",
   "execution_count": 6,
   "metadata": {},
   "outputs": [],
   "source": [
    "## Miscellanous\n",
    "# import pandas as pd\n",
    "# pd.Series(hypno_with_art).value_counts(normalize=True)\n",
    "# yasa.sleep_statistics(hypno_with_art, sf_hyp=sf)"
   ]
  }
 ],
 "metadata": {
  "kernelspec": {
   "display_name": "NDS",
   "language": "python",
   "name": "python3"
  },
  "language_info": {
   "codemirror_mode": {
    "name": "ipython",
    "version": 3
   },
   "file_extension": ".py",
   "mimetype": "text/x-python",
   "name": "python",
   "nbconvert_exporter": "python",
   "pygments_lexer": "ipython3",
   "version": "3.10.10"
  },
  "orig_nbformat": 4
 },
 "nbformat": 4,
 "nbformat_minor": 2
}
