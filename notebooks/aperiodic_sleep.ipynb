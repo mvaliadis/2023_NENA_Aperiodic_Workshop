{
 "cells": [
  {
   "cell_type": "markdown",
   "metadata": {},
   "source": [
    "# Extract aperiodic component of Sleep Data \n",
    "\n",
    "This script loads the pre-processed polysomnography data and extracts the apeiodic component of the EEG signal using the fooof algorithm (https://github.com/fooof-tools/fooof) and the IRASA algorithm (https://doi.org/10.1007/s10548-015-0448-0). The aperiodic component is then saved as a .csv file along with other spectrally derived information and specifically utilized parameters. "
   ]
  },
  {
   "cell_type": "code",
   "execution_count": 2,
   "metadata": {},
   "outputs": [],
   "source": [
    "%matplotlib inline\n",
    "\n",
    "## Import packages \n",
    "import yasa\n",
    "import pickle\n",
    "from fooof import FOOOF\n",
    "from fooof.objs.utils import average_fg, combine_fooofs, compare_info\n",
    "from fooof.bands import Bands\n",
    "import numpy as np\n",
    "import os\n",
    "import mne\n",
    "from tqdm import tqdm\n",
    "import seaborn as sns\n",
    "import pandas as pd\n",
    "import matplotlib.pyplot as plt\n",
    "import scipy.signal as signal \n",
    "import scipy.stats as stats\n",
    "mne.set_log_level('WARNING')\n",
    "\n",
    "# Set plotting settings\n",
    "sns.set_context('talk')\n",
    "sns.set_style('white')\n",
    "sns.set_palette('colorblind')"
   ]
  },
  {
   "cell_type": "code",
   "execution_count": 3,
   "metadata": {},
   "outputs": [],
   "source": [
    "## Adjusted YASA functions for computing aperiodic power spectrum based on IRASA method\n",
    "\n",
    "def foi_range_irasa(foi=(1,45), hset_max=1.9):\n",
    "    \"\"\"\n",
    "\n",
    "    Calculate the frequency range to evaluate the IRASA power spectrum.\n",
    "\n",
    "    Parameters\n",
    "    ----------\n",
    "    foi : tuple of int or float\n",
    "        Frequency range of interest.\n",
    "    hset_max : float\n",
    "        Maximum resampling factor.\n",
    "\n",
    "    \"\"\"\n",
    "\n",
    "    freq_eval_min = foi[0] / hset_max\n",
    "    freq_eval_max = foi[1] * hset_max\n",
    "\n",
    "    return freq_eval_min, freq_eval_max\n",
    "\n",
    "def irasa(data, sf=None, ch_names=None, band=(1, 45),\n",
    "          hset=[1.1,1.15,1.2,1.25,1.3,1.35,1.4,1.45,1.5,\n",
    "                1.55,1.6,1.65,1.7,1.75,1.8,1.85,1.9],\n",
    "          return_fit=True,\n",
    "          win_sec=4,\n",
    "          kwargs_welch=dict(average=\"median\", window=\"hamming\"),\n",
    "          verbose=True,\n",
    "          ):\n",
    "    \"\"\"\n",
    "    Separate the aperiodic (= fractal, or 1/f) and oscillatory component\n",
    "    of the power spectra of EEG data using the IRASA method.\n",
    "\n",
    "    .. versionadded:: 0.1.7\n",
    "\n",
    "    Parameters\n",
    "    ----------\n",
    "    data : :py:class:`numpy.ndarray` or :py:class:`mne.io.BaseRaw`\n",
    "        1D or 2D EEG data. Can also be a :py:class:`mne.io.BaseRaw`, in which\n",
    "        case ``data``, ``sf``, and ``ch_names`` will be automatically\n",
    "        extracted, and ``data`` will also be converted from Volts (MNE default)\n",
    "        to micro-Volts (YASA).\n",
    "    sf : float\n",
    "        The sampling frequency of data AND the hypnogram.\n",
    "        Can be omitted if ``data`` is a :py:class:`mne.io.BaseRaw`.\n",
    "    ch_names : list\n",
    "        List of channel names, e.g. ['Cz', 'F3', 'F4', ...]. If None,\n",
    "        channels will be labelled ['CHAN000', 'CHAN001', ...].\n",
    "        Can be omitted if ``data`` is a :py:class:`mne.io.BaseRaw`.\n",
    "    band : tuple or None\n",
    "        Broad band frequency range.\n",
    "        Default is 1 to 30 Hz.\n",
    "    hset : list or :py:class:`numpy.ndarray`\n",
    "        Resampling factors used in IRASA calculation. Default is to use a range\n",
    "        of values from 1.1 to 1.9 with an increment of 0.05.\n",
    "    return_fit : boolean\n",
    "        If True (default), fit an exponential function to the aperiodic PSD\n",
    "        and return the fit parameters (intercept, slope) and :math:`R^2` of\n",
    "        the fit.\n",
    "\n",
    "        The aperiodic signal, :math:`L`, is modeled using an exponential\n",
    "        function in semilog-power space (linear frequencies and log PSD) as:\n",
    "\n",
    "        .. math:: L = a + \\text{log}(F^b)\n",
    "\n",
    "        where :math:`a` is the intercept, :math:`b` is the slope, and\n",
    "        :math:`F` the vector of input frequencies.\n",
    "    win_sec : int or float\n",
    "        The length of the sliding window, in seconds, used for the Welch PSD\n",
    "        calculation. Ideally, this should be at least two times the inverse of\n",
    "        the lower frequency of interest (e.g. for a lower frequency of interest\n",
    "        of 0.5 Hz, the window length should be at least 2 * 1 / 0.5 =\n",
    "        4 seconds).\n",
    "    kwargs_welch : dict\n",
    "        Optional keywords arguments that are passed to the\n",
    "        :py:func:`scipy.signal.welch` function.\n",
    "    verbose : bool or str\n",
    "        Verbose level. Default (False) will only print warning and error\n",
    "        messages. The logging levels are 'debug', 'info', 'warning', 'error',\n",
    "        and 'critical'. For most users the choice is between 'info'\n",
    "        (or ``verbose=True``) and warning (``verbose=False``).\n",
    "\n",
    "    Returns\n",
    "    -------\n",
    "    freqs : :py:class:`numpy.ndarray`\n",
    "        Frequency vector.\n",
    "    psd_aperiodic : :py:class:`numpy.ndarray`\n",
    "        The fractal (= aperiodic) component of the PSD.\n",
    "    psd_oscillatory : :py:class:`numpy.ndarray`\n",
    "        The oscillatory (= periodic) component of the PSD.\n",
    "    fit_params : :py:class:`pandas.DataFrame` (optional)\n",
    "        Dataframe of fit parameters. Only if ``return_fit=True``.\n",
    "\n",
    "    Notes\n",
    "    -----\n",
    "    The Irregular-Resampling Auto-Spectral Analysis (IRASA) method is\n",
    "    described in Wen & Liu (2016). In a nutshell, the goal is to separate the\n",
    "    fractal and oscillatory components in the power spectrum of EEG signals.\n",
    "\n",
    "    The steps are:\n",
    "\n",
    "    1. Compute the original power spectral density (PSD) using Welch's method.\n",
    "    2. Resample the EEG data by multiple non-integer factors and their\n",
    "       reciprocals (:math:`h` and :math:`1/h`).\n",
    "    3. For every pair of resampled signals, calculate the PSD and take the\n",
    "       geometric mean of both. In the resulting PSD, the power associated with\n",
    "       the oscillatory component is redistributed away from its original\n",
    "       (fundamental and harmonic) frequencies by a frequency offset that varies\n",
    "       with the resampling factor, whereas the power solely attributed to the\n",
    "       fractal component remains the same power-law statistical distribution\n",
    "       independent of the resampling factor.\n",
    "    4. It follows that taking the median of the PSD of the variously\n",
    "       resampled signals can extract the power spectrum of the fractal\n",
    "       component, and the difference between the original power spectrum and\n",
    "       the extracted fractal spectrum offers an approximate estimate of the\n",
    "       power spectrum of the oscillatory component.\n",
    "\n",
    "    Note that an estimate of the original PSD can be calculated by simply\n",
    "    adding ``psd = psd_aperiodic + psd_oscillatory``.\n",
    "\n",
    "    For an example of how to use this function, please refer to\n",
    "    https://github.com/raphaelvallat/yasa/blob/master/notebooks/09_IRASA.ipynb\n",
    "\n",
    "    For an article discussing the challenges of using IRASA (or fooof) see [5].\n",
    "\n",
    "    References\n",
    "    ----------\n",
    "    [1] Wen, H., & Liu, Z. (2016). Separating Fractal and Oscillatory\n",
    "        Components in the Power Spectrum of Neurophysiological Signal.\n",
    "        Brain Topography, 29(1), 13–26.\n",
    "        https://doi.org/10.1007/s10548-015-0448-0\n",
    "\n",
    "    [2] https://github.com/fieldtrip/fieldtrip/blob/master/specest/\n",
    "\n",
    "    [3] https://github.com/fooof-tools/fooof\n",
    "\n",
    "    [4] https://www.biorxiv.org/content/10.1101/299859v1\n",
    "\n",
    "    [5] https://doi.org/10.1101/2021.10.15.464483\n",
    "    \"\"\"\n",
    "    import fractions\n",
    "    from yasa.io import set_log_level\n",
    "    import logging\n",
    "\n",
    "    set_log_level(verbose)\n",
    "    # Check if input data is a MNE Raw object\n",
    "    if isinstance(data, mne.io.BaseRaw):\n",
    "        sf = data.info[\"sfreq\"]  # Extract sampling frequency\n",
    "        ch_names = data.ch_names  # Extract channel names\n",
    "        hp = data.info[\"highpass\"]  # Extract highpass filter\n",
    "        lp = data.info[\"lowpass\"]  # Extract lowpass filter\n",
    "        data = data.get_data(units=dict(eeg=\"uV\", emg=\"uV\", eog=\"uV\", ecg=\"uV\"))\n",
    "    else:\n",
    "        # Safety checks\n",
    "        assert isinstance(data, np.ndarray), \"Data must be a numpy array.\"\n",
    "        data = np.atleast_2d(data)\n",
    "        assert data.ndim == 2, \"Data must be of shape (nchan, n_samples).\"\n",
    "        nchan, npts = data.shape\n",
    "        assert nchan < npts, \"Data must be of shape (nchan, n_samples).\"\n",
    "        assert sf is not None, \"sf must be specified if passing a numpy array.\"\n",
    "        assert isinstance(sf, (int, float))\n",
    "        if ch_names is None:\n",
    "            ch_names = [\"CHAN\" + str(i).zfill(3) for i in range(nchan)]\n",
    "        else:\n",
    "            ch_names = np.atleast_1d(np.asarray(ch_names, dtype=str))\n",
    "            assert ch_names.ndim == 1, \"ch_names must be 1D.\"\n",
    "            assert len(ch_names) == nchan, \"ch_names must match data.shape[0].\"\n",
    "        hp = 0  # Highpass filter unknown -> set to 0 Hz\n",
    "        lp = sf / 2  # Lowpass filter unknown -> set to Nyquist\n",
    "\n",
    "    # Check the other arguments\n",
    "    hset = np.asarray(hset)\n",
    "    assert hset.ndim == 1, \"hset must be 1D.\"\n",
    "    assert hset.size > 1, \"2 or more resampling fators are required.\"\n",
    "    hset = np.round(hset, 4)  # avoid float precision error with np.arange.\n",
    "    band = sorted(band)\n",
    "    assert band[0] > 0, \"first element of band must be > 0.\"\n",
    "    assert band[1] < (sf / 2), \"second element of band must be < (sf / 2).\"\n",
    "    win = int(win_sec * sf)  # nperseg\n",
    "\n",
    "    # Inform about maximum resampled fitting range\n",
    "    h_max = np.max(hset)\n",
    "    band_evaluated = (band[0] / h_max, band[1] * h_max)\n",
    "    freq_Nyq = sf / 2  # Nyquist frequency\n",
    "    freq_Nyq_res = freq_Nyq / h_max  # minimum resampled Nyquist frequency\n",
    "    logging.info(f\"Fitting range: {band[0]:.2f}Hz-{band[1]:.2f}Hz\")\n",
    "    logging.info(f\"Evaluated frequency range: {band_evaluated[0]:.2f}Hz-{band_evaluated[1]:.2f}Hz\")\n",
    "    if band_evaluated[0] < hp:\n",
    "        logging.warning(\n",
    "            \"The evaluated frequency range starts below the \"\n",
    "            f\"highpass filter ({hp:.2f}Hz). Increase the lower band\"\n",
    "            f\" ({band[0]:.2f}Hz) or decrease the maximum value of \"\n",
    "            f\"the hset ({h_max:.2f}).\"\n",
    "        )\n",
    "    if band_evaluated[1] > lp and lp < freq_Nyq_res:\n",
    "        logging.warning(\n",
    "            \"The evaluated frequency range ends after the \"\n",
    "            f\"lowpass filter ({lp:.2f}Hz). Decrease the upper band\"\n",
    "            f\" ({band[1]:.2f}Hz) or decrease the maximum value of \"\n",
    "            f\"the hset ({h_max:.2f}).\"\n",
    "        )\n",
    "    if band_evaluated[1] > freq_Nyq_res:\n",
    "        logging.warning(\n",
    "            \"The evaluated frequency range ends after the \"\n",
    "            \"resampled Nyquist frequency \"\n",
    "            f\"({freq_Nyq_res:.2f}Hz). Decrease the upper band \"\n",
    "            f\"({band[1]:.2f}Hz) or decrease the maximum value \"\n",
    "            f\"of the hset ({h_max:.2f}).\"\n",
    "        )\n",
    "\n",
    "    # Calculate the original PSD over the whole data\n",
    "    freqs, psd = signal.welch(data, sf, nperseg=win, **kwargs_welch)\n",
    "\n",
    "    # Start the IRASA procedure\n",
    "    psds = np.zeros((len(hset), *psd.shape))\n",
    "\n",
    "    for i, h in enumerate(hset):\n",
    "        # Get the upsampling/downsampling (h, 1/h) factors as integer\n",
    "        rat = fractions.Fraction(str(h))\n",
    "        up, down = rat.numerator, rat.denominator\n",
    "        # Much faster than FFT-based resampling\n",
    "        data_up = signal.resample_poly(data, up, down, axis=-1)\n",
    "        data_down = signal.resample_poly(data, down, up, axis=-1)\n",
    "        # Calculate the PSD using same params as original\n",
    "        freqs_up, psd_up = signal.welch(data_up, h * sf, nperseg=win, **kwargs_welch)\n",
    "        freqs_dw, psd_dw = signal.welch(data_down, sf / h, nperseg=win, **kwargs_welch)\n",
    "        # Geometric mean of h and 1/h\n",
    "        psds[i, :] = np.sqrt(psd_up * psd_dw)\n",
    "\n",
    "    # Now we take the median PSD of all the resampling factors, which gives\n",
    "    # a good estimate of the aperiodic component of the PSD.\n",
    "    psd_aperiodic = np.median(psds, axis=0)\n",
    "\n",
    "    # We can now calculate the oscillations (= periodic) component.\n",
    "    psd_osc = psd - psd_aperiodic\n",
    "\n",
    "    # Let's crop to the frequencies defined in band\n",
    "    mask_freqs = np.ma.masked_outside(freqs, *band).mask\n",
    "    freqs = freqs[~mask_freqs]\n",
    "    psd_aperiodic = np.compress(~mask_freqs, psd_aperiodic, axis=-1)\n",
    "    psd_osc = np.compress(~mask_freqs, psd_osc, axis=-1)\n",
    "\n",
    "    if return_fit:\n",
    "        # Aperiodic fit in semilog space for each channel\n",
    "        from scipy.optimize import curve_fit\n",
    "\n",
    "        intercepts, slopes, r_squared = [], [], []\n",
    "\n",
    "        def func(t, a, b):\n",
    "            # See https://github.com/fooof-tools/fooof\n",
    "            return a + np.log10(t**b)\n",
    "\n",
    "        for y in np.atleast_2d(psd_aperiodic):\n",
    "            y_log = np.log10(y)\n",
    "            # Note that here we define bounds for the slope but not for the\n",
    "            # intercept.\n",
    "            popt, pcov = curve_fit(\n",
    "                func, freqs, y_log, p0=(2, -1), bounds=((-np.inf, -10), (np.inf, 2))\n",
    "            )\n",
    "            intercepts.append(popt[0])\n",
    "            slopes.append(popt[1])\n",
    "            # Calculate R^2: https://stackoverflow.com/q/19189362/10581531\n",
    "            residuals = y_log - func(freqs, *popt)\n",
    "            ss_res = np.sum(residuals**2)\n",
    "            ss_tot = np.sum((y_log - np.mean(y_log)) ** 2)\n",
    "            r_squared.append(1 - (ss_res / ss_tot))\n",
    "\n",
    "        # Create fit parameters dataframe\n",
    "        fit_params = {\n",
    "            \"Chan\": ch_names,\n",
    "            \"Intercept\": intercepts,\n",
    "            \"Slope\": slopes,\n",
    "            \"R^2\": r_squared,\n",
    "            \"std(osc)\": np.std(psd_osc, axis=-1, ddof=1),\n",
    "        }\n",
    "        return freqs, psd_aperiodic, psd_osc, pd.DataFrame(fit_params)\n",
    "    else:\n",
    "        return freqs, psd_aperiodic, psd_osc\n",
    "\n",
    "def compute_irasa_power(data, hypnogram, sf, subject, band=(1, 45), h_set_max=1.5):\n",
    "    \"\"\"\n",
    "    Compute the IRASA power spectrum for each sleep stage.\n",
    "\n",
    "    Parameters:\n",
    "    -----------\n",
    "    data : ndarray\n",
    "        2D EEG data where columns represent time points and rows represent different channels.\n",
    "    hypnogram : ndarray\n",
    "        1D array representing the sleep stage for each time point in data.\n",
    "    sf : float\n",
    "        Sampling frequency of the EEG data.\n",
    "    subject : str\n",
    "        Identifier for the subject whose data is being processed.\n",
    "    band : tuple\n",
    "        Frequency band to compute the IRASA power spectrum over.\n",
    "\n",
    "    Returns:\n",
    "    --------\n",
    "    fit_df : DataFrame\n",
    "        A DataFrame containing fit parameters for each sleep stage.\n",
    "    psd_df : DataFrame\n",
    "        A DataFrame containing power spectral density values for each sleep stage.\n",
    "\n",
    "    Notes:\n",
    "    ------\n",
    "    This function uses the YASA library's IRASA method to separate oscillatory and aperiodic components \n",
    "    of the EEG power spectrum for each sleep stage. It then computes bandpower for each component and optionally\n",
    "    plots the PSD for each component.\n",
    "    \"\"\"\n",
    "\n",
    "    fit_dfs = []\n",
    "    psd_aperiodic_dict = {}\n",
    "    psd_oscillatory_dict = {}\n",
    "    \n",
    "    for stage in np.unique(hypnogram):\n",
    "        if stage >= 0:\n",
    "            stage_data = data[:, hypnogram == int(stage)]\n",
    "\n",
    "            # Extract aperiodic and oscillatory components of the PSD\n",
    "            freqs, psd_aperiodic, psd_oscillatory, fit_params = irasa( # type: ignore\n",
    "                stage_data, sf=sf, ch_names=['C3', 'C4'], band=band,\n",
    "                return_fit=True, win_sec=2,\n",
    "                hset=np.arange(1.0, h_set_max + 0.05, 0.05),\n",
    "                kwargs_welch=dict(average='median', window='hamming')\n",
    "            )\n",
    "            fit_params['Stage'] = stage\n",
    "            fit_params['Subject'] = subject\n",
    "            fit_dfs.append(fit_params)\n",
    "\n",
    "            for idx, channel in enumerate(['C3', 'C4']):\n",
    "                key = (stage, channel)\n",
    "                psd_aperiodic_dict[key] = psd_aperiodic[idx, :]\n",
    "                psd_oscillatory_dict[key] = psd_oscillatory[idx, :]\n",
    "            \n",
    "    fit_df = pd.concat(fit_dfs, axis=0)\n",
    "\n",
    "    return freqs, psd_aperiodic_dict, psd_oscillatory_dict, fit_df.reset_index(drop=True)\n",
    "\n",
    "## Plotting function for spectral components for both IRASA and FOOOF\n",
    "\n",
    "def plot_spectral_components(freqs=None, psd_osc=None, psd_ap=None, fm=None, chan=None, \n",
    "                             stage=None, fit_params=None, log_freq=True, method='IRASA',\n",
    "                             save=False, fig_path=None):\n",
    "    if method == 'FOOOF':\n",
    "        # Plot FOOOF results\n",
    "        fig = plt.figure() \n",
    "        plt.tight_layout()\n",
    "        plt.yscale('log')\n",
    "        if log_freq:\n",
    "            plt.xscale('log')\n",
    "        plt.plot(fm.freqs, 10**(fm.power_spectrum), c='k', label=\"Power spectrum\", lw=2)\n",
    "        plt.plot(fm.freqs, 10**(fm._ap_fit), c='b',linestyle='--', label=\"Aperiodic fit\", lw=2)\n",
    "        plt.plot(fm.freqs, 10**(fm.fooofed_spectrum_), c='r', label=\"FOOOF model fit\", lw=2)\n",
    "        fig.suptitle('Full signal PSD with FOOOF result')\n",
    "        fig.axes[0].set_xlabel(\"Frequency (Hz)\")\n",
    "        fig.axes[0].set_ylabel(\"PSD log($V^2$/Hz)\")\n",
    "        fig.axes[0].legend()\n",
    "        # set text with fit parameters\n",
    "        fig.axes[0].text(0.1, 0.5, f\"Slope: {round(fm.aperiodic_params_[1], 2)}\", \n",
    "                         transform=fig.axes[0].transAxes)\n",
    "        sns.despine()\n",
    "\n",
    "    elif method == 'IRASA':\n",
    "        # Plot IRASA results\n",
    "        fig = plt.figure() \n",
    "        plt.tight_layout()\n",
    "        plt.yscale('log')\n",
    "        if log_freq:\n",
    "            plt.xscale('log')\n",
    "        plt.plot(freqs, (psd_ap+psd_osc).ravel(), c='k', label=\"Power spectrum\", lw=2)\n",
    "        plt.plot(freqs, psd_ap.ravel(), c='b',linestyle='--', label=\"Aperiodic fit\", lw=2)\n",
    "        #plt.plot(freqs, psd_osc.ravel(), c='cyan',linestyle='--', label=\"Periodic components\", lw=2)\n",
    "        fig.suptitle('Full signal PSD with IRASA result')\n",
    "        fig.axes[0].set_xlabel(\"Frequency (Hz)\")\n",
    "        fig.axes[0].set_ylabel(\"PSD log($V^2$/Hz)\")\n",
    "        fig.axes[0].legend()\n",
    "        # set text with fit parameters \n",
    "        slope = fit_params.set_index(['Chan','Stage']).loc[chan, stage]['Slope']\n",
    "        fig.axes[0].text(0.1, 0.5, f\"Slope: {round(slope,2)}\",\n",
    "                         transform=fig.axes[0].transAxes)    \n",
    "        sns.despine()   \n",
    "\n",
    "    if save:\n",
    "        plt.savefig(f'{fig_path}.png')\n",
    "        plt.close('all')\n",
    "\n",
    "    return fig\n",
    "\n",
    "## Function to compute the aperiodic exponent with FOOOF for each sleep stage for channels C3 and C4\n",
    "\n",
    "def compute_fooof_aperiodic_exponent(data, sf, hypnogram, subject, band=(1, 45)):\n",
    "    aperiodic_exponent_dfs = []\n",
    "    fg_dict = {}\n",
    "\n",
    "    # Compute the power spectrum for each sleep stage\n",
    "    for stage in np.unique(hypnogram):\n",
    "        if stage >= 0:\n",
    "            # Slice the data based on sleep stage\n",
    "            stage_data = data[:, hypnogram == stage]\n",
    "            # Slice the data based on channel\n",
    "            for idx, ch_name in enumerate(['C3', 'C4']):\n",
    "                # Initialize FOOOF object for each channel-stage combination\n",
    "                fg = FOOOF(max_n_peaks=5, aperiodic_mode='fixed', peak_width_limits=(0.5, 12.0), \n",
    "                           min_peak_height=0.0, peak_threshold=2.0, verbose=False)\n",
    "                \n",
    "                # Compute the power spectrum\n",
    "                freqs, psd = signal.welch(stage_data[idx, :], sf, nperseg=int(2*sf), \n",
    "                                          average='median', window='hamming')\n",
    "                freqs_foi = freqs[(freqs >= band[0]) & (freqs <= band[1])]\n",
    "                psd_foi = psd[(freqs >= band[0]) & (freqs <= band[1])]\n",
    "                \n",
    "                # Fit the FOOOF model\n",
    "                fg.fit(freqs, psd, freq_range=band)\n",
    "                \n",
    "                # Store the FOOOF object to dictionary\n",
    "                key = (stage, ch_name)\n",
    "                fg_dict[key] = fg\n",
    "                \n",
    "                # Extract the aperiodic exponent\n",
    "                aperiodic_exponent = fg.get_params('aperiodic_params', 'exponent')\n",
    "                \n",
    "                # Extract the R^2 value\n",
    "                r2s = fg.get_params('r_squared')\n",
    "                \n",
    "                # Extract the intercept\n",
    "                intercept = fg.get_params('aperiodic_params', 'offset')\n",
    "                \n",
    "                # Extract the standard deviation of the oscillatory component\n",
    "                std_osc = np.std(fg.power_spectrum - fg._ap_fit, ddof=1, axis=-1)\n",
    "                \n",
    "                # Store the aperiodic exponent\n",
    "                aperiodic_exponent_df = pd.DataFrame({\n",
    "                    'Subject': [subject]*len(freqs_foi),\n",
    "                    'Stage': [stage]*len(freqs_foi),\n",
    "                    'Chan': [ch_name]*len(freqs_foi),\n",
    "                    'Slope': [aperiodic_exponent]*len(freqs_foi),\n",
    "                    'R^2': [r2s]*len(freqs_foi), \n",
    "                    'Intercept': [intercept]*len(freqs_foi),\n",
    "                    'std(osc)': [std_osc]*len(freqs_foi),\n",
    "                    'Spectrum': psd_foi,\n",
    "                    'Frequency': freqs_foi\n",
    "                })\n",
    "                aperiodic_exponent_dfs.append(aperiodic_exponent_df)\n",
    "\n",
    "    # Combine all dataframes\n",
    "    aperiodic_exponent_df_all = pd.concat(aperiodic_exponent_dfs, axis=0)\n",
    "\n",
    "    return fg_dict, aperiodic_exponent_df_all.reset_index(drop=True)\n",
    "    "
   ]
  },
  {
   "cell_type": "markdown",
   "metadata": {},
   "source": [
    "## 1. Load data"
   ]
  },
  {
   "cell_type": "code",
   "execution_count": 4,
   "metadata": {},
   "outputs": [],
   "source": [
    "# Set paths\n",
    "path = '/mnt/server/data03/2023_NENA_Aperiodic_Workshop/data/processed/'\n",
    "fig_path = '/mnt/server/data03/2023_NENA_Aperiodic_Workshop/figures/subject/'\n",
    "# Obtain list of unique recordings\n",
    "files = list(set([\"-\".join(f.split('-')[0:3]) for f in os.listdir(path)]))"
   ]
  },
  {
   "cell_type": "markdown",
   "metadata": {},
   "source": [
    "## 2. Process and extract aperiodic component from recording files"
   ]
  },
  {
   "cell_type": "code",
   "execution_count": 4,
   "metadata": {},
   "outputs": [
    {
     "name": "stderr",
     "output_type": "stream",
     "text": [
      "  0%|          | 0/59 [00:00<?, ?it/s]"
     ]
    },
    {
     "name": "stdout",
     "output_type": "stream",
     "text": [
      "Extracting aperiodic components from file : cfs-visit5-801225\n"
     ]
    },
    {
     "name": "stderr",
     "output_type": "stream",
     "text": [
      "  2%|▏         | 1/59 [01:29<1:26:05, 89.05s/it]"
     ]
    },
    {
     "name": "stdout",
     "output_type": "stream",
     "text": [
      "Extracting aperiodic components from file : cfs-visit5-801662\n"
     ]
    },
    {
     "name": "stderr",
     "output_type": "stream",
     "text": [
      "  3%|▎         | 2/59 [02:40<1:14:50, 78.78s/it]"
     ]
    },
    {
     "name": "stdout",
     "output_type": "stream",
     "text": [
      "Extracting aperiodic components from file : cfs-visit5-801152\n"
     ]
    },
    {
     "name": "stderr",
     "output_type": "stream",
     "text": [
      "  5%|▌         | 3/59 [04:00<1:13:57, 79.25s/it]"
     ]
    },
    {
     "name": "stdout",
     "output_type": "stream",
     "text": [
      "Extracting aperiodic components from file : cfs-visit5-801044\n"
     ]
    },
    {
     "name": "stderr",
     "output_type": "stream",
     "text": [
      "  7%|▋         | 4/59 [05:17<1:11:44, 78.26s/it]"
     ]
    },
    {
     "name": "stdout",
     "output_type": "stream",
     "text": [
      "Extracting aperiodic components from file : cfs-visit5-800184\n"
     ]
    },
    {
     "name": "stderr",
     "output_type": "stream",
     "text": [
      "  8%|▊         | 5/59 [06:27<1:07:59, 75.55s/it]"
     ]
    },
    {
     "name": "stdout",
     "output_type": "stream",
     "text": [
      "Extracting aperiodic components from file : cfs-visit5-800494\n"
     ]
    },
    {
     "name": "stderr",
     "output_type": "stream",
     "text": [
      " 10%|█         | 6/59 [07:52<1:09:18, 78.47s/it]"
     ]
    },
    {
     "name": "stdout",
     "output_type": "stream",
     "text": [
      "Extracting aperiodic components from file : cfs-visit5-802635\n"
     ]
    },
    {
     "name": "stderr",
     "output_type": "stream",
     "text": [
      " 12%|█▏        | 7/59 [09:08<1:07:32, 77.93s/it]"
     ]
    },
    {
     "name": "stdout",
     "output_type": "stream",
     "text": [
      "Extracting aperiodic components from file : cfs-visit5-801602\n"
     ]
    },
    {
     "name": "stderr",
     "output_type": "stream",
     "text": [
      " 14%|█▎        | 8/59 [10:28<1:06:40, 78.43s/it]"
     ]
    },
    {
     "name": "stdout",
     "output_type": "stream",
     "text": [
      "Extracting aperiodic components from file : cfs-visit5-800331\n"
     ]
    },
    {
     "name": "stderr",
     "output_type": "stream",
     "text": [
      " 15%|█▌        | 9/59 [11:35<1:02:24, 74.88s/it]"
     ]
    },
    {
     "name": "stdout",
     "output_type": "stream",
     "text": [
      "Extracting aperiodic components from file : cfs-visit5-801497\n"
     ]
    },
    {
     "name": "stderr",
     "output_type": "stream",
     "text": [
      " 17%|█▋        | 10/59 [12:52<1:01:38, 75.47s/it]"
     ]
    },
    {
     "name": "stdout",
     "output_type": "stream",
     "text": [
      "Extracting aperiodic components from file : cfs-visit5-800535\n"
     ]
    },
    {
     "name": "stderr",
     "output_type": "stream",
     "text": [
      " 19%|█▊        | 11/59 [14:15<1:02:15, 77.83s/it]"
     ]
    },
    {
     "name": "stdout",
     "output_type": "stream",
     "text": [
      "Extracting aperiodic components from file : cfs-visit5-802177\n"
     ]
    },
    {
     "name": "stderr",
     "output_type": "stream",
     "text": [
      " 20%|██        | 12/59 [15:33<1:00:56, 77.80s/it]"
     ]
    },
    {
     "name": "stdout",
     "output_type": "stream",
     "text": [
      "Extracting aperiodic components from file : cfs-visit5-802125\n"
     ]
    },
    {
     "name": "stderr",
     "output_type": "stream",
     "text": [
      " 22%|██▏       | 13/59 [16:54<1:00:23, 78.77s/it]"
     ]
    },
    {
     "name": "stdout",
     "output_type": "stream",
     "text": [
      "Extracting aperiodic components from file : cfs-visit5-801001\n",
      "No stage 1 for C3 for 801001\n",
      "No stage 3 for C3 for 801001\n",
      "No stage 4 for C3 for 801001\n",
      "No stage 1 for C4 for 801001\n"
     ]
    },
    {
     "name": "stderr",
     "output_type": "stream",
     "text": [
      " 24%|██▎       | 14/59 [18:06<57:34, 76.77s/it]  "
     ]
    },
    {
     "name": "stdout",
     "output_type": "stream",
     "text": [
      "No stage 3 for C4 for 801001\n",
      "No stage 4 for C4 for 801001\n",
      "Extracting aperiodic components from file : cfs-visit5-800697\n"
     ]
    },
    {
     "name": "stderr",
     "output_type": "stream",
     "text": [
      " 25%|██▌       | 15/59 [19:28<57:23, 78.27s/it]"
     ]
    },
    {
     "name": "stdout",
     "output_type": "stream",
     "text": [
      "Extracting aperiodic components from file : cfs-visit5-801126\n"
     ]
    },
    {
     "name": "stderr",
     "output_type": "stream",
     "text": [
      " 27%|██▋       | 16/59 [20:39<54:34, 76.15s/it]"
     ]
    },
    {
     "name": "stdout",
     "output_type": "stream",
     "text": [
      "Extracting aperiodic components from file : cfs-visit5-800630\n"
     ]
    },
    {
     "name": "stderr",
     "output_type": "stream",
     "text": [
      " 29%|██▉       | 17/59 [22:03<54:59, 78.57s/it]"
     ]
    },
    {
     "name": "stdout",
     "output_type": "stream",
     "text": [
      "Extracting aperiodic components from file : cfs-visit5-801416\n"
     ]
    },
    {
     "name": "stderr",
     "output_type": "stream",
     "text": [
      " 31%|███       | 18/59 [23:20<53:20, 78.05s/it]"
     ]
    },
    {
     "name": "stdout",
     "output_type": "stream",
     "text": [
      "Extracting aperiodic components from file : cfs-visit5-800667\n"
     ]
    },
    {
     "name": "stderr",
     "output_type": "stream",
     "text": [
      " 32%|███▏      | 19/59 [24:35<51:24, 77.11s/it]"
     ]
    },
    {
     "name": "stdout",
     "output_type": "stream",
     "text": [
      "Extracting aperiodic components from file : cfs-visit5-801380\n"
     ]
    },
    {
     "name": "stderr",
     "output_type": "stream",
     "text": [
      " 34%|███▍      | 20/59 [25:51<49:52, 76.74s/it]"
     ]
    },
    {
     "name": "stdout",
     "output_type": "stream",
     "text": [
      "Extracting aperiodic components from file : cfs-visit5-802005\n"
     ]
    },
    {
     "name": "stderr",
     "output_type": "stream",
     "text": [
      " 36%|███▌      | 21/59 [27:15<50:04, 79.07s/it]"
     ]
    },
    {
     "name": "stdout",
     "output_type": "stream",
     "text": [
      "Extracting aperiodic components from file : cfs-visit5-800349\n"
     ]
    },
    {
     "name": "stderr",
     "output_type": "stream",
     "text": [
      " 37%|███▋      | 22/59 [28:28<47:32, 77.10s/it]"
     ]
    },
    {
     "name": "stdout",
     "output_type": "stream",
     "text": [
      "Extracting aperiodic components from file : cfs-visit5-802739\n"
     ]
    },
    {
     "name": "stderr",
     "output_type": "stream",
     "text": [
      " 39%|███▉      | 23/59 [29:46<46:32, 77.56s/it]"
     ]
    },
    {
     "name": "stdout",
     "output_type": "stream",
     "text": [
      "Extracting aperiodic components from file : cfs-visit5-800705\n"
     ]
    },
    {
     "name": "stderr",
     "output_type": "stream",
     "text": [
      " 41%|████      | 24/59 [31:04<45:21, 77.76s/it]"
     ]
    },
    {
     "name": "stdout",
     "output_type": "stream",
     "text": [
      "Extracting aperiodic components from file : cfs-visit5-800151\n"
     ]
    },
    {
     "name": "stderr",
     "output_type": "stream",
     "text": [
      " 42%|████▏     | 25/59 [32:19<43:35, 76.93s/it]"
     ]
    },
    {
     "name": "stdout",
     "output_type": "stream",
     "text": [
      "Extracting aperiodic components from file : cfs-visit5-802073\n"
     ]
    },
    {
     "name": "stderr",
     "output_type": "stream",
     "text": [
      " 44%|████▍     | 26/59 [33:41<43:06, 78.38s/it]"
     ]
    },
    {
     "name": "stdout",
     "output_type": "stream",
     "text": [
      "Extracting aperiodic components from file : cfs-visit5-801323\n"
     ]
    },
    {
     "name": "stderr",
     "output_type": "stream",
     "text": [
      " 46%|████▌     | 27/59 [34:52<40:30, 75.94s/it]"
     ]
    },
    {
     "name": "stdout",
     "output_type": "stream",
     "text": [
      "Extracting aperiodic components from file : cfs-visit5-800407\n"
     ]
    },
    {
     "name": "stderr",
     "output_type": "stream",
     "text": [
      " 47%|████▋     | 28/59 [36:12<39:56, 77.30s/it]"
     ]
    },
    {
     "name": "stdout",
     "output_type": "stream",
     "text": [
      "Extracting aperiodic components from file : cfs-visit5-802691\n"
     ]
    },
    {
     "name": "stderr",
     "output_type": "stream",
     "text": [
      " 49%|████▉     | 29/59 [37:31<38:54, 77.82s/it]"
     ]
    },
    {
     "name": "stdout",
     "output_type": "stream",
     "text": [
      "Extracting aperiodic components from file : cfs-visit5-800243\n"
     ]
    },
    {
     "name": "stderr",
     "output_type": "stream",
     "text": [
      " 51%|█████     | 30/59 [38:52<38:08, 78.92s/it]"
     ]
    },
    {
     "name": "stdout",
     "output_type": "stream",
     "text": [
      "Extracting aperiodic components from file : cfs-visit5-800551\n"
     ]
    },
    {
     "name": "stderr",
     "output_type": "stream",
     "text": [
      " 53%|█████▎    | 31/59 [40:15<37:21, 80.05s/it]"
     ]
    },
    {
     "name": "stdout",
     "output_type": "stream",
     "text": [
      "Extracting aperiodic components from file : cfs-visit5-802491\n"
     ]
    },
    {
     "name": "stderr",
     "output_type": "stream",
     "text": [
      " 54%|█████▍    | 32/59 [41:39<36:32, 81.20s/it]"
     ]
    },
    {
     "name": "stdout",
     "output_type": "stream",
     "text": [
      "Extracting aperiodic components from file : cfs-visit5-801689\n"
     ]
    },
    {
     "name": "stderr",
     "output_type": "stream",
     "text": [
      " 56%|█████▌    | 33/59 [42:51<33:55, 78.27s/it]"
     ]
    },
    {
     "name": "stdout",
     "output_type": "stream",
     "text": [
      "Extracting aperiodic components from file : cfs-visit5-802132\n"
     ]
    },
    {
     "name": "stderr",
     "output_type": "stream",
     "text": [
      " 58%|█████▊    | 34/59 [44:05<32:07, 77.09s/it]"
     ]
    },
    {
     "name": "stdout",
     "output_type": "stream",
     "text": [
      "Extracting aperiodic components from file : cfs-visit5-801058\n"
     ]
    },
    {
     "name": "stderr",
     "output_type": "stream",
     "text": [
      " 59%|█████▉    | 35/59 [45:24<31:01, 77.57s/it]"
     ]
    },
    {
     "name": "stdout",
     "output_type": "stream",
     "text": [
      "Extracting aperiodic components from file : cfs-visit5-801907\n"
     ]
    },
    {
     "name": "stderr",
     "output_type": "stream",
     "text": [
      " 61%|██████    | 36/59 [46:42<29:53, 77.98s/it]"
     ]
    },
    {
     "name": "stdout",
     "output_type": "stream",
     "text": [
      "Extracting aperiodic components from file : cfs-visit5-800010\n"
     ]
    },
    {
     "name": "stderr",
     "output_type": "stream",
     "text": [
      " 63%|██████▎   | 37/59 [48:09<29:32, 80.56s/it]"
     ]
    },
    {
     "name": "stdout",
     "output_type": "stream",
     "text": [
      "Extracting aperiodic components from file : cfs-visit5-801393\n"
     ]
    },
    {
     "name": "stderr",
     "output_type": "stream",
     "text": [
      " 64%|██████▍   | 38/59 [49:25<27:43, 79.21s/it]"
     ]
    },
    {
     "name": "stdout",
     "output_type": "stream",
     "text": [
      "Extracting aperiodic components from file : cfs-visit5-801747\n"
     ]
    },
    {
     "name": "stderr",
     "output_type": "stream",
     "text": [
      " 66%|██████▌   | 39/59 [50:43<26:18, 78.93s/it]"
     ]
    },
    {
     "name": "stdout",
     "output_type": "stream",
     "text": [
      "Extracting aperiodic components from file : cfs-visit5-801540\n"
     ]
    },
    {
     "name": "stderr",
     "output_type": "stream",
     "text": [
      " 68%|██████▊   | 40/59 [52:03<25:04, 79.20s/it]"
     ]
    },
    {
     "name": "stdout",
     "output_type": "stream",
     "text": [
      "Extracting aperiodic components from file : cfs-visit5-802643\n"
     ]
    },
    {
     "name": "stderr",
     "output_type": "stream",
     "text": [
      " 69%|██████▉   | 41/59 [53:20<23:32, 78.46s/it]"
     ]
    },
    {
     "name": "stdout",
     "output_type": "stream",
     "text": [
      "Extracting aperiodic components from file : cfs-visit5-802298\n"
     ]
    },
    {
     "name": "stderr",
     "output_type": "stream",
     "text": [
      " 71%|███████   | 42/59 [54:41<22:25, 79.17s/it]"
     ]
    },
    {
     "name": "stdout",
     "output_type": "stream",
     "text": [
      "Extracting aperiodic components from file : cfs-visit5-800092\n"
     ]
    },
    {
     "name": "stderr",
     "output_type": "stream",
     "text": [
      " 73%|███████▎  | 43/59 [56:02<21:17, 79.83s/it]"
     ]
    },
    {
     "name": "stdout",
     "output_type": "stream",
     "text": [
      "Extracting aperiodic components from file : cfs-visit5-801825\n"
     ]
    },
    {
     "name": "stderr",
     "output_type": "stream",
     "text": [
      " 75%|███████▍  | 44/59 [57:18<19:37, 78.50s/it]"
     ]
    },
    {
     "name": "stdout",
     "output_type": "stream",
     "text": [
      "Extracting aperiodic components from file : cfs-visit5-802487\n"
     ]
    },
    {
     "name": "stderr",
     "output_type": "stream",
     "text": [
      " 76%|███████▋  | 45/59 [58:35<18:15, 78.28s/it]"
     ]
    },
    {
     "name": "stdout",
     "output_type": "stream",
     "text": [
      "Extracting aperiodic components from file : cfs-visit5-801019\n"
     ]
    },
    {
     "name": "stderr",
     "output_type": "stream",
     "text": [
      " 78%|███████▊  | 46/59 [59:53<16:56, 78.19s/it]"
     ]
    },
    {
     "name": "stdout",
     "output_type": "stream",
     "text": [
      "Extracting aperiodic components from file : cfs-visit5-802380\n"
     ]
    },
    {
     "name": "stderr",
     "output_type": "stream",
     "text": [
      " 80%|███████▉  | 47/59 [1:01:14<15:45, 78.81s/it]"
     ]
    },
    {
     "name": "stdout",
     "output_type": "stream",
     "text": [
      "Extracting aperiodic components from file : cfs-visit5-801638\n"
     ]
    },
    {
     "name": "stderr",
     "output_type": "stream",
     "text": [
      " 81%|████████▏ | 48/59 [1:02:34<14:33, 79.43s/it]"
     ]
    },
    {
     "name": "stdout",
     "output_type": "stream",
     "text": [
      "Extracting aperiodic components from file : cfs-visit5-800212\n"
     ]
    },
    {
     "name": "stderr",
     "output_type": "stream",
     "text": [
      " 83%|████████▎ | 49/59 [1:03:54<13:15, 79.58s/it]"
     ]
    },
    {
     "name": "stdout",
     "output_type": "stream",
     "text": [
      "Extracting aperiodic components from file : cfs-visit5-801196\n"
     ]
    },
    {
     "name": "stderr",
     "output_type": "stream",
     "text": [
      " 85%|████████▍ | 50/59 [1:05:14<11:56, 79.56s/it]"
     ]
    },
    {
     "name": "stdout",
     "output_type": "stream",
     "text": [
      "Extracting aperiodic components from file : cfs-visit5-800347\n"
     ]
    },
    {
     "name": "stderr",
     "output_type": "stream",
     "text": [
      " 86%|████████▋ | 51/59 [1:06:27<10:20, 77.58s/it]"
     ]
    },
    {
     "name": "stdout",
     "output_type": "stream",
     "text": [
      "Extracting aperiodic components from file : cfs-visit5-800625\n"
     ]
    },
    {
     "name": "stderr",
     "output_type": "stream",
     "text": [
      " 88%|████████▊ | 52/59 [1:07:41<08:56, 76.71s/it]"
     ]
    },
    {
     "name": "stdout",
     "output_type": "stream",
     "text": [
      "Extracting aperiodic components from file : cfs-visit5-800861\n"
     ]
    },
    {
     "name": "stderr",
     "output_type": "stream",
     "text": [
      " 90%|████████▉ | 53/59 [1:08:49<07:24, 74.01s/it]"
     ]
    },
    {
     "name": "stdout",
     "output_type": "stream",
     "text": [
      "Extracting aperiodic components from file : cfs-visit5-800113\n"
     ]
    },
    {
     "name": "stderr",
     "output_type": "stream",
     "text": [
      " 92%|█████████▏| 54/59 [1:10:13<06:25, 77.07s/it]"
     ]
    },
    {
     "name": "stdout",
     "output_type": "stream",
     "text": [
      "Extracting aperiodic components from file : cfs-visit5-802522\n"
     ]
    },
    {
     "name": "stderr",
     "output_type": "stream",
     "text": [
      " 93%|█████████▎| 55/59 [1:11:24<05:00, 75.09s/it]"
     ]
    },
    {
     "name": "stdout",
     "output_type": "stream",
     "text": [
      "Extracting aperiodic components from file : cfs-visit5-802709\n"
     ]
    },
    {
     "name": "stderr",
     "output_type": "stream",
     "text": [
      " 95%|█████████▍| 56/59 [1:12:49<03:54, 78.10s/it]"
     ]
    },
    {
     "name": "stdout",
     "output_type": "stream",
     "text": [
      "Extracting aperiodic components from file : cfs-visit5-801291\n"
     ]
    },
    {
     "name": "stderr",
     "output_type": "stream",
     "text": [
      " 97%|█████████▋| 57/59 [1:14:13<02:39, 79.91s/it]"
     ]
    },
    {
     "name": "stdout",
     "output_type": "stream",
     "text": [
      "Extracting aperiodic components from file : cfs-visit5-800249\n"
     ]
    },
    {
     "name": "stderr",
     "output_type": "stream",
     "text": [
      " 98%|█████████▊| 58/59 [1:15:30<01:18, 78.96s/it]"
     ]
    },
    {
     "name": "stdout",
     "output_type": "stream",
     "text": [
      "Extracting aperiodic components from file : cfs-visit5-801873\n"
     ]
    },
    {
     "name": "stderr",
     "output_type": "stream",
     "text": [
      "100%|██████████| 59/59 [1:16:54<00:00, 78.21s/it]\n"
     ]
    },
    {
     "data": {
      "text/plain": [
       "[{(0.0, 'C3'): <fooof.objs.fit.FOOOF at 0x7f5a48094f40>,\n",
       "  (0.0, 'C4'): <fooof.objs.fit.FOOOF at 0x7f5a48096620>,\n",
       "  (1.0, 'C3'): <fooof.objs.fit.FOOOF at 0x7f5a480979d0>,\n",
       "  (1.0, 'C4'): <fooof.objs.fit.FOOOF at 0x7f5a480969b0>,\n",
       "  (2.0, 'C3'): <fooof.objs.fit.FOOOF at 0x7f5a47ad46d0>,\n",
       "  (2.0, 'C4'): <fooof.objs.fit.FOOOF at 0x7f5a47ad5cc0>,\n",
       "  (3.0, 'C3'): <fooof.objs.fit.FOOOF at 0x7f5a47ad7220>,\n",
       "  (3.0, 'C4'): <fooof.objs.fit.FOOOF at 0x7f5a47ad5c60>,\n",
       "  (4.0, 'C3'): <fooof.objs.fit.FOOOF at 0x7f5a47ad44f0>,\n",
       "  (4.0, 'C4'): <fooof.objs.fit.FOOOF at 0x7f5a47ad6500>},\n",
       " {(0.0, 'C3'): <fooof.objs.fit.FOOOF at 0x7f5a47e8be20>,\n",
       "  (0.0, 'C4'): <fooof.objs.fit.FOOOF at 0x7f5a48094160>,\n",
       "  (1.0, 'C3'): <fooof.objs.fit.FOOOF at 0x7f5a48095810>,\n",
       "  (1.0, 'C4'): <fooof.objs.fit.FOOOF at 0x7f5a48094040>,\n",
       "  (2.0, 'C3'): <fooof.objs.fit.FOOOF at 0x7f5a480959c0>,\n",
       "  (2.0, 'C4'): <fooof.objs.fit.FOOOF at 0x7f5a48094c70>,\n",
       "  (3.0, 'C3'): <fooof.objs.fit.FOOOF at 0x7f5a48095690>,\n",
       "  (3.0, 'C4'): <fooof.objs.fit.FOOOF at 0x7f5a48096ad0>,\n",
       "  (4.0, 'C3'): <fooof.objs.fit.FOOOF at 0x7f5a48097d00>,\n",
       "  (4.0, 'C4'): <fooof.objs.fit.FOOOF at 0x7f5a48097b20>},\n",
       " {(0.0, 'C3'): <fooof.objs.fit.FOOOF at 0x7f5a3fa748e0>,\n",
       "  (0.0, 'C4'): <fooof.objs.fit.FOOOF at 0x7f5a3fa74af0>,\n",
       "  (1.0, 'C3'): <fooof.objs.fit.FOOOF at 0x7f5a3fa74c10>,\n",
       "  (1.0, 'C4'): <fooof.objs.fit.FOOOF at 0x7f5a3f9f1c30>,\n",
       "  (2.0, 'C3'): <fooof.objs.fit.FOOOF at 0x7f5a3f9f3d30>,\n",
       "  (2.0, 'C4'): <fooof.objs.fit.FOOOF at 0x7f5a3f9f23e0>,\n",
       "  (3.0, 'C3'): <fooof.objs.fit.FOOOF at 0x7f5a3f9f37f0>,\n",
       "  (3.0, 'C4'): <fooof.objs.fit.FOOOF at 0x7f5a3f9f3ac0>,\n",
       "  (4.0, 'C3'): <fooof.objs.fit.FOOOF at 0x7f5a3f9f3940>,\n",
       "  (4.0, 'C4'): <fooof.objs.fit.FOOOF at 0x7f5a3f9f1810>},\n",
       " {(0.0, 'C3'): <fooof.objs.fit.FOOOF at 0x7f5a2bdf4d00>,\n",
       "  (0.0, 'C4'): <fooof.objs.fit.FOOOF at 0x7f5a2bdf6500>,\n",
       "  (1.0, 'C3'): <fooof.objs.fit.FOOOF at 0x7f5a2bdf46d0>,\n",
       "  (1.0, 'C4'): <fooof.objs.fit.FOOOF at 0x7f5a2bdf5a20>,\n",
       "  (2.0, 'C3'): <fooof.objs.fit.FOOOF at 0x7f5a2bdf5bd0>,\n",
       "  (2.0, 'C4'): <fooof.objs.fit.FOOOF at 0x7f5a2bdf5390>,\n",
       "  (3.0, 'C3'): <fooof.objs.fit.FOOOF at 0x7f5a2bdf5210>,\n",
       "  (3.0, 'C4'): <fooof.objs.fit.FOOOF at 0x7f5a2bdf46a0>,\n",
       "  (4.0, 'C3'): <fooof.objs.fit.FOOOF at 0x7f5a2bdf56f0>,\n",
       "  (4.0, 'C4'): <fooof.objs.fit.FOOOF at 0x7f5a2bdf5330>},\n",
       " {(0.0, 'C3'): <fooof.objs.fit.FOOOF at 0x7f5a36790640>,\n",
       "  (0.0, 'C4'): <fooof.objs.fit.FOOOF at 0x7f5a36791ba0>,\n",
       "  (1.0, 'C3'): <fooof.objs.fit.FOOOF at 0x7f5a367916f0>,\n",
       "  (1.0, 'C4'): <fooof.objs.fit.FOOOF at 0x7f5a36791510>,\n",
       "  (2.0, 'C3'): <fooof.objs.fit.FOOOF at 0x7f5a36791570>,\n",
       "  (2.0, 'C4'): <fooof.objs.fit.FOOOF at 0x7f5a36790d60>,\n",
       "  (3.0, 'C3'): <fooof.objs.fit.FOOOF at 0x7f5a36791f90>,\n",
       "  (3.0, 'C4'): <fooof.objs.fit.FOOOF at 0x7f5a36790f10>,\n",
       "  (4.0, 'C3'): <fooof.objs.fit.FOOOF at 0x7f5a367910c0>,\n",
       "  (4.0, 'C4'): <fooof.objs.fit.FOOOF at 0x7f5a36791060>},\n",
       " {(0.0, 'C3'): <fooof.objs.fit.FOOOF at 0x7f5a2bfe7e80>,\n",
       "  (0.0, 'C4'): <fooof.objs.fit.FOOOF at 0x7f5a3f6adc90>,\n",
       "  (1.0, 'C3'): <fooof.objs.fit.FOOOF at 0x7f5a194216f0>,\n",
       "  (1.0, 'C4'): <fooof.objs.fit.FOOOF at 0x7f5a3f33ab90>,\n",
       "  (2.0, 'C3'): <fooof.objs.fit.FOOOF at 0x7f5a3f3a4eb0>,\n",
       "  (2.0, 'C4'): <fooof.objs.fit.FOOOF at 0x7f5a2c3281c0>,\n",
       "  (3.0, 'C3'): <fooof.objs.fit.FOOOF at 0x7f5a2c328220>,\n",
       "  (3.0, 'C4'): <fooof.objs.fit.FOOOF at 0x7f5a464b3e80>,\n",
       "  (4.0, 'C3'): <fooof.objs.fit.FOOOF at 0x7f5a2be96440>,\n",
       "  (4.0, 'C4'): <fooof.objs.fit.FOOOF at 0x7f5a2be96680>},\n",
       " {(0.0, 'C3'): <fooof.objs.fit.FOOOF at 0x7f5a33eec040>,\n",
       "  (0.0, 'C4'): <fooof.objs.fit.FOOOF at 0x7f5a33dc0e80>,\n",
       "  (1.0, 'C3'): <fooof.objs.fit.FOOOF at 0x7f5a33dc3a60>,\n",
       "  (1.0, 'C4'): <fooof.objs.fit.FOOOF at 0x7f5a33d77850>,\n",
       "  (2.0, 'C3'): <fooof.objs.fit.FOOOF at 0x7f5a33d75e10>,\n",
       "  (2.0, 'C4'): <fooof.objs.fit.FOOOF at 0x7f5a33c05960>,\n",
       "  (3.0, 'C3'): <fooof.objs.fit.FOOOF at 0x7f5a33c05750>,\n",
       "  (3.0, 'C4'): <fooof.objs.fit.FOOOF at 0x7f5a33c06410>,\n",
       "  (4.0, 'C3'): <fooof.objs.fit.FOOOF at 0x7f5a33c05420>,\n",
       "  (4.0, 'C4'): <fooof.objs.fit.FOOOF at 0x7f5a33c063e0>},\n",
       " {(0.0, 'C3'): <fooof.objs.fit.FOOOF at 0x7f5a3123a260>,\n",
       "  (0.0, 'C4'): <fooof.objs.fit.FOOOF at 0x7f5a31239f00>,\n",
       "  (1.0, 'C3'): <fooof.objs.fit.FOOOF at 0x7f5a31239810>,\n",
       "  (1.0, 'C4'): <fooof.objs.fit.FOOOF at 0x7f5a311e6980>,\n",
       "  (2.0, 'C3'): <fooof.objs.fit.FOOOF at 0x7f5a311e5d20>,\n",
       "  (2.0, 'C4'): <fooof.objs.fit.FOOOF at 0x7f5a311e5ed0>,\n",
       "  (3.0, 'C3'): <fooof.objs.fit.FOOOF at 0x7f5a311e5810>,\n",
       "  (3.0, 'C4'): <fooof.objs.fit.FOOOF at 0x7f5a311e5630>,\n",
       "  (4.0, 'C3'): <fooof.objs.fit.FOOOF at 0x7f5a311e5960>,\n",
       "  (4.0, 'C4'): <fooof.objs.fit.FOOOF at 0x7f5a311e4e20>},\n",
       " {(0.0, 'C3'): <fooof.objs.fit.FOOOF at 0x7f5a2d7c5f90>,\n",
       "  (0.0, 'C4'): <fooof.objs.fit.FOOOF at 0x7f5a2d7c62c0>,\n",
       "  (1.0, 'C3'): <fooof.objs.fit.FOOOF at 0x7f5a2d7c63e0>,\n",
       "  (1.0, 'C4'): <fooof.objs.fit.FOOOF at 0x7f5a2d54eb90>,\n",
       "  (2.0, 'C3'): <fooof.objs.fit.FOOOF at 0x7f5a2d54dc60>,\n",
       "  (2.0, 'C4'): <fooof.objs.fit.FOOOF at 0x7f5a2d54e200>,\n",
       "  (3.0, 'C3'): <fooof.objs.fit.FOOOF at 0x7f5a2d54cdc0>,\n",
       "  (3.0, 'C4'): <fooof.objs.fit.FOOOF at 0x7f5a2d54f940>,\n",
       "  (4.0, 'C3'): <fooof.objs.fit.FOOOF at 0x7f5a2d54f8e0>,\n",
       "  (4.0, 'C4'): <fooof.objs.fit.FOOOF at 0x7f5a2d54e2c0>},\n",
       " {(0.0, 'C3'): <fooof.objs.fit.FOOOF at 0x7f5a2ac2bdf0>,\n",
       "  (0.0, 'C4'): <fooof.objs.fit.FOOOF at 0x7f5a2ac29c30>,\n",
       "  (1.0, 'C3'): <fooof.objs.fit.FOOOF at 0x7f5a2ac28e50>,\n",
       "  (1.0, 'C4'): <fooof.objs.fit.FOOOF at 0x7f5a2ac29db0>,\n",
       "  (2.0, 'C3'): <fooof.objs.fit.FOOOF at 0x7f5a2ac28ac0>,\n",
       "  (2.0, 'C4'): <fooof.objs.fit.FOOOF at 0x7f5a2ac2bf10>,\n",
       "  (3.0, 'C3'): <fooof.objs.fit.FOOOF at 0x7f5a2ac2bb20>,\n",
       "  (3.0, 'C4'): <fooof.objs.fit.FOOOF at 0x7f5a2ac2ba60>,\n",
       "  (4.0, 'C3'): <fooof.objs.fit.FOOOF at 0x7f5a2ac2a530>,\n",
       "  (4.0, 'C4'): <fooof.objs.fit.FOOOF at 0x7f5a2ac2a680>},\n",
       " {(0.0, 'C3'): <fooof.objs.fit.FOOOF at 0x7f5a24d6f6a0>,\n",
       "  (0.0, 'C4'): <fooof.objs.fit.FOOOF at 0x7f5a24d6f580>,\n",
       "  (1.0, 'C3'): <fooof.objs.fit.FOOOF at 0x7f5a24d6f4c0>,\n",
       "  (1.0, 'C4'): <fooof.objs.fit.FOOOF at 0x7f5a24b36020>,\n",
       "  (2.0, 'C3'): <fooof.objs.fit.FOOOF at 0x7f5a24b36050>,\n",
       "  (2.0, 'C4'): <fooof.objs.fit.FOOOF at 0x7f5a24b35960>,\n",
       "  (3.0, 'C3'): <fooof.objs.fit.FOOOF at 0x7f5a24b357b0>,\n",
       "  (3.0, 'C4'): <fooof.objs.fit.FOOOF at 0x7f5a24b34f40>,\n",
       "  (4.0, 'C3'): <fooof.objs.fit.FOOOF at 0x7f5a24b356c0>,\n",
       "  (4.0, 'C4'): <fooof.objs.fit.FOOOF at 0x7f5a24b35900>},\n",
       " {(0.0, 'C3'): <fooof.objs.fit.FOOOF at 0x7f5a28326710>,\n",
       "  (0.0, 'C4'): <fooof.objs.fit.FOOOF at 0x7f5a283268c0>,\n",
       "  (1.0, 'C3'): <fooof.objs.fit.FOOOF at 0x7f5a283269b0>,\n",
       "  (1.0, 'C4'): <fooof.objs.fit.FOOOF at 0x7f5a281dffa0>,\n",
       "  (2.0, 'C3'): <fooof.objs.fit.FOOOF at 0x7f5a281dfcd0>,\n",
       "  (2.0, 'C4'): <fooof.objs.fit.FOOOF at 0x7f5a281dea40>,\n",
       "  (3.0, 'C3'): <fooof.objs.fit.FOOOF at 0x7f5a281df700>,\n",
       "  (3.0, 'C4'): <fooof.objs.fit.FOOOF at 0x7f5a281df970>,\n",
       "  (4.0, 'C3'): <fooof.objs.fit.FOOOF at 0x7f5a281df910>,\n",
       "  (4.0, 'C4'): <fooof.objs.fit.FOOOF at 0x7f5a281de7d0>},\n",
       " {(0.0, 'C3'): <fooof.objs.fit.FOOOF at 0x7f5a23f62740>,\n",
       "  (0.0, 'C4'): <fooof.objs.fit.FOOOF at 0x7f5a23f62500>,\n",
       "  (1.0, 'C3'): <fooof.objs.fit.FOOOF at 0x7f5a23fa6b00>,\n",
       "  (1.0, 'C4'): <fooof.objs.fit.FOOOF at 0x7f5a23f86fe0>,\n",
       "  (2.0, 'C3'): <fooof.objs.fit.FOOOF at 0x7f5a23eff910>,\n",
       "  (2.0, 'C4'): <fooof.objs.fit.FOOOF at 0x7f5a23eff100>,\n",
       "  (3.0, 'C3'): <fooof.objs.fit.FOOOF at 0x7f5a23df0130>,\n",
       "  (3.0, 'C4'): <fooof.objs.fit.FOOOF at 0x7f5a23df1600>,\n",
       "  (4.0, 'C3'): <fooof.objs.fit.FOOOF at 0x7f5a23df1090>,\n",
       "  (4.0, 'C4'): <fooof.objs.fit.FOOOF at 0x7f5a23df1540>},\n",
       " {(0.0, 'C3'): <fooof.objs.fit.FOOOF at 0x7f5a21b05360>,\n",
       "  (0.0, 'C4'): <fooof.objs.fit.FOOOF at 0x7f5a21b064d0>,\n",
       "  (2.0, 'C3'): <fooof.objs.fit.FOOOF at 0x7f5a21b05ea0>,\n",
       "  (2.0, 'C4'): <fooof.objs.fit.FOOOF at 0x7f5a21b06410>},\n",
       " {(0.0, 'C3'): <fooof.objs.fit.FOOOF at 0x7f5a1f8c0ee0>,\n",
       "  (0.0, 'C4'): <fooof.objs.fit.FOOOF at 0x7f5a1f89f220>,\n",
       "  (1.0, 'C3'): <fooof.objs.fit.FOOOF at 0x7f5a1f89f250>,\n",
       "  (1.0, 'C4'): <fooof.objs.fit.FOOOF at 0x7f5a1f6e7c70>,\n",
       "  (2.0, 'C3'): <fooof.objs.fit.FOOOF at 0x7f5a1f6e56c0>,\n",
       "  (2.0, 'C4'): <fooof.objs.fit.FOOOF at 0x7f5a1f6e70a0>,\n",
       "  (3.0, 'C3'): <fooof.objs.fit.FOOOF at 0x7f5a1f6e74c0>,\n",
       "  (3.0, 'C4'): <fooof.objs.fit.FOOOF at 0x7f5a1f6e71c0>,\n",
       "  (4.0, 'C3'): <fooof.objs.fit.FOOOF at 0x7f5a1f6e6d10>,\n",
       "  (4.0, 'C4'): <fooof.objs.fit.FOOOF at 0x7f5a1f705720>},\n",
       " {(0.0, 'C3'): <fooof.objs.fit.FOOOF at 0x7f5a21263dc0>,\n",
       "  (0.0, 'C4'): <fooof.objs.fit.FOOOF at 0x7f5a21261f30>,\n",
       "  (1.0, 'C3'): <fooof.objs.fit.FOOOF at 0x7f5a21261a50>,\n",
       "  (1.0, 'C4'): <fooof.objs.fit.FOOOF at 0x7f5a21263f70>,\n",
       "  (2.0, 'C3'): <fooof.objs.fit.FOOOF at 0x7f5a21263e50>,\n",
       "  (2.0, 'C4'): <fooof.objs.fit.FOOOF at 0x7f5a21262380>,\n",
       "  (3.0, 'C3'): <fooof.objs.fit.FOOOF at 0x7f5a21262650>,\n",
       "  (3.0, 'C4'): <fooof.objs.fit.FOOOF at 0x7f5a21262ad0>,\n",
       "  (4.0, 'C3'): <fooof.objs.fit.FOOOF at 0x7f5a21262c80>,\n",
       "  (4.0, 'C4'): <fooof.objs.fit.FOOOF at 0x7f5a21262800>},\n",
       " {(0.0, 'C3'): <fooof.objs.fit.FOOOF at 0x7f5a1c5cfe80>,\n",
       "  (0.0, 'C4'): <fooof.objs.fit.FOOOF at 0x7f5a1c5ce770>,\n",
       "  (1.0, 'C3'): <fooof.objs.fit.FOOOF at 0x7f5a1c5cfd60>,\n",
       "  (1.0, 'C4'): <fooof.objs.fit.FOOOF at 0x7f5a1c43d450>,\n",
       "  (2.0, 'C3'): <fooof.objs.fit.FOOOF at 0x7f5a1c43e5c0>,\n",
       "  (2.0, 'C4'): <fooof.objs.fit.FOOOF at 0x7f5a1c460be0>,\n",
       "  (3.0, 'C3'): <fooof.objs.fit.FOOOF at 0x7f5a1c461150>,\n",
       "  (3.0, 'C4'): <fooof.objs.fit.FOOOF at 0x7f5a1c463d90>,\n",
       "  (4.0, 'C3'): <fooof.objs.fit.FOOOF at 0x7f5a1c463e20>,\n",
       "  (4.0, 'C4'): <fooof.objs.fit.FOOOF at 0x7f5a1c463df0>},\n",
       " {(0.0, 'C3'): <fooof.objs.fit.FOOOF at 0x7f5a1a32b970>,\n",
       "  (0.0, 'C4'): <fooof.objs.fit.FOOOF at 0x7f5a1a32ba60>,\n",
       "  (1.0, 'C3'): <fooof.objs.fit.FOOOF at 0x7f5a1a32b820>,\n",
       "  (1.0, 'C4'): <fooof.objs.fit.FOOOF at 0x7f5a1a2e3d60>,\n",
       "  (2.0, 'C3'): <fooof.objs.fit.FOOOF at 0x7f5a1a2e2fe0>,\n",
       "  (2.0, 'C4'): <fooof.objs.fit.FOOOF at 0x7f5a1a2e3e50>,\n",
       "  (3.0, 'C3'): <fooof.objs.fit.FOOOF at 0x7f5a1a2e2c50>,\n",
       "  (3.0, 'C4'): <fooof.objs.fit.FOOOF at 0x7f5a1a2e29e0>,\n",
       "  (4.0, 'C3'): <fooof.objs.fit.FOOOF at 0x7f5a1a2e2980>,\n",
       "  (4.0, 'C4'): <fooof.objs.fit.FOOOF at 0x7f5a1a2e2e60>},\n",
       " {(0.0, 'C3'): <fooof.objs.fit.FOOOF at 0x7f5a17d2a110>,\n",
       "  (0.0, 'C4'): <fooof.objs.fit.FOOOF at 0x7f5a17d29a80>,\n",
       "  (1.0, 'C3'): <fooof.objs.fit.FOOOF at 0x7f5a17d294b0>,\n",
       "  (1.0, 'C4'): <fooof.objs.fit.FOOOF at 0x7f5a17ae2650>,\n",
       "  (2.0, 'C3'): <fooof.objs.fit.FOOOF at 0x7f5a17ae2140>,\n",
       "  (2.0, 'C4'): <fooof.objs.fit.FOOOF at 0x7f5a17ae20e0>,\n",
       "  (3.0, 'C3'): <fooof.objs.fit.FOOOF at 0x7f5a17ae06d0>,\n",
       "  (3.0, 'C4'): <fooof.objs.fit.FOOOF at 0x7f5a17ae0250>,\n",
       "  (4.0, 'C3'): <fooof.objs.fit.FOOOF at 0x7f5a17ae1c90>,\n",
       "  (4.0, 'C4'): <fooof.objs.fit.FOOOF at 0x7f5a17ae0370>},\n",
       " {(0.0, 'C3'): <fooof.objs.fit.FOOOF at 0x7f5a11508070>,\n",
       "  (0.0, 'C4'): <fooof.objs.fit.FOOOF at 0x7f5a115090f0>,\n",
       "  (1.0, 'C3'): <fooof.objs.fit.FOOOF at 0x7f5a11509180>,\n",
       "  (1.0, 'C4'): <fooof.objs.fit.FOOOF at 0x7f5a11509990>,\n",
       "  (2.0, 'C3'): <fooof.objs.fit.FOOOF at 0x7f5a11509000>,\n",
       "  (2.0, 'C4'): <fooof.objs.fit.FOOOF at 0x7f5a11508850>,\n",
       "  (3.0, 'C3'): <fooof.objs.fit.FOOOF at 0x7f5a115085e0>,\n",
       "  (3.0, 'C4'): <fooof.objs.fit.FOOOF at 0x7f5a11509a20>,\n",
       "  (4.0, 'C3'): <fooof.objs.fit.FOOOF at 0x7f5a11508a00>,\n",
       "  (4.0, 'C4'): <fooof.objs.fit.FOOOF at 0x7f5a11508ac0>},\n",
       " {(0.0, 'C3'): <fooof.objs.fit.FOOOF at 0x7f5a1509cd00>,\n",
       "  (0.0, 'C4'): <fooof.objs.fit.FOOOF at 0x7f5a36874f40>,\n",
       "  (1.0, 'C3'): <fooof.objs.fit.FOOOF at 0x7f5a3676ee90>,\n",
       "  (1.0, 'C4'): <fooof.objs.fit.FOOOF at 0x7f5a14e3d660>,\n",
       "  (2.0, 'C3'): <fooof.objs.fit.FOOOF at 0x7f5a14e3df30>,\n",
       "  (2.0, 'C4'): <fooof.objs.fit.FOOOF at 0x7f5a14e3ef20>,\n",
       "  (3.0, 'C3'): <fooof.objs.fit.FOOOF at 0x7f5a14e3fdc0>,\n",
       "  (3.0, 'C4'): <fooof.objs.fit.FOOOF at 0x7f5a14e3fe80>,\n",
       "  (4.0, 'C3'): <fooof.objs.fit.FOOOF at 0x7f5a14e3d5d0>,\n",
       "  (4.0, 'C4'): <fooof.objs.fit.FOOOF at 0x7f5a14e3e380>},\n",
       " {(0.0, 'C3'): <fooof.objs.fit.FOOOF at 0x7f5a1237c2e0>,\n",
       "  (0.0, 'C4'): <fooof.objs.fit.FOOOF at 0x7f5a2f0c8490>,\n",
       "  (1.0, 'C3'): <fooof.objs.fit.FOOOF at 0x7f5a2f0c90c0>,\n",
       "  (1.0, 'C4'): <fooof.objs.fit.FOOOF at 0x7f5a1131cca0>,\n",
       "  (2.0, 'C3'): <fooof.objs.fit.FOOOF at 0x7f5a1131c100>,\n",
       "  (2.0, 'C4'): <fooof.objs.fit.FOOOF at 0x7f5a1131e5c0>,\n",
       "  (3.0, 'C3'): <fooof.objs.fit.FOOOF at 0x7f5a1131dc30>,\n",
       "  (3.0, 'C4'): <fooof.objs.fit.FOOOF at 0x7f5a1131f700>,\n",
       "  (4.0, 'C3'): <fooof.objs.fit.FOOOF at 0x7f5a1131fdf0>,\n",
       "  (4.0, 'C4'): <fooof.objs.fit.FOOOF at 0x7f5a1131fd00>},\n",
       " {(0.0, 'C3'): <fooof.objs.fit.FOOOF at 0x7f5a296e8a90>,\n",
       "  (0.0, 'C4'): <fooof.objs.fit.FOOOF at 0x7f5a1d4373d0>,\n",
       "  (1.0, 'C3'): <fooof.objs.fit.FOOOF at 0x7f5a2ed212a0>,\n",
       "  (1.0, 'C4'): <fooof.objs.fit.FOOOF at 0x7f5a28a6dbd0>,\n",
       "  (2.0, 'C3'): <fooof.objs.fit.FOOOF at 0x7f5a1f27f7f0>,\n",
       "  (2.0, 'C4'): <fooof.objs.fit.FOOOF at 0x7f5a1f27f640>,\n",
       "  (3.0, 'C3'): <fooof.objs.fit.FOOOF at 0x7f5a1d742350>,\n",
       "  (3.0, 'C4'): <fooof.objs.fit.FOOOF at 0x7f5a1effcac0>,\n",
       "  (4.0, 'C3'): <fooof.objs.fit.FOOOF at 0x7f5a28e57c40>,\n",
       "  (4.0, 'C4'): <fooof.objs.fit.FOOOF at 0x7f5a28840730>},\n",
       " {(0.0, 'C3'): <fooof.objs.fit.FOOOF at 0x7f5a33c668f0>,\n",
       "  (0.0, 'C4'): <fooof.objs.fit.FOOOF at 0x7f5a0cfa6aa0>,\n",
       "  (1.0, 'C3'): <fooof.objs.fit.FOOOF at 0x7f5a0cf82d70>,\n",
       "  (1.0, 'C4'): <fooof.objs.fit.FOOOF at 0x7f5a0cf82890>,\n",
       "  (2.0, 'C3'): <fooof.objs.fit.FOOOF at 0x7f5a0cd78fa0>,\n",
       "  (2.0, 'C4'): <fooof.objs.fit.FOOOF at 0x7f5a0cd78550>,\n",
       "  (3.0, 'C3'): <fooof.objs.fit.FOOOF at 0x7f5a0cd7b550>,\n",
       "  (3.0, 'C4'): <fooof.objs.fit.FOOOF at 0x7f5a0cd79fc0>,\n",
       "  (4.0, 'C3'): <fooof.objs.fit.FOOOF at 0x7f5a0cd7a2f0>,\n",
       "  (4.0, 'C4'): <fooof.objs.fit.FOOOF at 0x7f5a0cd7b310>},\n",
       " {(0.0, 'C3'): <fooof.objs.fit.FOOOF at 0x7f5a0c3a6ce0>,\n",
       "  (0.0, 'C4'): <fooof.objs.fit.FOOOF at 0x7f5a0b0210f0>,\n",
       "  (1.0, 'C3'): <fooof.objs.fit.FOOOF at 0x7f5a0b05faf0>,\n",
       "  (1.0, 'C4'): <fooof.objs.fit.FOOOF at 0x7f5a1e789690>,\n",
       "  (2.0, 'C3'): <fooof.objs.fit.FOOOF at 0x7f5a0c27e8c0>,\n",
       "  (2.0, 'C4'): <fooof.objs.fit.FOOOF at 0x7f5a0b0af3a0>,\n",
       "  (3.0, 'C3'): <fooof.objs.fit.FOOOF at 0x7f5a0b0ad180>,\n",
       "  (3.0, 'C4'): <fooof.objs.fit.FOOOF at 0x7f5a0b0aef50>,\n",
       "  (4.0, 'C3'): <fooof.objs.fit.FOOOF at 0x7f5a0b0afd60>,\n",
       "  (4.0, 'C4'): <fooof.objs.fit.FOOOF at 0x7f5a0b0ac730>},\n",
       " {(0.0, 'C3'): <fooof.objs.fit.FOOOF at 0x7f5a0889c520>,\n",
       "  (0.0, 'C4'): <fooof.objs.fit.FOOOF at 0x7f5a0889c4c0>,\n",
       "  (1.0, 'C3'): <fooof.objs.fit.FOOOF at 0x7f5a0889c5b0>,\n",
       "  (1.0, 'C4'): <fooof.objs.fit.FOOOF at 0x7f5a0861fd30>,\n",
       "  (2.0, 'C3'): <fooof.objs.fit.FOOOF at 0x7f5a0861f670>,\n",
       "  (2.0, 'C4'): <fooof.objs.fit.FOOOF at 0x7f5a0861d870>,\n",
       "  (3.0, 'C3'): <fooof.objs.fit.FOOOF at 0x7f5a0861ef80>,\n",
       "  (3.0, 'C4'): <fooof.objs.fit.FOOOF at 0x7f5a0861d480>,\n",
       "  (4.0, 'C3'): <fooof.objs.fit.FOOOF at 0x7f5a0861f400>,\n",
       "  (4.0, 'C4'): <fooof.objs.fit.FOOOF at 0x7f5a0861d7b0>},\n",
       " {(0.0, 'C3'): <fooof.objs.fit.FOOOF at 0x7f5a2376b8b0>,\n",
       "  (0.0, 'C4'): <fooof.objs.fit.FOOOF at 0x7f5a2ab0ada0>,\n",
       "  (1.0, 'C3'): <fooof.objs.fit.FOOOF at 0x7f5a01dbf010>,\n",
       "  (1.0, 'C4'): <fooof.objs.fit.FOOOF at 0x7f5a01dbef20>,\n",
       "  (2.0, 'C3'): <fooof.objs.fit.FOOOF at 0x7f5a01b7b7f0>,\n",
       "  (2.0, 'C4'): <fooof.objs.fit.FOOOF at 0x7f5a01b7aa10>,\n",
       "  (3.0, 'C3'): <fooof.objs.fit.FOOOF at 0x7f5a01b7b010>,\n",
       "  (3.0, 'C4'): <fooof.objs.fit.FOOOF at 0x7f5a01b798a0>,\n",
       "  (4.0, 'C3'): <fooof.objs.fit.FOOOF at 0x7f5a01b78eb0>,\n",
       "  (4.0, 'C4'): <fooof.objs.fit.FOOOF at 0x7f5a01b7bb50>},\n",
       " {(0.0, 'C3'): <fooof.objs.fit.FOOOF at 0x7f5a05b3c190>,\n",
       "  (0.0, 'C4'): <fooof.objs.fit.FOOOF at 0x7f5a05b3c280>,\n",
       "  (1.0, 'C3'): <fooof.objs.fit.FOOOF at 0x7f5a05b3c2b0>,\n",
       "  (1.0, 'C4'): <fooof.objs.fit.FOOOF at 0x7f5a05b3c340>,\n",
       "  (2.0, 'C3'): <fooof.objs.fit.FOOOF at 0x7f5a059afd30>,\n",
       "  (2.0, 'C4'): <fooof.objs.fit.FOOOF at 0x7f5a059afe50>,\n",
       "  (3.0, 'C3'): <fooof.objs.fit.FOOOF at 0x7f5a059ad9c0>,\n",
       "  (3.0, 'C4'): <fooof.objs.fit.FOOOF at 0x7f5a059ad420>,\n",
       "  (4.0, 'C3'): <fooof.objs.fit.FOOOF at 0x7f5a059afbb0>,\n",
       "  (4.0, 'C4'): <fooof.objs.fit.FOOOF at 0x7f5a059afac0>},\n",
       " {(0.0, 'C3'): <fooof.objs.fit.FOOOF at 0x7f5a0303fee0>,\n",
       "  (0.0, 'C4'): <fooof.objs.fit.FOOOF at 0x7f5a02edb1c0>,\n",
       "  (1.0, 'C3'): <fooof.objs.fit.FOOOF at 0x7f5a02eda380>,\n",
       "  (1.0, 'C4'): <fooof.objs.fit.FOOOF at 0x7f5a02edacb0>,\n",
       "  (2.0, 'C3'): <fooof.objs.fit.FOOOF at 0x7f5a02edb700>,\n",
       "  (2.0, 'C4'): <fooof.objs.fit.FOOOF at 0x7f5a02eda410>,\n",
       "  (3.0, 'C3'): <fooof.objs.fit.FOOOF at 0x7f5a02eda3e0>,\n",
       "  (3.0, 'C4'): <fooof.objs.fit.FOOOF at 0x7f5a02eda1d0>,\n",
       "  (4.0, 'C3'): <fooof.objs.fit.FOOOF at 0x7f5a02eda590>,\n",
       "  (4.0, 'C4'): <fooof.objs.fit.FOOOF at 0x7f5a02eda6b0>},\n",
       " {(0.0, 'C3'): <fooof.objs.fit.FOOOF at 0x7f59fdb154e0>,\n",
       "  (0.0, 'C4'): <fooof.objs.fit.FOOOF at 0x7f59fdb161a0>,\n",
       "  (1.0, 'C3'): <fooof.objs.fit.FOOOF at 0x7f59fdb15db0>,\n",
       "  (1.0, 'C4'): <fooof.objs.fit.FOOOF at 0x7f59fdb16500>,\n",
       "  (2.0, 'C3'): <fooof.objs.fit.FOOOF at 0x7f59fdb154b0>,\n",
       "  (2.0, 'C4'): <fooof.objs.fit.FOOOF at 0x7f59fdb15600>,\n",
       "  (3.0, 'C3'): <fooof.objs.fit.FOOOF at 0x7f59fdb15420>,\n",
       "  (3.0, 'C4'): <fooof.objs.fit.FOOOF at 0x7f59fdb140d0>,\n",
       "  (4.0, 'C3'): <fooof.objs.fit.FOOOF at 0x7f59fdb15840>,\n",
       "  (4.0, 'C4'): <fooof.objs.fit.FOOOF at 0x7f59fdb16740>},\n",
       " {(0.0, 'C3'): <fooof.objs.fit.FOOOF at 0x7f59fb6df280>,\n",
       "  (0.0, 'C4'): <fooof.objs.fit.FOOOF at 0x7f59fb6dce50>,\n",
       "  (1.0, 'C3'): <fooof.objs.fit.FOOOF at 0x7f59fb6dc0d0>,\n",
       "  (1.0, 'C4'): <fooof.objs.fit.FOOOF at 0x7f59fb7076d0>,\n",
       "  (2.0, 'C3'): <fooof.objs.fit.FOOOF at 0x7f59fb707b20>,\n",
       "  (2.0, 'C4'): <fooof.objs.fit.FOOOF at 0x7f59fb706e60>,\n",
       "  (3.0, 'C3'): <fooof.objs.fit.FOOOF at 0x7f59fb707ee0>,\n",
       "  (3.0, 'C4'): <fooof.objs.fit.FOOOF at 0x7f59fb707dc0>,\n",
       "  (4.0, 'C3'): <fooof.objs.fit.FOOOF at 0x7f59fb707880>,\n",
       "  (4.0, 'C4'): <fooof.objs.fit.FOOOF at 0x7f59fb707a00>},\n",
       " {(0.0, 'C3'): <fooof.objs.fit.FOOOF at 0x7f59f9009ae0>,\n",
       "  (0.0, 'C4'): <fooof.objs.fit.FOOOF at 0x7f59f9009270>,\n",
       "  (1.0, 'C3'): <fooof.objs.fit.FOOOF at 0x7f59f900baf0>,\n",
       "  (1.0, 'C4'): <fooof.objs.fit.FOOOF at 0x7f59f9009360>,\n",
       "  (2.0, 'C3'): <fooof.objs.fit.FOOOF at 0x7f59f8f57340>,\n",
       "  (2.0, 'C4'): <fooof.objs.fit.FOOOF at 0x7f59f8f56260>,\n",
       "  (3.0, 'C3'): <fooof.objs.fit.FOOOF at 0x7f59f86e4b20>,\n",
       "  (3.0, 'C4'): <fooof.objs.fit.FOOOF at 0x7f59f86e51e0>,\n",
       "  (4.0, 'C3'): <fooof.objs.fit.FOOOF at 0x7f59f86e4fd0>,\n",
       "  (4.0, 'C4'): <fooof.objs.fit.FOOOF at 0x7f59f86e40d0>},\n",
       " {(0.0, 'C3'): <fooof.objs.fit.FOOOF at 0x7f59f7072c80>,\n",
       "  (0.0, 'C4'): <fooof.objs.fit.FOOOF at 0x7f5a1ad9b010>,\n",
       "  (1.0, 'C3'): <fooof.objs.fit.FOOOF at 0x7f59f6f4b4f0>,\n",
       "  (1.0, 'C4'): <fooof.objs.fit.FOOOF at 0x7f59f7123af0>,\n",
       "  (2.0, 'C3'): <fooof.objs.fit.FOOOF at 0x7f59f7121ea0>,\n",
       "  (2.0, 'C4'): <fooof.objs.fit.FOOOF at 0x7f59f6f737f0>,\n",
       "  (3.0, 'C3'): <fooof.objs.fit.FOOOF at 0x7f59f6f710f0>,\n",
       "  (3.0, 'C4'): <fooof.objs.fit.FOOOF at 0x7f59f6f90460>,\n",
       "  (4.0, 'C3'): <fooof.objs.fit.FOOOF at 0x7f59f6f90940>,\n",
       "  (4.0, 'C4'): <fooof.objs.fit.FOOOF at 0x7f59f6f91b40>},\n",
       " {(0.0, 'C3'): <fooof.objs.fit.FOOOF at 0x7f59e648f2e0>,\n",
       "  (0.0, 'C4'): <fooof.objs.fit.FOOOF at 0x7f59e6647eb0>,\n",
       "  (1.0, 'C3'): <fooof.objs.fit.FOOOF at 0x7f59e648eef0>,\n",
       "  (1.0, 'C4'): <fooof.objs.fit.FOOOF at 0x7f59e648f010>,\n",
       "  (2.0, 'C3'): <fooof.objs.fit.FOOOF at 0x7f59e64fa4a0>,\n",
       "  (2.0, 'C4'): <fooof.objs.fit.FOOOF at 0x7f59e64faf50>,\n",
       "  (3.0, 'C3'): <fooof.objs.fit.FOOOF at 0x7f59e64f9b10>,\n",
       "  (3.0, 'C4'): <fooof.objs.fit.FOOOF at 0x7f59e64f9b40>,\n",
       "  (4.0, 'C3'): <fooof.objs.fit.FOOOF at 0x7f59e64f9d50>,\n",
       "  (4.0, 'C4'): <fooof.objs.fit.FOOOF at 0x7f59e64f9ea0>},\n",
       " {(0.0, 'C3'): <fooof.objs.fit.FOOOF at 0x7f59f3f754e0>,\n",
       "  (0.0, 'C4'): <fooof.objs.fit.FOOOF at 0x7f59f3f76320>,\n",
       "  (1.0, 'C3'): <fooof.objs.fit.FOOOF at 0x7f59f3f75e70>,\n",
       "  (1.0, 'C4'): <fooof.objs.fit.FOOOF at 0x7f59f3f75c60>,\n",
       "  (2.0, 'C3'): <fooof.objs.fit.FOOOF at 0x7f59f3f75bd0>,\n",
       "  (2.0, 'C4'): <fooof.objs.fit.FOOOF at 0x7f59f3f767a0>,\n",
       "  (3.0, 'C3'): <fooof.objs.fit.FOOOF at 0x7f59f3f752a0>,\n",
       "  (3.0, 'C4'): <fooof.objs.fit.FOOOF at 0x7f59f3f756c0>,\n",
       "  (4.0, 'C3'): <fooof.objs.fit.FOOOF at 0x7f59f3f75720>,\n",
       "  (4.0, 'C4'): <fooof.objs.fit.FOOOF at 0x7f59f3f75780>},\n",
       " {(0.0, 'C3'): <fooof.objs.fit.FOOOF at 0x7f59ed00af20>,\n",
       "  (0.0, 'C4'): <fooof.objs.fit.FOOOF at 0x7f59ed0b6530>,\n",
       "  (1.0, 'C3'): <fooof.objs.fit.FOOOF at 0x7f59ed0b6a10>,\n",
       "  (1.0, 'C4'): <fooof.objs.fit.FOOOF at 0x7f59ecfabbb0>,\n",
       "  (2.0, 'C3'): <fooof.objs.fit.FOOOF at 0x7f59ecfabd30>,\n",
       "  (2.0, 'C4'): <fooof.objs.fit.FOOOF at 0x7f59ecfa9f90>,\n",
       "  (3.0, 'C3'): <fooof.objs.fit.FOOOF at 0x7f59ecfa9390>,\n",
       "  (3.0, 'C4'): <fooof.objs.fit.FOOOF at 0x7f59ecfab0d0>,\n",
       "  (4.0, 'C3'): <fooof.objs.fit.FOOOF at 0x7f59ecfab0a0>,\n",
       "  (4.0, 'C4'): <fooof.objs.fit.FOOOF at 0x7f59ecfab310>},\n",
       " {(0.0, 'C3'): <fooof.objs.fit.FOOOF at 0x7f59f12629b0>,\n",
       "  (0.0, 'C4'): <fooof.objs.fit.FOOOF at 0x7f59f1262890>,\n",
       "  (1.0, 'C3'): <fooof.objs.fit.FOOOF at 0x7f59f12638e0>,\n",
       "  (1.0, 'C4'): <fooof.objs.fit.FOOOF at 0x7f59f10de560>,\n",
       "  (2.0, 'C3'): <fooof.objs.fit.FOOOF at 0x7f59f1373970>,\n",
       "  (2.0, 'C4'): <fooof.objs.fit.FOOOF at 0x7f59f1103f40>,\n",
       "  (3.0, 'C3'): <fooof.objs.fit.FOOOF at 0x7f59f1102d70>,\n",
       "  (3.0, 'C4'): <fooof.objs.fit.FOOOF at 0x7f59f1103df0>,\n",
       "  (4.0, 'C3'): <fooof.objs.fit.FOOOF at 0x7f59f1102980>,\n",
       "  (4.0, 'C4'): <fooof.objs.fit.FOOOF at 0x7f59f1101960>},\n",
       " {(0.0, 'C3'): <fooof.objs.fit.FOOOF at 0x7f59fb035210>,\n",
       "  (0.0, 'C4'): <fooof.objs.fit.FOOOF at 0x7f59fb035870>,\n",
       "  (1.0, 'C3'): <fooof.objs.fit.FOOOF at 0x7f59fb17b5b0>,\n",
       "  (1.0, 'C4'): <fooof.objs.fit.FOOOF at 0x7f59fb10d030>,\n",
       "  (2.0, 'C3'): <fooof.objs.fit.FOOOF at 0x7f59faf313f0>,\n",
       "  (2.0, 'C4'): <fooof.objs.fit.FOOOF at 0x7f59faf32530>,\n",
       "  (3.0, 'C3'): <fooof.objs.fit.FOOOF at 0x7f59faf30fd0>,\n",
       "  (3.0, 'C4'): <fooof.objs.fit.FOOOF at 0x7f59faf324d0>,\n",
       "  (4.0, 'C3'): <fooof.objs.fit.FOOOF at 0x7f59faf318a0>,\n",
       "  (4.0, 'C4'): <fooof.objs.fit.FOOOF at 0x7f59faf31090>},\n",
       " {(0.0, 'C3'): <fooof.objs.fit.FOOOF at 0x7f59ea9ac850>,\n",
       "  (0.0, 'C4'): <fooof.objs.fit.FOOOF at 0x7f59ea8306d0>,\n",
       "  (1.0, 'C3'): <fooof.objs.fit.FOOOF at 0x7f59ea990f70>,\n",
       "  (1.0, 'C4'): <fooof.objs.fit.FOOOF at 0x7f59ea991120>,\n",
       "  (2.0, 'C3'): <fooof.objs.fit.FOOOF at 0x7f59ea8a7d90>,\n",
       "  (2.0, 'C4'): <fooof.objs.fit.FOOOF at 0x7f59ea8a6c50>,\n",
       "  (3.0, 'C3'): <fooof.objs.fit.FOOOF at 0x7f59ea8a7e50>,\n",
       "  (3.0, 'C4'): <fooof.objs.fit.FOOOF at 0x7f59ea8a6da0>,\n",
       "  (4.0, 'C3'): <fooof.objs.fit.FOOOF at 0x7f59ea8a6ef0>,\n",
       "  (4.0, 'C4'): <fooof.objs.fit.FOOOF at 0x7f59ea8a5420>},\n",
       " {(0.0, 'C3'): <fooof.objs.fit.FOOOF at 0x7f59e84dd720>,\n",
       "  (0.0, 'C4'): <fooof.objs.fit.FOOOF at 0x7f59e84de560>,\n",
       "  (1.0, 'C3'): <fooof.objs.fit.FOOOF at 0x7f59e84de0b0>,\n",
       "  (1.0, 'C4'): <fooof.objs.fit.FOOOF at 0x7f59e84de740>,\n",
       "  (2.0, 'C3'): <fooof.objs.fit.FOOOF at 0x7f59e84dde10>,\n",
       "  (2.0, 'C4'): <fooof.objs.fit.FOOOF at 0x7f59e84dd7e0>,\n",
       "  (3.0, 'C3'): <fooof.objs.fit.FOOOF at 0x7f59e84de9e0>,\n",
       "  (3.0, 'C4'): <fooof.objs.fit.FOOOF at 0x7f59e84dd450>,\n",
       "  (4.0, 'C3'): <fooof.objs.fit.FOOOF at 0x7f59e84dd9c0>,\n",
       "  (4.0, 'C4'): <fooof.objs.fit.FOOOF at 0x7f59e84dda20>},\n",
       " {(0.0, 'C3'): <fooof.objs.fit.FOOOF at 0x7f59d7ee5e10>,\n",
       "  (0.0, 'C4'): <fooof.objs.fit.FOOOF at 0x7f59d7ee4e80>,\n",
       "  (1.0, 'C3'): <fooof.objs.fit.FOOOF at 0x7f59d7e750f0>,\n",
       "  (1.0, 'C4'): <fooof.objs.fit.FOOOF at 0x7f59d7e74130>,\n",
       "  (2.0, 'C3'): <fooof.objs.fit.FOOOF at 0x7f59d7e746a0>,\n",
       "  (2.0, 'C4'): <fooof.objs.fit.FOOOF at 0x7f59d7e76bc0>,\n",
       "  (3.0, 'C3'): <fooof.objs.fit.FOOOF at 0x7f59d7e741c0>,\n",
       "  (3.0, 'C4'): <fooof.objs.fit.FOOOF at 0x7f59d7e77010>,\n",
       "  (4.0, 'C3'): <fooof.objs.fit.FOOOF at 0x7f59d7e76920>,\n",
       "  (4.0, 'C4'): <fooof.objs.fit.FOOOF at 0x7f59d7e74b20>},\n",
       " {(0.0, 'C3'): <fooof.objs.fit.FOOOF at 0x7f59e493f8b0>,\n",
       "  (0.0, 'C4'): <fooof.objs.fit.FOOOF at 0x7f59e493fc10>,\n",
       "  (1.0, 'C3'): <fooof.objs.fit.FOOOF at 0x7f59e493f550>,\n",
       "  (1.0, 'C4'): <fooof.objs.fit.FOOOF at 0x7f59e48f1c00>,\n",
       "  (2.0, 'C3'): <fooof.objs.fit.FOOOF at 0x7f59e4916fb0>,\n",
       "  (2.0, 'C4'): <fooof.objs.fit.FOOOF at 0x7f59e493ed40>,\n",
       "  (3.0, 'C3'): <fooof.objs.fit.FOOOF at 0x7f59e495e110>,\n",
       "  (3.0, 'C4'): <fooof.objs.fit.FOOOF at 0x7f59e495eef0>,\n",
       "  (4.0, 'C3'): <fooof.objs.fit.FOOOF at 0x7f59e495df90>,\n",
       "  (4.0, 'C4'): <fooof.objs.fit.FOOOF at 0x7f59e495df00>},\n",
       " {(0.0, 'C3'): <fooof.objs.fit.FOOOF at 0x7f59dd7f02e0>,\n",
       "  (0.0, 'C4'): <fooof.objs.fit.FOOOF at 0x7f59dd7cbf10>,\n",
       "  (1.0, 'C3'): <fooof.objs.fit.FOOOF at 0x7f59dd7cb940>,\n",
       "  (1.0, 'C4'): <fooof.objs.fit.FOOOF at 0x7f59dd556350>,\n",
       "  (2.0, 'C3'): <fooof.objs.fit.FOOOF at 0x7f59dd556590>,\n",
       "  (2.0, 'C4'): <fooof.objs.fit.FOOOF at 0x7f59dd5574f0>,\n",
       "  (3.0, 'C3'): <fooof.objs.fit.FOOOF at 0x7f59dd557610>,\n",
       "  (3.0, 'C4'): <fooof.objs.fit.FOOOF at 0x7f59dd557910>,\n",
       "  (4.0, 'C3'): <fooof.objs.fit.FOOOF at 0x7f59dd557ac0>,\n",
       "  (4.0, 'C4'): <fooof.objs.fit.FOOOF at 0x7f59dd555f00>},\n",
       " {(0.0, 'C3'): <fooof.objs.fit.FOOOF at 0x7f59e1be1210>,\n",
       "  (0.0, 'C4'): <fooof.objs.fit.FOOOF at 0x7f59e1be2050>,\n",
       "  (1.0, 'C3'): <fooof.objs.fit.FOOOF at 0x7f59e1be1ba0>,\n",
       "  (1.0, 'C4'): <fooof.objs.fit.FOOOF at 0x7f59e1be2230>,\n",
       "  (2.0, 'C3'): <fooof.objs.fit.FOOOF at 0x7f59e1be1900>,\n",
       "  (2.0, 'C4'): <fooof.objs.fit.FOOOF at 0x7f59e1be24d0>,\n",
       "  (3.0, 'C3'): <fooof.objs.fit.FOOOF at 0x7f59e1be0f40>,\n",
       "  (3.0, 'C4'): <fooof.objs.fit.FOOOF at 0x7f59e1be0f70>,\n",
       "  (4.0, 'C3'): <fooof.objs.fit.FOOOF at 0x7f59e1be1570>,\n",
       "  (4.0, 'C4'): <fooof.objs.fit.FOOOF at 0x7f59e1be2590>},\n",
       " {(0.0, 'C3'): <fooof.objs.fit.FOOOF at 0x7f59df4a1030>,\n",
       "  (0.0, 'C4'): <fooof.objs.fit.FOOOF at 0x7f59df4a1cf0>,\n",
       "  (1.0, 'C3'): <fooof.objs.fit.FOOOF at 0x7f59df4a19c0>,\n",
       "  (1.0, 'C4'): <fooof.objs.fit.FOOOF at 0x7f59df4a2050>,\n",
       "  (2.0, 'C3'): <fooof.objs.fit.FOOOF at 0x7f59df4a1720>,\n",
       "  (2.0, 'C4'): <fooof.objs.fit.FOOOF at 0x7f59df4a0ac0>,\n",
       "  (3.0, 'C3'): <fooof.objs.fit.FOOOF at 0x7f59df4a22f0>,\n",
       "  (3.0, 'C4'): <fooof.objs.fit.FOOOF at 0x7f59df4a1210>,\n",
       "  (4.0, 'C3'): <fooof.objs.fit.FOOOF at 0x7f59df4a1390>,\n",
       "  (4.0, 'C4'): <fooof.objs.fit.FOOOF at 0x7f59df4a13f0>},\n",
       " {(0.0, 'C3'): <fooof.objs.fit.FOOOF at 0x7f59db764b20>,\n",
       "  (0.0, 'C4'): <fooof.objs.fit.FOOOF at 0x7f59db8a5660>,\n",
       "  (1.0, 'C3'): <fooof.objs.fit.FOOOF at 0x7f59db766920>,\n",
       "  (1.0, 'C4'): <fooof.objs.fit.FOOOF at 0x7f59db766710>,\n",
       "  (2.0, 'C3'): <fooof.objs.fit.FOOOF at 0x7f59db7f6ef0>,\n",
       "  (2.0, 'C4'): <fooof.objs.fit.FOOOF at 0x7f59db7f6110>,\n",
       "  (3.0, 'C3'): <fooof.objs.fit.FOOOF at 0x7f59db7f73d0>,\n",
       "  (3.0, 'C4'): <fooof.objs.fit.FOOOF at 0x7f59db7f5210>,\n",
       "  (4.0, 'C3'): <fooof.objs.fit.FOOOF at 0x7f59db7f63e0>,\n",
       "  (4.0, 'C4'): <fooof.objs.fit.FOOOF at 0x7f59db7f7490>},\n",
       " {(0.0, 'C3'): <fooof.objs.fit.FOOOF at 0x7f59d94ce080>,\n",
       "  (0.0, 'C4'): <fooof.objs.fit.FOOOF at 0x7f59d94ce320>,\n",
       "  (1.0, 'C3'): <fooof.objs.fit.FOOOF at 0x7f59d94ce020>,\n",
       "  (1.0, 'C4'): <fooof.objs.fit.FOOOF at 0x7f59d928a290>,\n",
       "  (2.0, 'C3'): <fooof.objs.fit.FOOOF at 0x7f59d928a110>,\n",
       "  (2.0, 'C4'): <fooof.objs.fit.FOOOF at 0x7f59d928ac50>,\n",
       "  (3.0, 'C3'): <fooof.objs.fit.FOOOF at 0x7f59d9289780>,\n",
       "  (3.0, 'C4'): <fooof.objs.fit.FOOOF at 0x7f59d9289b40>,\n",
       "  (4.0, 'C3'): <fooof.objs.fit.FOOOF at 0x7f59d9289d50>,\n",
       "  (4.0, 'C4'): <fooof.objs.fit.FOOOF at 0x7f59d9289c90>},\n",
       " {(0.0, 'C3'): <fooof.objs.fit.FOOOF at 0x7f59f7b940d0>,\n",
       "  (0.0, 'C4'): <fooof.objs.fit.FOOOF at 0x7f59d5cf1480>,\n",
       "  (1.0, 'C3'): <fooof.objs.fit.FOOOF at 0x7f59d752e8f0>,\n",
       "  (1.0, 'C4'): <fooof.objs.fit.FOOOF at 0x7f59d5bcdea0>,\n",
       "  (2.0, 'C3'): <fooof.objs.fit.FOOOF at 0x7f59d5bcde40>,\n",
       "  (2.0, 'C4'): <fooof.objs.fit.FOOOF at 0x7f59d5bce860>,\n",
       "  (3.0, 'C3'): <fooof.objs.fit.FOOOF at 0x7f59d5bcca90>,\n",
       "  (3.0, 'C4'): <fooof.objs.fit.FOOOF at 0x7f59d5bccdf0>,\n",
       "  (4.0, 'C3'): <fooof.objs.fit.FOOOF at 0x7f59d5bcffd0>,\n",
       "  (4.0, 'C4'): <fooof.objs.fit.FOOOF at 0x7f59d5bcdc00>},\n",
       " {(0.0, 'C3'): <fooof.objs.fit.FOOOF at 0x7f59c5c031f0>,\n",
       "  (0.0, 'C4'): <fooof.objs.fit.FOOOF at 0x7f59c5c03100>,\n",
       "  (1.0, 'C3'): <fooof.objs.fit.FOOOF at 0x7f59c5c03070>,\n",
       "  (1.0, 'C4'): <fooof.objs.fit.FOOOF at 0x7f59c59baef0>,\n",
       "  (2.0, 'C3'): <fooof.objs.fit.FOOOF at 0x7f59c59badd0>,\n",
       "  (2.0, 'C4'): <fooof.objs.fit.FOOOF at 0x7f59c59ba470>,\n",
       "  (3.0, 'C3'): <fooof.objs.fit.FOOOF at 0x7f59c59bb040>,\n",
       "  (3.0, 'C4'): <fooof.objs.fit.FOOOF at 0x7f59c59b9b10>,\n",
       "  (4.0, 'C3'): <fooof.objs.fit.FOOOF at 0x7f59c59b9900>,\n",
       "  (4.0, 'C4'): <fooof.objs.fit.FOOOF at 0x7f59c59ba110>},\n",
       " {(0.0, 'C3'): <fooof.objs.fit.FOOOF at 0x7f59f480d540>,\n",
       "  (0.0, 'C4'): <fooof.objs.fit.FOOOF at 0x7f59d2ce3250>,\n",
       "  (1.0, 'C3'): <fooof.objs.fit.FOOOF at 0x7f59f480d330>,\n",
       "  (1.0, 'C4'): <fooof.objs.fit.FOOOF at 0x7f59d2adaa10>,\n",
       "  (2.0, 'C3'): <fooof.objs.fit.FOOOF at 0x7f59d2ada800>,\n",
       "  (2.0, 'C4'): <fooof.objs.fit.FOOOF at 0x7f59d2adab60>,\n",
       "  (3.0, 'C3'): <fooof.objs.fit.FOOOF at 0x7f59d2adb040>,\n",
       "  (3.0, 'C4'): <fooof.objs.fit.FOOOF at 0x7f59d2ad8bb0>,\n",
       "  (4.0, 'C3'): <fooof.objs.fit.FOOOF at 0x7f59d2adbac0>,\n",
       "  (4.0, 'C4'): <fooof.objs.fit.FOOOF at 0x7f59d2adbb50>},\n",
       " {(0.0, 'C3'): <fooof.objs.fit.FOOOF at 0x7f59cb3f8e50>,\n",
       "  (0.0, 'C4'): <fooof.objs.fit.FOOOF at 0x7f59cb5aa2c0>,\n",
       "  (1.0, 'C3'): <fooof.objs.fit.FOOOF at 0x7f59cb5aa080>,\n",
       "  (1.0, 'C4'): <fooof.objs.fit.FOOOF at 0x7f59cb5aa050>,\n",
       "  (2.0, 'C3'): <fooof.objs.fit.FOOOF at 0x7f59cb418b20>,\n",
       "  (2.0, 'C4'): <fooof.objs.fit.FOOOF at 0x7f59cb41b7f0>,\n",
       "  (3.0, 'C3'): <fooof.objs.fit.FOOOF at 0x7f59cb41a800>,\n",
       "  (3.0, 'C4'): <fooof.objs.fit.FOOOF at 0x7f59cb4197e0>,\n",
       "  (4.0, 'C3'): <fooof.objs.fit.FOOOF at 0x7f59cb41bd90>,\n",
       "  (4.0, 'C4'): <fooof.objs.fit.FOOOF at 0x7f59cb41a560>},\n",
       " {(0.0, 'C3'): <fooof.objs.fit.FOOOF at 0x7f59cfe2aef0>,\n",
       "  (0.0, 'C4'): <fooof.objs.fit.FOOOF at 0x7f59cfe2acb0>,\n",
       "  (1.0, 'C3'): <fooof.objs.fit.FOOOF at 0x7f59cfe2ae30>,\n",
       "  (1.0, 'C4'): <fooof.objs.fit.FOOOF at 0x7f59cfd970d0>,\n",
       "  (2.0, 'C3'): <fooof.objs.fit.FOOOF at 0x7f59cfd96230>,\n",
       "  (2.0, 'C4'): <fooof.objs.fit.FOOOF at 0x7f59cfd975b0>,\n",
       "  (3.0, 'C3'): <fooof.objs.fit.FOOOF at 0x7f59cfd96620>,\n",
       "  (3.0, 'C4'): <fooof.objs.fit.FOOOF at 0x7f59cfd97250>,\n",
       "  (4.0, 'C3'): <fooof.objs.fit.FOOOF at 0x7f59cfd97610>,\n",
       "  (4.0, 'C4'): <fooof.objs.fit.FOOOF at 0x7f59cfd977c0>},\n",
       " {(0.0, 'C3'): <fooof.objs.fit.FOOOF at 0x7f59cd1bbb20>,\n",
       "  (0.0, 'C4'): <fooof.objs.fit.FOOOF at 0x7f59cd1ba800>,\n",
       "  (1.0, 'C3'): <fooof.objs.fit.FOOOF at 0x7f59cd1b8ac0>,\n",
       "  (1.0, 'C4'): <fooof.objs.fit.FOOOF at 0x7f59cd1bad40>,\n",
       "  (2.0, 'C3'): <fooof.objs.fit.FOOOF at 0x7f59cd1bbd60>,\n",
       "  (2.0, 'C4'): <fooof.objs.fit.FOOOF at 0x7f59cd1bbe80>,\n",
       "  (3.0, 'C3'): <fooof.objs.fit.FOOOF at 0x7f59cd1baf50>,\n",
       "  (3.0, 'C4'): <fooof.objs.fit.FOOOF at 0x7f59cd1bb8e0>,\n",
       "  (4.0, 'C3'): <fooof.objs.fit.FOOOF at 0x7f59cd1bb730>,\n",
       "  (4.0, 'C4'): <fooof.objs.fit.FOOOF at 0x7f59cd1bb970>},\n",
       " {(0.0, 'C3'): <fooof.objs.fit.FOOOF at 0x7f59c99f7100>,\n",
       "  (0.0, 'C4'): <fooof.objs.fit.FOOOF at 0x7f59eb3c4f40>,\n",
       "  (1.0, 'C3'): <fooof.objs.fit.FOOOF at 0x7f59eb3c6a40>,\n",
       "  (1.0, 'C4'): <fooof.objs.fit.FOOOF at 0x7f59c99af6d0>,\n",
       "  (2.0, 'C3'): <fooof.objs.fit.FOOOF at 0x7f59c99af580>,\n",
       "  (2.0, 'C4'): <fooof.objs.fit.FOOOF at 0x7f59c99ad930>,\n",
       "  (3.0, 'C3'): <fooof.objs.fit.FOOOF at 0x7f59c99afb50>,\n",
       "  (3.0, 'C4'): <fooof.objs.fit.FOOOF at 0x7f59c99ae770>,\n",
       "  (4.0, 'C3'): <fooof.objs.fit.FOOOF at 0x7f59c99aea40>,\n",
       "  (4.0, 'C4'): <fooof.objs.fit.FOOOF at 0x7f59c99afaf0>},\n",
       " {(0.0, 'C3'): <fooof.objs.fit.FOOOF at 0x7f59c751c0a0>,\n",
       "  (0.0, 'C4'): <fooof.objs.fit.FOOOF at 0x7f59c751d480>,\n",
       "  (1.0, 'C3'): <fooof.objs.fit.FOOOF at 0x7f59c751db40>,\n",
       "  (1.0, 'C4'): <fooof.objs.fit.FOOOF at 0x7f59c751d330>,\n",
       "  (2.0, 'C3'): <fooof.objs.fit.FOOOF at 0x7f59c751d2d0>,\n",
       "  (2.0, 'C4'): <fooof.objs.fit.FOOOF at 0x7f59c751cac0>,\n",
       "  (3.0, 'C3'): <fooof.objs.fit.FOOOF at 0x7f59c751dd20>,\n",
       "  (3.0, 'C4'): <fooof.objs.fit.FOOOF at 0x7f59c751c910>,\n",
       "  (4.0, 'C3'): <fooof.objs.fit.FOOOF at 0x7f59c751ceb0>,\n",
       "  (4.0, 'C4'): <fooof.objs.fit.FOOOF at 0x7f59c751ca00>},\n",
       " {(0.0, 'C3'): <fooof.objs.fit.FOOOF at 0x7f59b5bd00a0>,\n",
       "  (0.0, 'C4'): <fooof.objs.fit.FOOOF at 0x7f59b5bd1600>,\n",
       "  (1.0, 'C3'): <fooof.objs.fit.FOOOF at 0x7f59b5bd1cc0>,\n",
       "  (1.0, 'C4'): <fooof.objs.fit.FOOOF at 0x7f59b5bd1240>,\n",
       "  (2.0, 'C3'): <fooof.objs.fit.FOOOF at 0x7f59b5bd08b0>,\n",
       "  (2.0, 'C4'): <fooof.objs.fit.FOOOF at 0x7f59b5bd0be0>,\n",
       "  (3.0, 'C3'): <fooof.objs.fit.FOOOF at 0x7f59b5bd0a60>,\n",
       "  (3.0, 'C4'): <fooof.objs.fit.FOOOF at 0x7f59b5bd0a90>,\n",
       "  (4.0, 'C3'): <fooof.objs.fit.FOOOF at 0x7f59b5bd1030>,\n",
       "  (4.0, 'C4'): <fooof.objs.fit.FOOOF at 0x7f59b5bd0b80>},\n",
       " {(0.0, 'C3'): <fooof.objs.fit.FOOOF at 0x7f59c3a2a9e0>,\n",
       "  (0.0, 'C4'): <fooof.objs.fit.FOOOF at 0x7f59c39d9d20>,\n",
       "  (1.0, 'C3'): <fooof.objs.fit.FOOOF at 0x7f59c3a2b370>,\n",
       "  (1.0, 'C4'): <fooof.objs.fit.FOOOF at 0x7f59c3a2ac20>,\n",
       "  (2.0, 'C3'): <fooof.objs.fit.FOOOF at 0x7f59c384bca0>,\n",
       "  (2.0, 'C4'): <fooof.objs.fit.FOOOF at 0x7f59c384b9d0>,\n",
       "  (3.0, 'C3'): <fooof.objs.fit.FOOOF at 0x7f59c3848820>,\n",
       "  (3.0, 'C4'): <fooof.objs.fit.FOOOF at 0x7f59c3849630>,\n",
       "  (4.0, 'C3'): <fooof.objs.fit.FOOOF at 0x7f59c384b760>,\n",
       "  (4.0, 'C4'): <fooof.objs.fit.FOOOF at 0x7f59c384abf0>},\n",
       " {(0.0, 'C3'): <fooof.objs.fit.FOOOF at 0x7f59bbd80f10>,\n",
       "  (0.0, 'C4'): <fooof.objs.fit.FOOOF at 0x7f59bbd81180>,\n",
       "  (1.0, 'C3'): <fooof.objs.fit.FOOOF at 0x7f59bbda6590>,\n",
       "  (1.0, 'C4'): <fooof.objs.fit.FOOOF at 0x7f59bbd81030>,\n",
       "  (2.0, 'C3'): <fooof.objs.fit.FOOOF at 0x7f59bbdc9e10>,\n",
       "  (2.0, 'C4'): <fooof.objs.fit.FOOOF at 0x7f59bbdcbb20>,\n",
       "  (3.0, 'C3'): <fooof.objs.fit.FOOOF at 0x7f59bbdf72e0>,\n",
       "  (3.0, 'C4'): <fooof.objs.fit.FOOOF at 0x7f59bbdf6230>,\n",
       "  (4.0, 'C3'): <fooof.objs.fit.FOOOF at 0x7f59bbdf63e0>,\n",
       "  (4.0, 'C4'): <fooof.objs.fit.FOOOF at 0x7f59bb318a30>},\n",
       " {(0.0, 'C3'): <fooof.objs.fit.FOOOF at 0x7f59c0b98100>,\n",
       "  (0.0, 'C4'): <fooof.objs.fit.FOOOF at 0x7f59c0b99e40>,\n",
       "  (1.0, 'C3'): <fooof.objs.fit.FOOOF at 0x7f59c0b98160>,\n",
       "  (1.0, 'C4'): <fooof.objs.fit.FOOOF at 0x7f59c0bcb220>,\n",
       "  (2.0, 'C3'): <fooof.objs.fit.FOOOF at 0x7f59c0bc96f0>,\n",
       "  (2.0, 'C4'): <fooof.objs.fit.FOOOF at 0x7f59c0b7cac0>,\n",
       "  (3.0, 'C3'): <fooof.objs.fit.FOOOF at 0x7f59c0bed4b0>,\n",
       "  (3.0, 'C4'): <fooof.objs.fit.FOOOF at 0x7f59c0cf0b50>,\n",
       "  (4.0, 'C3'): <fooof.objs.fit.FOOOF at 0x7f59c0c0e830>,\n",
       "  (4.0, 'C4'): <fooof.objs.fit.FOOOF at 0x7f59c0c0cb20>}]"
      ]
     },
     "execution_count": 4,
     "metadata": {},
     "output_type": "execute_result"
    }
   ],
   "source": [
    "## Iterate over all files and process them\n",
    "fit_dfs, fooof_dfs, psd_aperiodic_all, psd_oscillatory_all, fooof_groups_all = [], [], [], [], []\n",
    "for idx, file in enumerate(tqdm(files)):\n",
    "    print(f'Extracting aperiodic components from file : {file}')\n",
    "    # Load the data and hypnogram files\n",
    "    subject = file.split('-')[-1]\n",
    "    raw = mne.io.read_raw_fif(path + file + '-raw.fif.gz', preload=True)\n",
    "    hypnogram = np.load(path + file + '-hypnogram_with_art.npy')\n",
    "    # Get sampling frequency\n",
    "    sf = raw.info['sfreq']\n",
    "    # Get data\n",
    "    data = raw.get_data(['C3','C4'], units='uV') \n",
    "    # Extract aperiodic component with IRASA from yasa per sleep stage\n",
    "    freqs, psd_aperiodic, psd_oscillatory, fit_df = compute_irasa_power(data, hypnogram, sf, subject, band=(1, 45), h_set_max=1.5)\n",
    "    fit_df['Method'] = 'IRASA'\n",
    "    fit_dfs.append(fit_df)\n",
    "    psd_aperiodic_all.append(psd_aperiodic)\n",
    "    psd_oscillatory_all.append(psd_oscillatory)\n",
    "    # Extract aperiodic component with FOOOF per sleep stage\n",
    "    fg, fooof_df = compute_fooof_aperiodic_exponent(data, sf, hypnogram, subject, band=(1, 45))\n",
    "    fooof_df['Method'] = 'FOOOF'   \n",
    "    fooof_dfs.append(fooof_df)\n",
    "    fooof_groups_all.append(fg)\n",
    "    # Plot spectral results with IRASA and FOOOF\n",
    "    for chan in ['C3', 'C4']:\n",
    "        for stage in [0, 1, 2, 3, 4]:\n",
    "            save_path = fig_path + f'{subject}_{stage}_{chan}'\n",
    "            try:\n",
    "                fig = plot_spectral_components(fm=fg[(stage, chan)], log_freq=True, method='FOOOF', \n",
    "                                               save=True, fig_path=save_path + '_FOOOF')\n",
    "                fig2 = plot_spectral_components(freqs=freqs, psd_osc=psd_oscillatory[(stage, chan)], fit_params=fit_df,\n",
    "                                                psd_ap=psd_aperiodic[(stage, chan)], log_freq=True, chan=chan, stage=stage,\n",
    "                                                method='IRASA', save=True, fig_path=save_path + '_IRASA')\n",
    "            except:\n",
    "                print(f'No stage {stage} for {chan} for {subject}')\n",
    "                pass\n",
    "\n",
    "# Combine all dataframes\n",
    "fit_df_all = pd.concat(fit_dfs, axis=0)\n",
    "fooof_df_all = pd.concat(fooof_dfs, axis=0)\n",
    "#psd_aperiodic_all\n",
    "#psd_oscillatory_all\n",
    "#fooof_groups_all"
   ]
  },
  {
   "cell_type": "code",
   "execution_count": 5,
   "metadata": {},
   "outputs": [
    {
     "data": {
      "text/html": [
       "<div>\n",
       "<style scoped>\n",
       "    .dataframe tbody tr th:only-of-type {\n",
       "        vertical-align: middle;\n",
       "    }\n",
       "\n",
       "    .dataframe tbody tr th {\n",
       "        vertical-align: top;\n",
       "    }\n",
       "\n",
       "    .dataframe thead th {\n",
       "        text-align: right;\n",
       "    }\n",
       "</style>\n",
       "<table border=\"1\" class=\"dataframe\">\n",
       "  <thead>\n",
       "    <tr style=\"text-align: right;\">\n",
       "      <th></th>\n",
       "      <th>Chan</th>\n",
       "      <th>Intercept</th>\n",
       "      <th>Slope</th>\n",
       "      <th>R^2</th>\n",
       "      <th>std(osc)</th>\n",
       "      <th>Stage</th>\n",
       "      <th>Subject</th>\n",
       "      <th>Method</th>\n",
       "    </tr>\n",
       "  </thead>\n",
       "  <tbody>\n",
       "    <tr>\n",
       "      <th>0</th>\n",
       "      <td>C3</td>\n",
       "      <td>1.930738</td>\n",
       "      <td>1.680066</td>\n",
       "      <td>0.885381</td>\n",
       "      <td>0.624027</td>\n",
       "      <td>0.0</td>\n",
       "      <td>801225</td>\n",
       "      <td>IRASA</td>\n",
       "    </tr>\n",
       "    <tr>\n",
       "      <th>1</th>\n",
       "      <td>C4</td>\n",
       "      <td>1.842349</td>\n",
       "      <td>1.492382</td>\n",
       "      <td>0.872890</td>\n",
       "      <td>0.874594</td>\n",
       "      <td>0.0</td>\n",
       "      <td>801225</td>\n",
       "      <td>IRASA</td>\n",
       "    </tr>\n",
       "    <tr>\n",
       "      <th>2</th>\n",
       "      <td>C3</td>\n",
       "      <td>1.967682</td>\n",
       "      <td>2.035502</td>\n",
       "      <td>0.924771</td>\n",
       "      <td>0.328819</td>\n",
       "      <td>1.0</td>\n",
       "      <td>801225</td>\n",
       "      <td>IRASA</td>\n",
       "    </tr>\n",
       "    <tr>\n",
       "      <th>3</th>\n",
       "      <td>C4</td>\n",
       "      <td>1.914756</td>\n",
       "      <td>1.926399</td>\n",
       "      <td>0.924603</td>\n",
       "      <td>0.318299</td>\n",
       "      <td>1.0</td>\n",
       "      <td>801225</td>\n",
       "      <td>IRASA</td>\n",
       "    </tr>\n",
       "    <tr>\n",
       "      <th>4</th>\n",
       "      <td>C3</td>\n",
       "      <td>2.512133</td>\n",
       "      <td>2.553808</td>\n",
       "      <td>0.942534</td>\n",
       "      <td>0.420542</td>\n",
       "      <td>2.0</td>\n",
       "      <td>801225</td>\n",
       "      <td>IRASA</td>\n",
       "    </tr>\n",
       "    <tr>\n",
       "      <th>...</th>\n",
       "      <td>...</td>\n",
       "      <td>...</td>\n",
       "      <td>...</td>\n",
       "      <td>...</td>\n",
       "      <td>...</td>\n",
       "      <td>...</td>\n",
       "      <td>...</td>\n",
       "      <td>...</td>\n",
       "    </tr>\n",
       "    <tr>\n",
       "      <th>1163</th>\n",
       "      <td>C4</td>\n",
       "      <td>1.905306</td>\n",
       "      <td>2.156738</td>\n",
       "      <td>0.997980</td>\n",
       "      <td>0.135930</td>\n",
       "      <td>2.0</td>\n",
       "      <td>802739</td>\n",
       "      <td>FOOOF</td>\n",
       "    </tr>\n",
       "    <tr>\n",
       "      <th>1164</th>\n",
       "      <td>C3</td>\n",
       "      <td>2.557011</td>\n",
       "      <td>2.529979</td>\n",
       "      <td>0.989005</td>\n",
       "      <td>0.098169</td>\n",
       "      <td>3.0</td>\n",
       "      <td>802739</td>\n",
       "      <td>FOOOF</td>\n",
       "    </tr>\n",
       "    <tr>\n",
       "      <th>1165</th>\n",
       "      <td>C4</td>\n",
       "      <td>2.502161</td>\n",
       "      <td>2.600625</td>\n",
       "      <td>0.993477</td>\n",
       "      <td>0.128468</td>\n",
       "      <td>3.0</td>\n",
       "      <td>802739</td>\n",
       "      <td>FOOOF</td>\n",
       "    </tr>\n",
       "    <tr>\n",
       "      <th>1166</th>\n",
       "      <td>C3</td>\n",
       "      <td>1.558968</td>\n",
       "      <td>1.881564</td>\n",
       "      <td>0.996950</td>\n",
       "      <td>0.183944</td>\n",
       "      <td>4.0</td>\n",
       "      <td>802739</td>\n",
       "      <td>FOOOF</td>\n",
       "    </tr>\n",
       "    <tr>\n",
       "      <th>1167</th>\n",
       "      <td>C4</td>\n",
       "      <td>1.754594</td>\n",
       "      <td>2.120951</td>\n",
       "      <td>0.996527</td>\n",
       "      <td>0.204397</td>\n",
       "      <td>4.0</td>\n",
       "      <td>802739</td>\n",
       "      <td>FOOOF</td>\n",
       "    </tr>\n",
       "  </tbody>\n",
       "</table>\n",
       "<p>1168 rows × 8 columns</p>\n",
       "</div>"
      ],
      "text/plain": [
       "     Chan  Intercept     Slope       R^2  std(osc)  Stage Subject Method\n",
       "0      C3   1.930738  1.680066  0.885381  0.624027    0.0  801225  IRASA\n",
       "1      C4   1.842349  1.492382  0.872890  0.874594    0.0  801225  IRASA\n",
       "2      C3   1.967682  2.035502  0.924771  0.328819    1.0  801225  IRASA\n",
       "3      C4   1.914756  1.926399  0.924603  0.318299    1.0  801225  IRASA\n",
       "4      C3   2.512133  2.553808  0.942534  0.420542    2.0  801225  IRASA\n",
       "...   ...        ...       ...       ...       ...    ...     ...    ...\n",
       "1163   C4   1.905306  2.156738  0.997980  0.135930    2.0  802739  FOOOF\n",
       "1164   C3   2.557011  2.529979  0.989005  0.098169    3.0  802739  FOOOF\n",
       "1165   C4   2.502161  2.600625  0.993477  0.128468    3.0  802739  FOOOF\n",
       "1166   C3   1.558968  1.881564  0.996950  0.183944    4.0  802739  FOOOF\n",
       "1167   C4   1.754594  2.120951  0.996527  0.204397    4.0  802739  FOOOF\n",
       "\n",
       "[1168 rows x 8 columns]"
      ]
     },
     "execution_count": 5,
     "metadata": {},
     "output_type": "execute_result"
    }
   ],
   "source": [
    "# Merge fit_df_all and fooof_df_all on common columns\n",
    "fit_dfs_all = pd.concat([fit_df_all, \n",
    "                         fooof_df_all.groupby(['Subject', 'Stage', 'Chan', 'Method']).mean().reset_index()], join='inner', axis=0)\n",
    "fit_dfs_all['Slope'] = np.abs(fit_dfs_all['Slope'])\n",
    "fit_dfs_all.reset_index(drop=True, inplace=True)\n",
    "fit_dfs_all"
   ]
  },
  {
   "cell_type": "code",
   "execution_count": 6,
   "metadata": {},
   "outputs": [],
   "source": [
    "fit_dfs_all.to_csv('/mnt/server/data03/2023_NENA_Aperiodic_Workshop/results/aperiodic.csv', index=False)"
   ]
  },
  {
   "cell_type": "code",
   "execution_count": 7,
   "metadata": {},
   "outputs": [],
   "source": [
    "# save psd and fooof dicts\n",
    "with open('/mnt/server/data03/2023_NENA_Aperiodic_Workshop/results/psd_aperiodic_dict.pkl', 'wb') as f:\n",
    "    pickle.dump(psd_aperiodic_all, f)\n",
    "with open('/mnt/server/data03/2023_NENA_Aperiodic_Workshop/results/psd_oscillatory_dict.pkl', 'wb') as f:\n",
    "    pickle.dump(psd_oscillatory_all, f)\n",
    "with open('/mnt/server/data03/2023_NENA_Aperiodic_Workshop/results/fooof_groups_dict.pkl', 'wb') as f:\n",
    "    pickle.dump(fooof_groups_all, f)"
   ]
  }
 ],
 "metadata": {
  "kernelspec": {
   "display_name": "NDS",
   "language": "python",
   "name": "python3"
  },
  "language_info": {
   "codemirror_mode": {
    "name": "ipython",
    "version": 3
   },
   "file_extension": ".py",
   "mimetype": "text/x-python",
   "name": "python",
   "nbconvert_exporter": "python",
   "pygments_lexer": "ipython3",
   "version": "3.10.10"
  },
  "orig_nbformat": 4
 },
 "nbformat": 4,
 "nbformat_minor": 2
}
