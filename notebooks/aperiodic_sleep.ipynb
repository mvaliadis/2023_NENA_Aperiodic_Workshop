{
 "cells": [
  {
   "cell_type": "markdown",
   "metadata": {},
   "source": [
    "# Extract aperiodic component of Sleep Data \n",
    "\n",
    "This script loads the pre-processed polysomnography data and extracts the apeiodic component of the EEG signal using the fooof algorithm (https://github.com/fooof-tools/fooof) and the IRASA algorithm (https://doi.org/10.1007/s10548-015-0448-0). The aperiodic component is then saved as a .csv file along with other spectrally derived information and specifically utilized parameters. "
   ]
  },
  {
   "cell_type": "code",
   "execution_count": null,
   "metadata": {},
   "outputs": [],
   "source": [
    "%matplotlib inline\n",
    "\n",
    "## Import packages \n",
    "import yasa\n",
    "import numpy as np\n",
    "import os\n",
    "import mne\n",
    "from tqdm import tqdm\n",
    "import seaborn as sns\n",
    "import pandas as pd\n",
    "import matplotlib.pyplot as plt\n",
    "mne.set_log_level('WARNING')"
   ]
  },
  {
   "cell_type": "code",
   "execution_count": null,
   "metadata": {},
   "outputs": [],
   "source": [
    "## 1. Load data\n",
    "path = '/mnt/server/data03/2023_NENA_Aperiodic_Workshop/data/processed/'\n",
    "fig_path = '/mnt/server/data03/2023_NENA_Aperiodic_Workshop/figures/subject/'\n",
    "# Obtain list of unique recordings\n",
    "files = list(set([\"-\".join(f.split('-')[0:3]) for f in os.listdir(path)]))"
   ]
  },
  {
   "cell_type": "code",
   "execution_count": null,
   "metadata": {},
   "outputs": [],
   "source": [
    "## 2. Process and extract aperiodic component from recording files\n",
    "# Iterate over all files and process them\n",
    "for idx, file in enumerate(tqdm(files)):\n",
    "    print(f'Detecting and labeling artifacts in file : {file}')\n",
    "    if idx == 0:\n",
    "        break \n",
    "    # Load the data and hypnogram files\n",
    "    raw = mne.io.read_raw(path + file + '-raw.fif.gz', preload=True) # type: ignore\n",
    "    hypnogram = np.load(path + file + '-hypnogram_with_art.npy')\n",
    "    # Get sampling frequency\n",
    "    sf = raw.info['sfreq']\n",
    "    # Get data\n",
    "    data = raw.get_data(['C3','C4']) * 1e6\n",
    "    # Extract aperiodic component with IRASA from yasa per sleep stage\n",
    "    # Get the indices of the different sleep stages"
   ]
  },
  {
   "cell_type": "code",
   "execution_count": null,
   "metadata": {},
   "outputs": [],
   "source": [
    "# Get the indices of the different sleep stages\n",
    "for stage in hypnogram:\n",
    "    stage_data = data[:, hypnogram==stage]\n",
    "    freqs, psd_aperiodic, psd_oscillatory, fit_params = yasa.irasa(stage_data, sf=sf, ch_names=['C3','C4'], band=(1, 30), # type: ignore\n",
    "                                                                   hset=[1.1, 1.15, 1.2, 1.25, 1.3], return_fit=True, win_sec=4,\n",
    "                                                                   kwargs_welch=dict(average='median', window='hamming'))\n",
    "\n",
    "    fit_params['Stage'] = stage"
   ]
  },
  {
   "cell_type": "code",
   "execution_count": null,
   "metadata": {},
   "outputs": [],
   "source": [
    "freqs, psd_aperiodic, psd_oscillatory, fit_params = yasa.irasa(stage_data, sf=sf, ch_names=['C3','C4'], band=(1, 30), # type: ignore\n",
    "                                                               hset=[1.1, 1.15, 1.2, 1.25, 1.3], return_fit=True, win_sec=4,\n",
    "                                                               kwargs_welch=dict(average='median', window='hamming'))"
   ]
  },
  {
   "cell_type": "code",
   "execution_count": null,
   "metadata": {},
   "outputs": [],
   "source": [
    "fit_params['Stage'] = stage\n",
    "fit_params"
   ]
  },
  {
   "cell_type": "code",
   "execution_count": null,
   "metadata": {},
   "outputs": [],
   "source": [
    "# Plot the aperiodic component on a linear-log scale\n",
    "plt.plot(freqs, psd_aperiodic[1, :], 'k', lw=2)\n",
    "plt.xlim(1, 30)\n",
    "plt.yscale('log')\n",
    "sns.despine()\n",
    "plt.title('Aperiodic component, chan = ' + 'C4')\n",
    "plt.xlabel('Frequency [Hz]')\n",
    "plt.ylabel('PSD log($uV^2$/Hz)');"
   ]
  },
  {
   "cell_type": "code",
   "execution_count": null,
   "metadata": {},
   "outputs": [],
   "source": [
    "# Plot the oscillatory component on a linear-linear scale\n",
    "plt.plot(freqs, psd_oscillatory[1, :], 'k', lw=2)\n",
    "plt.xlim(1, 30)\n",
    "sns.despine()\n",
    "plt.title('Oscillatory component, chan = ' + 'C4')\n",
    "plt.xlabel('Frequency [Hz]')\n",
    "plt.ylabel('PSD log($uV^2$/Hz)');"
   ]
  },
  {
   "cell_type": "code",
   "execution_count": null,
   "metadata": {},
   "outputs": [],
   "source": [
    "# Plot the oscillatory + aperiodic component on a linear-log scale\n",
    "psd_combined = psd_aperiodic[1, :] + psd_oscillatory[1, :]\n",
    "plt.plot(freqs, psd_combined, 'k', lw=2)\n",
    "plt.fill_between(freqs, psd_combined, cmap='Spectral')\n",
    "plt.xlim(1, 30)\n",
    "plt.yscale('log')\n",
    "sns.despine()\n",
    "plt.title('Aperiodic + oscillatory component, chan = ' + 'C4')\n",
    "plt.xlabel('Frequency [Hz]')\n",
    "plt.ylabel('PSD log($uV^2$/Hz)');"
   ]
  }
 ],
 "metadata": {
  "kernelspec": {
   "display_name": "NDS",
   "language": "python",
   "name": "python3"
  },
  "language_info": {
   "codemirror_mode": {
    "name": "ipython",
    "version": 3
   },
   "file_extension": ".py",
   "mimetype": "text/x-python",
   "name": "python",
   "nbconvert_exporter": "python",
   "pygments_lexer": "ipython3",
   "version": "3.10.10"
  },
  "orig_nbformat": 4
 },
 "nbformat": 4,
 "nbformat_minor": 2
}
