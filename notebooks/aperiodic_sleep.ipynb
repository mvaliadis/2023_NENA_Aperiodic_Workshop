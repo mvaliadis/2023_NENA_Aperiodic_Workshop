{
 "cells": [
  {
   "cell_type": "markdown",
   "metadata": {},
   "source": [
    "# Extract aperiodic component of Sleep Data \n",
    "\n",
    "This script loads the pre-processed polysomnography data and extracts the apeiodic component of the EEG signal using the fooof algorithm (https://github.com/fooof-tools/fooof) and the IRASA algorithm (https://doi.org/10.1007/s10548-015-0448-0). The aperiodic component is then saved as a .csv file along with other spectrally derived information and specifically utilized parameters. "
   ]
  },
  {
   "cell_type": "code",
   "execution_count": 2,
   "metadata": {},
   "outputs": [],
   "source": [
    "%matplotlib inline\n",
    "\n",
    "## Import packages \n",
    "import yasa\n",
    "from fooof import FOOOF, FOOOFGroup\n",
    "import numpy as np\n",
    "import os\n",
    "import mne\n",
    "from tqdm import tqdm\n",
    "import seaborn as sns\n",
    "import pandas as pd\n",
    "import matplotlib.pyplot as plt\n",
    "import scipy.signal as signal \n",
    "mne.set_log_level('WARNING')"
   ]
  },
  {
   "cell_type": "code",
   "execution_count": 3,
   "metadata": {},
   "outputs": [],
   "source": [
    "## Adjusted YASA functions for computing aperiodic power spectrum based on IRASA method\n",
    "\n",
    "def irasa(data, sf=None, ch_names=None, band=(1, 45),\n",
    "          hset=[1.1,1.15,1.2,1.25,1.3,1.35,1.4,1.45,1.5,\n",
    "                1.55,1.6,1.65,1.7,1.75,1.8,1.85,1.9],\n",
    "          return_fit=True,\n",
    "          win_sec=4,\n",
    "          kwargs_welch=dict(average=\"median\", window=\"hamming\"),\n",
    "          verbose=True,\n",
    "          ):\n",
    "    \"\"\"\n",
    "    Separate the aperiodic (= fractal, or 1/f) and oscillatory component\n",
    "    of the power spectra of EEG data using the IRASA method.\n",
    "\n",
    "    .. versionadded:: 0.1.7\n",
    "\n",
    "    Parameters\n",
    "    ----------\n",
    "    data : :py:class:`numpy.ndarray` or :py:class:`mne.io.BaseRaw`\n",
    "        1D or 2D EEG data. Can also be a :py:class:`mne.io.BaseRaw`, in which\n",
    "        case ``data``, ``sf``, and ``ch_names`` will be automatically\n",
    "        extracted, and ``data`` will also be converted from Volts (MNE default)\n",
    "        to micro-Volts (YASA).\n",
    "    sf : float\n",
    "        The sampling frequency of data AND the hypnogram.\n",
    "        Can be omitted if ``data`` is a :py:class:`mne.io.BaseRaw`.\n",
    "    ch_names : list\n",
    "        List of channel names, e.g. ['Cz', 'F3', 'F4', ...]. If None,\n",
    "        channels will be labelled ['CHAN000', 'CHAN001', ...].\n",
    "        Can be omitted if ``data`` is a :py:class:`mne.io.BaseRaw`.\n",
    "    band : tuple or None\n",
    "        Broad band frequency range.\n",
    "        Default is 1 to 30 Hz.\n",
    "    hset : list or :py:class:`numpy.ndarray`\n",
    "        Resampling factors used in IRASA calculation. Default is to use a range\n",
    "        of values from 1.1 to 1.9 with an increment of 0.05.\n",
    "    return_fit : boolean\n",
    "        If True (default), fit an exponential function to the aperiodic PSD\n",
    "        and return the fit parameters (intercept, slope) and :math:`R^2` of\n",
    "        the fit.\n",
    "\n",
    "        The aperiodic signal, :math:`L`, is modeled using an exponential\n",
    "        function in semilog-power space (linear frequencies and log PSD) as:\n",
    "\n",
    "        .. math:: L = a + \\text{log}(F^b)\n",
    "\n",
    "        where :math:`a` is the intercept, :math:`b` is the slope, and\n",
    "        :math:`F` the vector of input frequencies.\n",
    "    win_sec : int or float\n",
    "        The length of the sliding window, in seconds, used for the Welch PSD\n",
    "        calculation. Ideally, this should be at least two times the inverse of\n",
    "        the lower frequency of interest (e.g. for a lower frequency of interest\n",
    "        of 0.5 Hz, the window length should be at least 2 * 1 / 0.5 =\n",
    "        4 seconds).\n",
    "    kwargs_welch : dict\n",
    "        Optional keywords arguments that are passed to the\n",
    "        :py:func:`scipy.signal.welch` function.\n",
    "    verbose : bool or str\n",
    "        Verbose level. Default (False) will only print warning and error\n",
    "        messages. The logging levels are 'debug', 'info', 'warning', 'error',\n",
    "        and 'critical'. For most users the choice is between 'info'\n",
    "        (or ``verbose=True``) and warning (``verbose=False``).\n",
    "\n",
    "    Returns\n",
    "    -------\n",
    "    freqs : :py:class:`numpy.ndarray`\n",
    "        Frequency vector.\n",
    "    psd_aperiodic : :py:class:`numpy.ndarray`\n",
    "        The fractal (= aperiodic) component of the PSD.\n",
    "    psd_oscillatory : :py:class:`numpy.ndarray`\n",
    "        The oscillatory (= periodic) component of the PSD.\n",
    "    fit_params : :py:class:`pandas.DataFrame` (optional)\n",
    "        Dataframe of fit parameters. Only if ``return_fit=True``.\n",
    "\n",
    "    Notes\n",
    "    -----\n",
    "    The Irregular-Resampling Auto-Spectral Analysis (IRASA) method is\n",
    "    described in Wen & Liu (2016). In a nutshell, the goal is to separate the\n",
    "    fractal and oscillatory components in the power spectrum of EEG signals.\n",
    "\n",
    "    The steps are:\n",
    "\n",
    "    1. Compute the original power spectral density (PSD) using Welch's method.\n",
    "    2. Resample the EEG data by multiple non-integer factors and their\n",
    "       reciprocals (:math:`h` and :math:`1/h`).\n",
    "    3. For every pair of resampled signals, calculate the PSD and take the\n",
    "       geometric mean of both. In the resulting PSD, the power associated with\n",
    "       the oscillatory component is redistributed away from its original\n",
    "       (fundamental and harmonic) frequencies by a frequency offset that varies\n",
    "       with the resampling factor, whereas the power solely attributed to the\n",
    "       fractal component remains the same power-law statistical distribution\n",
    "       independent of the resampling factor.\n",
    "    4. It follows that taking the median of the PSD of the variously\n",
    "       resampled signals can extract the power spectrum of the fractal\n",
    "       component, and the difference between the original power spectrum and\n",
    "       the extracted fractal spectrum offers an approximate estimate of the\n",
    "       power spectrum of the oscillatory component.\n",
    "\n",
    "    Note that an estimate of the original PSD can be calculated by simply\n",
    "    adding ``psd = psd_aperiodic + psd_oscillatory``.\n",
    "\n",
    "    For an example of how to use this function, please refer to\n",
    "    https://github.com/raphaelvallat/yasa/blob/master/notebooks/09_IRASA.ipynb\n",
    "\n",
    "    For an article discussing the challenges of using IRASA (or fooof) see [5].\n",
    "\n",
    "    References\n",
    "    ----------\n",
    "    [1] Wen, H., & Liu, Z. (2016). Separating Fractal and Oscillatory\n",
    "        Components in the Power Spectrum of Neurophysiological Signal.\n",
    "        Brain Topography, 29(1), 13–26.\n",
    "        https://doi.org/10.1007/s10548-015-0448-0\n",
    "\n",
    "    [2] https://github.com/fieldtrip/fieldtrip/blob/master/specest/\n",
    "\n",
    "    [3] https://github.com/fooof-tools/fooof\n",
    "\n",
    "    [4] https://www.biorxiv.org/content/10.1101/299859v1\n",
    "\n",
    "    [5] https://doi.org/10.1101/2021.10.15.464483\n",
    "    \"\"\"\n",
    "    import fractions\n",
    "    from yasa.io import set_log_level\n",
    "    import logging\n",
    "\n",
    "    set_log_level(verbose)\n",
    "    # Check if input data is a MNE Raw object\n",
    "    if isinstance(data, mne.io.BaseRaw):\n",
    "        sf = data.info[\"sfreq\"]  # Extract sampling frequency\n",
    "        ch_names = data.ch_names  # Extract channel names\n",
    "        hp = data.info[\"highpass\"]  # Extract highpass filter\n",
    "        lp = data.info[\"lowpass\"]  # Extract lowpass filter\n",
    "        data = data.get_data(units=dict(eeg=\"uV\", emg=\"uV\", eog=\"uV\", ecg=\"uV\"))\n",
    "    else:\n",
    "        # Safety checks\n",
    "        assert isinstance(data, np.ndarray), \"Data must be a numpy array.\"\n",
    "        data = np.atleast_2d(data)\n",
    "        assert data.ndim == 2, \"Data must be of shape (nchan, n_samples).\"\n",
    "        nchan, npts = data.shape\n",
    "        assert nchan < npts, \"Data must be of shape (nchan, n_samples).\"\n",
    "        assert sf is not None, \"sf must be specified if passing a numpy array.\"\n",
    "        assert isinstance(sf, (int, float))\n",
    "        if ch_names is None:\n",
    "            ch_names = [\"CHAN\" + str(i).zfill(3) for i in range(nchan)]\n",
    "        else:\n",
    "            ch_names = np.atleast_1d(np.asarray(ch_names, dtype=str))\n",
    "            assert ch_names.ndim == 1, \"ch_names must be 1D.\"\n",
    "            assert len(ch_names) == nchan, \"ch_names must match data.shape[0].\"\n",
    "        hp = 0  # Highpass filter unknown -> set to 0 Hz\n",
    "        lp = sf / 2  # Lowpass filter unknown -> set to Nyquist\n",
    "\n",
    "    # Check the other arguments\n",
    "    hset = np.asarray(hset)\n",
    "    assert hset.ndim == 1, \"hset must be 1D.\"\n",
    "    assert hset.size > 1, \"2 or more resampling fators are required.\"\n",
    "    hset = np.round(hset, 4)  # avoid float precision error with np.arange.\n",
    "    band = sorted(band)\n",
    "    assert band[0] > 0, \"first element of band must be > 0.\"\n",
    "    assert band[1] < (sf / 2), \"second element of band must be < (sf / 2).\"\n",
    "    win = int(win_sec * sf)  # nperseg\n",
    "\n",
    "    # Inform about maximum resampled fitting range\n",
    "    h_max = np.max(hset)\n",
    "    band_evaluated = (band[0] / h_max, band[1] * h_max)\n",
    "    freq_Nyq = sf / 2  # Nyquist frequency\n",
    "    freq_Nyq_res = freq_Nyq / h_max  # minimum resampled Nyquist frequency\n",
    "    logging.info(f\"Fitting range: {band[0]:.2f}Hz-{band[1]:.2f}Hz\")\n",
    "    logging.info(f\"Evaluated frequency range: {band_evaluated[0]:.2f}Hz-{band_evaluated[1]:.2f}Hz\")\n",
    "    if band_evaluated[0] < hp:\n",
    "        logging.warning(\n",
    "            \"The evaluated frequency range starts below the \"\n",
    "            f\"highpass filter ({hp:.2f}Hz). Increase the lower band\"\n",
    "            f\" ({band[0]:.2f}Hz) or decrease the maximum value of \"\n",
    "            f\"the hset ({h_max:.2f}).\"\n",
    "        )\n",
    "    if band_evaluated[1] > lp and lp < freq_Nyq_res:\n",
    "        logging.warning(\n",
    "            \"The evaluated frequency range ends after the \"\n",
    "            f\"lowpass filter ({lp:.2f}Hz). Decrease the upper band\"\n",
    "            f\" ({band[1]:.2f}Hz) or decrease the maximum value of \"\n",
    "            f\"the hset ({h_max:.2f}).\"\n",
    "        )\n",
    "    if band_evaluated[1] > freq_Nyq_res:\n",
    "        logging.warning(\n",
    "            \"The evaluated frequency range ends after the \"\n",
    "            \"resampled Nyquist frequency \"\n",
    "            f\"({freq_Nyq_res:.2f}Hz). Decrease the upper band \"\n",
    "            f\"({band[1]:.2f}Hz) or decrease the maximum value \"\n",
    "            f\"of the hset ({h_max:.2f}).\"\n",
    "        )\n",
    "\n",
    "    # Calculate the original PSD over the whole data\n",
    "    freqs, psd = signal.welch(data, sf, nperseg=win, **kwargs_welch)\n",
    "\n",
    "    # Start the IRASA procedure\n",
    "    psds = np.zeros((len(hset), *psd.shape))\n",
    "\n",
    "    for i, h in enumerate(hset):\n",
    "        # Get the upsampling/downsampling (h, 1/h) factors as integer\n",
    "        rat = fractions.Fraction(str(h))\n",
    "        up, down = rat.numerator, rat.denominator\n",
    "        # Much faster than FFT-based resampling\n",
    "        data_up = signal.resample_poly(data, up, down, axis=-1)\n",
    "        data_down = signal.resample_poly(data, down, up, axis=-1)\n",
    "        # Calculate the PSD using same params as original\n",
    "        freqs_up, psd_up = signal.welch(data_up, h * sf, nperseg=win, **kwargs_welch)\n",
    "        freqs_dw, psd_dw = signal.welch(data_down, sf / h, nperseg=win, **kwargs_welch)\n",
    "        # Geometric mean of h and 1/h\n",
    "        psds[i, :] = np.sqrt(psd_up * psd_dw)\n",
    "\n",
    "    # Now we take the median PSD of all the resampling factors, which gives\n",
    "    # a good estimate of the aperiodic component of the PSD.\n",
    "    psd_aperiodic = np.median(psds, axis=0)\n",
    "\n",
    "    # We can now calculate the oscillations (= periodic) component.\n",
    "    psd_osc = psd - psd_aperiodic\n",
    "\n",
    "    # Let's crop to the frequencies defined in band\n",
    "    mask_freqs = np.ma.masked_outside(freqs, *band).mask\n",
    "    freqs = freqs[~mask_freqs]\n",
    "    psd_aperiodic = np.compress(~mask_freqs, psd_aperiodic, axis=-1)\n",
    "    psd_osc = np.compress(~mask_freqs, psd_osc, axis=-1)\n",
    "\n",
    "    if return_fit:\n",
    "        # Aperiodic fit in semilog space for each channel\n",
    "        from scipy.optimize import curve_fit\n",
    "\n",
    "        intercepts, slopes, r_squared = [], [], []\n",
    "\n",
    "        def func(t, a, b):\n",
    "            # See https://github.com/fooof-tools/fooof\n",
    "            return a + np.log10(t**b)\n",
    "\n",
    "        for y in np.atleast_2d(psd_aperiodic):\n",
    "            y_log = np.log10(y)\n",
    "            # Note that here we define bounds for the slope but not for the\n",
    "            # intercept.\n",
    "            popt, pcov = curve_fit(\n",
    "                func, freqs, y_log, p0=(2, -1), bounds=((-np.inf, -10), (np.inf, 2))\n",
    "            )\n",
    "            intercepts.append(popt[0])\n",
    "            slopes.append(popt[1])\n",
    "            # Calculate R^2: https://stackoverflow.com/q/19189362/10581531\n",
    "            residuals = y_log - func(freqs, *popt)\n",
    "            ss_res = np.sum(residuals**2)\n",
    "            ss_tot = np.sum((y_log - np.mean(y_log)) ** 2)\n",
    "            r_squared.append(1 - (ss_res / ss_tot))\n",
    "\n",
    "        # Create fit parameters dataframe\n",
    "        fit_params = {\n",
    "            \"Chan\": ch_names,\n",
    "            \"Intercept\": intercepts,\n",
    "            \"Slope\": slopes,\n",
    "            \"R^2\": r_squared,\n",
    "            \"std(osc)\": np.std(psd_osc, axis=-1, ddof=1),\n",
    "        }\n",
    "        return freqs, psd_aperiodic, psd_osc, pd.DataFrame(fit_params)\n",
    "    else:\n",
    "        return freqs, psd_aperiodic, psd_osc\n",
    "\n",
    "def compute_irasa_power(data, hypnogram, sf, subject, band=(1, 45), h_set_max=1.5):\n",
    "    \"\"\"\n",
    "    Compute the IRASA power spectrum for each sleep stage.\n",
    "\n",
    "    Parameters:\n",
    "    -----------\n",
    "    data : ndarray\n",
    "        2D EEG data where columns represent time points and rows represent different channels.\n",
    "    hypnogram : ndarray\n",
    "        1D array representing the sleep stage for each time point in data.\n",
    "    sf : float\n",
    "        Sampling frequency of the EEG data.\n",
    "    subject : str\n",
    "        Identifier for the subject whose data is being processed.\n",
    "    band : tuple\n",
    "        Frequency band to compute the IRASA power spectrum over.\n",
    "\n",
    "    Returns:\n",
    "    --------\n",
    "    fit_df : DataFrame\n",
    "        A DataFrame containing fit parameters for each sleep stage.\n",
    "    psd_df : DataFrame\n",
    "        A DataFrame containing power spectral density values for each sleep stage.\n",
    "\n",
    "    Notes:\n",
    "    ------\n",
    "    This function uses the YASA library's IRASA method to separate oscillatory and aperiodic components \n",
    "    of the EEG power spectrum for each sleep stage. It then computes bandpower for each component and optionally\n",
    "    plots the PSD for each component.\n",
    "    \"\"\"\n",
    "\n",
    "    fit_dfs = []\n",
    "    psd_dfs = []\n",
    "    psd_freq_dfs = [] \n",
    "    \n",
    "    for stage in np.unique(hypnogram):\n",
    "        if stage >= 0:\n",
    "            stage_data = data[:, hypnogram == int(stage)]\n",
    "\n",
    "            # Extract aperiodic and oscillatory components of the PSD\n",
    "            freqs, psd_aperiodic, psd_oscillatory, fit_params = irasa( # type: ignore\n",
    "                stage_data, sf=sf, ch_names=['C3', 'C4'], band=band,\n",
    "                return_fit=True, win_sec=2,\n",
    "                hset=np.arange(1.0, h_set_max + 0.05, 0.05),\n",
    "                kwargs_welch=dict(average='median', window='hamming')\n",
    "            )\n",
    "            fit_params['Stage'] = stage\n",
    "            fit_params['Subject'] = subject\n",
    "            fit_dfs.append(fit_params)\n",
    "\n",
    "            psd_df_stage = []\n",
    "            psd_freq_df_stage = []\n",
    "            for psd_obj, psd_name in zip([psd_aperiodic, psd_oscillatory, (psd_aperiodic + psd_oscillatory)], \n",
    "                                         ['Aperiodic', 'Oscillatory', 'Total']):\n",
    "                \n",
    "                # Extract the values at specific frequencies\n",
    "                tmp_df = pd.DataFrame(psd_obj.T, index=freqs, columns=['C3', 'C4'])\n",
    "                tmp_df = tmp_df.reset_index().melt(id_vars=['index'], value_vars=['C3', 'C4'], \n",
    "                                                   var_name='Channel', value_name='Power Value')\n",
    "                \n",
    "                tmp_df['Power'] = psd_name\n",
    "                tmp_df['Stage'] = stage\n",
    "                tmp_df['Subject'] = subject\n",
    "                tmp_df.rename(columns={'index': 'Frequency'}, inplace=True)\n",
    "                psd_freq_df_stage.append(tmp_df)\n",
    "\n",
    "                # Compute relative bandpower from PSD objects\n",
    "                psd_ = yasa.bandpower_from_psd(\n",
    "                    psd=psd_obj, freqs=freqs, ch_names=['C3', 'C4'],\n",
    "                    bands=[(0.5, 4, 'Delta'), (4, 8, 'Theta'), (8, 12, 'Alpha'),\n",
    "                        (12, 16, 'Sigma'), (16, 30, 'Beta'), (30, 40, 'Gamma')],\n",
    "                    relative=True\n",
    "                )\n",
    "                psd_['Power'] = psd_name\n",
    "                psd_['Stage'] = stage\n",
    "                psd_['Subject'] = subject\n",
    "                psd_df_stage.append(pd.DataFrame(psd_))\n",
    "    \n",
    "            psd_dfs.append(pd.concat(psd_df_stage, axis=0))\n",
    "            psd_freq_dfs.append(pd.concat(psd_freq_df_stage, axis=0))\n",
    "\n",
    "    fit_df = pd.concat(fit_dfs, axis=0)\n",
    "    psd_df = pd.concat(psd_dfs, axis=0)\n",
    "    psd_freq_df = pd.concat(psd_freq_dfs, axis=0)\n",
    "\n",
    "    return fit_df.reset_index(drop=True), psd_df.reset_index(drop=True), psd_freq_df.reset_index(drop=True)\n",
    "\n",
    "def plot_spectral_components(freqs, psd, save=True, fig_path=None):\n",
    "    # Plot the given component on a linear-log scale\n",
    "    plt.plot(freqs, psd.mean(0), 'k', lw=2)\n",
    "    plt.xlim(0.5, 30)\n",
    "    plt.yscale('log')\n",
    "    sns.despine()\n",
    "    plt.title(f'Spectral components - EEG Avg. (C3, C4)')\n",
    "    plt.xlabel('Frequency [Hz]')\n",
    "    plt.ylabel('PSD log($uV^2$/Hz)');\n",
    "\n",
    "    if save:\n",
    "        plt.savefig(f'{fig_path}.png')\n",
    "        plt.close('all')\n"
   ]
  },
  {
   "cell_type": "code",
   "execution_count": 4,
   "metadata": {},
   "outputs": [],
   "source": [
    "# Compute the aperiodic exponent via: https://github.com/Mark-Kramer/Aperiodic-Exponent-Model/blob/main/one_over_f_functions.py\n",
    "\n",
    "# Compute the spectrum.\n",
    "def compute_spectrum(x,t):                         # Compute the spectrum of signal x, time axis t in [s].\n",
    "    N   = np.size(x)                               # Number of data points\n",
    "    dt  = t[2]-t[1]                                # Time resolution, in [s].\n",
    "    T   = t[-1]                                    # Total time of data, in [s].\n",
    "    xf  = np.fft.fft(np.hanning(N)*(x-np.mean(x))) # Fourier transform of data, Hanning taper, 0-mean.\n",
    "    S   = np.real(2*dt**2/T*(xf*np.conj(xf)))      # Spectrum\n",
    "    S   = S[1:int(N/2)+1]                          # Keep only non-negative frequencies\n",
    "    df  = 1/T                                      # Frequency resolution, in [Hz]\n",
    "    fNQ = 1/dt/2                                   # Nyquist frequency, in [Hz]\n",
    "    f   = np.arange(0,fNQ,df)                      # Frequency axis, in [Hz]\n",
    "    return S, f\n",
    "\n",
    "# Compute the aperiodic exponent.\n",
    "def estimate_aperiodic_exponent(S,f,finterval):\n",
    "    freq_interval_to_fit = (f >= finterval[0]) & (f<=finterval[1])      # For this frequency range,\n",
    "                                                                        # Fit linear model: log10(S) vs log10(f)\n",
    "    linear_fit           = np.polyfit(np.log10(f[freq_interval_to_fit]), np.log10(S[freq_interval_to_fit]), 1)\n",
    "    x_linear_fit         = np.log10(f[freq_interval_to_fit])            # Return x-axis of fit.\n",
    "    y_linear_fit         = linear_fit[1] + linear_fit[0]*x_linear_fit   # Return y-axis of fit.\n",
    "    aperiodic_exponent   = linear_fit[0]                                # Return aperiodic exponent.\n",
    "\n",
    "    return aperiodic_exponent, x_linear_fit, y_linear_fit\n",
    "\n",
    "# Plot trace and spectrum with fit.\n",
    "def make_plots(t,x, f,S, x_linear_fit,y_linear_fit,aperiodic_exponent, axX,axS):\n",
    "    axX.plot(t,x, 'k');                              axX.set(xlabel=\"Time [s]\", ylabel='[a.u.]')\n",
    "    axS.plot(np.log10(f[2:]), np.log10(S[2:]), 'k'); axS.set(xlabel=\"Log$_{10}$(Frequency [Hz]\", ylabel=\"Log$_{10}$(P)\")\n",
    "    axS.plot(x_linear_fit, y_linear_fit, 'r');       axS.text(x_linear_fit[0],y_linear_fit[0]+2, \"Aperiodic exponent: %.2f\" % aperiodic_exponent);\n",
    "    axX.spines[\"top\"].set_visible(False); axX.spines[\"right\"].set_visible(False)\n",
    "    axS.spines[\"top\"].set_visible(False); axS.spines[\"right\"].set_visible(False) "
   ]
  },
  {
   "cell_type": "code",
   "execution_count": 5,
   "metadata": {},
   "outputs": [],
   "source": [
    "## Function to compute the aperiodic exponent with FOOOF for each sleep stage for channel C3 and C4\n",
    "\n",
    "def compute_fooof_aperiodic_exponent(data, sf, hypnogram, subject, band=(1, 45)):\n",
    "    # Initialize FOOOF object\n",
    "    fg = FOOOF(max_n_peaks=1, aperiodic_mode='fixed', verbose=False)\n",
    "    aperiodic_exponent_dfs = []\n",
    "    # Compute the power spectrum for each sleep stage\n",
    "    for stage in np.unique(hypnogram):\n",
    "        if stage >= 0:\n",
    "            # Slice the data based on sleep stage\n",
    "            stage_data = data[:, hypnogram == stage]\n",
    "            # Slice the data based on channel\n",
    "            for idx, ch_name in enumerate(['C3', 'C4']):\n",
    "                # Compute the power spectrum\n",
    "                freqs, psd = signal.welch(stage_data[idx, :], sf, nperseg=int(2*sf), \n",
    "                                          average='median', window='hamming')\n",
    "                freqs_foi = freqs[(freqs >= band[0]) & (freqs <= band[1])]\n",
    "                psd_foi = psd[(freqs >= band[0]) & (freqs <= band[1])]\n",
    "                # Fit the FOOOF model\n",
    "                fg.fit(freqs, psd, freq_range=band)\n",
    "                # Extract the aperiodic exponent\n",
    "                aperiodic_exponent = fg.get_params('aperiodic_params', 'exponent')\n",
    "                r2s = fg.get_params('r_squared')\n",
    "                intercept = fg.get_params('aperiodic_params', 'offset')\n",
    "                # Store the aperiodic exponent\n",
    "                aperiodic_exponent_df = pd.DataFrame({\n",
    "                    'Subject': [subject]*len(freqs_foi),\n",
    "                    'Stage': [stage]*len(freqs_foi),\n",
    "                    'Chan': [ch_name]*len(freqs_foi),\n",
    "                    'Slope': [aperiodic_exponent]*len(freqs_foi),\n",
    "                    'R^2': [r2s]*len(freqs_foi), \n",
    "                    'Intercept': [intercept]*len(freqs_foi),\n",
    "                    'std(osc)': [np.std(psd_foi, axis=-1, ddof=1)]*len(freqs_foi),\n",
    "                    'Spectrum': psd_foi,\n",
    "                    'Frequency': freqs_foi\n",
    "                })\n",
    "                aperiodic_exponent_dfs.append(aperiodic_exponent_df)\n",
    "\n",
    "    # Combine all dataframes\n",
    "    aperiodic_exponent_df_all = pd.concat(aperiodic_exponent_dfs, axis=0)\n",
    "\n",
    "    return aperiodic_exponent_df_all.reset_index(drop=True)"
   ]
  },
  {
   "cell_type": "markdown",
   "metadata": {},
   "source": [
    "## 1. Load data"
   ]
  },
  {
   "cell_type": "code",
   "execution_count": 6,
   "metadata": {},
   "outputs": [],
   "source": [
    "# Set paths\n",
    "path = '/mnt/server/data03/2023_NENA_Aperiodic_Workshop/data/processed/'\n",
    "fig_path = '/mnt/server/data03/2023_NENA_Aperiodic_Workshop/figures/subject/'\n",
    "# Obtain list of unique recordings\n",
    "files = list(set([\"-\".join(f.split('-')[0:3]) for f in os.listdir(path)]))"
   ]
  },
  {
   "cell_type": "markdown",
   "metadata": {},
   "source": [
    "## 2. Process and extract aperiodic component from recording files"
   ]
  },
  {
   "cell_type": "code",
   "execution_count": 7,
   "metadata": {},
   "outputs": [
    {
     "name": "stderr",
     "output_type": "stream",
     "text": [
      "  0%|          | 0/50 [00:00<?, ?it/s]"
     ]
    },
    {
     "name": "stdout",
     "output_type": "stream",
     "text": [
      "Detecting and labeling artifacts in file : cfs-visit5-800347\n"
     ]
    },
    {
     "name": "stderr",
     "output_type": "stream",
     "text": [
      "31-Aug-23 21:52:18 | WARNING | There are negative values in PSD. This will result in incorrect bandpower values. We highly recommend working with an all-positive PSD. For more details, please refer to: https://github.com/raphaelvallat/yasa/issues/29\n",
      "31-Aug-23 21:52:18 | WARNING | There are negative values in PSD. This will result in incorrect bandpower values. We highly recommend working with an all-positive PSD. For more details, please refer to: https://github.com/raphaelvallat/yasa/issues/29\n",
      "31-Aug-23 21:52:28 | WARNING | There are negative values in PSD. This will result in incorrect bandpower values. We highly recommend working with an all-positive PSD. For more details, please refer to: https://github.com/raphaelvallat/yasa/issues/29\n",
      "31-Aug-23 21:52:34 | WARNING | There are negative values in PSD. This will result in incorrect bandpower values. We highly recommend working with an all-positive PSD. For more details, please refer to: https://github.com/raphaelvallat/yasa/issues/29\n",
      "31-Aug-23 21:52:37 | WARNING | There are negative values in PSD. This will result in incorrect bandpower values. We highly recommend working with an all-positive PSD. For more details, please refer to: https://github.com/raphaelvallat/yasa/issues/29\n",
      "  2%|▏         | 1/50 [01:10<57:28, 70.37s/it]"
     ]
    },
    {
     "name": "stdout",
     "output_type": "stream",
     "text": [
      "Detecting and labeling artifacts in file : cfs-visit5-802487\n"
     ]
    },
    {
     "name": "stderr",
     "output_type": "stream",
     "text": [
      "31-Aug-23 21:53:39 | WARNING | There are negative values in PSD. This will result in incorrect bandpower values. We highly recommend working with an all-positive PSD. For more details, please refer to: https://github.com/raphaelvallat/yasa/issues/29\n",
      "31-Aug-23 21:53:40 | WARNING | There are negative values in PSD. This will result in incorrect bandpower values. We highly recommend working with an all-positive PSD. For more details, please refer to: https://github.com/raphaelvallat/yasa/issues/29\n",
      "31-Aug-23 21:53:47 | WARNING | There are negative values in PSD. This will result in incorrect bandpower values. We highly recommend working with an all-positive PSD. For more details, please refer to: https://github.com/raphaelvallat/yasa/issues/29\n",
      "31-Aug-23 21:53:52 | WARNING | There are negative values in PSD. This will result in incorrect bandpower values. We highly recommend working with an all-positive PSD. For more details, please refer to: https://github.com/raphaelvallat/yasa/issues/29\n",
      "31-Aug-23 21:53:52 | WARNING | There are negative values in PSD. This will result in incorrect bandpower values. We highly recommend working with an all-positive PSD. For more details, please refer to: https://github.com/raphaelvallat/yasa/issues/29\n",
      "  4%|▍         | 2/50 [02:25<58:39, 73.33s/it]"
     ]
    },
    {
     "name": "stdout",
     "output_type": "stream",
     "text": [
      "Detecting and labeling artifacts in file : cfs-visit5-801747\n"
     ]
    },
    {
     "name": "stderr",
     "output_type": "stream",
     "text": [
      "31-Aug-23 21:54:49 | WARNING | There are negative values in PSD. This will result in incorrect bandpower values. We highly recommend working with an all-positive PSD. For more details, please refer to: https://github.com/raphaelvallat/yasa/issues/29\n",
      "31-Aug-23 21:54:49 | WARNING | There are negative values in PSD. This will result in incorrect bandpower values. We highly recommend working with an all-positive PSD. For more details, please refer to: https://github.com/raphaelvallat/yasa/issues/29\n",
      "31-Aug-23 21:55:01 | WARNING | There are negative values in PSD. This will result in incorrect bandpower values. We highly recommend working with an all-positive PSD. For more details, please refer to: https://github.com/raphaelvallat/yasa/issues/29\n",
      "31-Aug-23 21:55:04 | WARNING | There are negative values in PSD. This will result in incorrect bandpower values. We highly recommend working with an all-positive PSD. For more details, please refer to: https://github.com/raphaelvallat/yasa/issues/29\n",
      "31-Aug-23 21:55:08 | WARNING | There are negative values in PSD. This will result in incorrect bandpower values. We highly recommend working with an all-positive PSD. For more details, please refer to: https://github.com/raphaelvallat/yasa/issues/29\n",
      "  6%|▌         | 3/50 [03:41<58:18, 74.43s/it]"
     ]
    },
    {
     "name": "stdout",
     "output_type": "stream",
     "text": [
      "Detecting and labeling artifacts in file : cfs-visit5-802491\n"
     ]
    },
    {
     "name": "stderr",
     "output_type": "stream",
     "text": [
      "31-Aug-23 21:56:17 | WARNING | There are negative values in PSD. This will result in incorrect bandpower values. We highly recommend working with an all-positive PSD. For more details, please refer to: https://github.com/raphaelvallat/yasa/issues/29\n",
      "31-Aug-23 21:56:17 | WARNING | There are negative values in PSD. This will result in incorrect bandpower values. We highly recommend working with an all-positive PSD. For more details, please refer to: https://github.com/raphaelvallat/yasa/issues/29\n",
      "31-Aug-23 21:56:23 | WARNING | There are negative values in PSD. This will result in incorrect bandpower values. We highly recommend working with an all-positive PSD. For more details, please refer to: https://github.com/raphaelvallat/yasa/issues/29\n",
      "31-Aug-23 21:56:28 | WARNING | There are negative values in PSD. This will result in incorrect bandpower values. We highly recommend working with an all-positive PSD. For more details, please refer to: https://github.com/raphaelvallat/yasa/issues/29\n",
      "31-Aug-23 21:56:29 | WARNING | There are negative values in PSD. This will result in incorrect bandpower values. We highly recommend working with an all-positive PSD. For more details, please refer to: https://github.com/raphaelvallat/yasa/issues/29\n",
      "  8%|▊         | 4/50 [05:02<59:10, 77.18s/it]"
     ]
    },
    {
     "name": "stdout",
     "output_type": "stream",
     "text": [
      "Detecting and labeling artifacts in file : cfs-visit5-800407\n"
     ]
    },
    {
     "name": "stderr",
     "output_type": "stream",
     "text": [
      "31-Aug-23 21:57:28 | WARNING | There are negative values in PSD. This will result in incorrect bandpower values. We highly recommend working with an all-positive PSD. For more details, please refer to: https://github.com/raphaelvallat/yasa/issues/29\n",
      "31-Aug-23 21:57:29 | WARNING | There are negative values in PSD. This will result in incorrect bandpower values. We highly recommend working with an all-positive PSD. For more details, please refer to: https://github.com/raphaelvallat/yasa/issues/29\n",
      "31-Aug-23 21:57:38 | WARNING | There are negative values in PSD. This will result in incorrect bandpower values. We highly recommend working with an all-positive PSD. For more details, please refer to: https://github.com/raphaelvallat/yasa/issues/29\n",
      "31-Aug-23 21:57:42 | WARNING | There are negative values in PSD. This will result in incorrect bandpower values. We highly recommend working with an all-positive PSD. For more details, please refer to: https://github.com/raphaelvallat/yasa/issues/29\n",
      "31-Aug-23 21:57:44 | WARNING | There are negative values in PSD. This will result in incorrect bandpower values. We highly recommend working with an all-positive PSD. For more details, please refer to: https://github.com/raphaelvallat/yasa/issues/29\n",
      " 10%|█         | 5/50 [06:16<57:02, 76.05s/it]"
     ]
    },
    {
     "name": "stdout",
     "output_type": "stream",
     "text": [
      "Detecting and labeling artifacts in file : cfs-visit5-801602\n"
     ]
    },
    {
     "name": "stderr",
     "output_type": "stream",
     "text": [
      "31-Aug-23 21:58:42 | WARNING | There are negative values in PSD. This will result in incorrect bandpower values. We highly recommend working with an all-positive PSD. For more details, please refer to: https://github.com/raphaelvallat/yasa/issues/29\n",
      "31-Aug-23 21:58:43 | WARNING | There are negative values in PSD. This will result in incorrect bandpower values. We highly recommend working with an all-positive PSD. For more details, please refer to: https://github.com/raphaelvallat/yasa/issues/29\n",
      "31-Aug-23 21:58:54 | WARNING | There are negative values in PSD. This will result in incorrect bandpower values. We highly recommend working with an all-positive PSD. For more details, please refer to: https://github.com/raphaelvallat/yasa/issues/29\n",
      "31-Aug-23 21:58:57 | WARNING | There are negative values in PSD. This will result in incorrect bandpower values. We highly recommend working with an all-positive PSD. For more details, please refer to: https://github.com/raphaelvallat/yasa/issues/29\n",
      "31-Aug-23 21:59:01 | WARNING | There are negative values in PSD. This will result in incorrect bandpower values. We highly recommend working with an all-positive PSD. For more details, please refer to: https://github.com/raphaelvallat/yasa/issues/29\n",
      " 12%|█▏        | 6/50 [07:34<56:01, 76.40s/it]"
     ]
    },
    {
     "name": "stdout",
     "output_type": "stream",
     "text": [
      "Detecting and labeling artifacts in file : cfs-visit5-802643\n"
     ]
    },
    {
     "name": "stderr",
     "output_type": "stream",
     "text": [
      "31-Aug-23 21:59:58 | WARNING | There are negative values in PSD. This will result in incorrect bandpower values. We highly recommend working with an all-positive PSD. For more details, please refer to: https://github.com/raphaelvallat/yasa/issues/29\n",
      "31-Aug-23 21:59:59 | WARNING | There are negative values in PSD. This will result in incorrect bandpower values. We highly recommend working with an all-positive PSD. For more details, please refer to: https://github.com/raphaelvallat/yasa/issues/29\n",
      "31-Aug-23 22:00:11 | WARNING | There are negative values in PSD. This will result in incorrect bandpower values. We highly recommend working with an all-positive PSD. For more details, please refer to: https://github.com/raphaelvallat/yasa/issues/29\n",
      "31-Aug-23 22:00:15 | WARNING | There are negative values in PSD. This will result in incorrect bandpower values. We highly recommend working with an all-positive PSD. For more details, please refer to: https://github.com/raphaelvallat/yasa/issues/29\n",
      "31-Aug-23 22:00:16 | WARNING | There are negative values in PSD. This will result in incorrect bandpower values. We highly recommend working with an all-positive PSD. For more details, please refer to: https://github.com/raphaelvallat/yasa/issues/29\n",
      " 14%|█▍        | 7/50 [08:48<54:24, 75.91s/it]"
     ]
    },
    {
     "name": "stdout",
     "output_type": "stream",
     "text": [
      "Detecting and labeling artifacts in file : cfs-visit5-801540\n"
     ]
    },
    {
     "name": "stderr",
     "output_type": "stream",
     "text": [
      "31-Aug-23 22:01:22 | WARNING | There are negative values in PSD. This will result in incorrect bandpower values. We highly recommend working with an all-positive PSD. For more details, please refer to: https://github.com/raphaelvallat/yasa/issues/29\n",
      "31-Aug-23 22:01:23 | WARNING | There are negative values in PSD. This will result in incorrect bandpower values. We highly recommend working with an all-positive PSD. For more details, please refer to: https://github.com/raphaelvallat/yasa/issues/29\n",
      "31-Aug-23 22:01:29 | WARNING | There are negative values in PSD. This will result in incorrect bandpower values. We highly recommend working with an all-positive PSD. For more details, please refer to: https://github.com/raphaelvallat/yasa/issues/29\n",
      "31-Aug-23 22:01:32 | WARNING | There are negative values in PSD. This will result in incorrect bandpower values. We highly recommend working with an all-positive PSD. For more details, please refer to: https://github.com/raphaelvallat/yasa/issues/29\n",
      "31-Aug-23 22:01:33 | WARNING | There are negative values in PSD. This will result in incorrect bandpower values. We highly recommend working with an all-positive PSD. For more details, please refer to: https://github.com/raphaelvallat/yasa/issues/29\n",
      " 16%|█▌        | 8/50 [10:06<53:30, 76.45s/it]"
     ]
    },
    {
     "name": "stdout",
     "output_type": "stream",
     "text": [
      "Detecting and labeling artifacts in file : cfs-visit5-801291\n"
     ]
    },
    {
     "name": "stderr",
     "output_type": "stream",
     "text": [
      "31-Aug-23 22:02:41 | WARNING | There are negative values in PSD. This will result in incorrect bandpower values. We highly recommend working with an all-positive PSD. For more details, please refer to: https://github.com/raphaelvallat/yasa/issues/29\n",
      "31-Aug-23 22:02:41 | WARNING | There are negative values in PSD. This will result in incorrect bandpower values. We highly recommend working with an all-positive PSD. For more details, please refer to: https://github.com/raphaelvallat/yasa/issues/29\n",
      "31-Aug-23 22:02:50 | WARNING | There are negative values in PSD. This will result in incorrect bandpower values. We highly recommend working with an all-positive PSD. For more details, please refer to: https://github.com/raphaelvallat/yasa/issues/29\n",
      "31-Aug-23 22:02:54 | WARNING | There are negative values in PSD. This will result in incorrect bandpower values. We highly recommend working with an all-positive PSD. For more details, please refer to: https://github.com/raphaelvallat/yasa/issues/29\n",
      "31-Aug-23 22:02:55 | WARNING | There are negative values in PSD. This will result in incorrect bandpower values. We highly recommend working with an all-positive PSD. For more details, please refer to: https://github.com/raphaelvallat/yasa/issues/29\n",
      " 18%|█▊        | 9/50 [11:28<53:28, 78.24s/it]"
     ]
    },
    {
     "name": "stdout",
     "output_type": "stream",
     "text": [
      "Detecting and labeling artifacts in file : cfs-visit5-801323\n"
     ]
    },
    {
     "name": "stderr",
     "output_type": "stream",
     "text": [
      "31-Aug-23 22:03:47 | WARNING | There are negative values in PSD. This will result in incorrect bandpower values. We highly recommend working with an all-positive PSD. For more details, please refer to: https://github.com/raphaelvallat/yasa/issues/29\n",
      "31-Aug-23 22:03:48 | WARNING | There are negative values in PSD. This will result in incorrect bandpower values. We highly recommend working with an all-positive PSD. For more details, please refer to: https://github.com/raphaelvallat/yasa/issues/29\n",
      "31-Aug-23 22:03:57 | WARNING | There are negative values in PSD. This will result in incorrect bandpower values. We highly recommend working with an all-positive PSD. For more details, please refer to: https://github.com/raphaelvallat/yasa/issues/29\n",
      "31-Aug-23 22:04:00 | WARNING | There are negative values in PSD. This will result in incorrect bandpower values. We highly recommend working with an all-positive PSD. For more details, please refer to: https://github.com/raphaelvallat/yasa/issues/29\n",
      "31-Aug-23 22:04:03 | WARNING | There are negative values in PSD. This will result in incorrect bandpower values. We highly recommend working with an all-positive PSD. For more details, please refer to: https://github.com/raphaelvallat/yasa/issues/29\n",
      " 20%|██        | 10/50 [12:36<49:58, 74.95s/it]"
     ]
    },
    {
     "name": "stdout",
     "output_type": "stream",
     "text": [
      "Detecting and labeling artifacts in file : cfs-visit5-800667\n"
     ]
    },
    {
     "name": "stderr",
     "output_type": "stream",
     "text": [
      "31-Aug-23 22:05:01 | WARNING | There are negative values in PSD. This will result in incorrect bandpower values. We highly recommend working with an all-positive PSD. For more details, please refer to: https://github.com/raphaelvallat/yasa/issues/29\n",
      "31-Aug-23 22:05:01 | WARNING | There are negative values in PSD. This will result in incorrect bandpower values. We highly recommend working with an all-positive PSD. For more details, please refer to: https://github.com/raphaelvallat/yasa/issues/29\n",
      "31-Aug-23 22:05:09 | WARNING | There are negative values in PSD. This will result in incorrect bandpower values. We highly recommend working with an all-positive PSD. For more details, please refer to: https://github.com/raphaelvallat/yasa/issues/29\n",
      "31-Aug-23 22:05:12 | WARNING | There are negative values in PSD. This will result in incorrect bandpower values. We highly recommend working with an all-positive PSD. For more details, please refer to: https://github.com/raphaelvallat/yasa/issues/29\n",
      "31-Aug-23 22:05:16 | WARNING | There are negative values in PSD. This will result in incorrect bandpower values. We highly recommend working with an all-positive PSD. For more details, please refer to: https://github.com/raphaelvallat/yasa/issues/29\n",
      " 22%|██▏       | 11/50 [13:49<48:23, 74.44s/it]"
     ]
    },
    {
     "name": "stdout",
     "output_type": "stream",
     "text": [
      "Detecting and labeling artifacts in file : cfs-visit5-800184\n"
     ]
    },
    {
     "name": "stderr",
     "output_type": "stream",
     "text": [
      "31-Aug-23 22:06:12 | WARNING | There are negative values in PSD. This will result in incorrect bandpower values. We highly recommend working with an all-positive PSD. For more details, please refer to: https://github.com/raphaelvallat/yasa/issues/29\n",
      "31-Aug-23 22:06:12 | WARNING | There are negative values in PSD. This will result in incorrect bandpower values. We highly recommend working with an all-positive PSD. For more details, please refer to: https://github.com/raphaelvallat/yasa/issues/29\n",
      "31-Aug-23 22:06:21 | WARNING | There are negative values in PSD. This will result in incorrect bandpower values. We highly recommend working with an all-positive PSD. For more details, please refer to: https://github.com/raphaelvallat/yasa/issues/29\n",
      "31-Aug-23 22:06:23 | WARNING | There are negative values in PSD. This will result in incorrect bandpower values. We highly recommend working with an all-positive PSD. For more details, please refer to: https://github.com/raphaelvallat/yasa/issues/29\n",
      "31-Aug-23 22:06:24 | WARNING | There are negative values in PSD. This will result in incorrect bandpower values. We highly recommend working with an all-positive PSD. For more details, please refer to: https://github.com/raphaelvallat/yasa/issues/29\n",
      " 24%|██▍       | 12/50 [14:57<45:54, 72.48s/it]"
     ]
    },
    {
     "name": "stdout",
     "output_type": "stream",
     "text": [
      "Detecting and labeling artifacts in file : cfs-visit5-800092\n"
     ]
    },
    {
     "name": "stderr",
     "output_type": "stream",
     "text": [
      "31-Aug-23 22:07:23 | WARNING | There are negative values in PSD. This will result in incorrect bandpower values. We highly recommend working with an all-positive PSD. For more details, please refer to: https://github.com/raphaelvallat/yasa/issues/29\n",
      "31-Aug-23 22:07:23 | WARNING | There are negative values in PSD. This will result in incorrect bandpower values. We highly recommend working with an all-positive PSD. For more details, please refer to: https://github.com/raphaelvallat/yasa/issues/29\n",
      "31-Aug-23 22:07:35 | WARNING | There are negative values in PSD. This will result in incorrect bandpower values. We highly recommend working with an all-positive PSD. For more details, please refer to: https://github.com/raphaelvallat/yasa/issues/29\n",
      "31-Aug-23 22:07:39 | WARNING | There are negative values in PSD. This will result in incorrect bandpower values. We highly recommend working with an all-positive PSD. For more details, please refer to: https://github.com/raphaelvallat/yasa/issues/29\n",
      "31-Aug-23 22:07:42 | WARNING | There are negative values in PSD. This will result in incorrect bandpower values. We highly recommend working with an all-positive PSD. For more details, please refer to: https://github.com/raphaelvallat/yasa/issues/29\n",
      " 26%|██▌       | 13/50 [16:15<45:42, 74.12s/it]"
     ]
    },
    {
     "name": "stdout",
     "output_type": "stream",
     "text": [
      "Detecting and labeling artifacts in file : cfs-visit5-801152\n"
     ]
    },
    {
     "name": "stderr",
     "output_type": "stream",
     "text": [
      "31-Aug-23 22:08:40 | WARNING | There are negative values in PSD. This will result in incorrect bandpower values. We highly recommend working with an all-positive PSD. For more details, please refer to: https://github.com/raphaelvallat/yasa/issues/29\n",
      "31-Aug-23 22:08:40 | WARNING | There are negative values in PSD. This will result in incorrect bandpower values. We highly recommend working with an all-positive PSD. For more details, please refer to: https://github.com/raphaelvallat/yasa/issues/29\n",
      "31-Aug-23 22:08:45 | WARNING | There are negative values in PSD. This will result in incorrect bandpower values. We highly recommend working with an all-positive PSD. For more details, please refer to: https://github.com/raphaelvallat/yasa/issues/29\n",
      "31-Aug-23 22:08:53 | WARNING | There are negative values in PSD. This will result in incorrect bandpower values. We highly recommend working with an all-positive PSD. For more details, please refer to: https://github.com/raphaelvallat/yasa/issues/29\n",
      "31-Aug-23 22:08:55 | WARNING | There are negative values in PSD. This will result in incorrect bandpower values. We highly recommend working with an all-positive PSD. For more details, please refer to: https://github.com/raphaelvallat/yasa/issues/29\n",
      " 28%|██▊       | 14/50 [17:28<44:12, 73.69s/it]"
     ]
    },
    {
     "name": "stdout",
     "output_type": "stream",
     "text": [
      "Detecting and labeling artifacts in file : cfs-visit5-801497\n"
     ]
    },
    {
     "name": "stderr",
     "output_type": "stream",
     "text": [
      "31-Aug-23 22:09:53 | WARNING | There are negative values in PSD. This will result in incorrect bandpower values. We highly recommend working with an all-positive PSD. For more details, please refer to: https://github.com/raphaelvallat/yasa/issues/29\n",
      "31-Aug-23 22:09:53 | WARNING | There are negative values in PSD. This will result in incorrect bandpower values. We highly recommend working with an all-positive PSD. For more details, please refer to: https://github.com/raphaelvallat/yasa/issues/29\n",
      "31-Aug-23 22:09:58 | WARNING | There are negative values in PSD. This will result in incorrect bandpower values. We highly recommend working with an all-positive PSD. For more details, please refer to: https://github.com/raphaelvallat/yasa/issues/29\n",
      "31-Aug-23 22:10:04 | WARNING | There are negative values in PSD. This will result in incorrect bandpower values. We highly recommend working with an all-positive PSD. For more details, please refer to: https://github.com/raphaelvallat/yasa/issues/29\n",
      "31-Aug-23 22:10:07 | WARNING | There are negative values in PSD. This will result in incorrect bandpower values. We highly recommend working with an all-positive PSD. For more details, please refer to: https://github.com/raphaelvallat/yasa/issues/29\n",
      " 30%|███       | 15/50 [18:40<42:42, 73.22s/it]"
     ]
    },
    {
     "name": "stdout",
     "output_type": "stream",
     "text": [
      "Detecting and labeling artifacts in file : cfs-visit5-800494\n"
     ]
    },
    {
     "name": "stderr",
     "output_type": "stream",
     "text": [
      "31-Aug-23 22:11:15 | WARNING | There are negative values in PSD. This will result in incorrect bandpower values. We highly recommend working with an all-positive PSD. For more details, please refer to: https://github.com/raphaelvallat/yasa/issues/29\n",
      "31-Aug-23 22:11:15 | WARNING | There are negative values in PSD. This will result in incorrect bandpower values. We highly recommend working with an all-positive PSD. For more details, please refer to: https://github.com/raphaelvallat/yasa/issues/29\n",
      "31-Aug-23 22:11:18 | WARNING | There are negative values in PSD. This will result in incorrect bandpower values. We highly recommend working with an all-positive PSD. For more details, please refer to: https://github.com/raphaelvallat/yasa/issues/29\n",
      "31-Aug-23 22:11:22 | WARNING | There are negative values in PSD. This will result in incorrect bandpower values. We highly recommend working with an all-positive PSD. For more details, please refer to: https://github.com/raphaelvallat/yasa/issues/29\n",
      "31-Aug-23 22:11:26 | WARNING | There are negative values in PSD. This will result in incorrect bandpower values. We highly recommend working with an all-positive PSD. For more details, please refer to: https://github.com/raphaelvallat/yasa/issues/29\n",
      " 32%|███▏      | 16/50 [19:59<42:31, 75.05s/it]"
     ]
    },
    {
     "name": "stdout",
     "output_type": "stream",
     "text": [
      "Detecting and labeling artifacts in file : cfs-visit5-802298\n"
     ]
    },
    {
     "name": "stderr",
     "output_type": "stream",
     "text": [
      "31-Aug-23 22:12:25 | WARNING | There are negative values in PSD. This will result in incorrect bandpower values. We highly recommend working with an all-positive PSD. For more details, please refer to: https://github.com/raphaelvallat/yasa/issues/29\n",
      "31-Aug-23 22:12:25 | WARNING | There are negative values in PSD. This will result in incorrect bandpower values. We highly recommend working with an all-positive PSD. For more details, please refer to: https://github.com/raphaelvallat/yasa/issues/29\n",
      "31-Aug-23 22:12:36 | WARNING | There are negative values in PSD. This will result in incorrect bandpower values. We highly recommend working with an all-positive PSD. For more details, please refer to: https://github.com/raphaelvallat/yasa/issues/29\n",
      "31-Aug-23 22:12:40 | WARNING | There are negative values in PSD. This will result in incorrect bandpower values. We highly recommend working with an all-positive PSD. For more details, please refer to: https://github.com/raphaelvallat/yasa/issues/29\n",
      "31-Aug-23 22:12:43 | WARNING | There are negative values in PSD. This will result in incorrect bandpower values. We highly recommend working with an all-positive PSD. For more details, please refer to: https://github.com/raphaelvallat/yasa/issues/29\n",
      " 34%|███▍      | 17/50 [21:16<41:36, 75.64s/it]"
     ]
    },
    {
     "name": "stdout",
     "output_type": "stream",
     "text": [
      "Detecting and labeling artifacts in file : cfs-visit5-800249\n"
     ]
    },
    {
     "name": "stderr",
     "output_type": "stream",
     "text": [
      "31-Aug-23 22:13:42 | WARNING | There are negative values in PSD. This will result in incorrect bandpower values. We highly recommend working with an all-positive PSD. For more details, please refer to: https://github.com/raphaelvallat/yasa/issues/29\n",
      "31-Aug-23 22:13:43 | WARNING | There are negative values in PSD. This will result in incorrect bandpower values. We highly recommend working with an all-positive PSD. For more details, please refer to: https://github.com/raphaelvallat/yasa/issues/29\n",
      "31-Aug-23 22:13:48 | WARNING | There are negative values in PSD. This will result in incorrect bandpower values. We highly recommend working with an all-positive PSD. For more details, please refer to: https://github.com/raphaelvallat/yasa/issues/29\n",
      "31-Aug-23 22:13:53 | WARNING | There are negative values in PSD. This will result in incorrect bandpower values. We highly recommend working with an all-positive PSD. For more details, please refer to: https://github.com/raphaelvallat/yasa/issues/29\n",
      "31-Aug-23 22:13:56 | WARNING | There are negative values in PSD. This will result in incorrect bandpower values. We highly recommend working with an all-positive PSD. For more details, please refer to: https://github.com/raphaelvallat/yasa/issues/29\n",
      " 36%|███▌      | 18/50 [22:29<39:51, 74.74s/it]"
     ]
    },
    {
     "name": "stdout",
     "output_type": "stream",
     "text": [
      "Detecting and labeling artifacts in file : cfs-visit5-801907\n"
     ]
    },
    {
     "name": "stderr",
     "output_type": "stream",
     "text": [
      "31-Aug-23 22:14:55 | WARNING | There are negative values in PSD. This will result in incorrect bandpower values. We highly recommend working with an all-positive PSD. For more details, please refer to: https://github.com/raphaelvallat/yasa/issues/29\n",
      "31-Aug-23 22:14:55 | WARNING | There are negative values in PSD. This will result in incorrect bandpower values. We highly recommend working with an all-positive PSD. For more details, please refer to: https://github.com/raphaelvallat/yasa/issues/29\n",
      "31-Aug-23 22:15:03 | WARNING | There are negative values in PSD. This will result in incorrect bandpower values. We highly recommend working with an all-positive PSD. For more details, please refer to: https://github.com/raphaelvallat/yasa/issues/29\n",
      "31-Aug-23 22:15:07 | WARNING | There are negative values in PSD. This will result in incorrect bandpower values. We highly recommend working with an all-positive PSD. For more details, please refer to: https://github.com/raphaelvallat/yasa/issues/29\n",
      "31-Aug-23 22:15:09 | WARNING | There are negative values in PSD. This will result in incorrect bandpower values. We highly recommend working with an all-positive PSD. For more details, please refer to: https://github.com/raphaelvallat/yasa/issues/29\n",
      " 38%|███▊      | 19/50 [23:42<38:18, 74.16s/it]"
     ]
    },
    {
     "name": "stdout",
     "output_type": "stream",
     "text": [
      "Detecting and labeling artifacts in file : cfs-visit5-801225\n"
     ]
    },
    {
     "name": "stderr",
     "output_type": "stream",
     "text": [
      "31-Aug-23 22:16:09 | WARNING | There are negative values in PSD. This will result in incorrect bandpower values. We highly recommend working with an all-positive PSD. For more details, please refer to: https://github.com/raphaelvallat/yasa/issues/29\n",
      "31-Aug-23 22:16:09 | WARNING | There are negative values in PSD. This will result in incorrect bandpower values. We highly recommend working with an all-positive PSD. For more details, please refer to: https://github.com/raphaelvallat/yasa/issues/29\n",
      "31-Aug-23 22:16:20 | WARNING | There are negative values in PSD. This will result in incorrect bandpower values. We highly recommend working with an all-positive PSD. For more details, please refer to: https://github.com/raphaelvallat/yasa/issues/29\n",
      "31-Aug-23 22:16:24 | WARNING | There are negative values in PSD. This will result in incorrect bandpower values. We highly recommend working with an all-positive PSD. For more details, please refer to: https://github.com/raphaelvallat/yasa/issues/29\n",
      "31-Aug-23 22:16:29 | WARNING | There are negative values in PSD. This will result in incorrect bandpower values. We highly recommend working with an all-positive PSD. For more details, please refer to: https://github.com/raphaelvallat/yasa/issues/29\n",
      " 40%|████      | 20/50 [25:02<37:58, 75.94s/it]"
     ]
    },
    {
     "name": "stdout",
     "output_type": "stream",
     "text": [
      "Detecting and labeling artifacts in file : cfs-visit5-800243\n"
     ]
    },
    {
     "name": "stderr",
     "output_type": "stream",
     "text": [
      "31-Aug-23 22:17:27 | WARNING | There are negative values in PSD. This will result in incorrect bandpower values. We highly recommend working with an all-positive PSD. For more details, please refer to: https://github.com/raphaelvallat/yasa/issues/29\n",
      "31-Aug-23 22:17:27 | WARNING | There are negative values in PSD. This will result in incorrect bandpower values. We highly recommend working with an all-positive PSD. For more details, please refer to: https://github.com/raphaelvallat/yasa/issues/29\n",
      "31-Aug-23 22:17:38 | WARNING | There are negative values in PSD. This will result in incorrect bandpower values. We highly recommend working with an all-positive PSD. For more details, please refer to: https://github.com/raphaelvallat/yasa/issues/29\n",
      "31-Aug-23 22:17:42 | WARNING | There are negative values in PSD. This will result in incorrect bandpower values. We highly recommend working with an all-positive PSD. For more details, please refer to: https://github.com/raphaelvallat/yasa/issues/29\n",
      "31-Aug-23 22:17:45 | WARNING | There are negative values in PSD. This will result in incorrect bandpower values. We highly recommend working with an all-positive PSD. For more details, please refer to: https://github.com/raphaelvallat/yasa/issues/29\n",
      " 42%|████▏     | 21/50 [26:18<36:46, 76.09s/it]"
     ]
    },
    {
     "name": "stdout",
     "output_type": "stream",
     "text": [
      "Detecting and labeling artifacts in file : cfs-visit5-802709\n"
     ]
    },
    {
     "name": "stderr",
     "output_type": "stream",
     "text": [
      "31-Aug-23 22:18:51 | WARNING | There are negative values in PSD. This will result in incorrect bandpower values. We highly recommend working with an all-positive PSD. For more details, please refer to: https://github.com/raphaelvallat/yasa/issues/29\n",
      "31-Aug-23 22:18:51 | WARNING | There are negative values in PSD. This will result in incorrect bandpower values. We highly recommend working with an all-positive PSD. For more details, please refer to: https://github.com/raphaelvallat/yasa/issues/29\n",
      "31-Aug-23 22:18:57 | WARNING | There are negative values in PSD. This will result in incorrect bandpower values. We highly recommend working with an all-positive PSD. For more details, please refer to: https://github.com/raphaelvallat/yasa/issues/29\n",
      "31-Aug-23 22:19:00 | WARNING | There are negative values in PSD. This will result in incorrect bandpower values. We highly recommend working with an all-positive PSD. For more details, please refer to: https://github.com/raphaelvallat/yasa/issues/29\n",
      "31-Aug-23 22:19:05 | WARNING | There are negative values in PSD. This will result in incorrect bandpower values. We highly recommend working with an all-positive PSD. For more details, please refer to: https://github.com/raphaelvallat/yasa/issues/29\n",
      " 44%|████▍     | 22/50 [27:38<36:05, 77.33s/it]"
     ]
    },
    {
     "name": "stdout",
     "output_type": "stream",
     "text": [
      "Detecting and labeling artifacts in file : cfs-visit5-801393\n"
     ]
    },
    {
     "name": "stderr",
     "output_type": "stream",
     "text": [
      "31-Aug-23 22:20:03 | WARNING | There are negative values in PSD. This will result in incorrect bandpower values. We highly recommend working with an all-positive PSD. For more details, please refer to: https://github.com/raphaelvallat/yasa/issues/29\n",
      "31-Aug-23 22:20:04 | WARNING | There are negative values in PSD. This will result in incorrect bandpower values. We highly recommend working with an all-positive PSD. For more details, please refer to: https://github.com/raphaelvallat/yasa/issues/29\n",
      "31-Aug-23 22:20:12 | WARNING | There are negative values in PSD. This will result in incorrect bandpower values. We highly recommend working with an all-positive PSD. For more details, please refer to: https://github.com/raphaelvallat/yasa/issues/29\n",
      "31-Aug-23 22:20:15 | WARNING | There are negative values in PSD. This will result in incorrect bandpower values. We highly recommend working with an all-positive PSD. For more details, please refer to: https://github.com/raphaelvallat/yasa/issues/29\n",
      "31-Aug-23 22:20:18 | WARNING | There are negative values in PSD. This will result in incorrect bandpower values. We highly recommend working with an all-positive PSD. For more details, please refer to: https://github.com/raphaelvallat/yasa/issues/29\n",
      " 46%|████▌     | 23/50 [28:50<34:04, 75.72s/it]"
     ]
    },
    {
     "name": "stdout",
     "output_type": "stream",
     "text": [
      "Detecting and labeling artifacts in file : cfs-visit5-800331\n"
     ]
    },
    {
     "name": "stderr",
     "output_type": "stream",
     "text": [
      "31-Aug-23 22:21:05 | WARNING | There are negative values in PSD. This will result in incorrect bandpower values. We highly recommend working with an all-positive PSD. For more details, please refer to: https://github.com/raphaelvallat/yasa/issues/29\n",
      "31-Aug-23 22:21:05 | WARNING | There are negative values in PSD. This will result in incorrect bandpower values. We highly recommend working with an all-positive PSD. For more details, please refer to: https://github.com/raphaelvallat/yasa/issues/29\n",
      "31-Aug-23 22:21:13 | WARNING | There are negative values in PSD. This will result in incorrect bandpower values. We highly recommend working with an all-positive PSD. For more details, please refer to: https://github.com/raphaelvallat/yasa/issues/29\n",
      "31-Aug-23 22:21:17 | WARNING | There are negative values in PSD. This will result in incorrect bandpower values. We highly recommend working with an all-positive PSD. For more details, please refer to: https://github.com/raphaelvallat/yasa/issues/29\n",
      "31-Aug-23 22:21:20 | WARNING | There are negative values in PSD. This will result in incorrect bandpower values. We highly recommend working with an all-positive PSD. For more details, please refer to: https://github.com/raphaelvallat/yasa/issues/29\n",
      " 48%|████▊     | 24/50 [29:53<31:06, 71.80s/it]"
     ]
    },
    {
     "name": "stdout",
     "output_type": "stream",
     "text": [
      "Detecting and labeling artifacts in file : cfs-visit5-800630\n"
     ]
    },
    {
     "name": "stderr",
     "output_type": "stream",
     "text": [
      "31-Aug-23 22:22:24 | WARNING | There are negative values in PSD. This will result in incorrect bandpower values. We highly recommend working with an all-positive PSD. For more details, please refer to: https://github.com/raphaelvallat/yasa/issues/29\n",
      "31-Aug-23 22:22:25 | WARNING | There are negative values in PSD. This will result in incorrect bandpower values. We highly recommend working with an all-positive PSD. For more details, please refer to: https://github.com/raphaelvallat/yasa/issues/29\n",
      "31-Aug-23 22:22:34 | WARNING | There are negative values in PSD. This will result in incorrect bandpower values. We highly recommend working with an all-positive PSD. For more details, please refer to: https://github.com/raphaelvallat/yasa/issues/29\n",
      "31-Aug-23 22:22:36 | WARNING | There are negative values in PSD. This will result in incorrect bandpower values. We highly recommend working with an all-positive PSD. For more details, please refer to: https://github.com/raphaelvallat/yasa/issues/29\n",
      "31-Aug-23 22:22:40 | WARNING | There are negative values in PSD. This will result in incorrect bandpower values. We highly recommend working with an all-positive PSD. For more details, please refer to: https://github.com/raphaelvallat/yasa/issues/29\n",
      " 50%|█████     | 25/50 [31:13<30:57, 74.29s/it]"
     ]
    },
    {
     "name": "stdout",
     "output_type": "stream",
     "text": [
      "Detecting and labeling artifacts in file : cfs-visit5-802739\n"
     ]
    },
    {
     "name": "stderr",
     "output_type": "stream",
     "text": [
      "31-Aug-23 22:23:41 | WARNING | There are negative values in PSD. This will result in incorrect bandpower values. We highly recommend working with an all-positive PSD. For more details, please refer to: https://github.com/raphaelvallat/yasa/issues/29\n",
      "31-Aug-23 22:23:41 | WARNING | There are negative values in PSD. This will result in incorrect bandpower values. We highly recommend working with an all-positive PSD. For more details, please refer to: https://github.com/raphaelvallat/yasa/issues/29\n",
      "31-Aug-23 22:23:48 | WARNING | There are negative values in PSD. This will result in incorrect bandpower values. We highly recommend working with an all-positive PSD. For more details, please refer to: https://github.com/raphaelvallat/yasa/issues/29\n",
      "31-Aug-23 22:23:50 | WARNING | There are negative values in PSD. This will result in incorrect bandpower values. We highly recommend working with an all-positive PSD. For more details, please refer to: https://github.com/raphaelvallat/yasa/issues/29\n",
      "31-Aug-23 22:23:54 | WARNING | There are negative values in PSD. This will result in incorrect bandpower values. We highly recommend working with an all-positive PSD. For more details, please refer to: https://github.com/raphaelvallat/yasa/issues/29\n",
      " 52%|█████▏    | 26/50 [32:27<29:39, 74.14s/it]"
     ]
    },
    {
     "name": "stdout",
     "output_type": "stream",
     "text": [
      "Detecting and labeling artifacts in file : cfs-visit5-801019\n"
     ]
    },
    {
     "name": "stderr",
     "output_type": "stream",
     "text": [
      "31-Aug-23 22:24:54 | WARNING | There are negative values in PSD. This will result in incorrect bandpower values. We highly recommend working with an all-positive PSD. For more details, please refer to: https://github.com/raphaelvallat/yasa/issues/29\n",
      "31-Aug-23 22:24:54 | WARNING | There are negative values in PSD. This will result in incorrect bandpower values. We highly recommend working with an all-positive PSD. For more details, please refer to: https://github.com/raphaelvallat/yasa/issues/29\n",
      "31-Aug-23 22:25:04 | WARNING | There are negative values in PSD. This will result in incorrect bandpower values. We highly recommend working with an all-positive PSD. For more details, please refer to: https://github.com/raphaelvallat/yasa/issues/29\n",
      "31-Aug-23 22:25:06 | WARNING | There are negative values in PSD. This will result in incorrect bandpower values. We highly recommend working with an all-positive PSD. For more details, please refer to: https://github.com/raphaelvallat/yasa/issues/29\n",
      "31-Aug-23 22:25:08 | WARNING | There are negative values in PSD. This will result in incorrect bandpower values. We highly recommend working with an all-positive PSD. For more details, please refer to: https://github.com/raphaelvallat/yasa/issues/29\n",
      " 54%|█████▍    | 27/50 [33:40<28:21, 73.97s/it]"
     ]
    },
    {
     "name": "stdout",
     "output_type": "stream",
     "text": [
      "Detecting and labeling artifacts in file : cfs-visit5-801638\n"
     ]
    },
    {
     "name": "stderr",
     "output_type": "stream",
     "text": [
      "31-Aug-23 22:26:08 | WARNING | There are negative values in PSD. This will result in incorrect bandpower values. We highly recommend working with an all-positive PSD. For more details, please refer to: https://github.com/raphaelvallat/yasa/issues/29\n",
      "31-Aug-23 22:26:09 | WARNING | There are negative values in PSD. This will result in incorrect bandpower values. We highly recommend working with an all-positive PSD. For more details, please refer to: https://github.com/raphaelvallat/yasa/issues/29\n",
      "31-Aug-23 22:26:16 | WARNING | There are negative values in PSD. This will result in incorrect bandpower values. We highly recommend working with an all-positive PSD. For more details, please refer to: https://github.com/raphaelvallat/yasa/issues/29\n",
      "31-Aug-23 22:26:22 | WARNING | There are negative values in PSD. This will result in incorrect bandpower values. We highly recommend working with an all-positive PSD. For more details, please refer to: https://github.com/raphaelvallat/yasa/issues/29\n",
      "31-Aug-23 22:26:24 | WARNING | There are negative values in PSD. This will result in incorrect bandpower values. We highly recommend working with an all-positive PSD. For more details, please refer to: https://github.com/raphaelvallat/yasa/issues/29\n",
      " 56%|█████▌    | 28/50 [34:57<27:21, 74.61s/it]"
     ]
    },
    {
     "name": "stdout",
     "output_type": "stream",
     "text": [
      "Detecting and labeling artifacts in file : cfs-visit5-801044\n"
     ]
    },
    {
     "name": "stderr",
     "output_type": "stream",
     "text": [
      "31-Aug-23 22:27:21 | WARNING | There are negative values in PSD. This will result in incorrect bandpower values. We highly recommend working with an all-positive PSD. For more details, please refer to: https://github.com/raphaelvallat/yasa/issues/29\n",
      "31-Aug-23 22:27:22 | WARNING | There are negative values in PSD. This will result in incorrect bandpower values. We highly recommend working with an all-positive PSD. For more details, please refer to: https://github.com/raphaelvallat/yasa/issues/29\n",
      "31-Aug-23 22:27:29 | WARNING | There are negative values in PSD. This will result in incorrect bandpower values. We highly recommend working with an all-positive PSD. For more details, please refer to: https://github.com/raphaelvallat/yasa/issues/29\n",
      "31-Aug-23 22:27:31 | WARNING | There are negative values in PSD. This will result in incorrect bandpower values. We highly recommend working with an all-positive PSD. For more details, please refer to: https://github.com/raphaelvallat/yasa/issues/29\n",
      "31-Aug-23 22:27:35 | WARNING | There are negative values in PSD. This will result in incorrect bandpower values. We highly recommend working with an all-positive PSD. For more details, please refer to: https://github.com/raphaelvallat/yasa/issues/29\n",
      " 58%|█████▊    | 29/50 [36:07<25:43, 73.48s/it]"
     ]
    },
    {
     "name": "stdout",
     "output_type": "stream",
     "text": [
      "Detecting and labeling artifacts in file : cfs-visit5-801058\n"
     ]
    },
    {
     "name": "stderr",
     "output_type": "stream",
     "text": [
      "31-Aug-23 22:28:33 | WARNING | There are negative values in PSD. This will result in incorrect bandpower values. We highly recommend working with an all-positive PSD. For more details, please refer to: https://github.com/raphaelvallat/yasa/issues/29\n",
      "31-Aug-23 22:28:34 | WARNING | There are negative values in PSD. This will result in incorrect bandpower values. We highly recommend working with an all-positive PSD. For more details, please refer to: https://github.com/raphaelvallat/yasa/issues/29\n",
      "31-Aug-23 22:28:42 | WARNING | There are negative values in PSD. This will result in incorrect bandpower values. We highly recommend working with an all-positive PSD. For more details, please refer to: https://github.com/raphaelvallat/yasa/issues/29\n",
      "31-Aug-23 22:28:45 | WARNING | There are negative values in PSD. This will result in incorrect bandpower values. We highly recommend working with an all-positive PSD. For more details, please refer to: https://github.com/raphaelvallat/yasa/issues/29\n",
      "31-Aug-23 22:28:49 | WARNING | There are negative values in PSD. This will result in incorrect bandpower values. We highly recommend working with an all-positive PSD. For more details, please refer to: https://github.com/raphaelvallat/yasa/issues/29\n",
      " 60%|██████    | 30/50 [37:21<24:32, 73.61s/it]"
     ]
    },
    {
     "name": "stdout",
     "output_type": "stream",
     "text": [
      "Detecting and labeling artifacts in file : cfs-visit5-801196\n"
     ]
    },
    {
     "name": "stderr",
     "output_type": "stream",
     "text": [
      "31-Aug-23 22:29:49 | WARNING | There are negative values in PSD. This will result in incorrect bandpower values. We highly recommend working with an all-positive PSD. For more details, please refer to: https://github.com/raphaelvallat/yasa/issues/29\n",
      "31-Aug-23 22:29:50 | WARNING | There are negative values in PSD. This will result in incorrect bandpower values. We highly recommend working with an all-positive PSD. For more details, please refer to: https://github.com/raphaelvallat/yasa/issues/29\n",
      "31-Aug-23 22:29:59 | WARNING | There are negative values in PSD. This will result in incorrect bandpower values. We highly recommend working with an all-positive PSD. For more details, please refer to: https://github.com/raphaelvallat/yasa/issues/29\n",
      "31-Aug-23 22:30:01 | WARNING | There are negative values in PSD. This will result in incorrect bandpower values. We highly recommend working with an all-positive PSD. For more details, please refer to: https://github.com/raphaelvallat/yasa/issues/29\n",
      "31-Aug-23 22:30:03 | WARNING | There are negative values in PSD. This will result in incorrect bandpower values. We highly recommend working with an all-positive PSD. For more details, please refer to: https://github.com/raphaelvallat/yasa/issues/29\n",
      " 62%|██████▏   | 31/50 [38:36<23:25, 73.95s/it]"
     ]
    },
    {
     "name": "stdout",
     "output_type": "stream",
     "text": [
      "Detecting and labeling artifacts in file : cfs-visit5-802380\n"
     ]
    },
    {
     "name": "stderr",
     "output_type": "stream",
     "text": [
      "31-Aug-23 22:31:03 | WARNING | There are negative values in PSD. This will result in incorrect bandpower values. We highly recommend working with an all-positive PSD. For more details, please refer to: https://github.com/raphaelvallat/yasa/issues/29\n",
      "31-Aug-23 22:31:04 | WARNING | There are negative values in PSD. This will result in incorrect bandpower values. We highly recommend working with an all-positive PSD. For more details, please refer to: https://github.com/raphaelvallat/yasa/issues/29\n",
      "31-Aug-23 22:31:11 | WARNING | There are negative values in PSD. This will result in incorrect bandpower values. We highly recommend working with an all-positive PSD. For more details, please refer to: https://github.com/raphaelvallat/yasa/issues/29\n",
      "31-Aug-23 22:31:15 | WARNING | There are negative values in PSD. This will result in incorrect bandpower values. We highly recommend working with an all-positive PSD. For more details, please refer to: https://github.com/raphaelvallat/yasa/issues/29\n",
      "31-Aug-23 22:31:19 | WARNING | There are negative values in PSD. This will result in incorrect bandpower values. We highly recommend working with an all-positive PSD. For more details, please refer to: https://github.com/raphaelvallat/yasa/issues/29\n",
      " 64%|██████▍   | 32/50 [39:52<22:19, 74.43s/it]"
     ]
    },
    {
     "name": "stdout",
     "output_type": "stream",
     "text": [
      "Detecting and labeling artifacts in file : cfs-visit5-801825\n"
     ]
    },
    {
     "name": "stderr",
     "output_type": "stream",
     "text": [
      "31-Aug-23 22:32:15 | WARNING | There are negative values in PSD. This will result in incorrect bandpower values. We highly recommend working with an all-positive PSD. For more details, please refer to: https://github.com/raphaelvallat/yasa/issues/29\n",
      "31-Aug-23 22:32:16 | WARNING | There are negative values in PSD. This will result in incorrect bandpower values. We highly recommend working with an all-positive PSD. For more details, please refer to: https://github.com/raphaelvallat/yasa/issues/29\n",
      "31-Aug-23 22:32:23 | WARNING | There are negative values in PSD. This will result in incorrect bandpower values. We highly recommend working with an all-positive PSD. For more details, please refer to: https://github.com/raphaelvallat/yasa/issues/29\n",
      "31-Aug-23 22:32:27 | WARNING | There are negative values in PSD. This will result in incorrect bandpower values. We highly recommend working with an all-positive PSD. For more details, please refer to: https://github.com/raphaelvallat/yasa/issues/29\n",
      "31-Aug-23 22:32:29 | WARNING | There are negative values in PSD. This will result in incorrect bandpower values. We highly recommend working with an all-positive PSD. For more details, please refer to: https://github.com/raphaelvallat/yasa/issues/29\n",
      " 66%|██████▌   | 33/50 [41:02<20:45, 73.28s/it]"
     ]
    },
    {
     "name": "stdout",
     "output_type": "stream",
     "text": [
      "Detecting and labeling artifacts in file : cfs-visit5-802132\n"
     ]
    },
    {
     "name": "stderr",
     "output_type": "stream",
     "text": [
      "31-Aug-23 22:33:23 | WARNING | There are negative values in PSD. This will result in incorrect bandpower values. We highly recommend working with an all-positive PSD. For more details, please refer to: https://github.com/raphaelvallat/yasa/issues/29\n",
      "31-Aug-23 22:33:23 | WARNING | There are negative values in PSD. This will result in incorrect bandpower values. We highly recommend working with an all-positive PSD. For more details, please refer to: https://github.com/raphaelvallat/yasa/issues/29\n",
      "31-Aug-23 22:33:32 | WARNING | There are negative values in PSD. This will result in incorrect bandpower values. We highly recommend working with an all-positive PSD. For more details, please refer to: https://github.com/raphaelvallat/yasa/issues/29\n",
      "31-Aug-23 22:33:35 | WARNING | There are negative values in PSD. This will result in incorrect bandpower values. We highly recommend working with an all-positive PSD. For more details, please refer to: https://github.com/raphaelvallat/yasa/issues/29\n",
      "31-Aug-23 22:33:39 | WARNING | There are negative values in PSD. This will result in incorrect bandpower values. We highly recommend working with an all-positive PSD. For more details, please refer to: https://github.com/raphaelvallat/yasa/issues/29\n",
      " 68%|██████▊   | 34/50 [42:11<19:13, 72.08s/it]"
     ]
    },
    {
     "name": "stdout",
     "output_type": "stream",
     "text": [
      "Detecting and labeling artifacts in file : cfs-visit5-800551\n"
     ]
    },
    {
     "name": "stderr",
     "output_type": "stream",
     "text": [
      "31-Aug-23 22:34:40 | WARNING | There are negative values in PSD. This will result in incorrect bandpower values. We highly recommend working with an all-positive PSD. For more details, please refer to: https://github.com/raphaelvallat/yasa/issues/29\n",
      "31-Aug-23 22:34:40 | WARNING | There are negative values in PSD. This will result in incorrect bandpower values. We highly recommend working with an all-positive PSD. For more details, please refer to: https://github.com/raphaelvallat/yasa/issues/29\n",
      "31-Aug-23 22:34:48 | WARNING | There are negative values in PSD. This will result in incorrect bandpower values. We highly recommend working with an all-positive PSD. For more details, please refer to: https://github.com/raphaelvallat/yasa/issues/29\n",
      "31-Aug-23 22:34:51 | WARNING | There are negative values in PSD. This will result in incorrect bandpower values. We highly recommend working with an all-positive PSD. For more details, please refer to: https://github.com/raphaelvallat/yasa/issues/29\n",
      "31-Aug-23 22:34:55 | WARNING | There are negative values in PSD. This will result in incorrect bandpower values. We highly recommend working with an all-positive PSD. For more details, please refer to: https://github.com/raphaelvallat/yasa/issues/29\n",
      " 70%|███████   | 35/50 [43:28<18:19, 73.27s/it]"
     ]
    },
    {
     "name": "stdout",
     "output_type": "stream",
     "text": [
      "Detecting and labeling artifacts in file : cfs-visit5-802073\n"
     ]
    },
    {
     "name": "stderr",
     "output_type": "stream",
     "text": [
      "31-Aug-23 22:35:57 | WARNING | There are negative values in PSD. This will result in incorrect bandpower values. We highly recommend working with an all-positive PSD. For more details, please refer to: https://github.com/raphaelvallat/yasa/issues/29\n",
      "31-Aug-23 22:35:58 | WARNING | There are negative values in PSD. This will result in incorrect bandpower values. We highly recommend working with an all-positive PSD. For more details, please refer to: https://github.com/raphaelvallat/yasa/issues/29\n",
      "31-Aug-23 22:36:05 | WARNING | There are negative values in PSD. This will result in incorrect bandpower values. We highly recommend working with an all-positive PSD. For more details, please refer to: https://github.com/raphaelvallat/yasa/issues/29\n",
      "31-Aug-23 22:36:08 | WARNING | There are negative values in PSD. This will result in incorrect bandpower values. We highly recommend working with an all-positive PSD. For more details, please refer to: https://github.com/raphaelvallat/yasa/issues/29\n",
      "31-Aug-23 22:36:10 | WARNING | There are negative values in PSD. This will result in incorrect bandpower values. We highly recommend working with an all-positive PSD. For more details, please refer to: https://github.com/raphaelvallat/yasa/issues/29\n",
      " 72%|███████▏  | 36/50 [44:43<17:16, 74.02s/it]"
     ]
    },
    {
     "name": "stdout",
     "output_type": "stream",
     "text": [
      "Detecting and labeling artifacts in file : cfs-visit5-801662\n"
     ]
    },
    {
     "name": "stderr",
     "output_type": "stream",
     "text": [
      "31-Aug-23 22:37:01 | WARNING | There are negative values in PSD. This will result in incorrect bandpower values. We highly recommend working with an all-positive PSD. For more details, please refer to: https://github.com/raphaelvallat/yasa/issues/29\n",
      "31-Aug-23 22:37:01 | WARNING | There are negative values in PSD. This will result in incorrect bandpower values. We highly recommend working with an all-positive PSD. For more details, please refer to: https://github.com/raphaelvallat/yasa/issues/29\n",
      "31-Aug-23 22:37:09 | WARNING | There are negative values in PSD. This will result in incorrect bandpower values. We highly recommend working with an all-positive PSD. For more details, please refer to: https://github.com/raphaelvallat/yasa/issues/29\n",
      "31-Aug-23 22:37:11 | WARNING | There are negative values in PSD. This will result in incorrect bandpower values. We highly recommend working with an all-positive PSD. For more details, please refer to: https://github.com/raphaelvallat/yasa/issues/29\n",
      "31-Aug-23 22:37:15 | WARNING | There are negative values in PSD. This will result in incorrect bandpower values. We highly recommend working with an all-positive PSD. For more details, please refer to: https://github.com/raphaelvallat/yasa/issues/29\n",
      " 74%|███████▍  | 37/50 [45:48<15:25, 71.16s/it]"
     ]
    },
    {
     "name": "stdout",
     "output_type": "stream",
     "text": [
      "Detecting and labeling artifacts in file : cfs-visit5-800625\n"
     ]
    },
    {
     "name": "stderr",
     "output_type": "stream",
     "text": [
      "31-Aug-23 22:38:07 | WARNING | There are negative values in PSD. This will result in incorrect bandpower values. We highly recommend working with an all-positive PSD. For more details, please refer to: https://github.com/raphaelvallat/yasa/issues/29\n",
      "31-Aug-23 22:38:07 | WARNING | There are negative values in PSD. This will result in incorrect bandpower values. We highly recommend working with an all-positive PSD. For more details, please refer to: https://github.com/raphaelvallat/yasa/issues/29\n",
      "31-Aug-23 22:38:11 | WARNING | There are negative values in PSD. This will result in incorrect bandpower values. We highly recommend working with an all-positive PSD. For more details, please refer to: https://github.com/raphaelvallat/yasa/issues/29\n",
      "31-Aug-23 22:38:20 | WARNING | There are negative values in PSD. This will result in incorrect bandpower values. We highly recommend working with an all-positive PSD. For more details, please refer to: https://github.com/raphaelvallat/yasa/issues/29\n",
      "31-Aug-23 22:38:22 | WARNING | There are negative values in PSD. This will result in incorrect bandpower values. We highly recommend working with an all-positive PSD. For more details, please refer to: https://github.com/raphaelvallat/yasa/issues/29\n",
      " 76%|███████▌  | 38/50 [46:55<13:58, 69.89s/it]"
     ]
    },
    {
     "name": "stdout",
     "output_type": "stream",
     "text": [
      "Detecting and labeling artifacts in file : cfs-visit5-800861\n"
     ]
    },
    {
     "name": "stderr",
     "output_type": "stream",
     "text": [
      "31-Aug-23 22:39:13 | WARNING | There are negative values in PSD. This will result in incorrect bandpower values. We highly recommend working with an all-positive PSD. For more details, please refer to: https://github.com/raphaelvallat/yasa/issues/29\n",
      "31-Aug-23 22:39:13 | WARNING | There are negative values in PSD. This will result in incorrect bandpower values. We highly recommend working with an all-positive PSD. For more details, please refer to: https://github.com/raphaelvallat/yasa/issues/29\n",
      "31-Aug-23 22:39:19 | WARNING | There are negative values in PSD. This will result in incorrect bandpower values. We highly recommend working with an all-positive PSD. For more details, please refer to: https://github.com/raphaelvallat/yasa/issues/29\n",
      "31-Aug-23 22:39:24 | WARNING | There are negative values in PSD. This will result in incorrect bandpower values. We highly recommend working with an all-positive PSD. For more details, please refer to: https://github.com/raphaelvallat/yasa/issues/29\n",
      "31-Aug-23 22:39:25 | WARNING | There are negative values in PSD. This will result in incorrect bandpower values. We highly recommend working with an all-positive PSD. For more details, please refer to: https://github.com/raphaelvallat/yasa/issues/29\n",
      " 78%|███████▊  | 39/50 [47:58<12:26, 67.83s/it]"
     ]
    },
    {
     "name": "stdout",
     "output_type": "stream",
     "text": [
      "Detecting and labeling artifacts in file : cfs-visit5-802635\n"
     ]
    },
    {
     "name": "stderr",
     "output_type": "stream",
     "text": [
      "31-Aug-23 22:40:23 | WARNING | There are negative values in PSD. This will result in incorrect bandpower values. We highly recommend working with an all-positive PSD. For more details, please refer to: https://github.com/raphaelvallat/yasa/issues/29\n",
      "31-Aug-23 22:40:23 | WARNING | There are negative values in PSD. This will result in incorrect bandpower values. We highly recommend working with an all-positive PSD. For more details, please refer to: https://github.com/raphaelvallat/yasa/issues/29\n",
      "31-Aug-23 22:40:31 | WARNING | There are negative values in PSD. This will result in incorrect bandpower values. We highly recommend working with an all-positive PSD. For more details, please refer to: https://github.com/raphaelvallat/yasa/issues/29\n",
      "31-Aug-23 22:40:35 | WARNING | There are negative values in PSD. This will result in incorrect bandpower values. We highly recommend working with an all-positive PSD. For more details, please refer to: https://github.com/raphaelvallat/yasa/issues/29\n",
      "31-Aug-23 22:40:37 | WARNING | There are negative values in PSD. This will result in incorrect bandpower values. We highly recommend working with an all-positive PSD. For more details, please refer to: https://github.com/raphaelvallat/yasa/issues/29\n",
      " 80%|████████  | 40/50 [49:09<11:29, 68.98s/it]"
     ]
    },
    {
     "name": "stdout",
     "output_type": "stream",
     "text": [
      "Detecting and labeling artifacts in file : cfs-visit5-800705\n"
     ]
    },
    {
     "name": "stderr",
     "output_type": "stream",
     "text": [
      "31-Aug-23 22:41:39 | WARNING | There are negative values in PSD. This will result in incorrect bandpower values. We highly recommend working with an all-positive PSD. For more details, please refer to: https://github.com/raphaelvallat/yasa/issues/29\n",
      "31-Aug-23 22:41:39 | WARNING | There are negative values in PSD. This will result in incorrect bandpower values. We highly recommend working with an all-positive PSD. For more details, please refer to: https://github.com/raphaelvallat/yasa/issues/29\n",
      "31-Aug-23 22:41:46 | WARNING | There are negative values in PSD. This will result in incorrect bandpower values. We highly recommend working with an all-positive PSD. For more details, please refer to: https://github.com/raphaelvallat/yasa/issues/29\n",
      "31-Aug-23 22:41:50 | WARNING | There are negative values in PSD. This will result in incorrect bandpower values. We highly recommend working with an all-positive PSD. For more details, please refer to: https://github.com/raphaelvallat/yasa/issues/29\n",
      "31-Aug-23 22:41:51 | WARNING | There are negative values in PSD. This will result in incorrect bandpower values. We highly recommend working with an all-positive PSD. For more details, please refer to: https://github.com/raphaelvallat/yasa/issues/29\n",
      " 82%|████████▏ | 41/50 [50:24<10:35, 70.61s/it]"
     ]
    },
    {
     "name": "stdout",
     "output_type": "stream",
     "text": [
      "Detecting and labeling artifacts in file : cfs-visit5-800212\n"
     ]
    },
    {
     "name": "stderr",
     "output_type": "stream",
     "text": [
      "31-Aug-23 22:42:52 | WARNING | There are negative values in PSD. This will result in incorrect bandpower values. We highly recommend working with an all-positive PSD. For more details, please refer to: https://github.com/raphaelvallat/yasa/issues/29\n",
      "31-Aug-23 22:42:53 | WARNING | There are negative values in PSD. This will result in incorrect bandpower values. We highly recommend working with an all-positive PSD. For more details, please refer to: https://github.com/raphaelvallat/yasa/issues/29\n",
      "31-Aug-23 22:43:01 | WARNING | There are negative values in PSD. This will result in incorrect bandpower values. We highly recommend working with an all-positive PSD. For more details, please refer to: https://github.com/raphaelvallat/yasa/issues/29\n",
      "31-Aug-23 22:43:04 | WARNING | There are negative values in PSD. This will result in incorrect bandpower values. We highly recommend working with an all-positive PSD. For more details, please refer to: https://github.com/raphaelvallat/yasa/issues/29\n",
      "31-Aug-23 22:43:06 | WARNING | There are negative values in PSD. This will result in incorrect bandpower values. We highly recommend working with an all-positive PSD. For more details, please refer to: https://github.com/raphaelvallat/yasa/issues/29\n",
      " 84%|████████▍ | 42/50 [51:39<09:35, 71.97s/it]"
     ]
    },
    {
     "name": "stdout",
     "output_type": "stream",
     "text": [
      "Detecting and labeling artifacts in file : cfs-visit5-800010\n"
     ]
    },
    {
     "name": "stderr",
     "output_type": "stream",
     "text": [
      "31-Aug-23 22:44:16 | WARNING | There are negative values in PSD. This will result in incorrect bandpower values. We highly recommend working with an all-positive PSD. For more details, please refer to: https://github.com/raphaelvallat/yasa/issues/29\n",
      "31-Aug-23 22:44:16 | WARNING | There are negative values in PSD. This will result in incorrect bandpower values. We highly recommend working with an all-positive PSD. For more details, please refer to: https://github.com/raphaelvallat/yasa/issues/29\n",
      "31-Aug-23 22:44:23 | WARNING | There are negative values in PSD. This will result in incorrect bandpower values. We highly recommend working with an all-positive PSD. For more details, please refer to: https://github.com/raphaelvallat/yasa/issues/29\n",
      "31-Aug-23 22:44:25 | WARNING | There are negative values in PSD. This will result in incorrect bandpower values. We highly recommend working with an all-positive PSD. For more details, please refer to: https://github.com/raphaelvallat/yasa/issues/29\n",
      "31-Aug-23 22:44:27 | WARNING | There are negative values in PSD. This will result in incorrect bandpower values. We highly recommend working with an all-positive PSD. For more details, please refer to: https://github.com/raphaelvallat/yasa/issues/29\n",
      " 86%|████████▌ | 43/50 [53:00<08:43, 74.79s/it]"
     ]
    },
    {
     "name": "stdout",
     "output_type": "stream",
     "text": [
      "Detecting and labeling artifacts in file : cfs-visit5-802177\n"
     ]
    },
    {
     "name": "stderr",
     "output_type": "stream",
     "text": [
      "31-Aug-23 22:45:26 | WARNING | There are negative values in PSD. This will result in incorrect bandpower values. We highly recommend working with an all-positive PSD. For more details, please refer to: https://github.com/raphaelvallat/yasa/issues/29\n",
      "31-Aug-23 22:45:26 | WARNING | There are negative values in PSD. This will result in incorrect bandpower values. We highly recommend working with an all-positive PSD. For more details, please refer to: https://github.com/raphaelvallat/yasa/issues/29\n",
      "31-Aug-23 22:45:34 | WARNING | There are negative values in PSD. This will result in incorrect bandpower values. We highly recommend working with an all-positive PSD. For more details, please refer to: https://github.com/raphaelvallat/yasa/issues/29\n",
      "31-Aug-23 22:45:38 | WARNING | There are negative values in PSD. This will result in incorrect bandpower values. We highly recommend working with an all-positive PSD. For more details, please refer to: https://github.com/raphaelvallat/yasa/issues/29\n",
      "31-Aug-23 22:45:40 | WARNING | There are negative values in PSD. This will result in incorrect bandpower values. We highly recommend working with an all-positive PSD. For more details, please refer to: https://github.com/raphaelvallat/yasa/issues/29\n",
      " 88%|████████▊ | 44/50 [54:13<07:24, 74.14s/it]"
     ]
    },
    {
     "name": "stdout",
     "output_type": "stream",
     "text": [
      "Detecting and labeling artifacts in file : cfs-visit5-802125\n"
     ]
    },
    {
     "name": "stderr",
     "output_type": "stream",
     "text": [
      "31-Aug-23 22:46:41 | WARNING | There are negative values in PSD. This will result in incorrect bandpower values. We highly recommend working with an all-positive PSD. For more details, please refer to: https://github.com/raphaelvallat/yasa/issues/29\n",
      "31-Aug-23 22:46:41 | WARNING | There are negative values in PSD. This will result in incorrect bandpower values. We highly recommend working with an all-positive PSD. For more details, please refer to: https://github.com/raphaelvallat/yasa/issues/29\n",
      "31-Aug-23 22:46:51 | WARNING | There are negative values in PSD. This will result in incorrect bandpower values. We highly recommend working with an all-positive PSD. For more details, please refer to: https://github.com/raphaelvallat/yasa/issues/29\n",
      "31-Aug-23 22:46:53 | WARNING | There are negative values in PSD. This will result in incorrect bandpower values. We highly recommend working with an all-positive PSD. For more details, please refer to: https://github.com/raphaelvallat/yasa/issues/29\n",
      "31-Aug-23 22:46:56 | WARNING | There are negative values in PSD. This will result in incorrect bandpower values. We highly recommend working with an all-positive PSD. For more details, please refer to: https://github.com/raphaelvallat/yasa/issues/29\n",
      " 90%|█████████ | 45/50 [55:29<06:13, 74.78s/it]"
     ]
    },
    {
     "name": "stdout",
     "output_type": "stream",
     "text": [
      "Detecting and labeling artifacts in file : cfs-visit5-800151\n"
     ]
    },
    {
     "name": "stderr",
     "output_type": "stream",
     "text": [
      "31-Aug-23 22:47:54 | WARNING | There are negative values in PSD. This will result in incorrect bandpower values. We highly recommend working with an all-positive PSD. For more details, please refer to: https://github.com/raphaelvallat/yasa/issues/29\n",
      "31-Aug-23 22:47:55 | WARNING | There are negative values in PSD. This will result in incorrect bandpower values. We highly recommend working with an all-positive PSD. For more details, please refer to: https://github.com/raphaelvallat/yasa/issues/29\n",
      "31-Aug-23 22:48:01 | WARNING | There are negative values in PSD. This will result in incorrect bandpower values. We highly recommend working with an all-positive PSD. For more details, please refer to: https://github.com/raphaelvallat/yasa/issues/29\n",
      "31-Aug-23 22:48:05 | WARNING | There are negative values in PSD. This will result in incorrect bandpower values. We highly recommend working with an all-positive PSD. For more details, please refer to: https://github.com/raphaelvallat/yasa/issues/29\n",
      "31-Aug-23 22:48:07 | WARNING | There are negative values in PSD. This will result in incorrect bandpower values. We highly recommend working with an all-positive PSD. For more details, please refer to: https://github.com/raphaelvallat/yasa/issues/29\n",
      " 92%|█████████▏| 46/50 [56:40<04:53, 73.46s/it]"
     ]
    },
    {
     "name": "stdout",
     "output_type": "stream",
     "text": [
      "Detecting and labeling artifacts in file : cfs-visit5-801001\n"
     ]
    },
    {
     "name": "stderr",
     "output_type": "stream",
     "text": [
      "31-Aug-23 22:49:03 | WARNING | There are negative values in PSD. This will result in incorrect bandpower values. We highly recommend working with an all-positive PSD. For more details, please refer to: https://github.com/raphaelvallat/yasa/issues/29\n",
      "31-Aug-23 22:49:17 | WARNING | There are negative values in PSD. This will result in incorrect bandpower values. We highly recommend working with an all-positive PSD. For more details, please refer to: https://github.com/raphaelvallat/yasa/issues/29\n",
      " 94%|█████████▍| 47/50 [57:50<03:37, 72.51s/it]"
     ]
    },
    {
     "name": "stdout",
     "output_type": "stream",
     "text": [
      "Detecting and labeling artifacts in file : cfs-visit5-800535\n"
     ]
    },
    {
     "name": "stderr",
     "output_type": "stream",
     "text": [
      "31-Aug-23 22:50:21 | WARNING | There are negative values in PSD. This will result in incorrect bandpower values. We highly recommend working with an all-positive PSD. For more details, please refer to: https://github.com/raphaelvallat/yasa/issues/29\n",
      "31-Aug-23 22:50:22 | WARNING | There are negative values in PSD. This will result in incorrect bandpower values. We highly recommend working with an all-positive PSD. For more details, please refer to: https://github.com/raphaelvallat/yasa/issues/29\n",
      "31-Aug-23 22:50:27 | WARNING | There are negative values in PSD. This will result in incorrect bandpower values. We highly recommend working with an all-positive PSD. For more details, please refer to: https://github.com/raphaelvallat/yasa/issues/29\n",
      "31-Aug-23 22:50:32 | WARNING | There are negative values in PSD. This will result in incorrect bandpower values. We highly recommend working with an all-positive PSD. For more details, please refer to: https://github.com/raphaelvallat/yasa/issues/29\n",
      "31-Aug-23 22:50:36 | WARNING | There are negative values in PSD. This will result in incorrect bandpower values. We highly recommend working with an all-positive PSD. For more details, please refer to: https://github.com/raphaelvallat/yasa/issues/29\n",
      " 96%|█████████▌| 48/50 [59:08<02:28, 74.35s/it]"
     ]
    },
    {
     "name": "stdout",
     "output_type": "stream",
     "text": [
      "Detecting and labeling artifacts in file : cfs-visit5-802691\n"
     ]
    },
    {
     "name": "stderr",
     "output_type": "stream",
     "text": [
      "31-Aug-23 22:51:35 | WARNING | There are negative values in PSD. This will result in incorrect bandpower values. We highly recommend working with an all-positive PSD. For more details, please refer to: https://github.com/raphaelvallat/yasa/issues/29\n",
      "31-Aug-23 22:51:35 | WARNING | There are negative values in PSD. This will result in incorrect bandpower values. We highly recommend working with an all-positive PSD. For more details, please refer to: https://github.com/raphaelvallat/yasa/issues/29\n",
      "31-Aug-23 22:51:44 | WARNING | There are negative values in PSD. This will result in incorrect bandpower values. We highly recommend working with an all-positive PSD. For more details, please refer to: https://github.com/raphaelvallat/yasa/issues/29\n",
      "31-Aug-23 22:51:46 | WARNING | There are negative values in PSD. This will result in incorrect bandpower values. We highly recommend working with an all-positive PSD. For more details, please refer to: https://github.com/raphaelvallat/yasa/issues/29\n",
      "31-Aug-23 22:51:50 | WARNING | There are negative values in PSD. This will result in incorrect bandpower values. We highly recommend working with an all-positive PSD. For more details, please refer to: https://github.com/raphaelvallat/yasa/issues/29\n",
      " 98%|█████████▊| 49/50 [1:00:22<01:14, 74.19s/it]"
     ]
    },
    {
     "name": "stdout",
     "output_type": "stream",
     "text": [
      "Detecting and labeling artifacts in file : cfs-visit5-801380\n"
     ]
    },
    {
     "name": "stderr",
     "output_type": "stream",
     "text": [
      "31-Aug-23 22:52:49 | WARNING | There are negative values in PSD. This will result in incorrect bandpower values. We highly recommend working with an all-positive PSD. For more details, please refer to: https://github.com/raphaelvallat/yasa/issues/29\n",
      "31-Aug-23 22:52:50 | WARNING | There are negative values in PSD. This will result in incorrect bandpower values. We highly recommend working with an all-positive PSD. For more details, please refer to: https://github.com/raphaelvallat/yasa/issues/29\n",
      "31-Aug-23 22:52:56 | WARNING | There are negative values in PSD. This will result in incorrect bandpower values. We highly recommend working with an all-positive PSD. For more details, please refer to: https://github.com/raphaelvallat/yasa/issues/29\n",
      "31-Aug-23 22:52:59 | WARNING | There are negative values in PSD. This will result in incorrect bandpower values. We highly recommend working with an all-positive PSD. For more details, please refer to: https://github.com/raphaelvallat/yasa/issues/29\n",
      "31-Aug-23 22:53:01 | WARNING | There are negative values in PSD. This will result in incorrect bandpower values. We highly recommend working with an all-positive PSD. For more details, please refer to: https://github.com/raphaelvallat/yasa/issues/29\n",
      "100%|██████████| 50/50 [1:01:33<00:00, 73.87s/it]\n"
     ]
    }
   ],
   "source": [
    "## Iterate over all files and process them\n",
    "fit_dfs, psd_dfs, fooof_dfs, psd_freq_dfs = [], [], [], []\n",
    "for idx, file in enumerate(tqdm(files)):\n",
    "    print(f'Detecting and labeling artifacts in file : {file}')\n",
    "    # Load the data and hypnogram files\n",
    "    subject = file.split('-')[-1]\n",
    "    raw = mne.io.read_raw_fif(path + file + '-raw.fif.gz', preload=True)\n",
    "    hypnogram = np.load(path + file + '-hypnogram_with_art.npy')\n",
    "    # Get sampling frequency\n",
    "    sf = raw.info['sfreq']\n",
    "    # Get data\n",
    "    data = raw.get_data(['C3','C4'], units='uV') \n",
    "    # Extract aperiodic component with IRASA from yasa per sleep stage\n",
    "    fit_df, psd_df, psd_freq_df = compute_irasa_power(data, hypnogram, sf, subject, band=(1, 45), h_set_max=1.5)\n",
    "    fit_df['Method'] = 'IRASA'\n",
    "    psd_df['Method'] = 'IRASA'\n",
    "    psd_freq_df['Method'] = 'IRASA'\n",
    "    fit_dfs.append(fit_df)\n",
    "    psd_dfs.append(psd_df)\n",
    "    psd_freq_dfs.append(psd_freq_df)\n",
    "    # Extract aperiodic component with FOOOF per sleep stage\n",
    "    fooof_df = compute_fooof_aperiodic_exponent(data, sf, hypnogram, subject, band=(1, 45))\n",
    "    fooof_df['Method'] = 'FOOOF'   \n",
    "    fooof_dfs.append(fooof_df)\n",
    "\n",
    "# Combine all dataframes\n",
    "fit_df_all = pd.concat(fit_dfs, axis=0)\n",
    "psd_df_all = pd.concat(psd_dfs, axis=0)\n",
    "psd_freq_df_all = pd.concat(psd_freq_dfs, axis=0)\n",
    "fooof_df_all = pd.concat(fooof_dfs, axis=0)"
   ]
  },
  {
   "cell_type": "code",
   "execution_count": 28,
   "metadata": {},
   "outputs": [
    {
     "data": {
      "text/html": [
       "<div>\n",
       "<style scoped>\n",
       "    .dataframe tbody tr th:only-of-type {\n",
       "        vertical-align: middle;\n",
       "    }\n",
       "\n",
       "    .dataframe tbody tr th {\n",
       "        vertical-align: top;\n",
       "    }\n",
       "\n",
       "    .dataframe thead th {\n",
       "        text-align: right;\n",
       "    }\n",
       "</style>\n",
       "<table border=\"1\" class=\"dataframe\">\n",
       "  <thead>\n",
       "    <tr style=\"text-align: right;\">\n",
       "      <th></th>\n",
       "      <th>Chan</th>\n",
       "      <th>Intercept</th>\n",
       "      <th>Slope</th>\n",
       "      <th>R^2</th>\n",
       "      <th>std(osc)</th>\n",
       "      <th>Stage</th>\n",
       "      <th>Subject</th>\n",
       "      <th>Method</th>\n",
       "    </tr>\n",
       "  </thead>\n",
       "  <tbody>\n",
       "    <tr>\n",
       "      <th>0</th>\n",
       "      <td>C3</td>\n",
       "      <td>2.156118</td>\n",
       "      <td>1.922518</td>\n",
       "      <td>0.763763</td>\n",
       "      <td>1.135043</td>\n",
       "      <td>0.0</td>\n",
       "      <td>800347</td>\n",
       "      <td>IRASA</td>\n",
       "    </tr>\n",
       "    <tr>\n",
       "      <th>1</th>\n",
       "      <td>C4</td>\n",
       "      <td>2.142987</td>\n",
       "      <td>1.903973</td>\n",
       "      <td>0.754085</td>\n",
       "      <td>0.604734</td>\n",
       "      <td>0.0</td>\n",
       "      <td>800347</td>\n",
       "      <td>IRASA</td>\n",
       "    </tr>\n",
       "    <tr>\n",
       "      <th>2</th>\n",
       "      <td>C3</td>\n",
       "      <td>2.272878</td>\n",
       "      <td>2.237325</td>\n",
       "      <td>0.833050</td>\n",
       "      <td>0.208985</td>\n",
       "      <td>1.0</td>\n",
       "      <td>800347</td>\n",
       "      <td>IRASA</td>\n",
       "    </tr>\n",
       "    <tr>\n",
       "      <th>3</th>\n",
       "      <td>C4</td>\n",
       "      <td>2.338193</td>\n",
       "      <td>2.252922</td>\n",
       "      <td>0.826736</td>\n",
       "      <td>0.173760</td>\n",
       "      <td>1.0</td>\n",
       "      <td>800347</td>\n",
       "      <td>IRASA</td>\n",
       "    </tr>\n",
       "    <tr>\n",
       "      <th>4</th>\n",
       "      <td>C3</td>\n",
       "      <td>2.746657</td>\n",
       "      <td>2.678309</td>\n",
       "      <td>0.868836</td>\n",
       "      <td>0.339442</td>\n",
       "      <td>2.0</td>\n",
       "      <td>800347</td>\n",
       "      <td>IRASA</td>\n",
       "    </tr>\n",
       "    <tr>\n",
       "      <th>...</th>\n",
       "      <td>...</td>\n",
       "      <td>...</td>\n",
       "      <td>...</td>\n",
       "      <td>...</td>\n",
       "      <td>...</td>\n",
       "      <td>...</td>\n",
       "      <td>...</td>\n",
       "      <td>...</td>\n",
       "    </tr>\n",
       "    <tr>\n",
       "      <th>489</th>\n",
       "      <td>C4</td>\n",
       "      <td>1.898626</td>\n",
       "      <td>2.146008</td>\n",
       "      <td>0.996342</td>\n",
       "      <td>6.627506</td>\n",
       "      <td>2.0</td>\n",
       "      <td>802739</td>\n",
       "      <td>FOOOF</td>\n",
       "    </tr>\n",
       "    <tr>\n",
       "      <th>490</th>\n",
       "      <td>C3</td>\n",
       "      <td>2.556940</td>\n",
       "      <td>2.529882</td>\n",
       "      <td>0.989006</td>\n",
       "      <td>35.671939</td>\n",
       "      <td>3.0</td>\n",
       "      <td>802739</td>\n",
       "      <td>FOOOF</td>\n",
       "    </tr>\n",
       "    <tr>\n",
       "      <th>491</th>\n",
       "      <td>C4</td>\n",
       "      <td>2.502477</td>\n",
       "      <td>2.600785</td>\n",
       "      <td>0.993469</td>\n",
       "      <td>54.402790</td>\n",
       "      <td>3.0</td>\n",
       "      <td>802739</td>\n",
       "      <td>FOOOF</td>\n",
       "    </tr>\n",
       "    <tr>\n",
       "      <th>492</th>\n",
       "      <td>C3</td>\n",
       "      <td>1.521430</td>\n",
       "      <td>1.837515</td>\n",
       "      <td>0.986738</td>\n",
       "      <td>3.094053</td>\n",
       "      <td>4.0</td>\n",
       "      <td>802739</td>\n",
       "      <td>FOOOF</td>\n",
       "    </tr>\n",
       "    <tr>\n",
       "      <th>493</th>\n",
       "      <td>C4</td>\n",
       "      <td>1.759861</td>\n",
       "      <td>2.105655</td>\n",
       "      <td>0.986507</td>\n",
       "      <td>4.190567</td>\n",
       "      <td>4.0</td>\n",
       "      <td>802739</td>\n",
       "      <td>FOOOF</td>\n",
       "    </tr>\n",
       "  </tbody>\n",
       "</table>\n",
       "<p>988 rows × 8 columns</p>\n",
       "</div>"
      ],
      "text/plain": [
       "    Chan  Intercept     Slope       R^2   std(osc)  Stage Subject Method\n",
       "0     C3   2.156118  1.922518  0.763763   1.135043    0.0  800347  IRASA\n",
       "1     C4   2.142987  1.903973  0.754085   0.604734    0.0  800347  IRASA\n",
       "2     C3   2.272878  2.237325  0.833050   0.208985    1.0  800347  IRASA\n",
       "3     C4   2.338193  2.252922  0.826736   0.173760    1.0  800347  IRASA\n",
       "4     C3   2.746657  2.678309  0.868836   0.339442    2.0  800347  IRASA\n",
       "..   ...        ...       ...       ...        ...    ...     ...    ...\n",
       "489   C4   1.898626  2.146008  0.996342   6.627506    2.0  802739  FOOOF\n",
       "490   C3   2.556940  2.529882  0.989006  35.671939    3.0  802739  FOOOF\n",
       "491   C4   2.502477  2.600785  0.993469  54.402790    3.0  802739  FOOOF\n",
       "492   C3   1.521430  1.837515  0.986738   3.094053    4.0  802739  FOOOF\n",
       "493   C4   1.759861  2.105655  0.986507   4.190567    4.0  802739  FOOOF\n",
       "\n",
       "[988 rows x 8 columns]"
      ]
     },
     "execution_count": 28,
     "metadata": {},
     "output_type": "execute_result"
    }
   ],
   "source": [
    "# Merge fit_df_all and fooof_df_all on common columns\n",
    "fit_dfs_all = pd.concat([fit_df_all, \n",
    "                         fooof_df_all.groupby(['Subject', 'Stage', 'Chan', 'Method']).mean().reset_index()], join='inner', axis=0)\n",
    "fit_dfs_all['Slope'] = np.abs(fit_dfs_all['Slope'])\n",
    "fit_dfs_all"
   ]
  },
  {
   "cell_type": "code",
   "execution_count": 27,
   "metadata": {},
   "outputs": [],
   "source": [
    "fit_dfs_all.to_csv('/mnt/server/data03/2023_NENA_Aperiodic_Workshop/data/processed/aperiodic.csv', index=False)"
   ]
  },
  {
   "cell_type": "code",
   "execution_count": 54,
   "metadata": {},
   "outputs": [
    {
     "data": {
      "text/html": [
       "<div>\n",
       "<style scoped>\n",
       "    .dataframe tbody tr th:only-of-type {\n",
       "        vertical-align: middle;\n",
       "    }\n",
       "\n",
       "    .dataframe tbody tr th {\n",
       "        vertical-align: top;\n",
       "    }\n",
       "\n",
       "    .dataframe thead th {\n",
       "        text-align: right;\n",
       "    }\n",
       "</style>\n",
       "<table border=\"1\" class=\"dataframe\">\n",
       "  <thead>\n",
       "    <tr style=\"text-align: right;\">\n",
       "      <th></th>\n",
       "      <th>Chan</th>\n",
       "      <th>Intercept</th>\n",
       "      <th>Slope</th>\n",
       "      <th>R^2</th>\n",
       "      <th>std(osc)</th>\n",
       "      <th>Stage</th>\n",
       "      <th>Subject</th>\n",
       "      <th>Method</th>\n",
       "    </tr>\n",
       "  </thead>\n",
       "  <tbody>\n",
       "    <tr>\n",
       "      <th>0</th>\n",
       "      <td>C3</td>\n",
       "      <td>2.156118</td>\n",
       "      <td>1.922518</td>\n",
       "      <td>0.763763</td>\n",
       "      <td>1.135043</td>\n",
       "      <td>0.0</td>\n",
       "      <td>800347</td>\n",
       "      <td>IRASA</td>\n",
       "    </tr>\n",
       "    <tr>\n",
       "      <th>1</th>\n",
       "      <td>C4</td>\n",
       "      <td>2.142987</td>\n",
       "      <td>1.903973</td>\n",
       "      <td>0.754085</td>\n",
       "      <td>0.604734</td>\n",
       "      <td>0.0</td>\n",
       "      <td>800347</td>\n",
       "      <td>IRASA</td>\n",
       "    </tr>\n",
       "    <tr>\n",
       "      <th>2</th>\n",
       "      <td>C3</td>\n",
       "      <td>2.272878</td>\n",
       "      <td>2.237325</td>\n",
       "      <td>0.833050</td>\n",
       "      <td>0.208985</td>\n",
       "      <td>1.0</td>\n",
       "      <td>800347</td>\n",
       "      <td>IRASA</td>\n",
       "    </tr>\n",
       "    <tr>\n",
       "      <th>3</th>\n",
       "      <td>C4</td>\n",
       "      <td>2.338193</td>\n",
       "      <td>2.252922</td>\n",
       "      <td>0.826736</td>\n",
       "      <td>0.173760</td>\n",
       "      <td>1.0</td>\n",
       "      <td>800347</td>\n",
       "      <td>IRASA</td>\n",
       "    </tr>\n",
       "    <tr>\n",
       "      <th>4</th>\n",
       "      <td>C3</td>\n",
       "      <td>2.746657</td>\n",
       "      <td>2.678309</td>\n",
       "      <td>0.868836</td>\n",
       "      <td>0.339442</td>\n",
       "      <td>2.0</td>\n",
       "      <td>800347</td>\n",
       "      <td>IRASA</td>\n",
       "    </tr>\n",
       "    <tr>\n",
       "      <th>...</th>\n",
       "      <td>...</td>\n",
       "      <td>...</td>\n",
       "      <td>...</td>\n",
       "      <td>...</td>\n",
       "      <td>...</td>\n",
       "      <td>...</td>\n",
       "      <td>...</td>\n",
       "      <td>...</td>\n",
       "    </tr>\n",
       "    <tr>\n",
       "      <th>489</th>\n",
       "      <td>C4</td>\n",
       "      <td>1.898626</td>\n",
       "      <td>2.146008</td>\n",
       "      <td>0.996342</td>\n",
       "      <td>6.627506</td>\n",
       "      <td>2.0</td>\n",
       "      <td>802739</td>\n",
       "      <td>FOOOF</td>\n",
       "    </tr>\n",
       "    <tr>\n",
       "      <th>490</th>\n",
       "      <td>C3</td>\n",
       "      <td>2.556940</td>\n",
       "      <td>2.529882</td>\n",
       "      <td>0.989006</td>\n",
       "      <td>35.671939</td>\n",
       "      <td>3.0</td>\n",
       "      <td>802739</td>\n",
       "      <td>FOOOF</td>\n",
       "    </tr>\n",
       "    <tr>\n",
       "      <th>491</th>\n",
       "      <td>C4</td>\n",
       "      <td>2.502477</td>\n",
       "      <td>2.600785</td>\n",
       "      <td>0.993469</td>\n",
       "      <td>54.402790</td>\n",
       "      <td>3.0</td>\n",
       "      <td>802739</td>\n",
       "      <td>FOOOF</td>\n",
       "    </tr>\n",
       "    <tr>\n",
       "      <th>492</th>\n",
       "      <td>C3</td>\n",
       "      <td>1.521430</td>\n",
       "      <td>1.837515</td>\n",
       "      <td>0.986738</td>\n",
       "      <td>3.094053</td>\n",
       "      <td>4.0</td>\n",
       "      <td>802739</td>\n",
       "      <td>FOOOF</td>\n",
       "    </tr>\n",
       "    <tr>\n",
       "      <th>493</th>\n",
       "      <td>C4</td>\n",
       "      <td>1.759861</td>\n",
       "      <td>2.105655</td>\n",
       "      <td>0.986507</td>\n",
       "      <td>4.190567</td>\n",
       "      <td>4.0</td>\n",
       "      <td>802739</td>\n",
       "      <td>FOOOF</td>\n",
       "    </tr>\n",
       "  </tbody>\n",
       "</table>\n",
       "<p>988 rows × 8 columns</p>\n",
       "</div>"
      ],
      "text/plain": [
       "    Chan  Intercept     Slope       R^2   std(osc)  Stage Subject Method\n",
       "0     C3   2.156118  1.922518  0.763763   1.135043    0.0  800347  IRASA\n",
       "1     C4   2.142987  1.903973  0.754085   0.604734    0.0  800347  IRASA\n",
       "2     C3   2.272878  2.237325  0.833050   0.208985    1.0  800347  IRASA\n",
       "3     C4   2.338193  2.252922  0.826736   0.173760    1.0  800347  IRASA\n",
       "4     C3   2.746657  2.678309  0.868836   0.339442    2.0  800347  IRASA\n",
       "..   ...        ...       ...       ...        ...    ...     ...    ...\n",
       "489   C4   1.898626  2.146008  0.996342   6.627506    2.0  802739  FOOOF\n",
       "490   C3   2.556940  2.529882  0.989006  35.671939    3.0  802739  FOOOF\n",
       "491   C4   2.502477  2.600785  0.993469  54.402790    3.0  802739  FOOOF\n",
       "492   C3   1.521430  1.837515  0.986738   3.094053    4.0  802739  FOOOF\n",
       "493   C4   1.759861  2.105655  0.986507   4.190567    4.0  802739  FOOOF\n",
       "\n",
       "[988 rows x 8 columns]"
      ]
     },
     "execution_count": 54,
     "metadata": {},
     "output_type": "execute_result"
    }
   ],
   "source": [
    "fit_dfs_all"
   ]
  },
  {
   "cell_type": "code",
   "execution_count": 64,
   "metadata": {},
   "outputs": [
    {
     "data": {
      "text/plain": [
       "Text(0.5, 1.0, 'Aperiodic Exponent Distribution')"
      ]
     },
     "execution_count": 64,
     "metadata": {},
     "output_type": "execute_result"
    },
    {
     "data": {
      "image/png": "[encoded data removed]",
      "text/plain": [
       "<Figure size 640x480 with 1 Axes>"
      ]
     },
     "metadata": {},
     "output_type": "display_data"
    }
   ],
   "source": [
    "sns.kdeplot(data=fit_dfs_all, x='Slope', hue='Method', fill=True, alpha=0.5)\n",
    "plt.xlabel('Aperiodic Exponent')\n",
    "plt.ylabel('Density')\n",
    "plt.title('Aperiodic Exponent Distribution')\n"
   ]
  },
  {
   "cell_type": "code",
   "execution_count": 16,
   "metadata": {},
   "outputs": [
    {
     "data": {
      "image/png": "[encoded data removed]",
      "text/plain": [
       "<Figure size 1000x600 with 1 Axes>"
      ]
     },
     "metadata": {},
     "output_type": "display_data"
    }
   ],
   "source": [
    "# Plot the aperiodic exponent for each sleep stage\n",
    "sns.set_context('talk')\n",
    "sns.set_style('white')\n",
    "sns.set_palette('colorblind')\n",
    "fig, ax = plt.subplots(figsize=(10, 6))\n",
    "sns.barplot(data=fit_dfs_all, x='Stage', y='Slope', hue='Method', ax=ax)\n",
    "ax.set_xlabel('Sleep Stage')\n",
    "ax.set_ylabel('Aperiodic Exponent')\n",
    "ax.set_title('Aperiodic Exponent per Sleep Stage')\n",
    "ax.legend(loc='upper left')\n",
    "sns.despine()\n",
    "plt.tight_layout()"
   ]
  },
  {
   "cell_type": "code",
   "execution_count": 17,
   "metadata": {},
   "outputs": [
    {
     "data": {
      "text/plain": [
       "(0.6666666666666666, 45.0)"
      ]
     },
     "execution_count": 17,
     "metadata": {},
     "output_type": "execute_result"
    }
   ],
   "source": [
    "def foi_range_irasa(foi=(1,45), hset_max=1.9):\n",
    "    \"\"\"\n",
    "\n",
    "    Calculate the frequency range to evaluate the IRASA power spectrum.\n",
    "\n",
    "    Parameters\n",
    "    ----------\n",
    "    foi : tuple of int or float\n",
    "        Frequency range of interest.\n",
    "    hset_max : float\n",
    "        Maximum resampling factor.\n",
    "\n",
    "    \"\"\"\n",
    "\n",
    "    freq_eval_min = foi[0] / hset_max\n",
    "    freq_eval_max = foi[1] * hset_max\n",
    "\n",
    "    return freq_eval_min, freq_eval_max\n",
    "\n",
    "freq_min, freq_max = foi_range_irasa(foi=(1,30), hset_max=1.5)\n",
    "freq_min, freq_max"
   ]
  },
  {
   "cell_type": "code",
   "execution_count": null,
   "metadata": {},
   "outputs": [],
   "source": [
    "filtered_df = psd_freq_df[(psd_freq_df['Channel'] == 'C3') & \n",
    "                          (psd_freq_df['Power'] == 'Aperiodic') & \n",
    "                          (psd_freq_df['Stage'] == 3)\n",
    "                         ]\n",
    "\n",
    "aperiodic_exponent, x_linear_fit, y_linear_fit = estimate_aperiodic_exponent(filtered_df['Power Value'].values, \n",
    "                                                                             filtered_df['Frequency'].values,\n",
    "                                                                             finterval=(1, 45))\n",
    "aperiodic_exponent"
   ]
  }
 ],
 "metadata": {
  "kernelspec": {
   "display_name": "NDS",
   "language": "python",
   "name": "python3"
  },
  "language_info": {
   "codemirror_mode": {
    "name": "ipython",
    "version": 3
   },
   "file_extension": ".py",
   "mimetype": "text/x-python",
   "name": "python",
   "nbconvert_exporter": "python",
   "pygments_lexer": "ipython3",
   "version": "3.10.10"
  },
  "orig_nbformat": 4
 },
 "nbformat": 4,
 "nbformat_minor": 2
}
